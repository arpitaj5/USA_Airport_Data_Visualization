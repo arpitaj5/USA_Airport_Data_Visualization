{
 "cells": [
  {
   "cell_type": "code",
   "execution_count": 1,
   "metadata": {},
   "outputs": [
    {
     "data": {
      "text/html": [
       "<script>requirejs.config({paths: { 'plotly': ['https://cdn.plot.ly/plotly-latest.min']},});if(!window.Plotly) {{require(['plotly'],function(plotly) {window.Plotly=plotly;});}}</script>"
      ],
      "text/vnd.plotly.v1+html": [
       "<script>requirejs.config({paths: { 'plotly': ['https://cdn.plot.ly/plotly-latest.min']},});if(!window.Plotly) {{require(['plotly'],function(plotly) {window.Plotly=plotly;});}}</script>"
      ]
     },
     "metadata": {},
     "output_type": "display_data"
    }
   ],
   "source": [
    "import pandas as pd\n",
    "import numpy as np\n",
    "from plotly import __version__\n",
    "from plotly.offline import download_plotlyjs, init_notebook_mode, plot, iplot\n",
    "import plotly.plotly as py\n",
    "import plotly.graph_objs as go\n",
    "import pandas as pd\n",
    "from datetime import datetime\n",
    "import pandas_datareader.data as web\n",
    "init_notebook_mode(connected=True)"
   ]
  },
  {
   "cell_type": "code",
   "execution_count": 2,
   "metadata": {
    "collapsed": true
   },
   "outputs": [],
   "source": [
    "data = pd.read_csv(\"/Users/leesa/Downloads/Viz_project/airport.csv\")"
   ]
  },
  {
   "cell_type": "code",
   "execution_count": 3,
   "metadata": {
    "collapsed": true,
    "scrolled": true
   },
   "outputs": [],
   "source": [
    "df = data[data[\"Fly_date\"] >= '2009-01-01']\n",
    "df = df[['Origin_state', 'Passengers', 'Fly_date']]\n",
    "df = df.groupby(['Origin_state', 'Fly_date'])['Passengers'].sum().reset_index()"
   ]
  },
  {
   "cell_type": "code",
   "execution_count": null,
   "metadata": {
    "collapsed": true
   },
   "outputs": [],
   "source": []
  },
  {
   "cell_type": "code",
   "execution_count": 11,
   "metadata": {},
   "outputs": [
    {
     "data": {
      "text/html": [
       "<div>\n",
       "<style scoped>\n",
       "    .dataframe tbody tr th:only-of-type {\n",
       "        vertical-align: middle;\n",
       "    }\n",
       "\n",
       "    .dataframe tbody tr th {\n",
       "        vertical-align: top;\n",
       "    }\n",
       "\n",
       "    .dataframe thead th {\n",
       "        text-align: right;\n",
       "    }\n",
       "</style>\n",
       "<table border=\"1\" class=\"dataframe\">\n",
       "  <thead>\n",
       "    <tr style=\"text-align: right;\">\n",
       "      <th></th>\n",
       "      <th>Origin_state</th>\n",
       "      <th>Passengers</th>\n",
       "    </tr>\n",
       "  </thead>\n",
       "  <tbody>\n",
       "    <tr>\n",
       "      <th>0</th>\n",
       "      <td>AK</td>\n",
       "      <td>2.084442e+05</td>\n",
       "    </tr>\n",
       "    <tr>\n",
       "      <th>1</th>\n",
       "      <td>AL</td>\n",
       "      <td>2.115337e+05</td>\n",
       "    </tr>\n",
       "    <tr>\n",
       "      <th>2</th>\n",
       "      <td>AR</td>\n",
       "      <td>1.436639e+05</td>\n",
       "    </tr>\n",
       "    <tr>\n",
       "      <th>3</th>\n",
       "      <td>AZ</td>\n",
       "      <td>1.532344e+06</td>\n",
       "    </tr>\n",
       "    <tr>\n",
       "      <th>4</th>\n",
       "      <td>CA</td>\n",
       "      <td>4.685130e+06</td>\n",
       "    </tr>\n",
       "  </tbody>\n",
       "</table>\n",
       "</div>"
      ],
      "text/plain": [
       "  Origin_state    Passengers\n",
       "0           AK  2.084442e+05\n",
       "1           AL  2.115337e+05\n",
       "2           AR  1.436639e+05\n",
       "3           AZ  1.532344e+06\n",
       "4           CA  4.685130e+06"
      ]
     },
     "execution_count": 11,
     "metadata": {},
     "output_type": "execute_result"
    }
   ],
   "source": [
    "df = data[data[\"Fly_date\"] >= '2009-01-01']\n",
    "df = df[['Origin_state', 'Passengers', 'Fly_date']]\n",
    "df = df.groupby(['Origin_state', 'Fly_date'])['Passengers'].sum().reset_index()\n",
    "df = df.groupby(['Origin_state'])['Passengers'].mean().reset_index()\n",
    "#df.Passengers = [np.log(x) for x in df.Passengers]\n",
    "df.head()"
   ]
  },
  {
   "cell_type": "code",
   "execution_count": 6,
   "metadata": {},
   "outputs": [
    {
     "data": {
      "application/vnd.plotly.v1+json": {
       "data": [
        {
         "autocolorscale": false,
         "colorbar": {
          "title": "Avg passengers"
         },
         "colorscale": [
          [
           0,
           "rgb(242,240,247)"
          ],
          [
           0.2,
           "rgb(218,218,235)"
          ],
          [
           0.4,
           "rgb(188,189,220)"
          ],
          [
           0.6,
           "rgb(158,154,200)"
          ],
          [
           0.8,
           "rgb(117,107,177)"
          ],
          [
           1,
           "rgb(84,39,143)"
          ]
         ],
         "locationmode": "USA-states",
         "locations": [
          "AK",
          "AL",
          "AR",
          "AZ",
          "CA",
          "CO",
          "CT",
          "DC",
          "DE",
          "FL",
          "GA",
          "HI",
          "IA",
          "ID",
          "IL",
          "IN",
          "KS",
          "KY",
          "LA",
          "MA",
          "MD",
          "ME",
          "MI",
          "MN",
          "MO",
          "MS",
          "MT",
          "NC",
          "ND",
          "NE",
          "NH",
          "NJ",
          "NM",
          "NV",
          "NY",
          "OH",
          "OK",
          "OR",
          "PA",
          "RI",
          "SC",
          "SD",
          "TN",
          "TX",
          "UT",
          "VA",
          "VT",
          "WA",
          "WI",
          "WV",
          "WY"
         ],
         "marker": {
          "line": {
           "color": "rgb(255,255,255)",
           "width": 2
          }
         },
         "text": [
          "AK<br>Passengers 208444.25",
          "AL<br>Passengers 211533.66666666666",
          "AR<br>Passengers 143663.91666666666",
          "AZ<br>Passengers 1532344.0",
          "CA<br>Passengers 4685129.75",
          "CO<br>Passengers 70114.33333333333",
          "CT<br>Passengers 215315.58333333334",
          "DC<br>Passengers 1296668.4166666667",
          "DE<br>Passengers 63.333333333333336",
          "FL<br>Passengers 3722350.8333333335",
          "GA<br>Passengers 2964298.1666666665",
          "HI<br>Passengers 678763.0",
          "IA<br>Passengers 104689.25",
          "ID<br>Passengers 17831.666666666668",
          "IL<br>Passengers 2746452.5",
          "IN<br>Passengers 340488.3333333333",
          "KS<br>Passengers 52459.583333333336",
          "KY<br>Passengers 38681.5",
          "LA<br>Passengers 412075.3333333333",
          "MA<br>Passengers 840728.75",
          "MD<br>Passengers 798711.0",
          "ME<br>Passengers 89855.08333333333",
          "MI<br>Passengers 1251693.6666666667",
          "MN<br>Passengers 1146020.8333333333",
          "MO<br>Passengers 921726.5",
          "MS<br>Passengers 94771.0",
          "MT<br>Passengers 92805.75",
          "NC<br>Passengers 1785418.5",
          "ND<br>Passengers 48955.333333333336",
          "NE<br>Passengers 149378.75",
          "NH<br>Passengers 131036.25",
          "NJ<br>Passengers 920887.5833333334",
          "NM<br>Passengers 243724.91666666666",
          "NV<br>Passengers 1543962.75",
          "NY<br>Passengers 2288218.5",
          "OH<br>Passengers 1158569.5",
          "OK<br>Passengers 235994.16666666666",
          "OR<br>Passengers 519071.8333333333",
          "PA<br>Passengers 1464608.0833333333",
          "RI<br>Passengers 178563.0",
          "SC<br>Passengers 250657.5",
          "SD<br>Passengers 38500.083333333336",
          "TN<br>Passengers 841628.9166666666",
          "TX<br>Passengers 4755373.666666667",
          "UT<br>Passengers 708896.75",
          "VA<br>Passengers 184490.58333333334",
          "VT<br>Passengers 58550.416666666664",
          "WA<br>Passengers 1193027.8333333333",
          "WI<br>Passengers 438855.0833333333",
          "WV<br>Passengers 22350.5",
          "WY<br>Passengers 20091.916666666668"
         ],
         "type": "choropleth",
         "z": [
          208444.25,
          211533.66666666666,
          143663.91666666666,
          1532344,
          4685129.75,
          70114.33333333333,
          215315.58333333334,
          1296668.4166666667,
          63.333333333333336,
          3722350.8333333335,
          2964298.1666666665,
          678763,
          104689.25,
          17831.666666666668,
          2746452.5,
          340488.3333333333,
          52459.583333333336,
          38681.5,
          412075.3333333333,
          840728.75,
          798711,
          89855.08333333333,
          1251693.6666666667,
          1146020.8333333333,
          921726.5,
          94771,
          92805.75,
          1785418.5,
          48955.333333333336,
          149378.75,
          131036.25,
          920887.5833333334,
          243724.91666666666,
          1543962.75,
          2288218.5,
          1158569.5,
          235994.16666666666,
          519071.8333333333,
          1464608.0833333333,
          178563,
          250657.5,
          38500.083333333336,
          841628.9166666666,
          4755373.666666667,
          708896.75,
          184490.58333333334,
          58550.416666666664,
          1193027.8333333333,
          438855.0833333333,
          22350.5,
          20091.916666666668
         ]
        }
       ],
       "layout": {
        "geo": {
         "lakecolor": "rgb(255, 255, 255)",
         "projection": {
          "type": "albers usa"
         },
         "scope": "usa",
         "showlakes": true
        },
        "title": "2009 Average passengers by State<br>(Hover for breakdown)"
       }
      },
      "text/html": [
       "<div id=\"bca2e15f-3130-4f31-9345-9e7caa56382a\" style=\"height: 525px; width: 100%;\" class=\"plotly-graph-div\"></div><script type=\"text/javascript\">require([\"plotly\"], function(Plotly) { window.PLOTLYENV=window.PLOTLYENV || {};window.PLOTLYENV.BASE_URL=\"https://plot.ly\";Plotly.newPlot(\"bca2e15f-3130-4f31-9345-9e7caa56382a\", [{\"type\": \"choropleth\", \"colorscale\": [[0.0, \"rgb(242,240,247)\"], [0.2, \"rgb(218,218,235)\"], [0.4, \"rgb(188,189,220)\"], [0.6, \"rgb(158,154,200)\"], [0.8, \"rgb(117,107,177)\"], [1.0, \"rgb(84,39,143)\"]], \"autocolorscale\": false, \"locations\": [\"AK\", \"AL\", \"AR\", \"AZ\", \"CA\", \"CO\", \"CT\", \"DC\", \"DE\", \"FL\", \"GA\", \"HI\", \"IA\", \"ID\", \"IL\", \"IN\", \"KS\", \"KY\", \"LA\", \"MA\", \"MD\", \"ME\", \"MI\", \"MN\", \"MO\", \"MS\", \"MT\", \"NC\", \"ND\", \"NE\", \"NH\", \"NJ\", \"NM\", \"NV\", \"NY\", \"OH\", \"OK\", \"OR\", \"PA\", \"RI\", \"SC\", \"SD\", \"TN\", \"TX\", \"UT\", \"VA\", \"VT\", \"WA\", \"WI\", \"WV\", \"WY\"], \"z\": [208444.25, 211533.66666666666, 143663.91666666666, 1532344.0, 4685129.75, 70114.33333333333, 215315.58333333334, 1296668.4166666667, 63.333333333333336, 3722350.8333333335, 2964298.1666666665, 678763.0, 104689.25, 17831.666666666668, 2746452.5, 340488.3333333333, 52459.583333333336, 38681.5, 412075.3333333333, 840728.75, 798711.0, 89855.08333333333, 1251693.6666666667, 1146020.8333333333, 921726.5, 94771.0, 92805.75, 1785418.5, 48955.333333333336, 149378.75, 131036.25, 920887.5833333334, 243724.91666666666, 1543962.75, 2288218.5, 1158569.5, 235994.16666666666, 519071.8333333333, 1464608.0833333333, 178563.0, 250657.5, 38500.083333333336, 841628.9166666666, 4755373.666666667, 708896.75, 184490.58333333334, 58550.416666666664, 1193027.8333333333, 438855.0833333333, 22350.5, 20091.916666666668], \"locationmode\": \"USA-states\", \"text\": [\"AK<br>Passengers 208444.25\", \"AL<br>Passengers 211533.66666666666\", \"AR<br>Passengers 143663.91666666666\", \"AZ<br>Passengers 1532344.0\", \"CA<br>Passengers 4685129.75\", \"CO<br>Passengers 70114.33333333333\", \"CT<br>Passengers 215315.58333333334\", \"DC<br>Passengers 1296668.4166666667\", \"DE<br>Passengers 63.333333333333336\", \"FL<br>Passengers 3722350.8333333335\", \"GA<br>Passengers 2964298.1666666665\", \"HI<br>Passengers 678763.0\", \"IA<br>Passengers 104689.25\", \"ID<br>Passengers 17831.666666666668\", \"IL<br>Passengers 2746452.5\", \"IN<br>Passengers 340488.3333333333\", \"KS<br>Passengers 52459.583333333336\", \"KY<br>Passengers 38681.5\", \"LA<br>Passengers 412075.3333333333\", \"MA<br>Passengers 840728.75\", \"MD<br>Passengers 798711.0\", \"ME<br>Passengers 89855.08333333333\", \"MI<br>Passengers 1251693.6666666667\", \"MN<br>Passengers 1146020.8333333333\", \"MO<br>Passengers 921726.5\", \"MS<br>Passengers 94771.0\", \"MT<br>Passengers 92805.75\", \"NC<br>Passengers 1785418.5\", \"ND<br>Passengers 48955.333333333336\", \"NE<br>Passengers 149378.75\", \"NH<br>Passengers 131036.25\", \"NJ<br>Passengers 920887.5833333334\", \"NM<br>Passengers 243724.91666666666\", \"NV<br>Passengers 1543962.75\", \"NY<br>Passengers 2288218.5\", \"OH<br>Passengers 1158569.5\", \"OK<br>Passengers 235994.16666666666\", \"OR<br>Passengers 519071.8333333333\", \"PA<br>Passengers 1464608.0833333333\", \"RI<br>Passengers 178563.0\", \"SC<br>Passengers 250657.5\", \"SD<br>Passengers 38500.083333333336\", \"TN<br>Passengers 841628.9166666666\", \"TX<br>Passengers 4755373.666666667\", \"UT<br>Passengers 708896.75\", \"VA<br>Passengers 184490.58333333334\", \"VT<br>Passengers 58550.416666666664\", \"WA<br>Passengers 1193027.8333333333\", \"WI<br>Passengers 438855.0833333333\", \"WV<br>Passengers 22350.5\", \"WY<br>Passengers 20091.916666666668\"], \"marker\": {\"line\": {\"color\": \"rgb(255,255,255)\", \"width\": 2}}, \"colorbar\": {\"title\": \"Avg passengers\"}}], {\"title\": \"2009 Average passengers by State<br>(Hover for breakdown)\", \"geo\": {\"scope\": \"usa\", \"projection\": {\"type\": \"albers usa\"}, \"showlakes\": true, \"lakecolor\": \"rgb(255, 255, 255)\"}}, {\"showLink\": true, \"linkText\": \"Export to plot.ly\"})});</script>"
      ],
      "text/vnd.plotly.v1+html": [
       "<div id=\"bca2e15f-3130-4f31-9345-9e7caa56382a\" style=\"height: 525px; width: 100%;\" class=\"plotly-graph-div\"></div><script type=\"text/javascript\">require([\"plotly\"], function(Plotly) { window.PLOTLYENV=window.PLOTLYENV || {};window.PLOTLYENV.BASE_URL=\"https://plot.ly\";Plotly.newPlot(\"bca2e15f-3130-4f31-9345-9e7caa56382a\", [{\"type\": \"choropleth\", \"colorscale\": [[0.0, \"rgb(242,240,247)\"], [0.2, \"rgb(218,218,235)\"], [0.4, \"rgb(188,189,220)\"], [0.6, \"rgb(158,154,200)\"], [0.8, \"rgb(117,107,177)\"], [1.0, \"rgb(84,39,143)\"]], \"autocolorscale\": false, \"locations\": [\"AK\", \"AL\", \"AR\", \"AZ\", \"CA\", \"CO\", \"CT\", \"DC\", \"DE\", \"FL\", \"GA\", \"HI\", \"IA\", \"ID\", \"IL\", \"IN\", \"KS\", \"KY\", \"LA\", \"MA\", \"MD\", \"ME\", \"MI\", \"MN\", \"MO\", \"MS\", \"MT\", \"NC\", \"ND\", \"NE\", \"NH\", \"NJ\", \"NM\", \"NV\", \"NY\", \"OH\", \"OK\", \"OR\", \"PA\", \"RI\", \"SC\", \"SD\", \"TN\", \"TX\", \"UT\", \"VA\", \"VT\", \"WA\", \"WI\", \"WV\", \"WY\"], \"z\": [208444.25, 211533.66666666666, 143663.91666666666, 1532344.0, 4685129.75, 70114.33333333333, 215315.58333333334, 1296668.4166666667, 63.333333333333336, 3722350.8333333335, 2964298.1666666665, 678763.0, 104689.25, 17831.666666666668, 2746452.5, 340488.3333333333, 52459.583333333336, 38681.5, 412075.3333333333, 840728.75, 798711.0, 89855.08333333333, 1251693.6666666667, 1146020.8333333333, 921726.5, 94771.0, 92805.75, 1785418.5, 48955.333333333336, 149378.75, 131036.25, 920887.5833333334, 243724.91666666666, 1543962.75, 2288218.5, 1158569.5, 235994.16666666666, 519071.8333333333, 1464608.0833333333, 178563.0, 250657.5, 38500.083333333336, 841628.9166666666, 4755373.666666667, 708896.75, 184490.58333333334, 58550.416666666664, 1193027.8333333333, 438855.0833333333, 22350.5, 20091.916666666668], \"locationmode\": \"USA-states\", \"text\": [\"AK<br>Passengers 208444.25\", \"AL<br>Passengers 211533.66666666666\", \"AR<br>Passengers 143663.91666666666\", \"AZ<br>Passengers 1532344.0\", \"CA<br>Passengers 4685129.75\", \"CO<br>Passengers 70114.33333333333\", \"CT<br>Passengers 215315.58333333334\", \"DC<br>Passengers 1296668.4166666667\", \"DE<br>Passengers 63.333333333333336\", \"FL<br>Passengers 3722350.8333333335\", \"GA<br>Passengers 2964298.1666666665\", \"HI<br>Passengers 678763.0\", \"IA<br>Passengers 104689.25\", \"ID<br>Passengers 17831.666666666668\", \"IL<br>Passengers 2746452.5\", \"IN<br>Passengers 340488.3333333333\", \"KS<br>Passengers 52459.583333333336\", \"KY<br>Passengers 38681.5\", \"LA<br>Passengers 412075.3333333333\", \"MA<br>Passengers 840728.75\", \"MD<br>Passengers 798711.0\", \"ME<br>Passengers 89855.08333333333\", \"MI<br>Passengers 1251693.6666666667\", \"MN<br>Passengers 1146020.8333333333\", \"MO<br>Passengers 921726.5\", \"MS<br>Passengers 94771.0\", \"MT<br>Passengers 92805.75\", \"NC<br>Passengers 1785418.5\", \"ND<br>Passengers 48955.333333333336\", \"NE<br>Passengers 149378.75\", \"NH<br>Passengers 131036.25\", \"NJ<br>Passengers 920887.5833333334\", \"NM<br>Passengers 243724.91666666666\", \"NV<br>Passengers 1543962.75\", \"NY<br>Passengers 2288218.5\", \"OH<br>Passengers 1158569.5\", \"OK<br>Passengers 235994.16666666666\", \"OR<br>Passengers 519071.8333333333\", \"PA<br>Passengers 1464608.0833333333\", \"RI<br>Passengers 178563.0\", \"SC<br>Passengers 250657.5\", \"SD<br>Passengers 38500.083333333336\", \"TN<br>Passengers 841628.9166666666\", \"TX<br>Passengers 4755373.666666667\", \"UT<br>Passengers 708896.75\", \"VA<br>Passengers 184490.58333333334\", \"VT<br>Passengers 58550.416666666664\", \"WA<br>Passengers 1193027.8333333333\", \"WI<br>Passengers 438855.0833333333\", \"WV<br>Passengers 22350.5\", \"WY<br>Passengers 20091.916666666668\"], \"marker\": {\"line\": {\"color\": \"rgb(255,255,255)\", \"width\": 2}}, \"colorbar\": {\"title\": \"Avg passengers\"}}], {\"title\": \"2009 Average passengers by State<br>(Hover for breakdown)\", \"geo\": {\"scope\": \"usa\", \"projection\": {\"type\": \"albers usa\"}, \"showlakes\": true, \"lakecolor\": \"rgb(255, 255, 255)\"}}, {\"showLink\": true, \"linkText\": \"Export to plot.ly\"})});</script>"
      ]
     },
     "metadata": {},
     "output_type": "display_data"
    }
   ],
   "source": [
    "for col in df.columns:\n",
    "    df[col] = df[col].astype(str)\n",
    "\n",
    "scl = [[0.0, 'rgb(242,240,247)'],[0.2, 'rgb(218,218,235)'],[0.4, 'rgb(188,189,220)'],\\\n",
    "            [0.6, 'rgb(158,154,200)'],[0.8, 'rgb(117,107,177)'],[1.0, 'rgb(84,39,143)']]\n",
    "\n",
    "df['text'] = df['Origin_state'] + '<br>' +\\\n",
    "    'Passengers '+ df['Passengers']\n",
    "\n",
    "fig_data = [ dict(\n",
    "        type='choropleth',\n",
    "        colorscale = scl,\n",
    "        autocolorscale = False,\n",
    "        locations = df['Origin_state'],\n",
    "        z = df['Passengers'].astype(float),\n",
    "        locationmode = 'USA-states',\n",
    "        text = df['text'],\n",
    "        marker = dict(\n",
    "            line = dict (\n",
    "                color = 'rgb(255,255,255)',\n",
    "                width = 2\n",
    "            ) ),\n",
    "        colorbar = dict(\n",
    "            title = \"Avg passengers\")\n",
    "        ) ]\n",
    "\n",
    "layout = dict(\n",
    "        title = '2009 Average passengers by State<br>(Hover for breakdown)',\n",
    "        geo = dict(\n",
    "            scope='usa',\n",
    "            projection=dict( type='albers usa' ),\n",
    "            showlakes = True,\n",
    "            lakecolor = 'rgb(255, 255, 255)'),\n",
    "             )\n",
    "    \n",
    "fig = dict(data=fig_data, layout=layout)\n",
    "iplot(fig)\n",
    "# plot(fig, filename='air_passengers')"
   ]
  },
  {
   "cell_type": "code",
   "execution_count": 40,
   "metadata": {},
   "outputs": [
    {
     "data": {
      "text/html": [
       "<div>\n",
       "<style scoped>\n",
       "    .dataframe tbody tr th:only-of-type {\n",
       "        vertical-align: middle;\n",
       "    }\n",
       "\n",
       "    .dataframe tbody tr th {\n",
       "        vertical-align: top;\n",
       "    }\n",
       "\n",
       "    .dataframe thead th {\n",
       "        text-align: right;\n",
       "    }\n",
       "</style>\n",
       "<table border=\"1\" class=\"dataframe\">\n",
       "  <thead>\n",
       "    <tr style=\"text-align: right;\">\n",
       "      <th></th>\n",
       "      <th>Origin_state</th>\n",
       "      <th>Origin_population</th>\n",
       "    </tr>\n",
       "  </thead>\n",
       "  <tbody>\n",
       "    <tr>\n",
       "      <th>0</th>\n",
       "      <td>AK</td>\n",
       "      <td>530360</td>\n",
       "    </tr>\n",
       "    <tr>\n",
       "      <th>1</th>\n",
       "      <td>AL</td>\n",
       "      <td>2783121</td>\n",
       "    </tr>\n",
       "    <tr>\n",
       "      <th>2</th>\n",
       "      <td>AR</td>\n",
       "      <td>1878901</td>\n",
       "    </tr>\n",
       "    <tr>\n",
       "      <th>3</th>\n",
       "      <td>AZ</td>\n",
       "      <td>6278372</td>\n",
       "    </tr>\n",
       "    <tr>\n",
       "      <th>4</th>\n",
       "      <td>CA</td>\n",
       "      <td>69239202</td>\n",
       "    </tr>\n",
       "  </tbody>\n",
       "</table>\n",
       "</div>"
      ],
      "text/plain": [
       "  Origin_state  Origin_population\n",
       "0           AK             530360\n",
       "1           AL            2783121\n",
       "2           AR            1878901\n",
       "3           AZ            6278372\n",
       "4           CA           69239202"
      ]
     },
     "execution_count": 40,
     "metadata": {},
     "output_type": "execute_result"
    }
   ],
   "source": [
    "df2 = data[data[\"Fly_date\"] >= '2009-01-01']\n",
    "df2 = df2[['Origin_state', 'Origin_population', 'Origin_city']].drop_duplicates()\n",
    "df2 = df2.groupby(['Origin_state'])['Origin_population'].sum().reset_index()\n",
    "#df.Passengers = [np.log(x) for x in df.Passengers]\n",
    "df2.head()"
   ]
  },
  {
   "cell_type": "code",
   "execution_count": 42,
   "metadata": {},
   "outputs": [
    {
     "data": {
      "text/plain": [
       "(51, 51, 51)"
      ]
     },
     "execution_count": 42,
     "metadata": {},
     "output_type": "execute_result"
    }
   ],
   "source": [
    "len(df), len(df2), len(df3)"
   ]
  },
  {
   "cell_type": "code",
   "execution_count": 41,
   "metadata": {},
   "outputs": [
    {
     "data": {
      "text/html": [
       "<div>\n",
       "<style scoped>\n",
       "    .dataframe tbody tr th:only-of-type {\n",
       "        vertical-align: middle;\n",
       "    }\n",
       "\n",
       "    .dataframe tbody tr th {\n",
       "        vertical-align: top;\n",
       "    }\n",
       "\n",
       "    .dataframe thead th {\n",
       "        text-align: right;\n",
       "    }\n",
       "</style>\n",
       "<table border=\"1\" class=\"dataframe\">\n",
       "  <thead>\n",
       "    <tr style=\"text-align: right;\">\n",
       "      <th></th>\n",
       "      <th>Origin_state</th>\n",
       "      <th>Passengers</th>\n",
       "      <th>Origin_population</th>\n",
       "      <th>proportion</th>\n",
       "    </tr>\n",
       "  </thead>\n",
       "  <tbody>\n",
       "    <tr>\n",
       "      <th>0</th>\n",
       "      <td>AK</td>\n",
       "      <td>2.084442e+05</td>\n",
       "      <td>530360</td>\n",
       "      <td>0.393024</td>\n",
       "    </tr>\n",
       "    <tr>\n",
       "      <th>1</th>\n",
       "      <td>AL</td>\n",
       "      <td>2.115337e+05</td>\n",
       "      <td>2783121</td>\n",
       "      <td>0.076006</td>\n",
       "    </tr>\n",
       "    <tr>\n",
       "      <th>2</th>\n",
       "      <td>AR</td>\n",
       "      <td>1.436639e+05</td>\n",
       "      <td>1878901</td>\n",
       "      <td>0.076462</td>\n",
       "    </tr>\n",
       "    <tr>\n",
       "      <th>3</th>\n",
       "      <td>AZ</td>\n",
       "      <td>1.532344e+06</td>\n",
       "      <td>6278372</td>\n",
       "      <td>0.244067</td>\n",
       "    </tr>\n",
       "    <tr>\n",
       "      <th>4</th>\n",
       "      <td>CA</td>\n",
       "      <td>4.685130e+06</td>\n",
       "      <td>69239202</td>\n",
       "      <td>0.067666</td>\n",
       "    </tr>\n",
       "  </tbody>\n",
       "</table>\n",
       "</div>"
      ],
      "text/plain": [
       "  Origin_state    Passengers  Origin_population  proportion\n",
       "0           AK  2.084442e+05             530360    0.393024\n",
       "1           AL  2.115337e+05            2783121    0.076006\n",
       "2           AR  1.436639e+05            1878901    0.076462\n",
       "3           AZ  1.532344e+06            6278372    0.244067\n",
       "4           CA  4.685130e+06           69239202    0.067666"
      ]
     },
     "execution_count": 41,
     "metadata": {},
     "output_type": "execute_result"
    }
   ],
   "source": [
    "df3 = df.merge(df2)\n",
    "df3['proportion'] = df3['Passengers']/df3['Origin_population']\n",
    "df3.head()"
   ]
  },
  {
   "cell_type": "code",
   "execution_count": 43,
   "metadata": {},
   "outputs": [
    {
     "data": {
      "text/plain": [
       "(0.6509946671119173, 1.0338459957974704e-05)"
      ]
     },
     "execution_count": 43,
     "metadata": {},
     "output_type": "execute_result"
    }
   ],
   "source": [
    "df3.proportion.max(), df3.proportion.min()"
   ]
  },
  {
   "cell_type": "code",
   "execution_count": 45,
   "metadata": {},
   "outputs": [
    {
     "data": {
      "text/html": [
       "<div>\n",
       "<style scoped>\n",
       "    .dataframe tbody tr th:only-of-type {\n",
       "        vertical-align: middle;\n",
       "    }\n",
       "\n",
       "    .dataframe tbody tr th {\n",
       "        vertical-align: top;\n",
       "    }\n",
       "\n",
       "    .dataframe thead th {\n",
       "        text-align: right;\n",
       "    }\n",
       "</style>\n",
       "<table border=\"1\" class=\"dataframe\">\n",
       "  <thead>\n",
       "    <tr style=\"text-align: right;\">\n",
       "      <th></th>\n",
       "      <th>Origin_state</th>\n",
       "      <th>Passengers</th>\n",
       "      <th>Origin_population</th>\n",
       "      <th>proportion</th>\n",
       "      <th>text</th>\n",
       "    </tr>\n",
       "  </thead>\n",
       "  <tbody>\n",
       "    <tr>\n",
       "      <th>30</th>\n",
       "      <td>NH</td>\n",
       "      <td>1.310362e+05</td>\n",
       "      <td>405906</td>\n",
       "      <td>0.322824</td>\n",
       "      <td>NH&lt;br&gt;Proportion 0.32282412676826655</td>\n",
       "    </tr>\n",
       "    <tr>\n",
       "      <th>0</th>\n",
       "      <td>AK</td>\n",
       "      <td>2.084442e+05</td>\n",
       "      <td>530360</td>\n",
       "      <td>0.393024</td>\n",
       "      <td>AK&lt;br&gt;Proportion 0.3930240779847651</td>\n",
       "    </tr>\n",
       "    <tr>\n",
       "      <th>10</th>\n",
       "      <td>GA</td>\n",
       "      <td>2.964298e+06</td>\n",
       "      <td>7479137</td>\n",
       "      <td>0.396342</td>\n",
       "      <td>GA&lt;br&gt;Proportion 0.3963422740707473</td>\n",
       "    </tr>\n",
       "    <tr>\n",
       "      <th>11</th>\n",
       "      <td>HI</td>\n",
       "      <td>6.787630e+05</td>\n",
       "      <td>1230566</td>\n",
       "      <td>0.551586</td>\n",
       "      <td>HI&lt;br&gt;Proportion 0.5515860181412455</td>\n",
       "    </tr>\n",
       "    <tr>\n",
       "      <th>33</th>\n",
       "      <td>NV</td>\n",
       "      <td>1.543963e+06</td>\n",
       "      <td>2371698</td>\n",
       "      <td>0.650995</td>\n",
       "      <td>NV&lt;br&gt;Proportion 0.6509946671119173</td>\n",
       "    </tr>\n",
       "  </tbody>\n",
       "</table>\n",
       "</div>"
      ],
      "text/plain": [
       "   Origin_state    Passengers  Origin_population  proportion  \\\n",
       "30           NH  1.310362e+05             405906    0.322824   \n",
       "0            AK  2.084442e+05             530360    0.393024   \n",
       "10           GA  2.964298e+06            7479137    0.396342   \n",
       "11           HI  6.787630e+05            1230566    0.551586   \n",
       "33           NV  1.543963e+06            2371698    0.650995   \n",
       "\n",
       "                                    text  \n",
       "30  NH<br>Proportion 0.32282412676826655  \n",
       "0    AK<br>Proportion 0.3930240779847651  \n",
       "10   GA<br>Proportion 0.3963422740707473  \n",
       "11   HI<br>Proportion 0.5515860181412455  \n",
       "33   NV<br>Proportion 0.6509946671119173  "
      ]
     },
     "execution_count": 45,
     "metadata": {},
     "output_type": "execute_result"
    }
   ],
   "source": [
    "df3.sort_values('proportion').tail()"
   ]
  },
  {
   "cell_type": "code",
   "execution_count": 49,
   "metadata": {},
   "outputs": [
    {
     "name": "stderr",
     "output_type": "stream",
     "text": [
      "/Users/leesa/anaconda/envs/fv/lib/python3.6/site-packages/plotly/offline/offline.py:459: UserWarning:\n",
      "\n",
      "Your filename `air_passengers_density` didn't end with .html. Adding .html to the end of your file.\n",
      "\n"
     ]
    },
    {
     "data": {
      "text/plain": [
       "'file:///Users/leesa/Downloads/Viz_project/air_passengers_density.html'"
      ]
     },
     "execution_count": 49,
     "metadata": {},
     "output_type": "execute_result"
    }
   ],
   "source": [
    "\n",
    "scl = [[0,\"#00441b\"],[0.05,\"#006d2c\"],[0.1,\"#238b45\"],\\\n",
    "            [0.2,\"#41ae76\"],[0.3,\"#66c2a4\"],[0.5,\"#ccece6\"],[0.7,\"#e5f5f9\"]]\n",
    "\n",
    "\n",
    "df3['text'] = df3['Origin_state'].astype(str) + '<br>' +\\\n",
    "    'Proportion '+ df3['Origin_population'].astype(str) + '<br>' + 'Passengers '+ df3['Passengers'].astype(str)\n",
    "\n",
    "fig_data = [ dict(\n",
    "        type='choropleth',\n",
    "        colorscale = scl,\n",
    "        autocolorscale = False,\n",
    "        reversescale = True,\n",
    "        locations = df3['Origin_state'],\n",
    "        z = df3['proportion'].astype(float),\n",
    "        locationmode = 'USA-states',\n",
    "        text = df3['text'],\n",
    "        marker = dict(\n",
    "            line = dict (\n",
    "                color = 'rgb(150, 150, 150)',\n",
    "                width = 2\n",
    "            ) ),\n",
    "        colorbar = dict(\n",
    "            title = \"Avg passengers\")\n",
    "        ) ]\n",
    "\n",
    "layout = dict(\n",
    "        title = '2009 passengers density by State<br>(Hover for breakdown)',\n",
    "        geo = dict(\n",
    "            scope='usa',\n",
    "            projection=dict( type='albers usa' ),\n",
    "            showlakes = True,\n",
    "            lakecolor = 'rgb(255, 255, 255)'),\n",
    "             )\n",
    "    \n",
    "fig = dict(data=fig_data, layout=layout)\n",
    "# iplot(fig)\n",
    "plot(fig, filename='air_passengers_density')"
   ]
  }
 ],
 "metadata": {
  "kernelspec": {
   "display_name": "Python 2",
   "language": "python",
   "name": "python2"
  },
  "language_info": {
   "codemirror_mode": {
    "name": "ipython",
    "version": 2
   },
   "file_extension": ".py",
   "mimetype": "text/x-python",
   "name": "python",
   "nbconvert_exporter": "python",
   "pygments_lexer": "ipython2",
   "version": "2.7.13"
  }
 },
 "nbformat": 4,
 "nbformat_minor": 2
}

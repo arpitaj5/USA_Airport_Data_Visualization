{
 "cells": [
  {
   "cell_type": "code",
   "execution_count": 1,
   "metadata": {},
   "outputs": [
    {
     "data": {
      "text/html": [
       "<script>requirejs.config({paths: { 'plotly': ['https://cdn.plot.ly/plotly-latest.min']},});if(!window.Plotly) {{require(['plotly'],function(plotly) {window.Plotly=plotly;});}}</script>"
      ],
      "text/vnd.plotly.v1+html": [
       "<script>requirejs.config({paths: { 'plotly': ['https://cdn.plot.ly/plotly-latest.min']},});if(!window.Plotly) {{require(['plotly'],function(plotly) {window.Plotly=plotly;});}}</script>"
      ]
     },
     "metadata": {},
     "output_type": "display_data"
    }
   ],
   "source": [
    "import pandas as pd\n",
    "import numpy as np\n",
    "from plotly import __version__\n",
    "from plotly.offline import download_plotlyjs, init_notebook_mode, plot, iplot\n",
    "import plotly.plotly as py\n",
    "import plotly.graph_objs as go\n",
    "import pandas as pd\n",
    "from datetime import datetime\n",
    "import pandas_datareader.data as web\n",
    "init_notebook_mode(connected=True)"
   ]
  },
  {
   "cell_type": "code",
   "execution_count": 2,
   "metadata": {
    "collapsed": true
   },
   "outputs": [],
   "source": [
    "data = pd.read_csv(\"/Users/leesa/Downloads/Viz_project/airport.csv\")\n"
   ]
  },
  {
   "cell_type": "code",
   "execution_count": 3,
   "metadata": {},
   "outputs": [
    {
     "data": {
      "text/html": [
       "<div>\n",
       "<style>\n",
       "    .dataframe thead tr:only-child th {\n",
       "        text-align: right;\n",
       "    }\n",
       "\n",
       "    .dataframe thead th {\n",
       "        text-align: left;\n",
       "    }\n",
       "\n",
       "    .dataframe tbody tr th {\n",
       "        vertical-align: top;\n",
       "    }\n",
       "</style>\n",
       "<table border=\"1\" class=\"dataframe\">\n",
       "  <thead>\n",
       "    <tr style=\"text-align: right;\">\n",
       "      <th></th>\n",
       "      <th>Origin_state</th>\n",
       "      <th>Origin_city</th>\n",
       "      <th>Passengers</th>\n",
       "    </tr>\n",
       "  </thead>\n",
       "  <tbody>\n",
       "    <tr>\n",
       "      <th>0</th>\n",
       "      <td>AK</td>\n",
       "      <td>Anchorage</td>\n",
       "      <td>146458.116667</td>\n",
       "    </tr>\n",
       "    <tr>\n",
       "      <th>1</th>\n",
       "      <td>AK</td>\n",
       "      <td>Fairbanks</td>\n",
       "      <td>30343.366667</td>\n",
       "    </tr>\n",
       "    <tr>\n",
       "      <th>2</th>\n",
       "      <td>AK</td>\n",
       "      <td>Juneau</td>\n",
       "      <td>19624.366667</td>\n",
       "    </tr>\n",
       "    <tr>\n",
       "      <th>3</th>\n",
       "      <td>AK</td>\n",
       "      <td>Ketchikan</td>\n",
       "      <td>13099.966667</td>\n",
       "    </tr>\n",
       "    <tr>\n",
       "      <th>4</th>\n",
       "      <td>AK</td>\n",
       "      <td>Kodiak</td>\n",
       "      <td>4814.900000</td>\n",
       "    </tr>\n",
       "  </tbody>\n",
       "</table>\n",
       "</div>"
      ],
      "text/plain": [
       "  Origin_state Origin_city     Passengers\n",
       "0           AK   Anchorage  146458.116667\n",
       "1           AK   Fairbanks   30343.366667\n",
       "2           AK      Juneau   19624.366667\n",
       "3           AK   Ketchikan   13099.966667\n",
       "4           AK      Kodiak    4814.900000"
      ]
     },
     "execution_count": 3,
     "metadata": {},
     "output_type": "execute_result"
    }
   ],
   "source": [
    "df = data[['Origin_state', 'Passengers', 'Origin_city', 'Fly_date']]\n",
    "df = df.groupby(['Origin_state', 'Origin_city', 'Fly_date'])['Passengers'].sum().reset_index()\n",
    "df = df.groupby(['Origin_state', 'Origin_city'])['Passengers'].mean().reset_index()\n",
    "df.head()"
   ]
  },
  {
   "cell_type": "code",
   "execution_count": 4,
   "metadata": {
    "collapsed": true
   },
   "outputs": [],
   "source": [
    "df2 = data[['Destination_state', 'Passengers', 'Destination_city', 'Fly_date']]\n",
    "df2 = df2.groupby(['Destination_state', 'Destination_city', 'Fly_date'])['Passengers'].sum().reset_index()\n",
    "df2 = df2.groupby(['Destination_state', 'Destination_city'])['Passengers'].mean().reset_index()"
   ]
  },
  {
   "cell_type": "code",
   "execution_count": 11,
   "metadata": {
    "scrolled": true
   },
   "outputs": [
    {
     "name": "stderr",
     "output_type": "stream",
     "text": [
      "/Users/leesa/anaconda/lib/python2.7/site-packages/ipykernel_launcher.py:5: RuntimeWarning:\n",
      "\n",
      "divide by zero encountered in log\n",
      "\n"
     ]
    },
    {
     "data": {
      "text/plain": [
       "'file:///Users/leesa/Downloads/Viz_project/airports_bar.html'"
      ]
     },
     "execution_count": 11,
     "metadata": {},
     "output_type": "execute_result"
    }
   ],
   "source": [
    "data1 = []\n",
    "\n",
    "for state in df['Origin_state'].drop_duplicates():\n",
    "    data1.append(go.Bar(y=df[df['Origin_state'] == state]['Origin_city'].values.tolist(),\n",
    "                        x=[np.log(val*1e3) for val in df[df['Origin_state'] == state]['Passengers']],\n",
    "                        name= state,\n",
    "                       visible=False, orientation = 'h'\n",
    "                       #text = df[df['Origin_state'] == state]['Passengers'].values.tolist(),\n",
    "                       #textposition='auto'\n",
    "                        ))\n",
    "\n",
    "buttons = []\n",
    "\n",
    "for row, state in df.Origin_state.drop_duplicates().reset_index()['Origin_state'].iteritems():\n",
    "    condition = [False]*len(df.Origin_state.drop_duplicates())\n",
    "    condition[row] = True\n",
    "    buttons.append(dict(label = state,\n",
    "                 method = 'update',\n",
    "                 args = [{'visible': condition},\n",
    "                         {'title': 'Log of Average travellers in 1000s per airport : ' + state,\n",
    "                          }]))\n",
    "\n",
    "updatemenus=list([\n",
    "    dict(\n",
    "        buttons = buttons,\n",
    "        pad = {'r': 0, 't': 10},\n",
    "        #x = 0.1,\n",
    "        #xanchor = 'left',\n",
    "       # y = 1.0,\n",
    "        yanchor = 'top',\n",
    "        bgcolor = 'AAAAAA',\n",
    "        active = 99,\n",
    "        bordercolor = '#FFFFFF',\n",
    "        font = dict(size=11, color='#000000'))])\n",
    "\n",
    "layout = dict(title='Average travellers per airport', showlegend=False,\n",
    "              updatemenus=updatemenus)\n",
    "\n",
    "figure = dict(data=data1, layout=layout)\n",
    "#plotly.offline.plot(figure)\n",
    "plot(figure, filename='airports_bar')"
   ]
  },
  {
   "cell_type": "code",
   "execution_count": null,
   "metadata": {
    "collapsed": true
   },
   "outputs": [],
   "source": []
  }
 ],
 "metadata": {
  "kernelspec": {
   "display_name": "Python 2",
   "language": "python",
   "name": "python2"
  },
  "language_info": {
   "codemirror_mode": {
    "name": "ipython",
    "version": 2
   },
   "file_extension": ".py",
   "mimetype": "text/x-python",
   "name": "python",
   "nbconvert_exporter": "python",
   "pygments_lexer": "ipython2",
   "version": "2.7.13"
  }
 },
 "nbformat": 4,
 "nbformat_minor": 2
}

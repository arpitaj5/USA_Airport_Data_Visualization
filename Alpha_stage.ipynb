{
 "cells": [
  {
   "cell_type": "code",
   "execution_count": 1,
   "metadata": {},
   "outputs": [],
   "source": [
    "import pandas as pd\n",
    "import numpy as np"
   ]
  },
  {
   "cell_type": "code",
   "execution_count": 62,
   "metadata": {},
   "outputs": [
    {
     "data": {
      "text/html": [
       "<script>requirejs.config({paths: { 'plotly': ['https://cdn.plot.ly/plotly-latest.min']},});if(!window.Plotly) {{require(['plotly'],function(plotly) {window.Plotly=plotly;});}}</script>"
      ],
      "text/vnd.plotly.v1+html": [
       "<script>requirejs.config({paths: { 'plotly': ['https://cdn.plot.ly/plotly-latest.min']},});if(!window.Plotly) {{require(['plotly'],function(plotly) {window.Plotly=plotly;});}}</script>"
      ]
     },
     "metadata": {},
     "output_type": "display_data"
    }
   ],
   "source": [
    "from plotly import __version__\n",
    "from plotly.offline import download_plotlyjs, init_notebook_mode, plot, iplot\n",
    "import plotly.plotly as py\n",
    "import plotly.graph_objs as go\n",
    "import pandas as pd\n",
    "from datetime import datetime\n",
    "import pandas_datareader.data as web\n",
    "init_notebook_mode(connected=True)"
   ]
  },
  {
   "cell_type": "markdown",
   "metadata": {},
   "source": [
    "### Data load"
   ]
  },
  {
   "cell_type": "code",
   "execution_count": 4,
   "metadata": {},
   "outputs": [],
   "source": [
    "airport = pd.read_csv(\"Airports2.csv\")"
   ]
  },
  {
   "cell_type": "code",
   "execution_count": 8,
   "metadata": {},
   "outputs": [
    {
     "data": {
      "text/plain": [
       "Index(['Origin_airport', 'Destination_airport', 'Origin_city',\n",
       "       'Destination_city', 'Passengers', 'Seats', 'Flights', 'Distance',\n",
       "       'Fly_date', 'Origin_population', 'Destination_population',\n",
       "       'Org_airport_lat', 'Org_airport_long', 'Dest_airport_lat',\n",
       "       'Dest_airport_long'],\n",
       "      dtype='object')"
      ]
     },
     "execution_count": 8,
     "metadata": {},
     "output_type": "execute_result"
    }
   ],
   "source": [
    "airport.columns"
   ]
  },
  {
   "cell_type": "code",
   "execution_count": 16,
   "metadata": {},
   "outputs": [
    {
     "data": {
      "text/html": [
       "<div>\n",
       "<style scoped>\n",
       "    .dataframe tbody tr th:only-of-type {\n",
       "        vertical-align: middle;\n",
       "    }\n",
       "\n",
       "    .dataframe tbody tr th {\n",
       "        vertical-align: top;\n",
       "    }\n",
       "\n",
       "    .dataframe thead th {\n",
       "        text-align: right;\n",
       "    }\n",
       "</style>\n",
       "<table border=\"1\" class=\"dataframe\">\n",
       "  <thead>\n",
       "    <tr style=\"text-align: right;\">\n",
       "      <th></th>\n",
       "      <th>Origin_airport</th>\n",
       "      <th>Destination_airport</th>\n",
       "      <th>Origin_city</th>\n",
       "      <th>Destination_city</th>\n",
       "      <th>Passengers</th>\n",
       "      <th>Seats</th>\n",
       "      <th>Flights</th>\n",
       "      <th>Distance</th>\n",
       "      <th>Fly_date</th>\n",
       "      <th>Origin_population</th>\n",
       "      <th>Destination_population</th>\n",
       "      <th>Org_airport_lat</th>\n",
       "      <th>Org_airport_long</th>\n",
       "      <th>Dest_airport_lat</th>\n",
       "      <th>Dest_airport_long</th>\n",
       "      <th>Origin_state</th>\n",
       "      <th>Destination_state</th>\n",
       "    </tr>\n",
       "  </thead>\n",
       "  <tbody>\n",
       "    <tr>\n",
       "      <th>0</th>\n",
       "      <td>MHK</td>\n",
       "      <td>AMW</td>\n",
       "      <td>Manhattan, KS</td>\n",
       "      <td>Ames, IA</td>\n",
       "      <td>21</td>\n",
       "      <td>30</td>\n",
       "      <td>1</td>\n",
       "      <td>254</td>\n",
       "      <td>2008-10-01</td>\n",
       "      <td>122049</td>\n",
       "      <td>86219</td>\n",
       "      <td>39.140999</td>\n",
       "      <td>-96.670799</td>\n",
       "      <td>NaN</td>\n",
       "      <td>NaN</td>\n",
       "      <td>KS</td>\n",
       "      <td>IA</td>\n",
       "    </tr>\n",
       "    <tr>\n",
       "      <th>636</th>\n",
       "      <td>SEA</td>\n",
       "      <td>RDM</td>\n",
       "      <td>Seattle, WA</td>\n",
       "      <td>Bend, OR</td>\n",
       "      <td>2023</td>\n",
       "      <td>4144</td>\n",
       "      <td>112</td>\n",
       "      <td>228</td>\n",
       "      <td>2000-01-01</td>\n",
       "      <td>6104758</td>\n",
       "      <td>116618</td>\n",
       "      <td>47.449001</td>\n",
       "      <td>-122.308998</td>\n",
       "      <td>44.254101</td>\n",
       "      <td>-121.150001</td>\n",
       "      <td>WA</td>\n",
       "      <td>OR</td>\n",
       "    </tr>\n",
       "    <tr>\n",
       "      <th>637</th>\n",
       "      <td>SEA</td>\n",
       "      <td>RDM</td>\n",
       "      <td>Seattle, WA</td>\n",
       "      <td>Bend, OR</td>\n",
       "      <td>2995</td>\n",
       "      <td>4699</td>\n",
       "      <td>127</td>\n",
       "      <td>228</td>\n",
       "      <td>2000-12-01</td>\n",
       "      <td>6104758</td>\n",
       "      <td>116618</td>\n",
       "      <td>47.449001</td>\n",
       "      <td>-122.308998</td>\n",
       "      <td>44.254101</td>\n",
       "      <td>-121.150001</td>\n",
       "      <td>WA</td>\n",
       "      <td>OR</td>\n",
       "    </tr>\n",
       "    <tr>\n",
       "      <th>638</th>\n",
       "      <td>SEA</td>\n",
       "      <td>RDM</td>\n",
       "      <td>Seattle, WA</td>\n",
       "      <td>Bend, OR</td>\n",
       "      <td>3134</td>\n",
       "      <td>5328</td>\n",
       "      <td>144</td>\n",
       "      <td>228</td>\n",
       "      <td>2000-09-01</td>\n",
       "      <td>6104758</td>\n",
       "      <td>116618</td>\n",
       "      <td>47.449001</td>\n",
       "      <td>-122.308998</td>\n",
       "      <td>44.254101</td>\n",
       "      <td>-121.150001</td>\n",
       "      <td>WA</td>\n",
       "      <td>OR</td>\n",
       "    </tr>\n",
       "    <tr>\n",
       "      <th>639</th>\n",
       "      <td>SEA</td>\n",
       "      <td>RDM</td>\n",
       "      <td>Seattle, WA</td>\n",
       "      <td>Bend, OR</td>\n",
       "      <td>3420</td>\n",
       "      <td>5328</td>\n",
       "      <td>144</td>\n",
       "      <td>228</td>\n",
       "      <td>2000-06-01</td>\n",
       "      <td>6104758</td>\n",
       "      <td>116618</td>\n",
       "      <td>47.449001</td>\n",
       "      <td>-122.308998</td>\n",
       "      <td>44.254101</td>\n",
       "      <td>-121.150001</td>\n",
       "      <td>WA</td>\n",
       "      <td>OR</td>\n",
       "    </tr>\n",
       "  </tbody>\n",
       "</table>\n",
       "</div>"
      ],
      "text/plain": [
       "    Origin_airport Destination_airport    Origin_city Destination_city  \\\n",
       "0              MHK                 AMW  Manhattan, KS         Ames, IA   \n",
       "636            SEA                 RDM    Seattle, WA         Bend, OR   \n",
       "637            SEA                 RDM    Seattle, WA         Bend, OR   \n",
       "638            SEA                 RDM    Seattle, WA         Bend, OR   \n",
       "639            SEA                 RDM    Seattle, WA         Bend, OR   \n",
       "\n",
       "     Passengers  Seats  Flights  Distance    Fly_date  Origin_population  \\\n",
       "0            21     30        1       254  2008-10-01             122049   \n",
       "636        2023   4144      112       228  2000-01-01            6104758   \n",
       "637        2995   4699      127       228  2000-12-01            6104758   \n",
       "638        3134   5328      144       228  2000-09-01            6104758   \n",
       "639        3420   5328      144       228  2000-06-01            6104758   \n",
       "\n",
       "     Destination_population  Org_airport_lat  Org_airport_long  \\\n",
       "0                     86219        39.140999        -96.670799   \n",
       "636                  116618        47.449001       -122.308998   \n",
       "637                  116618        47.449001       -122.308998   \n",
       "638                  116618        47.449001       -122.308998   \n",
       "639                  116618        47.449001       -122.308998   \n",
       "\n",
       "     Dest_airport_lat  Dest_airport_long Origin_state Destination_state  \n",
       "0                 NaN                NaN           KS                IA  \n",
       "636         44.254101        -121.150001           WA                OR  \n",
       "637         44.254101        -121.150001           WA                OR  \n",
       "638         44.254101        -121.150001           WA                OR  \n",
       "639         44.254101        -121.150001           WA                OR  "
      ]
     },
     "execution_count": 16,
     "metadata": {},
     "output_type": "execute_result"
    }
   ],
   "source": [
    "data.head()"
   ]
  },
  {
   "cell_type": "markdown",
   "metadata": {},
   "source": [
    "### Feature engineering\n",
    "We are only interested in data from 2000 till 2009."
   ]
  },
  {
   "cell_type": "code",
   "execution_count": 93,
   "metadata": {},
   "outputs": [],
   "source": [
    "data = airport[airport[\"Fly_date\"] >= '2000-01-01']"
   ]
  },
  {
   "cell_type": "code",
   "execution_count": 11,
   "metadata": {},
   "outputs": [
    {
     "data": {
      "text/plain": [
       "2122293"
      ]
     },
     "execution_count": 11,
     "metadata": {},
     "output_type": "execute_result"
    }
   ],
   "source": [
    "len(data)"
   ]
  },
  {
   "cell_type": "code",
   "execution_count": 22,
   "metadata": {},
   "outputs": [
    {
     "data": {
      "text/plain": [
       "759"
      ]
     },
     "execution_count": 22,
     "metadata": {},
     "output_type": "execute_result"
    }
   ],
   "source": [
    "len(data[['Origin_state', 'Passengers']].drop_duplicates())"
   ]
  },
  {
   "cell_type": "code",
   "execution_count": 94,
   "metadata": {},
   "outputs": [
    {
     "name": "stderr",
     "output_type": "stream",
     "text": [
      "/Users/leesa/anaconda/envs/fv/lib/python3.6/site-packages/ipykernel_launcher.py:1: SettingWithCopyWarning:\n",
      "\n",
      "\n",
      "A value is trying to be set on a copy of a slice from a DataFrame.\n",
      "Try using .loc[row_indexer,col_indexer] = value instead\n",
      "\n",
      "See the caveats in the documentation: http://pandas.pydata.org/pandas-docs/stable/indexing.html#indexing-view-versus-copy\n",
      "\n",
      "/Users/leesa/anaconda/envs/fv/lib/python3.6/site-packages/ipykernel_launcher.py:2: SettingWithCopyWarning:\n",
      "\n",
      "\n",
      "A value is trying to be set on a copy of a slice from a DataFrame.\n",
      "Try using .loc[row_indexer,col_indexer] = value instead\n",
      "\n",
      "See the caveats in the documentation: http://pandas.pydata.org/pandas-docs/stable/indexing.html#indexing-view-versus-copy\n",
      "\n",
      "/Users/leesa/anaconda/envs/fv/lib/python3.6/site-packages/ipykernel_launcher.py:3: SettingWithCopyWarning:\n",
      "\n",
      "\n",
      "A value is trying to be set on a copy of a slice from a DataFrame.\n",
      "Try using .loc[row_indexer,col_indexer] = value instead\n",
      "\n",
      "See the caveats in the documentation: http://pandas.pydata.org/pandas-docs/stable/indexing.html#indexing-view-versus-copy\n",
      "\n",
      "/Users/leesa/anaconda/envs/fv/lib/python3.6/site-packages/ipykernel_launcher.py:4: SettingWithCopyWarning:\n",
      "\n",
      "\n",
      "A value is trying to be set on a copy of a slice from a DataFrame.\n",
      "Try using .loc[row_indexer,col_indexer] = value instead\n",
      "\n",
      "See the caveats in the documentation: http://pandas.pydata.org/pandas-docs/stable/indexing.html#indexing-view-versus-copy\n",
      "\n"
     ]
    }
   ],
   "source": [
    "data['Origin_state'] = data['Origin_city'].apply(lambda x: x.split(',')[1].strip(' '))\n",
    "data['Destination_state'] = data['Destination_city'].apply(lambda x: x.split(',')[1].strip(' '))\n",
    "data['Year'] = data['Fly_date'].apply(lambda x: x.split('-')[0].strip(' '))\n",
    "data['Month'] = data['Fly_date'].apply(lambda x: x.split('-')[1].strip(' '))"
   ]
  },
  {
   "cell_type": "markdown",
   "metadata": {},
   "source": [
    "Let's have a look at the average daily passengers from each state in 2009."
   ]
  },
  {
   "cell_type": "code",
   "execution_count": 78,
   "metadata": {},
   "outputs": [
    {
     "data": {
      "text/html": [
       "<div>\n",
       "<style scoped>\n",
       "    .dataframe tbody tr th:only-of-type {\n",
       "        vertical-align: middle;\n",
       "    }\n",
       "\n",
       "    .dataframe tbody tr th {\n",
       "        vertical-align: top;\n",
       "    }\n",
       "\n",
       "    .dataframe thead th {\n",
       "        text-align: right;\n",
       "    }\n",
       "</style>\n",
       "<table border=\"1\" class=\"dataframe\">\n",
       "  <thead>\n",
       "    <tr style=\"text-align: right;\">\n",
       "      <th></th>\n",
       "      <th>Origin_state</th>\n",
       "      <th>Fly_date</th>\n",
       "      <th>Passengers</th>\n",
       "    </tr>\n",
       "  </thead>\n",
       "  <tbody>\n",
       "    <tr>\n",
       "      <th>0</th>\n",
       "      <td>AK</td>\n",
       "      <td>2009-01-01</td>\n",
       "      <td>154555</td>\n",
       "    </tr>\n",
       "    <tr>\n",
       "      <th>1</th>\n",
       "      <td>AK</td>\n",
       "      <td>2009-02-01</td>\n",
       "      <td>141812</td>\n",
       "    </tr>\n",
       "    <tr>\n",
       "      <th>2</th>\n",
       "      <td>AK</td>\n",
       "      <td>2009-03-01</td>\n",
       "      <td>170902</td>\n",
       "    </tr>\n",
       "    <tr>\n",
       "      <th>3</th>\n",
       "      <td>AK</td>\n",
       "      <td>2009-04-01</td>\n",
       "      <td>154018</td>\n",
       "    </tr>\n",
       "    <tr>\n",
       "      <th>4</th>\n",
       "      <td>AK</td>\n",
       "      <td>2009-05-01</td>\n",
       "      <td>196890</td>\n",
       "    </tr>\n",
       "  </tbody>\n",
       "</table>\n",
       "</div>"
      ],
      "text/plain": [
       "  Origin_state    Fly_date  Passengers\n",
       "0           AK  2009-01-01      154555\n",
       "1           AK  2009-02-01      141812\n",
       "2           AK  2009-03-01      170902\n",
       "3           AK  2009-04-01      154018\n",
       "4           AK  2009-05-01      196890"
      ]
     },
     "execution_count": 78,
     "metadata": {},
     "output_type": "execute_result"
    }
   ],
   "source": [
    "df = data[data[\"Fly_date\"] >= '2009-01-01']\n",
    "df = df[['Origin_state', 'Passengers', 'Fly_date']]\n",
    "df = df.groupby(['Origin_state', 'Fly_date'])['Passengers'].sum().reset_index()\n",
    "df.head()"
   ]
  },
  {
   "cell_type": "code",
   "execution_count": 84,
   "metadata": {},
   "outputs": [
    {
     "data": {
      "text/html": [
       "<div>\n",
       "<style scoped>\n",
       "    .dataframe tbody tr th:only-of-type {\n",
       "        vertical-align: middle;\n",
       "    }\n",
       "\n",
       "    .dataframe tbody tr th {\n",
       "        vertical-align: top;\n",
       "    }\n",
       "\n",
       "    .dataframe thead th {\n",
       "        text-align: right;\n",
       "    }\n",
       "</style>\n",
       "<table border=\"1\" class=\"dataframe\">\n",
       "  <thead>\n",
       "    <tr style=\"text-align: right;\">\n",
       "      <th></th>\n",
       "      <th>Origin_state</th>\n",
       "      <th>Passengers</th>\n",
       "    </tr>\n",
       "  </thead>\n",
       "  <tbody>\n",
       "    <tr>\n",
       "      <th>0</th>\n",
       "      <td>AK</td>\n",
       "      <td>2.084442e+05</td>\n",
       "    </tr>\n",
       "    <tr>\n",
       "      <th>1</th>\n",
       "      <td>AL</td>\n",
       "      <td>2.115337e+05</td>\n",
       "    </tr>\n",
       "    <tr>\n",
       "      <th>2</th>\n",
       "      <td>AR</td>\n",
       "      <td>1.436639e+05</td>\n",
       "    </tr>\n",
       "    <tr>\n",
       "      <th>3</th>\n",
       "      <td>AZ</td>\n",
       "      <td>1.532344e+06</td>\n",
       "    </tr>\n",
       "    <tr>\n",
       "      <th>4</th>\n",
       "      <td>CA</td>\n",
       "      <td>4.685130e+06</td>\n",
       "    </tr>\n",
       "  </tbody>\n",
       "</table>\n",
       "</div>"
      ],
      "text/plain": [
       "  Origin_state    Passengers\n",
       "0           AK  2.084442e+05\n",
       "1           AL  2.115337e+05\n",
       "2           AR  1.436639e+05\n",
       "3           AZ  1.532344e+06\n",
       "4           CA  4.685130e+06"
      ]
     },
     "execution_count": 84,
     "metadata": {},
     "output_type": "execute_result"
    }
   ],
   "source": [
    "df = df.groupby(['Origin_state'])['Passengers'].mean().reset_index()\n",
    "df.head()"
   ]
  },
  {
   "cell_type": "code",
   "execution_count": 85,
   "metadata": {},
   "outputs": [
    {
     "data": {
      "application/vnd.plotly.v1+json": {
       "data": [
        {
         "autocolorscale": false,
         "colorbar": {
          "title": "Avg passengers"
         },
         "colorscale": [
          [
           0,
           "rgb(242,240,247)"
          ],
          [
           0.2,
           "rgb(218,218,235)"
          ],
          [
           0.4,
           "rgb(188,189,220)"
          ],
          [
           0.6,
           "rgb(158,154,200)"
          ],
          [
           0.8,
           "rgb(117,107,177)"
          ],
          [
           1,
           "rgb(84,39,143)"
          ]
         ],
         "locationmode": "USA-states",
         "locations": [
          "AK",
          "AL",
          "AR",
          "AZ",
          "CA",
          "CO",
          "CT",
          "DC",
          "DE",
          "FL",
          "GA",
          "HI",
          "IA",
          "ID",
          "IL",
          "IN",
          "KS",
          "KY",
          "LA",
          "MA",
          "MD",
          "ME",
          "MI",
          "MN",
          "MO",
          "MS",
          "MT",
          "NC",
          "ND",
          "NE",
          "NH",
          "NJ",
          "NM",
          "NV",
          "NY",
          "OH",
          "OK",
          "OR",
          "PA",
          "RI",
          "SC",
          "SD",
          "TN",
          "TX",
          "UT",
          "VA",
          "VT",
          "WA",
          "WI",
          "WV",
          "WY"
         ],
         "marker": {
          "line": {
           "color": "rgb(255,255,255)",
           "width": 2
          }
         },
         "text": [
          "AK<br>Passengers 208444.25",
          "AL<br>Passengers 211533.66666666666",
          "AR<br>Passengers 143663.91666666666",
          "AZ<br>Passengers 1532344.0",
          "CA<br>Passengers 4685129.75",
          "CO<br>Passengers 70114.33333333333",
          "CT<br>Passengers 215315.58333333334",
          "DC<br>Passengers 1296668.4166666667",
          "DE<br>Passengers 63.333333333333336",
          "FL<br>Passengers 3722350.8333333335",
          "GA<br>Passengers 2964298.1666666665",
          "HI<br>Passengers 678763.0",
          "IA<br>Passengers 104689.25",
          "ID<br>Passengers 17831.666666666668",
          "IL<br>Passengers 2746452.5",
          "IN<br>Passengers 340488.3333333333",
          "KS<br>Passengers 52459.583333333336",
          "KY<br>Passengers 38681.5",
          "LA<br>Passengers 412075.3333333333",
          "MA<br>Passengers 840728.75",
          "MD<br>Passengers 798711.0",
          "ME<br>Passengers 89855.08333333333",
          "MI<br>Passengers 1251693.6666666667",
          "MN<br>Passengers 1146020.8333333333",
          "MO<br>Passengers 921726.5",
          "MS<br>Passengers 94771.0",
          "MT<br>Passengers 92805.75",
          "NC<br>Passengers 1785418.5",
          "ND<br>Passengers 48955.333333333336",
          "NE<br>Passengers 149378.75",
          "NH<br>Passengers 131036.25",
          "NJ<br>Passengers 920887.5833333334",
          "NM<br>Passengers 243724.91666666666",
          "NV<br>Passengers 1543962.75",
          "NY<br>Passengers 2288218.5",
          "OH<br>Passengers 1158569.5",
          "OK<br>Passengers 235994.16666666666",
          "OR<br>Passengers 519071.8333333333",
          "PA<br>Passengers 1464608.0833333333",
          "RI<br>Passengers 178563.0",
          "SC<br>Passengers 250657.5",
          "SD<br>Passengers 38500.083333333336",
          "TN<br>Passengers 841628.9166666666",
          "TX<br>Passengers 4755373.666666667",
          "UT<br>Passengers 708896.75",
          "VA<br>Passengers 184490.58333333334",
          "VT<br>Passengers 58550.416666666664",
          "WA<br>Passengers 1193027.8333333333",
          "WI<br>Passengers 438855.0833333333",
          "WV<br>Passengers 22350.5",
          "WY<br>Passengers 20091.916666666668"
         ],
         "type": "choropleth",
         "z": [
          208444.25,
          211533.66666666666,
          143663.91666666666,
          1532344,
          4685129.75,
          70114.33333333333,
          215315.58333333334,
          1296668.4166666667,
          63.333333333333336,
          3722350.8333333335,
          2964298.1666666665,
          678763,
          104689.25,
          17831.666666666668,
          2746452.5,
          340488.3333333333,
          52459.583333333336,
          38681.5,
          412075.3333333333,
          840728.75,
          798711,
          89855.08333333333,
          1251693.6666666667,
          1146020.8333333333,
          921726.5,
          94771,
          92805.75,
          1785418.5,
          48955.333333333336,
          149378.75,
          131036.25,
          920887.5833333334,
          243724.91666666666,
          1543962.75,
          2288218.5,
          1158569.5,
          235994.16666666666,
          519071.8333333333,
          1464608.0833333333,
          178563,
          250657.5,
          38500.083333333336,
          841628.9166666666,
          4755373.666666667,
          708896.75,
          184490.58333333334,
          58550.416666666664,
          1193027.8333333333,
          438855.0833333333,
          22350.5,
          20091.916666666668
         ]
        }
       ],
       "layout": {
        "geo": {
         "lakecolor": "rgb(255, 255, 255)",
         "projection": {
          "type": "albers usa"
         },
         "scope": "usa",
         "showlakes": true
        },
        "title": "2009 Average passengers by State<br>(Hover for breakdown)"
       }
      },
      "text/html": [
       "<div id=\"5bf199c7-8e82-4d24-a620-a757d7187516\" style=\"height: 525px; width: 100%;\" class=\"plotly-graph-div\"></div><script type=\"text/javascript\">require([\"plotly\"], function(Plotly) { window.PLOTLYENV=window.PLOTLYENV || {};window.PLOTLYENV.BASE_URL=\"https://plot.ly\";Plotly.newPlot(\"5bf199c7-8e82-4d24-a620-a757d7187516\", [{\"type\": \"choropleth\", \"colorscale\": [[0.0, \"rgb(242,240,247)\"], [0.2, \"rgb(218,218,235)\"], [0.4, \"rgb(188,189,220)\"], [0.6, \"rgb(158,154,200)\"], [0.8, \"rgb(117,107,177)\"], [1.0, \"rgb(84,39,143)\"]], \"autocolorscale\": false, \"locations\": [\"AK\", \"AL\", \"AR\", \"AZ\", \"CA\", \"CO\", \"CT\", \"DC\", \"DE\", \"FL\", \"GA\", \"HI\", \"IA\", \"ID\", \"IL\", \"IN\", \"KS\", \"KY\", \"LA\", \"MA\", \"MD\", \"ME\", \"MI\", \"MN\", \"MO\", \"MS\", \"MT\", \"NC\", \"ND\", \"NE\", \"NH\", \"NJ\", \"NM\", \"NV\", \"NY\", \"OH\", \"OK\", \"OR\", \"PA\", \"RI\", \"SC\", \"SD\", \"TN\", \"TX\", \"UT\", \"VA\", \"VT\", \"WA\", \"WI\", \"WV\", \"WY\"], \"z\": [208444.25, 211533.66666666666, 143663.91666666666, 1532344.0, 4685129.75, 70114.33333333333, 215315.58333333334, 1296668.4166666667, 63.333333333333336, 3722350.8333333335, 2964298.1666666665, 678763.0, 104689.25, 17831.666666666668, 2746452.5, 340488.3333333333, 52459.583333333336, 38681.5, 412075.3333333333, 840728.75, 798711.0, 89855.08333333333, 1251693.6666666667, 1146020.8333333333, 921726.5, 94771.0, 92805.75, 1785418.5, 48955.333333333336, 149378.75, 131036.25, 920887.5833333334, 243724.91666666666, 1543962.75, 2288218.5, 1158569.5, 235994.16666666666, 519071.8333333333, 1464608.0833333333, 178563.0, 250657.5, 38500.083333333336, 841628.9166666666, 4755373.666666667, 708896.75, 184490.58333333334, 58550.416666666664, 1193027.8333333333, 438855.0833333333, 22350.5, 20091.916666666668], \"locationmode\": \"USA-states\", \"text\": [\"AK<br>Passengers 208444.25\", \"AL<br>Passengers 211533.66666666666\", \"AR<br>Passengers 143663.91666666666\", \"AZ<br>Passengers 1532344.0\", \"CA<br>Passengers 4685129.75\", \"CO<br>Passengers 70114.33333333333\", \"CT<br>Passengers 215315.58333333334\", \"DC<br>Passengers 1296668.4166666667\", \"DE<br>Passengers 63.333333333333336\", \"FL<br>Passengers 3722350.8333333335\", \"GA<br>Passengers 2964298.1666666665\", \"HI<br>Passengers 678763.0\", \"IA<br>Passengers 104689.25\", \"ID<br>Passengers 17831.666666666668\", \"IL<br>Passengers 2746452.5\", \"IN<br>Passengers 340488.3333333333\", \"KS<br>Passengers 52459.583333333336\", \"KY<br>Passengers 38681.5\", \"LA<br>Passengers 412075.3333333333\", \"MA<br>Passengers 840728.75\", \"MD<br>Passengers 798711.0\", \"ME<br>Passengers 89855.08333333333\", \"MI<br>Passengers 1251693.6666666667\", \"MN<br>Passengers 1146020.8333333333\", \"MO<br>Passengers 921726.5\", \"MS<br>Passengers 94771.0\", \"MT<br>Passengers 92805.75\", \"NC<br>Passengers 1785418.5\", \"ND<br>Passengers 48955.333333333336\", \"NE<br>Passengers 149378.75\", \"NH<br>Passengers 131036.25\", \"NJ<br>Passengers 920887.5833333334\", \"NM<br>Passengers 243724.91666666666\", \"NV<br>Passengers 1543962.75\", \"NY<br>Passengers 2288218.5\", \"OH<br>Passengers 1158569.5\", \"OK<br>Passengers 235994.16666666666\", \"OR<br>Passengers 519071.8333333333\", \"PA<br>Passengers 1464608.0833333333\", \"RI<br>Passengers 178563.0\", \"SC<br>Passengers 250657.5\", \"SD<br>Passengers 38500.083333333336\", \"TN<br>Passengers 841628.9166666666\", \"TX<br>Passengers 4755373.666666667\", \"UT<br>Passengers 708896.75\", \"VA<br>Passengers 184490.58333333334\", \"VT<br>Passengers 58550.416666666664\", \"WA<br>Passengers 1193027.8333333333\", \"WI<br>Passengers 438855.0833333333\", \"WV<br>Passengers 22350.5\", \"WY<br>Passengers 20091.916666666668\"], \"marker\": {\"line\": {\"color\": \"rgb(255,255,255)\", \"width\": 2}}, \"colorbar\": {\"title\": \"Avg passengers\"}}], {\"title\": \"2009 Average passengers by State<br>(Hover for breakdown)\", \"geo\": {\"scope\": \"usa\", \"projection\": {\"type\": \"albers usa\"}, \"showlakes\": true, \"lakecolor\": \"rgb(255, 255, 255)\"}}, {\"showLink\": true, \"linkText\": \"Export to plot.ly\"})});</script>"
      ],
      "text/vnd.plotly.v1+html": [
       "<div id=\"5bf199c7-8e82-4d24-a620-a757d7187516\" style=\"height: 525px; width: 100%;\" class=\"plotly-graph-div\"></div><script type=\"text/javascript\">require([\"plotly\"], function(Plotly) { window.PLOTLYENV=window.PLOTLYENV || {};window.PLOTLYENV.BASE_URL=\"https://plot.ly\";Plotly.newPlot(\"5bf199c7-8e82-4d24-a620-a757d7187516\", [{\"type\": \"choropleth\", \"colorscale\": [[0.0, \"rgb(242,240,247)\"], [0.2, \"rgb(218,218,235)\"], [0.4, \"rgb(188,189,220)\"], [0.6, \"rgb(158,154,200)\"], [0.8, \"rgb(117,107,177)\"], [1.0, \"rgb(84,39,143)\"]], \"autocolorscale\": false, \"locations\": [\"AK\", \"AL\", \"AR\", \"AZ\", \"CA\", \"CO\", \"CT\", \"DC\", \"DE\", \"FL\", \"GA\", \"HI\", \"IA\", \"ID\", \"IL\", \"IN\", \"KS\", \"KY\", \"LA\", \"MA\", \"MD\", \"ME\", \"MI\", \"MN\", \"MO\", \"MS\", \"MT\", \"NC\", \"ND\", \"NE\", \"NH\", \"NJ\", \"NM\", \"NV\", \"NY\", \"OH\", \"OK\", \"OR\", \"PA\", \"RI\", \"SC\", \"SD\", \"TN\", \"TX\", \"UT\", \"VA\", \"VT\", \"WA\", \"WI\", \"WV\", \"WY\"], \"z\": [208444.25, 211533.66666666666, 143663.91666666666, 1532344.0, 4685129.75, 70114.33333333333, 215315.58333333334, 1296668.4166666667, 63.333333333333336, 3722350.8333333335, 2964298.1666666665, 678763.0, 104689.25, 17831.666666666668, 2746452.5, 340488.3333333333, 52459.583333333336, 38681.5, 412075.3333333333, 840728.75, 798711.0, 89855.08333333333, 1251693.6666666667, 1146020.8333333333, 921726.5, 94771.0, 92805.75, 1785418.5, 48955.333333333336, 149378.75, 131036.25, 920887.5833333334, 243724.91666666666, 1543962.75, 2288218.5, 1158569.5, 235994.16666666666, 519071.8333333333, 1464608.0833333333, 178563.0, 250657.5, 38500.083333333336, 841628.9166666666, 4755373.666666667, 708896.75, 184490.58333333334, 58550.416666666664, 1193027.8333333333, 438855.0833333333, 22350.5, 20091.916666666668], \"locationmode\": \"USA-states\", \"text\": [\"AK<br>Passengers 208444.25\", \"AL<br>Passengers 211533.66666666666\", \"AR<br>Passengers 143663.91666666666\", \"AZ<br>Passengers 1532344.0\", \"CA<br>Passengers 4685129.75\", \"CO<br>Passengers 70114.33333333333\", \"CT<br>Passengers 215315.58333333334\", \"DC<br>Passengers 1296668.4166666667\", \"DE<br>Passengers 63.333333333333336\", \"FL<br>Passengers 3722350.8333333335\", \"GA<br>Passengers 2964298.1666666665\", \"HI<br>Passengers 678763.0\", \"IA<br>Passengers 104689.25\", \"ID<br>Passengers 17831.666666666668\", \"IL<br>Passengers 2746452.5\", \"IN<br>Passengers 340488.3333333333\", \"KS<br>Passengers 52459.583333333336\", \"KY<br>Passengers 38681.5\", \"LA<br>Passengers 412075.3333333333\", \"MA<br>Passengers 840728.75\", \"MD<br>Passengers 798711.0\", \"ME<br>Passengers 89855.08333333333\", \"MI<br>Passengers 1251693.6666666667\", \"MN<br>Passengers 1146020.8333333333\", \"MO<br>Passengers 921726.5\", \"MS<br>Passengers 94771.0\", \"MT<br>Passengers 92805.75\", \"NC<br>Passengers 1785418.5\", \"ND<br>Passengers 48955.333333333336\", \"NE<br>Passengers 149378.75\", \"NH<br>Passengers 131036.25\", \"NJ<br>Passengers 920887.5833333334\", \"NM<br>Passengers 243724.91666666666\", \"NV<br>Passengers 1543962.75\", \"NY<br>Passengers 2288218.5\", \"OH<br>Passengers 1158569.5\", \"OK<br>Passengers 235994.16666666666\", \"OR<br>Passengers 519071.8333333333\", \"PA<br>Passengers 1464608.0833333333\", \"RI<br>Passengers 178563.0\", \"SC<br>Passengers 250657.5\", \"SD<br>Passengers 38500.083333333336\", \"TN<br>Passengers 841628.9166666666\", \"TX<br>Passengers 4755373.666666667\", \"UT<br>Passengers 708896.75\", \"VA<br>Passengers 184490.58333333334\", \"VT<br>Passengers 58550.416666666664\", \"WA<br>Passengers 1193027.8333333333\", \"WI<br>Passengers 438855.0833333333\", \"WV<br>Passengers 22350.5\", \"WY<br>Passengers 20091.916666666668\"], \"marker\": {\"line\": {\"color\": \"rgb(255,255,255)\", \"width\": 2}}, \"colorbar\": {\"title\": \"Avg passengers\"}}], {\"title\": \"2009 Average passengers by State<br>(Hover for breakdown)\", \"geo\": {\"scope\": \"usa\", \"projection\": {\"type\": \"albers usa\"}, \"showlakes\": true, \"lakecolor\": \"rgb(255, 255, 255)\"}}, {\"showLink\": true, \"linkText\": \"Export to plot.ly\"})});</script>"
      ]
     },
     "metadata": {},
     "output_type": "display_data"
    }
   ],
   "source": [
    "for col in df.columns:\n",
    "    df[col] = df[col].astype(str)\n",
    "\n",
    "scl = [[0.0, 'rgb(242,240,247)'],[0.2, 'rgb(218,218,235)'],[0.4, 'rgb(188,189,220)'],\\\n",
    "            [0.6, 'rgb(158,154,200)'],[0.8, 'rgb(117,107,177)'],[1.0, 'rgb(84,39,143)']]\n",
    "\n",
    "df['text'] = df['Origin_state'] + '<br>' +\\\n",
    "    'Passengers '+ df['Passengers']\n",
    "\n",
    "data = [ dict(\n",
    "        type='choropleth',\n",
    "        colorscale = scl,\n",
    "        autocolorscale = False,\n",
    "        locations = df['Origin_state'],\n",
    "        z = df['Passengers'].astype(float),\n",
    "        locationmode = 'USA-states',\n",
    "        text = df['text'],\n",
    "        marker = dict(\n",
    "            line = dict (\n",
    "                color = 'rgb(255,255,255)',\n",
    "                width = 2\n",
    "            ) ),\n",
    "        colorbar = dict(\n",
    "            title = \"Avg passengers\")\n",
    "        ) ]\n",
    "\n",
    "layout = dict(\n",
    "        title = '2009 Average passengers by State<br>(Hover for breakdown)',\n",
    "        geo = dict(\n",
    "            scope='usa',\n",
    "            projection=dict( type='albers usa' ),\n",
    "            showlakes = True,\n",
    "            lakecolor = 'rgb(255, 255, 255)'),\n",
    "             )\n",
    "    \n",
    "fig = dict(data=data, layout=layout)\n",
    "\n",
    "iplot(fig)"
   ]
  },
  {
   "cell_type": "markdown",
   "metadata": {},
   "source": [
    "It seems there are a lot of passengers from California and Texas travelling to other states.  \n",
    "Now lets have a look at the change in average air passengers across the years for these two states."
   ]
  },
  {
   "cell_type": "code",
   "execution_count": 90,
   "metadata": {},
   "outputs": [
    {
     "data": {
      "text/html": [
       "<div>\n",
       "<style scoped>\n",
       "    .dataframe tbody tr th:only-of-type {\n",
       "        vertical-align: middle;\n",
       "    }\n",
       "\n",
       "    .dataframe tbody tr th {\n",
       "        vertical-align: top;\n",
       "    }\n",
       "\n",
       "    .dataframe thead th {\n",
       "        text-align: right;\n",
       "    }\n",
       "</style>\n",
       "<table border=\"1\" class=\"dataframe\">\n",
       "  <thead>\n",
       "    <tr style=\"text-align: right;\">\n",
       "      <th></th>\n",
       "      <th>Origin_state</th>\n",
       "      <th>Year</th>\n",
       "      <th>Passengers</th>\n",
       "    </tr>\n",
       "  </thead>\n",
       "  <tbody>\n",
       "    <tr>\n",
       "      <th>0</th>\n",
       "      <td>AK</td>\n",
       "      <td>2000</td>\n",
       "      <td>197716.333333</td>\n",
       "    </tr>\n",
       "    <tr>\n",
       "      <th>1</th>\n",
       "      <td>AK</td>\n",
       "      <td>2001</td>\n",
       "      <td>197246.083333</td>\n",
       "    </tr>\n",
       "    <tr>\n",
       "      <th>2</th>\n",
       "      <td>AK</td>\n",
       "      <td>2002</td>\n",
       "      <td>208416.416667</td>\n",
       "    </tr>\n",
       "    <tr>\n",
       "      <th>3</th>\n",
       "      <td>AK</td>\n",
       "      <td>2003</td>\n",
       "      <td>205828.083333</td>\n",
       "    </tr>\n",
       "    <tr>\n",
       "      <th>4</th>\n",
       "      <td>AK</td>\n",
       "      <td>2004</td>\n",
       "      <td>221796.333333</td>\n",
       "    </tr>\n",
       "  </tbody>\n",
       "</table>\n",
       "</div>"
      ],
      "text/plain": [
       "  Origin_state  Year     Passengers\n",
       "0           AK  2000  197716.333333\n",
       "1           AK  2001  197246.083333\n",
       "2           AK  2002  208416.416667\n",
       "3           AK  2003  205828.083333\n",
       "4           AK  2004  221796.333333"
      ]
     },
     "execution_count": 90,
     "metadata": {},
     "output_type": "execute_result"
    }
   ],
   "source": [
    "df = data[['Origin_state', 'Passengers', 'Fly_date', 'Year']]\n",
    "df = df.groupby(['Origin_state', 'Fly_date', 'Year'])['Passengers'].sum().reset_index()\n",
    "df = df.groupby(['Origin_state', 'Year'])['Passengers'].mean().reset_index()\n",
    "df.head()"
   ]
  },
  {
   "cell_type": "code",
   "execution_count": 97,
   "metadata": {
    "scrolled": true
   },
   "outputs": [
    {
     "data": {
      "application/vnd.plotly.v1+json": {
       "data": [
        {
         "type": "scatter",
         "x": [
          "2000",
          "2001",
          "2002",
          "2003",
          "2004",
          "2005",
          "2006",
          "2007",
          "2008",
          "2009"
         ],
         "y": [
          5084735.916666667,
          4665582.916666667,
          4415798,
          4547331.333333333,
          4914115.916666667,
          5017435,
          5012470.5,
          5192987.416666667,
          4921481.75,
          4685129.75
         ]
        },
        {
         "type": "scatter",
         "x": [
          "2000",
          "2001",
          "2002",
          "2003",
          "2004",
          "2005",
          "2006",
          "2007",
          "2008",
          "2009"
         ],
         "y": [
          4818128.583333333,
          4475242.166666667,
          4232640.666666667,
          4250168.416666667,
          4631464.583333333,
          4781279.333333333,
          5026353.833333333,
          5125967.416666667,
          4950741.25,
          4755373.666666667
         ]
        }
       ],
       "layout": {}
      },
      "text/html": [
       "<div id=\"ef667c22-bca6-42f3-b164-c7637a3e5ee0\" style=\"height: 525px; width: 100%;\" class=\"plotly-graph-div\"></div><script type=\"text/javascript\">require([\"plotly\"], function(Plotly) { window.PLOTLYENV=window.PLOTLYENV || {};window.PLOTLYENV.BASE_URL=\"https://plot.ly\";Plotly.newPlot(\"ef667c22-bca6-42f3-b164-c7637a3e5ee0\", [{\"type\": \"scatter\", \"x\": [\"2000\", \"2001\", \"2002\", \"2003\", \"2004\", \"2005\", \"2006\", \"2007\", \"2008\", \"2009\"], \"y\": [5084735.916666667, 4665582.916666667, 4415798.0, 4547331.333333333, 4914115.916666667, 5017435.0, 5012470.5, 5192987.416666667, 4921481.75, 4685129.75]}, {\"type\": \"scatter\", \"x\": [\"2000\", \"2001\", \"2002\", \"2003\", \"2004\", \"2005\", \"2006\", \"2007\", \"2008\", \"2009\"], \"y\": [4818128.583333333, 4475242.166666667, 4232640.666666667, 4250168.416666667, 4631464.583333333, 4781279.333333333, 5026353.833333333, 5125967.416666667, 4950741.25, 4755373.666666667]}], {}, {\"showLink\": true, \"linkText\": \"Export to plot.ly\"})});</script>"
      ],
      "text/vnd.plotly.v1+html": [
       "<div id=\"ef667c22-bca6-42f3-b164-c7637a3e5ee0\" style=\"height: 525px; width: 100%;\" class=\"plotly-graph-div\"></div><script type=\"text/javascript\">require([\"plotly\"], function(Plotly) { window.PLOTLYENV=window.PLOTLYENV || {};window.PLOTLYENV.BASE_URL=\"https://plot.ly\";Plotly.newPlot(\"ef667c22-bca6-42f3-b164-c7637a3e5ee0\", [{\"type\": \"scatter\", \"x\": [\"2000\", \"2001\", \"2002\", \"2003\", \"2004\", \"2005\", \"2006\", \"2007\", \"2008\", \"2009\"], \"y\": [5084735.916666667, 4665582.916666667, 4415798.0, 4547331.333333333, 4914115.916666667, 5017435.0, 5012470.5, 5192987.416666667, 4921481.75, 4685129.75]}, {\"type\": \"scatter\", \"x\": [\"2000\", \"2001\", \"2002\", \"2003\", \"2004\", \"2005\", \"2006\", \"2007\", \"2008\", \"2009\"], \"y\": [4818128.583333333, 4475242.166666667, 4232640.666666667, 4250168.416666667, 4631464.583333333, 4781279.333333333, 5026353.833333333, 5125967.416666667, 4950741.25, 4755373.666666667]}], {}, {\"showLink\": true, \"linkText\": \"Export to plot.ly\"})});</script>"
      ]
     },
     "metadata": {},
     "output_type": "display_data"
    }
   ],
   "source": [
    "data1 = go.Scatter(\n",
    "        x=df[df['Origin_state'] == 'CA']['Year'], \n",
    "        y=df[df['Origin_state'] == 'CA']['Passengers']\n",
    "    )\n",
    "\n",
    "data2 = go.Scatter(\n",
    "        x=df[df['Origin_state'] == 'TX']['Year'], \n",
    "        y=df[df['Origin_state'] == 'TX']['Passengers']\n",
    "    )\n",
    "\n",
    "data = [data1, data2]\n",
    "fig = go.Figure(data = data)\n",
    "iplot(fig)"
   ]
  },
  {
   "cell_type": "markdown",
   "metadata": {},
   "source": [
    "For both the states the change is almost similar. The number decreases till 2002 and then increases until 2007 after which it again starts decreasing. This similarity increased our curiosity to check how the overall national average looks like."
   ]
  },
  {
   "cell_type": "code",
   "execution_count": null,
   "metadata": {},
   "outputs": [],
   "source": [
    "df3 = data[['Passengers', 'Fly_date', 'Year']]\n",
    "df3 = df3.groupby(['Fly_date', 'Year'])['Passengers'].sum().reset_index()\n",
    "df3 = df3.groupby(['Year'])['Passengers'].mean().reset_index()\n",
    "df3.head()"
   ]
  },
  {
   "cell_type": "code",
   "execution_count": 98,
   "metadata": {},
   "outputs": [
    {
     "data": {
      "application/vnd.plotly.v1+json": {
       "data": [
        {
         "type": "scatter",
         "x": [
          "2000",
          "2001",
          "2002",
          "2003",
          "2004",
          "2005",
          "2006",
          "2007",
          "2008",
          "2009"
         ],
         "y": [
          44496422.416666664,
          41417474.333333336,
          40502379.166666664,
          42415747.083333336,
          45539118,
          47350614.25,
          47060620.416666664,
          48271457.083333336,
          46249893.25,
          43858492.416666664
         ]
        }
       ],
       "layout": {}
      },
      "text/html": [
       "<div id=\"503ba7b1-e976-4269-9e8f-ba9b313bab38\" style=\"height: 525px; width: 100%;\" class=\"plotly-graph-div\"></div><script type=\"text/javascript\">require([\"plotly\"], function(Plotly) { window.PLOTLYENV=window.PLOTLYENV || {};window.PLOTLYENV.BASE_URL=\"https://plot.ly\";Plotly.newPlot(\"503ba7b1-e976-4269-9e8f-ba9b313bab38\", [{\"type\": \"scatter\", \"x\": [\"2000\", \"2001\", \"2002\", \"2003\", \"2004\", \"2005\", \"2006\", \"2007\", \"2008\", \"2009\"], \"y\": [44496422.416666664, 41417474.333333336, 40502379.166666664, 42415747.083333336, 45539118.0, 47350614.25, 47060620.416666664, 48271457.083333336, 46249893.25, 43858492.416666664]}], {}, {\"showLink\": true, \"linkText\": \"Export to plot.ly\"})});</script>"
      ],
      "text/vnd.plotly.v1+html": [
       "<div id=\"503ba7b1-e976-4269-9e8f-ba9b313bab38\" style=\"height: 525px; width: 100%;\" class=\"plotly-graph-div\"></div><script type=\"text/javascript\">require([\"plotly\"], function(Plotly) { window.PLOTLYENV=window.PLOTLYENV || {};window.PLOTLYENV.BASE_URL=\"https://plot.ly\";Plotly.newPlot(\"503ba7b1-e976-4269-9e8f-ba9b313bab38\", [{\"type\": \"scatter\", \"x\": [\"2000\", \"2001\", \"2002\", \"2003\", \"2004\", \"2005\", \"2006\", \"2007\", \"2008\", \"2009\"], \"y\": [44496422.416666664, 41417474.333333336, 40502379.166666664, 42415747.083333336, 45539118.0, 47350614.25, 47060620.416666664, 48271457.083333336, 46249893.25, 43858492.416666664]}], {}, {\"showLink\": true, \"linkText\": \"Export to plot.ly\"})});</script>"
      ]
     },
     "metadata": {},
     "output_type": "display_data"
    }
   ],
   "source": [
    "data = [go.Scatter(\n",
    "        x=df3['Year'], \n",
    "        y=df3['Passengers']\n",
    "    )]\n",
    "\n",
    "fig = go.Figure(data = data)\n",
    "iplot(fig)"
   ]
  },
  {
   "cell_type": "markdown",
   "metadata": {},
   "source": [
    "To our surprise, the national average follows almost similar trend. This makes us think that there might be some driving factor for this change."
   ]
  },
  {
   "cell_type": "code",
   "execution_count": null,
   "metadata": {},
   "outputs": [],
   "source": []
  }
 ],
 "metadata": {
  "kernelspec": {
   "display_name": "Python 3",
   "language": "python",
   "name": "python3"
  },
  "language_info": {
   "codemirror_mode": {
    "name": "ipython",
    "version": 3
   },
   "file_extension": ".py",
   "mimetype": "text/x-python",
   "name": "python",
   "nbconvert_exporter": "python",
   "pygments_lexer": "ipython3",
   "version": "3.6.4"
  }
 },
 "nbformat": 4,
 "nbformat_minor": 2
}

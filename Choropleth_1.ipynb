{
 "cells": [
  {
   "cell_type": "code",
   "execution_count": 1,
   "metadata": {},
   "outputs": [
    {
     "data": {
      "text/html": [
       "<script>requirejs.config({paths: { 'plotly': ['https://cdn.plot.ly/plotly-latest.min']},});if(!window.Plotly) {{require(['plotly'],function(plotly) {window.Plotly=plotly;});}}</script>"
      ],
      "text/vnd.plotly.v1+html": [
       "<script>requirejs.config({paths: { 'plotly': ['https://cdn.plot.ly/plotly-latest.min']},});if(!window.Plotly) {{require(['plotly'],function(plotly) {window.Plotly=plotly;});}}</script>"
      ]
     },
     "metadata": {},
     "output_type": "display_data"
    }
   ],
   "source": [
    "import pandas as pd\n",
    "import numpy as np\n",
    "from plotly import __version__\n",
    "from plotly.offline import download_plotlyjs, init_notebook_mode, plot, iplot\n",
    "import plotly.plotly as py\n",
    "import plotly.graph_objs as go\n",
    "import pandas as pd\n",
    "from datetime import datetime\n",
    "import pandas_datareader.data as web\n",
    "init_notebook_mode(connected=True)"
   ]
  },
  {
   "cell_type": "code",
   "execution_count": 2,
   "metadata": {
    "collapsed": true
   },
   "outputs": [],
   "source": [
    "data = pd.read_csv(\"/Users/leesa/Downloads/Viz_project/airport.csv\")"
   ]
  },
  {
   "cell_type": "code",
   "execution_count": 3,
   "metadata": {
    "scrolled": true
   },
   "outputs": [],
   "source": [
    "df = data[data[\"Fly_date\"] >= '2009-01-01']\n",
    "df = df[['Origin_state', 'Passengers', 'Fly_date']]\n",
    "df = df.groupby(['Origin_state', 'Fly_date'])['Passengers'].sum().reset_index()"
   ]
  },
  {
   "cell_type": "code",
   "execution_count": null,
   "metadata": {
    "collapsed": true
   },
   "outputs": [],
   "source": []
  },
  {
   "cell_type": "code",
   "execution_count": 11,
   "metadata": {},
   "outputs": [
    {
     "data": {
      "text/html": [
       "<div>\n",
       "<style scoped>\n",
       "    .dataframe tbody tr th:only-of-type {\n",
       "        vertical-align: middle;\n",
       "    }\n",
       "\n",
       "    .dataframe tbody tr th {\n",
       "        vertical-align: top;\n",
       "    }\n",
       "\n",
       "    .dataframe thead th {\n",
       "        text-align: right;\n",
       "    }\n",
       "</style>\n",
       "<table border=\"1\" class=\"dataframe\">\n",
       "  <thead>\n",
       "    <tr style=\"text-align: right;\">\n",
       "      <th></th>\n",
       "      <th>Origin_state</th>\n",
       "      <th>Passengers</th>\n",
       "    </tr>\n",
       "  </thead>\n",
       "  <tbody>\n",
       "    <tr>\n",
       "      <th>0</th>\n",
       "      <td>AK</td>\n",
       "      <td>2.084442e+05</td>\n",
       "    </tr>\n",
       "    <tr>\n",
       "      <th>1</th>\n",
       "      <td>AL</td>\n",
       "      <td>2.115337e+05</td>\n",
       "    </tr>\n",
       "    <tr>\n",
       "      <th>2</th>\n",
       "      <td>AR</td>\n",
       "      <td>1.436639e+05</td>\n",
       "    </tr>\n",
       "    <tr>\n",
       "      <th>3</th>\n",
       "      <td>AZ</td>\n",
       "      <td>1.532344e+06</td>\n",
       "    </tr>\n",
       "    <tr>\n",
       "      <th>4</th>\n",
       "      <td>CA</td>\n",
       "      <td>4.685130e+06</td>\n",
       "    </tr>\n",
       "  </tbody>\n",
       "</table>\n",
       "</div>"
      ],
      "text/plain": [
       "  Origin_state    Passengers\n",
       "0           AK  2.084442e+05\n",
       "1           AL  2.115337e+05\n",
       "2           AR  1.436639e+05\n",
       "3           AZ  1.532344e+06\n",
       "4           CA  4.685130e+06"
      ]
     },
     "execution_count": 11,
     "metadata": {},
     "output_type": "execute_result"
    }
   ],
   "source": [
    "df = data[data[\"Fly_date\"] >= '2009-01-01']\n",
    "df = df[['Origin_state', 'Passengers', 'Fly_date']]\n",
    "df = df.groupby(['Origin_state', 'Fly_date'])['Passengers'].sum().reset_index()\n",
    "df = df.groupby(['Origin_state'])['Passengers'].mean().reset_index()\n",
    "#df.Passengers = [np.log(x) for x in df.Passengers]\n",
    "df.head()"
   ]
  },
  {
   "cell_type": "code",
   "execution_count": 6,
   "metadata": {},
   "outputs": [
    {
     "data": {
      "application/vnd.plotly.v1+json": {
       "data": [
        {
         "autocolorscale": false,
         "colorbar": {
          "title": "Avg passengers"
         },
         "colorscale": [
          [
           0,
           "rgb(242,240,247)"
          ],
          [
           0.2,
           "rgb(218,218,235)"
          ],
          [
           0.4,
           "rgb(188,189,220)"
          ],
          [
           0.6,
           "rgb(158,154,200)"
          ],
          [
           0.8,
           "rgb(117,107,177)"
          ],
          [
           1,
           "rgb(84,39,143)"
          ]
         ],
         "locationmode": "USA-states",
         "locations": [
          "AK",
          "AL",
          "AR",
          "AZ",
          "CA",
          "CO",
          "CT",
          "DC",
          "DE",
          "FL",
          "GA",
          "HI",
          "IA",
          "ID",
          "IL",
          "IN",
          "KS",
          "KY",
          "LA",
          "MA",
          "MD",
          "ME",
          "MI",
          "MN",
          "MO",
          "MS",
          "MT",
          "NC",
          "ND",
          "NE",
          "NH",
          "NJ",
          "NM",
          "NV",
          "NY",
          "OH",
          "OK",
          "OR",
          "PA",
          "RI",
          "SC",
          "SD",
          "TN",
          "TX",
          "UT",
          "VA",
          "VT",
          "WA",
          "WI",
          "WV",
          "WY"
         ],
         "marker": {
          "line": {
           "color": "rgb(255,255,255)",
           "width": 2
          }
         },
         "text": [
          "AK<br>Passengers 208444.25",
          "AL<br>Passengers 211533.66666666666",
          "AR<br>Passengers 143663.91666666666",
          "AZ<br>Passengers 1532344.0",
          "CA<br>Passengers 4685129.75",
          "CO<br>Passengers 70114.33333333333",
          "CT<br>Passengers 215315.58333333334",
          "DC<br>Passengers 1296668.4166666667",
          "DE<br>Passengers 63.333333333333336",
          "FL<br>Passengers 3722350.8333333335",
          "GA<br>Passengers 2964298.1666666665",
          "HI<br>Passengers 678763.0",
          "IA<br>Passengers 104689.25",
          "ID<br>Passengers 17831.666666666668",
          "IL<br>Passengers 2746452.5",
          "IN<br>Passengers 340488.3333333333",
          "KS<br>Passengers 52459.583333333336",
          "KY<br>Passengers 38681.5",
          "LA<br>Passengers 412075.3333333333",
          "MA<br>Passengers 840728.75",
          "MD<br>Passengers 798711.0",
          "ME<br>Passengers 89855.08333333333",
          "MI<br>Passengers 1251693.6666666667",
          "MN<br>Passengers 1146020.8333333333",
          "MO<br>Passengers 921726.5",
          "MS<br>Passengers 94771.0",
          "MT<br>Passengers 92805.75",
          "NC<br>Passengers 1785418.5",
          "ND<br>Passengers 48955.333333333336",
          "NE<br>Passengers 149378.75",
          "NH<br>Passengers 131036.25",
          "NJ<br>Passengers 920887.5833333334",
          "NM<br>Passengers 243724.91666666666",
          "NV<br>Passengers 1543962.75",
          "NY<br>Passengers 2288218.5",
          "OH<br>Passengers 1158569.5",
          "OK<br>Passengers 235994.16666666666",
          "OR<br>Passengers 519071.8333333333",
          "PA<br>Passengers 1464608.0833333333",
          "RI<br>Passengers 178563.0",
          "SC<br>Passengers 250657.5",
          "SD<br>Passengers 38500.083333333336",
          "TN<br>Passengers 841628.9166666666",
          "TX<br>Passengers 4755373.666666667",
          "UT<br>Passengers 708896.75",
          "VA<br>Passengers 184490.58333333334",
          "VT<br>Passengers 58550.416666666664",
          "WA<br>Passengers 1193027.8333333333",
          "WI<br>Passengers 438855.0833333333",
          "WV<br>Passengers 22350.5",
          "WY<br>Passengers 20091.916666666668"
         ],
         "type": "choropleth",
         "z": [
          208444.25,
          211533.66666666666,
          143663.91666666666,
          1532344,
          4685129.75,
          70114.33333333333,
          215315.58333333334,
          1296668.4166666667,
          63.333333333333336,
          3722350.8333333335,
          2964298.1666666665,
          678763,
          104689.25,
          17831.666666666668,
          2746452.5,
          340488.3333333333,
          52459.583333333336,
          38681.5,
          412075.3333333333,
          840728.75,
          798711,
          89855.08333333333,
          1251693.6666666667,
          1146020.8333333333,
          921726.5,
          94771,
          92805.75,
          1785418.5,
          48955.333333333336,
          149378.75,
          131036.25,
          920887.5833333334,
          243724.91666666666,
          1543962.75,
          2288218.5,
          1158569.5,
          235994.16666666666,
          519071.8333333333,
          1464608.0833333333,
          178563,
          250657.5,
          38500.083333333336,
          841628.9166666666,
          4755373.666666667,
          708896.75,
          184490.58333333334,
          58550.416666666664,
          1193027.8333333333,
          438855.0833333333,
          22350.5,
          20091.916666666668
         ]
        }
       ],
       "layout": {
        "geo": {
         "lakecolor": "rgb(255, 255, 255)",
         "projection": {
          "type": "albers usa"
         },
         "scope": "usa",
         "showlakes": true
        },
        "title": "2009 Average passengers by State<br>(Hover for breakdown)"
       }
      },
      "text/html": [
       "<div id=\"bca2e15f-3130-4f31-9345-9e7caa56382a\" style=\"height: 525px; width: 100%;\" class=\"plotly-graph-div\"></div><script type=\"text/javascript\">require([\"plotly\"], function(Plotly) { window.PLOTLYENV=window.PLOTLYENV || {};window.PLOTLYENV.BASE_URL=\"https://plot.ly\";Plotly.newPlot(\"bca2e15f-3130-4f31-9345-9e7caa56382a\", [{\"type\": \"choropleth\", \"colorscale\": [[0.0, \"rgb(242,240,247)\"], [0.2, \"rgb(218,218,235)\"], [0.4, \"rgb(188,189,220)\"], [0.6, \"rgb(158,154,200)\"], [0.8, \"rgb(117,107,177)\"], [1.0, \"rgb(84,39,143)\"]], \"autocolorscale\": false, \"locations\": [\"AK\", \"AL\", \"AR\", \"AZ\", \"CA\", \"CO\", \"CT\", \"DC\", \"DE\", \"FL\", \"GA\", \"HI\", \"IA\", \"ID\", \"IL\", \"IN\", \"KS\", \"KY\", \"LA\", \"MA\", \"MD\", \"ME\", \"MI\", \"MN\", \"MO\", \"MS\", \"MT\", \"NC\", \"ND\", \"NE\", \"NH\", \"NJ\", \"NM\", \"NV\", \"NY\", \"OH\", \"OK\", \"OR\", \"PA\", \"RI\", \"SC\", \"SD\", \"TN\", \"TX\", \"UT\", \"VA\", \"VT\", \"WA\", \"WI\", \"WV\", \"WY\"], \"z\": [208444.25, 211533.66666666666, 143663.91666666666, 1532344.0, 4685129.75, 70114.33333333333, 215315.58333333334, 1296668.4166666667, 63.333333333333336, 3722350.8333333335, 2964298.1666666665, 678763.0, 104689.25, 17831.666666666668, 2746452.5, 340488.3333333333, 52459.583333333336, 38681.5, 412075.3333333333, 840728.75, 798711.0, 89855.08333333333, 1251693.6666666667, 1146020.8333333333, 921726.5, 94771.0, 92805.75, 1785418.5, 48955.333333333336, 149378.75, 131036.25, 920887.5833333334, 243724.91666666666, 1543962.75, 2288218.5, 1158569.5, 235994.16666666666, 519071.8333333333, 1464608.0833333333, 178563.0, 250657.5, 38500.083333333336, 841628.9166666666, 4755373.666666667, 708896.75, 184490.58333333334, 58550.416666666664, 1193027.8333333333, 438855.0833333333, 22350.5, 20091.916666666668], \"locationmode\": \"USA-states\", \"text\": [\"AK<br>Passengers 208444.25\", \"AL<br>Passengers 211533.66666666666\", \"AR<br>Passengers 143663.91666666666\", \"AZ<br>Passengers 1532344.0\", \"CA<br>Passengers 4685129.75\", \"CO<br>Passengers 70114.33333333333\", \"CT<br>Passengers 215315.58333333334\", \"DC<br>Passengers 1296668.4166666667\", \"DE<br>Passengers 63.333333333333336\", \"FL<br>Passengers 3722350.8333333335\", \"GA<br>Passengers 2964298.1666666665\", \"HI<br>Passengers 678763.0\", \"IA<br>Passengers 104689.25\", \"ID<br>Passengers 17831.666666666668\", \"IL<br>Passengers 2746452.5\", \"IN<br>Passengers 340488.3333333333\", \"KS<br>Passengers 52459.583333333336\", \"KY<br>Passengers 38681.5\", \"LA<br>Passengers 412075.3333333333\", \"MA<br>Passengers 840728.75\", \"MD<br>Passengers 798711.0\", \"ME<br>Passengers 89855.08333333333\", \"MI<br>Passengers 1251693.6666666667\", \"MN<br>Passengers 1146020.8333333333\", \"MO<br>Passengers 921726.5\", \"MS<br>Passengers 94771.0\", \"MT<br>Passengers 92805.75\", \"NC<br>Passengers 1785418.5\", \"ND<br>Passengers 48955.333333333336\", \"NE<br>Passengers 149378.75\", \"NH<br>Passengers 131036.25\", \"NJ<br>Passengers 920887.5833333334\", \"NM<br>Passengers 243724.91666666666\", \"NV<br>Passengers 1543962.75\", \"NY<br>Passengers 2288218.5\", \"OH<br>Passengers 1158569.5\", \"OK<br>Passengers 235994.16666666666\", \"OR<br>Passengers 519071.8333333333\", \"PA<br>Passengers 1464608.0833333333\", \"RI<br>Passengers 178563.0\", \"SC<br>Passengers 250657.5\", \"SD<br>Passengers 38500.083333333336\", \"TN<br>Passengers 841628.9166666666\", \"TX<br>Passengers 4755373.666666667\", \"UT<br>Passengers 708896.75\", \"VA<br>Passengers 184490.58333333334\", \"VT<br>Passengers 58550.416666666664\", \"WA<br>Passengers 1193027.8333333333\", \"WI<br>Passengers 438855.0833333333\", \"WV<br>Passengers 22350.5\", \"WY<br>Passengers 20091.916666666668\"], \"marker\": {\"line\": {\"color\": \"rgb(255,255,255)\", \"width\": 2}}, \"colorbar\": {\"title\": \"Avg passengers\"}}], {\"title\": \"2009 Average passengers by State<br>(Hover for breakdown)\", \"geo\": {\"scope\": \"usa\", \"projection\": {\"type\": \"albers usa\"}, \"showlakes\": true, \"lakecolor\": \"rgb(255, 255, 255)\"}}, {\"showLink\": true, \"linkText\": \"Export to plot.ly\"})});</script>"
      ],
      "text/vnd.plotly.v1+html": [
       "<div id=\"bca2e15f-3130-4f31-9345-9e7caa56382a\" style=\"height: 525px; width: 100%;\" class=\"plotly-graph-div\"></div><script type=\"text/javascript\">require([\"plotly\"], function(Plotly) { window.PLOTLYENV=window.PLOTLYENV || {};window.PLOTLYENV.BASE_URL=\"https://plot.ly\";Plotly.newPlot(\"bca2e15f-3130-4f31-9345-9e7caa56382a\", [{\"type\": \"choropleth\", \"colorscale\": [[0.0, \"rgb(242,240,247)\"], [0.2, \"rgb(218,218,235)\"], [0.4, \"rgb(188,189,220)\"], [0.6, \"rgb(158,154,200)\"], [0.8, \"rgb(117,107,177)\"], [1.0, \"rgb(84,39,143)\"]], \"autocolorscale\": false, \"locations\": [\"AK\", \"AL\", \"AR\", \"AZ\", \"CA\", \"CO\", \"CT\", \"DC\", \"DE\", \"FL\", \"GA\", \"HI\", \"IA\", \"ID\", \"IL\", \"IN\", \"KS\", \"KY\", \"LA\", \"MA\", \"MD\", \"ME\", \"MI\", \"MN\", \"MO\", \"MS\", \"MT\", \"NC\", \"ND\", \"NE\", \"NH\", \"NJ\", \"NM\", \"NV\", \"NY\", \"OH\", \"OK\", \"OR\", \"PA\", \"RI\", \"SC\", \"SD\", \"TN\", \"TX\", \"UT\", \"VA\", \"VT\", \"WA\", \"WI\", \"WV\", \"WY\"], \"z\": [208444.25, 211533.66666666666, 143663.91666666666, 1532344.0, 4685129.75, 70114.33333333333, 215315.58333333334, 1296668.4166666667, 63.333333333333336, 3722350.8333333335, 2964298.1666666665, 678763.0, 104689.25, 17831.666666666668, 2746452.5, 340488.3333333333, 52459.583333333336, 38681.5, 412075.3333333333, 840728.75, 798711.0, 89855.08333333333, 1251693.6666666667, 1146020.8333333333, 921726.5, 94771.0, 92805.75, 1785418.5, 48955.333333333336, 149378.75, 131036.25, 920887.5833333334, 243724.91666666666, 1543962.75, 2288218.5, 1158569.5, 235994.16666666666, 519071.8333333333, 1464608.0833333333, 178563.0, 250657.5, 38500.083333333336, 841628.9166666666, 4755373.666666667, 708896.75, 184490.58333333334, 58550.416666666664, 1193027.8333333333, 438855.0833333333, 22350.5, 20091.916666666668], \"locationmode\": \"USA-states\", \"text\": [\"AK<br>Passengers 208444.25\", \"AL<br>Passengers 211533.66666666666\", \"AR<br>Passengers 143663.91666666666\", \"AZ<br>Passengers 1532344.0\", \"CA<br>Passengers 4685129.75\", \"CO<br>Passengers 70114.33333333333\", \"CT<br>Passengers 215315.58333333334\", \"DC<br>Passengers 1296668.4166666667\", \"DE<br>Passengers 63.333333333333336\", \"FL<br>Passengers 3722350.8333333335\", \"GA<br>Passengers 2964298.1666666665\", \"HI<br>Passengers 678763.0\", \"IA<br>Passengers 104689.25\", \"ID<br>Passengers 17831.666666666668\", \"IL<br>Passengers 2746452.5\", \"IN<br>Passengers 340488.3333333333\", \"KS<br>Passengers 52459.583333333336\", \"KY<br>Passengers 38681.5\", \"LA<br>Passengers 412075.3333333333\", \"MA<br>Passengers 840728.75\", \"MD<br>Passengers 798711.0\", \"ME<br>Passengers 89855.08333333333\", \"MI<br>Passengers 1251693.6666666667\", \"MN<br>Passengers 1146020.8333333333\", \"MO<br>Passengers 921726.5\", \"MS<br>Passengers 94771.0\", \"MT<br>Passengers 92805.75\", \"NC<br>Passengers 1785418.5\", \"ND<br>Passengers 48955.333333333336\", \"NE<br>Passengers 149378.75\", \"NH<br>Passengers 131036.25\", \"NJ<br>Passengers 920887.5833333334\", \"NM<br>Passengers 243724.91666666666\", \"NV<br>Passengers 1543962.75\", \"NY<br>Passengers 2288218.5\", \"OH<br>Passengers 1158569.5\", \"OK<br>Passengers 235994.16666666666\", \"OR<br>Passengers 519071.8333333333\", \"PA<br>Passengers 1464608.0833333333\", \"RI<br>Passengers 178563.0\", \"SC<br>Passengers 250657.5\", \"SD<br>Passengers 38500.083333333336\", \"TN<br>Passengers 841628.9166666666\", \"TX<br>Passengers 4755373.666666667\", \"UT<br>Passengers 708896.75\", \"VA<br>Passengers 184490.58333333334\", \"VT<br>Passengers 58550.416666666664\", \"WA<br>Passengers 1193027.8333333333\", \"WI<br>Passengers 438855.0833333333\", \"WV<br>Passengers 22350.5\", \"WY<br>Passengers 20091.916666666668\"], \"marker\": {\"line\": {\"color\": \"rgb(255,255,255)\", \"width\": 2}}, \"colorbar\": {\"title\": \"Avg passengers\"}}], {\"title\": \"2009 Average passengers by State<br>(Hover for breakdown)\", \"geo\": {\"scope\": \"usa\", \"projection\": {\"type\": \"albers usa\"}, \"showlakes\": true, \"lakecolor\": \"rgb(255, 255, 255)\"}}, {\"showLink\": true, \"linkText\": \"Export to plot.ly\"})});</script>"
      ]
     },
     "metadata": {},
     "output_type": "display_data"
    }
   ],
   "source": [
    "for col in df.columns:\n",
    "    df[col] = df[col].astype(str)\n",
    "\n",
    "scl = [[0.0, 'rgb(242,240,247)'],[0.2, 'rgb(218,218,235)'],[0.4, 'rgb(188,189,220)'],\\\n",
    "            [0.6, 'rgb(158,154,200)'],[0.8, 'rgb(117,107,177)'],[1.0, 'rgb(84,39,143)']]\n",
    "\n",
    "df['text'] = df['Origin_state'] + '<br>' +\\\n",
    "    'Passengers '+ df['Passengers']\n",
    "\n",
    "fig_data = [ dict(\n",
    "        type='choropleth',\n",
    "        colorscale = scl,\n",
    "        autocolorscale = False,\n",
    "        locations = df['Origin_state'],\n",
    "        z = df['Passengers'].astype(float),\n",
    "        locationmode = 'USA-states',\n",
    "        text = df['text'],\n",
    "        marker = dict(\n",
    "            line = dict (\n",
    "                color = 'rgb(255,255,255)',\n",
    "                width = 2\n",
    "            ) ),\n",
    "        colorbar = dict(\n",
    "            title = \"Avg passengers\")\n",
    "        ) ]\n",
    "\n",
    "layout = dict(\n",
    "        title = '2009 Average passengers by State<br>(Hover for breakdown)',\n",
    "        geo = dict(\n",
    "            scope='usa',\n",
    "            projection=dict( type='albers usa' ),\n",
    "            showlakes = True,\n",
    "            lakecolor = 'rgb(255, 255, 255)'),\n",
    "             )\n",
    "    \n",
    "fig = dict(data=fig_data, layout=layout)\n",
    "iplot(fig)\n",
    "# plot(fig, filename='air_passengers')"
   ]
  },
  {
   "cell_type": "code",
   "execution_count": 40,
   "metadata": {},
   "outputs": [
    {
     "data": {
      "text/html": [
       "<div>\n",
       "<style scoped>\n",
       "    .dataframe tbody tr th:only-of-type {\n",
       "        vertical-align: middle;\n",
       "    }\n",
       "\n",
       "    .dataframe tbody tr th {\n",
       "        vertical-align: top;\n",
       "    }\n",
       "\n",
       "    .dataframe thead th {\n",
       "        text-align: right;\n",
       "    }\n",
       "</style>\n",
       "<table border=\"1\" class=\"dataframe\">\n",
       "  <thead>\n",
       "    <tr style=\"text-align: right;\">\n",
       "      <th></th>\n",
       "      <th>Origin_state</th>\n",
       "      <th>Origin_population</th>\n",
       "    </tr>\n",
       "  </thead>\n",
       "  <tbody>\n",
       "    <tr>\n",
       "      <th>0</th>\n",
       "      <td>AK</td>\n",
       "      <td>530360</td>\n",
       "    </tr>\n",
       "    <tr>\n",
       "      <th>1</th>\n",
       "      <td>AL</td>\n",
       "      <td>2783121</td>\n",
       "    </tr>\n",
       "    <tr>\n",
       "      <th>2</th>\n",
       "      <td>AR</td>\n",
       "      <td>1878901</td>\n",
       "    </tr>\n",
       "    <tr>\n",
       "      <th>3</th>\n",
       "      <td>AZ</td>\n",
       "      <td>6278372</td>\n",
       "    </tr>\n",
       "    <tr>\n",
       "      <th>4</th>\n",
       "      <td>CA</td>\n",
       "      <td>69239202</td>\n",
       "    </tr>\n",
       "  </tbody>\n",
       "</table>\n",
       "</div>"
      ],
      "text/plain": [
       "  Origin_state  Origin_population\n",
       "0           AK             530360\n",
       "1           AL            2783121\n",
       "2           AR            1878901\n",
       "3           AZ            6278372\n",
       "4           CA           69239202"
      ]
     },
     "execution_count": 40,
     "metadata": {},
     "output_type": "execute_result"
    }
   ],
   "source": [
    "df2 = data[data[\"Fly_date\"] >= '2009-01-01']\n",
    "df2 = df2[['Origin_state', 'Origin_population', 'Origin_city']].drop_duplicates()\n",
    "df2 = df2.groupby(['Origin_state'])['Origin_population'].sum().reset_index()\n",
    "#df.Passengers = [np.log(x) for x in df.Passengers]\n",
    "df2.head()"
   ]
  },
  {
   "cell_type": "code",
   "execution_count": 42,
   "metadata": {},
   "outputs": [
    {
     "data": {
      "text/plain": [
       "(51, 51, 51)"
      ]
     },
     "execution_count": 42,
     "metadata": {},
     "output_type": "execute_result"
    }
   ],
   "source": [
    "len(df), len(df2), len(df3)"
   ]
  },
  {
   "cell_type": "code",
   "execution_count": 41,
   "metadata": {},
   "outputs": [
    {
     "data": {
      "text/html": [
       "<div>\n",
       "<style scoped>\n",
       "    .dataframe tbody tr th:only-of-type {\n",
       "        vertical-align: middle;\n",
       "    }\n",
       "\n",
       "    .dataframe tbody tr th {\n",
       "        vertical-align: top;\n",
       "    }\n",
       "\n",
       "    .dataframe thead th {\n",
       "        text-align: right;\n",
       "    }\n",
       "</style>\n",
       "<table border=\"1\" class=\"dataframe\">\n",
       "  <thead>\n",
       "    <tr style=\"text-align: right;\">\n",
       "      <th></th>\n",
       "      <th>Origin_state</th>\n",
       "      <th>Passengers</th>\n",
       "      <th>Origin_population</th>\n",
       "      <th>proportion</th>\n",
       "    </tr>\n",
       "  </thead>\n",
       "  <tbody>\n",
       "    <tr>\n",
       "      <th>0</th>\n",
       "      <td>AK</td>\n",
       "      <td>2.084442e+05</td>\n",
       "      <td>530360</td>\n",
       "      <td>0.393024</td>\n",
       "    </tr>\n",
       "    <tr>\n",
       "      <th>1</th>\n",
       "      <td>AL</td>\n",
       "      <td>2.115337e+05</td>\n",
       "      <td>2783121</td>\n",
       "      <td>0.076006</td>\n",
       "    </tr>\n",
       "    <tr>\n",
       "      <th>2</th>\n",
       "      <td>AR</td>\n",
       "      <td>1.436639e+05</td>\n",
       "      <td>1878901</td>\n",
       "      <td>0.076462</td>\n",
       "    </tr>\n",
       "    <tr>\n",
       "      <th>3</th>\n",
       "      <td>AZ</td>\n",
       "      <td>1.532344e+06</td>\n",
       "      <td>6278372</td>\n",
       "      <td>0.244067</td>\n",
       "    </tr>\n",
       "    <tr>\n",
       "      <th>4</th>\n",
       "      <td>CA</td>\n",
       "      <td>4.685130e+06</td>\n",
       "      <td>69239202</td>\n",
       "      <td>0.067666</td>\n",
       "    </tr>\n",
       "  </tbody>\n",
       "</table>\n",
       "</div>"
      ],
      "text/plain": [
       "  Origin_state    Passengers  Origin_population  proportion\n",
       "0           AK  2.084442e+05             530360    0.393024\n",
       "1           AL  2.115337e+05            2783121    0.076006\n",
       "2           AR  1.436639e+05            1878901    0.076462\n",
       "3           AZ  1.532344e+06            6278372    0.244067\n",
       "4           CA  4.685130e+06           69239202    0.067666"
      ]
     },
     "execution_count": 41,
     "metadata": {},
     "output_type": "execute_result"
    }
   ],
   "source": [
    "df3 = df.merge(df2)\n",
    "df3['proportion'] = df3['Passengers']/df3['Origin_population']\n",
    "df3.head()"
   ]
  },
  {
   "cell_type": "code",
   "execution_count": 43,
   "metadata": {},
   "outputs": [
    {
     "data": {
      "text/plain": [
       "(0.6509946671119173, 1.0338459957974704e-05)"
      ]
     },
     "execution_count": 43,
     "metadata": {},
     "output_type": "execute_result"
    }
   ],
   "source": [
    "df3.proportion.max(), df3.proportion.min()"
   ]
  },
  {
   "cell_type": "code",
   "execution_count": 45,
   "metadata": {},
   "outputs": [
    {
     "data": {
      "text/html": [
       "<div>\n",
       "<style scoped>\n",
       "    .dataframe tbody tr th:only-of-type {\n",
       "        vertical-align: middle;\n",
       "    }\n",
       "\n",
       "    .dataframe tbody tr th {\n",
       "        vertical-align: top;\n",
       "    }\n",
       "\n",
       "    .dataframe thead th {\n",
       "        text-align: right;\n",
       "    }\n",
       "</style>\n",
       "<table border=\"1\" class=\"dataframe\">\n",
       "  <thead>\n",
       "    <tr style=\"text-align: right;\">\n",
       "      <th></th>\n",
       "      <th>Origin_state</th>\n",
       "      <th>Passengers</th>\n",
       "      <th>Origin_population</th>\n",
       "      <th>proportion</th>\n",
       "      <th>text</th>\n",
       "    </tr>\n",
       "  </thead>\n",
       "  <tbody>\n",
       "    <tr>\n",
       "      <th>30</th>\n",
       "      <td>NH</td>\n",
       "      <td>1.310362e+05</td>\n",
       "      <td>405906</td>\n",
       "      <td>0.322824</td>\n",
       "      <td>NH&lt;br&gt;Proportion 0.32282412676826655</td>\n",
       "    </tr>\n",
       "    <tr>\n",
       "      <th>0</th>\n",
       "      <td>AK</td>\n",
       "      <td>2.084442e+05</td>\n",
       "      <td>530360</td>\n",
       "      <td>0.393024</td>\n",
       "      <td>AK&lt;br&gt;Proportion 0.3930240779847651</td>\n",
       "    </tr>\n",
       "    <tr>\n",
       "      <th>10</th>\n",
       "      <td>GA</td>\n",
       "      <td>2.964298e+06</td>\n",
       "      <td>7479137</td>\n",
       "      <td>0.396342</td>\n",
       "      <td>GA&lt;br&gt;Proportion 0.3963422740707473</td>\n",
       "    </tr>\n",
       "    <tr>\n",
       "      <th>11</th>\n",
       "      <td>HI</td>\n",
       "      <td>6.787630e+05</td>\n",
       "      <td>1230566</td>\n",
       "      <td>0.551586</td>\n",
       "      <td>HI&lt;br&gt;Proportion 0.5515860181412455</td>\n",
       "    </tr>\n",
       "    <tr>\n",
       "      <th>33</th>\n",
       "      <td>NV</td>\n",
       "      <td>1.543963e+06</td>\n",
       "      <td>2371698</td>\n",
       "      <td>0.650995</td>\n",
       "      <td>NV&lt;br&gt;Proportion 0.6509946671119173</td>\n",
       "    </tr>\n",
       "  </tbody>\n",
       "</table>\n",
       "</div>"
      ],
      "text/plain": [
       "   Origin_state    Passengers  Origin_population  proportion  \\\n",
       "30           NH  1.310362e+05             405906    0.322824   \n",
       "0            AK  2.084442e+05             530360    0.393024   \n",
       "10           GA  2.964298e+06            7479137    0.396342   \n",
       "11           HI  6.787630e+05            1230566    0.551586   \n",
       "33           NV  1.543963e+06            2371698    0.650995   \n",
       "\n",
       "                                    text  \n",
       "30  NH<br>Proportion 0.32282412676826655  \n",
       "0    AK<br>Proportion 0.3930240779847651  \n",
       "10   GA<br>Proportion 0.3963422740707473  \n",
       "11   HI<br>Proportion 0.5515860181412455  \n",
       "33   NV<br>Proportion 0.6509946671119173  "
      ]
     },
     "execution_count": 45,
     "metadata": {},
     "output_type": "execute_result"
    }
   ],
   "source": [
    "df3.sort_values('proportion').tail()"
   ]
  },
  {
   "cell_type": "code",
   "execution_count": 49,
   "metadata": {},
   "outputs": [
    {
     "name": "stderr",
     "output_type": "stream",
     "text": [
      "/Users/leesa/anaconda/envs/fv/lib/python3.6/site-packages/plotly/offline/offline.py:459: UserWarning:\n",
      "\n",
      "Your filename `air_passengers_density` didn't end with .html. Adding .html to the end of your file.\n",
      "\n"
     ]
    },
    {
     "data": {
      "text/plain": [
       "'file:///Users/leesa/Downloads/Viz_project/air_passengers_density.html'"
      ]
     },
     "execution_count": 49,
     "metadata": {},
     "output_type": "execute_result"
    }
   ],
   "source": [
    "\n",
    "scl = [[0,\"#00441b\"],[0.05,\"#006d2c\"],[0.1,\"#238b45\"],\\\n",
    "            [0.2,\"#41ae76\"],[0.3,\"#66c2a4\"],[0.5,\"#ccece6\"],[0.7,\"#e5f5f9\"]]\n",
    "\n",
    "\n",
    "df3['text'] = df3['Origin_state'].astype(str) + '<br>' +\\\n",
    "    'Proportion '+ df3['Origin_population'].astype(str) + '<br>' + 'Passengers '+ df3['Passengers'].astype(str)\n",
    "\n",
    "fig_data = [ dict(\n",
    "        type='choropleth',\n",
    "        colorscale = scl,\n",
    "        autocolorscale = False,\n",
    "        reversescale = True,\n",
    "        locations = df3['Origin_state'],\n",
    "        z = df3['proportion'].astype(float),\n",
    "        locationmode = 'USA-states',\n",
    "        text = df3['text'],\n",
    "        marker = dict(\n",
    "            line = dict (\n",
    "                color = 'rgb(150, 150, 150)',\n",
    "                width = 2\n",
    "            ) ),\n",
    "        colorbar = dict(\n",
    "            title = \"Avg passengers\")\n",
    "        ) ]\n",
    "\n",
    "layout = dict(\n",
    "        title = '2009 passengers density by State<br>(Hover for breakdown)',\n",
    "        geo = dict(\n",
    "            scope='usa',\n",
    "            projection=dict( type='albers usa' ),\n",
    "            showlakes = True,\n",
    "            lakecolor = 'rgb(255, 255, 255)'),\n",
    "             )\n",
    "    \n",
    "fig = dict(data=fig_data, layout=layout)\n",
    "# iplot(fig)\n",
    "plot(fig, filename='air_passengers_density')"
   ]
  },
  {
   "cell_type": "code",
   "execution_count": 7,
   "metadata": {
    "collapsed": true
   },
   "outputs": [],
   "source": [
    "years = sorted(df['Year'].unique())"
   ]
  },
  {
   "cell_type": "code",
   "execution_count": 8,
   "metadata": {},
   "outputs": [
    {
     "data": {
      "application/vnd.plotly.v1+json": {
       "data": [
        {
         "mode": "markers",
         "name": "AK",
         "text": [],
         "x": [],
         "y": []
        },
        {
         "mode": "markers",
         "name": "AL",
         "text": [],
         "x": [],
         "y": []
        },
        {
         "mode": "markers",
         "name": "AR",
         "text": [],
         "x": [],
         "y": []
        },
        {
         "mode": "markers",
         "name": "AZ",
         "text": [],
         "x": [],
         "y": []
        },
        {
         "mode": "markers",
         "name": "CA",
         "text": [],
         "x": [],
         "y": []
        },
        {
         "mode": "markers",
         "name": "CO",
         "text": [],
         "x": [],
         "y": []
        },
        {
         "mode": "markers",
         "name": "CT",
         "text": [],
         "x": [],
         "y": []
        },
        {
         "mode": "markers",
         "name": "DC",
         "text": [],
         "x": [],
         "y": []
        },
        {
         "mode": "markers",
         "name": "DE",
         "text": [],
         "x": [],
         "y": []
        },
        {
         "mode": "markers",
         "name": "FL",
         "text": [],
         "x": [],
         "y": []
        },
        {
         "mode": "markers",
         "name": "GA",
         "text": [],
         "x": [],
         "y": []
        },
        {
         "mode": "markers",
         "name": "HI",
         "text": [],
         "x": [],
         "y": []
        },
        {
         "mode": "markers",
         "name": "IA",
         "text": [],
         "x": [],
         "y": []
        },
        {
         "mode": "markers",
         "name": "ID",
         "text": [],
         "x": [],
         "y": []
        },
        {
         "mode": "markers",
         "name": "IL",
         "text": [],
         "x": [],
         "y": []
        },
        {
         "mode": "markers",
         "name": "IN",
         "text": [],
         "x": [],
         "y": []
        },
        {
         "mode": "markers",
         "name": "KS",
         "text": [],
         "x": [],
         "y": []
        },
        {
         "mode": "markers",
         "name": "KY",
         "text": [],
         "x": [],
         "y": []
        },
        {
         "mode": "markers",
         "name": "LA",
         "text": [],
         "x": [],
         "y": []
        },
        {
         "mode": "markers",
         "name": "MA",
         "text": [],
         "x": [],
         "y": []
        },
        {
         "mode": "markers",
         "name": "MD",
         "text": [],
         "x": [],
         "y": []
        },
        {
         "mode": "markers",
         "name": "ME",
         "text": [],
         "x": [],
         "y": []
        },
        {
         "mode": "markers",
         "name": "MI",
         "text": [],
         "x": [],
         "y": []
        },
        {
         "mode": "markers",
         "name": "MN",
         "text": [],
         "x": [],
         "y": []
        },
        {
         "mode": "markers",
         "name": "MO",
         "text": [],
         "x": [],
         "y": []
        },
        {
         "mode": "markers",
         "name": "MS",
         "text": [],
         "x": [],
         "y": []
        },
        {
         "mode": "markers",
         "name": "MT",
         "text": [],
         "x": [],
         "y": []
        },
        {
         "mode": "markers",
         "name": "NC",
         "text": [],
         "x": [],
         "y": []
        },
        {
         "mode": "markers",
         "name": "ND",
         "text": [],
         "x": [],
         "y": []
        },
        {
         "mode": "markers",
         "name": "NE",
         "text": [],
         "x": [],
         "y": []
        },
        {
         "mode": "markers",
         "name": "NH",
         "text": [],
         "x": [],
         "y": []
        },
        {
         "mode": "markers",
         "name": "NJ",
         "text": [],
         "x": [],
         "y": []
        },
        {
         "mode": "markers",
         "name": "NM",
         "text": [],
         "x": [],
         "y": []
        },
        {
         "mode": "markers",
         "name": "NV",
         "text": [],
         "x": [],
         "y": []
        },
        {
         "mode": "markers",
         "name": "NY",
         "text": [],
         "x": [],
         "y": []
        },
        {
         "mode": "markers",
         "name": "OH",
         "text": [],
         "x": [],
         "y": []
        },
        {
         "mode": "markers",
         "name": "OK",
         "text": [],
         "x": [],
         "y": []
        },
        {
         "mode": "markers",
         "name": "OR",
         "text": [],
         "x": [],
         "y": []
        },
        {
         "mode": "markers",
         "name": "PA",
         "text": [],
         "x": [],
         "y": []
        },
        {
         "mode": "markers",
         "name": "RI",
         "text": [],
         "x": [],
         "y": []
        },
        {
         "mode": "markers",
         "name": "SC",
         "text": [],
         "x": [],
         "y": []
        },
        {
         "mode": "markers",
         "name": "SD",
         "text": [],
         "x": [],
         "y": []
        },
        {
         "mode": "markers",
         "name": "TN",
         "text": [],
         "x": [],
         "y": []
        },
        {
         "mode": "markers",
         "name": "TX",
         "text": [],
         "x": [],
         "y": []
        },
        {
         "mode": "markers",
         "name": "UT",
         "text": [],
         "x": [],
         "y": []
        },
        {
         "mode": "markers",
         "name": "VA",
         "text": [],
         "x": [],
         "y": []
        },
        {
         "mode": "markers",
         "name": "VT",
         "text": [],
         "x": [],
         "y": []
        },
        {
         "mode": "markers",
         "name": "WA",
         "text": [],
         "x": [],
         "y": []
        },
        {
         "mode": "markers",
         "name": "WI",
         "text": [],
         "x": [],
         "y": []
        },
        {
         "mode": "markers",
         "name": "WV",
         "text": [],
         "x": [],
         "y": []
        },
        {
         "mode": "markers",
         "name": "WY",
         "text": [],
         "x": [],
         "y": []
        }
       ],
       "frames": [
        {
         "data": [
          {
           "mode": "markers",
           "name": "AK",
           "text": [
            "AK"
           ],
           "x": [
            "2000"
           ],
           "y": [
            "197716.333333"
           ]
          },
          {
           "mode": "markers",
           "name": "AL",
           "text": [
            "AL"
           ],
           "x": [
            "2000"
           ],
           "y": [
            "233959.166667"
           ]
          },
          {
           "mode": "markers",
           "name": "AR",
           "text": [
            "AR"
           ],
           "x": [
            "2000"
           ],
           "y": [
            "139017.833333"
           ]
          },
          {
           "mode": "markers",
           "name": "AZ",
           "text": [
            "AZ"
           ],
           "x": [
            "2000"
           ],
           "y": [
            "1513817.33333"
           ]
          },
          {
           "mode": "markers",
           "name": "CA",
           "text": [
            "CA"
           ],
           "x": [
            "2000"
           ],
           "y": [
            "5084735.91667"
           ]
          },
          {
           "mode": "markers",
           "name": "CO",
           "text": [
            "CO"
           ],
           "x": [
            "2000"
           ],
           "y": [
            "74984.6666667"
           ]
          },
          {
           "mode": "markers",
           "name": "CT",
           "text": [
            "CT"
           ],
           "x": [
            "2000"
           ],
           "y": [
            "285326.583333"
           ]
          },
          {
           "mode": "markers",
           "name": "DC",
           "text": [
            "DC"
           ],
           "x": [
            "2000"
           ],
           "y": [
            "1041492.75"
           ]
          },
          {
           "mode": "markers",
           "name": "DE",
           "text": [
            "DE"
           ],
           "x": [
            "2000"
           ],
           "y": [
            "0.0"
           ]
          },
          {
           "mode": "markers",
           "name": "FL",
           "text": [
            "FL"
           ],
           "x": [
            "2000"
           ],
           "y": [
            "3409797.08333"
           ]
          },
          {
           "mode": "markers",
           "name": "GA",
           "text": [
            "GA"
           ],
           "x": [
            "2000"
           ],
           "y": [
            "2857485.5"
           ]
          },
          {
           "mode": "markers",
           "name": "HI",
           "text": [
            "HI"
           ],
           "x": [
            "2000"
           ],
           "y": [
            "780591.0"
           ]
          },
          {
           "mode": "markers",
           "name": "IA",
           "text": [
            "IA"
           ],
           "x": [
            "2000"
           ],
           "y": [
            "102375.333333"
           ]
          },
          {
           "mode": "markers",
           "name": "ID",
           "text": [
            "ID"
           ],
           "x": [
            "2000"
           ],
           "y": [
            "4368.5"
           ]
          },
          {
           "mode": "markers",
           "name": "IL",
           "text": [
            "IL"
           ],
           "x": [
            "2000"
           ],
           "y": [
            "2832712.0"
           ]
          },
          {
           "mode": "markers",
           "name": "IN",
           "text": [
            "IN"
           ],
           "x": [
            "2000"
           ],
           "y": [
            "358802.583333"
           ]
          },
          {
           "mode": "markers",
           "name": "KS",
           "text": [
            "KS"
           ],
           "x": [
            "2000"
           ],
           "y": [
            "38696.25"
           ]
          },
          {
           "mode": "markers",
           "name": "KY",
           "text": [
            "KY"
           ],
           "x": [
            "2000"
           ],
           "y": [
            "37630.3333333"
           ]
          },
          {
           "mode": "markers",
           "name": "LA",
           "text": [
            "LA"
           ],
           "x": [
            "2000"
           ],
           "y": [
            "529851.666667"
           ]
          },
          {
           "mode": "markers",
           "name": "MA",
           "text": [
            "MA"
           ],
           "x": [
            "2000"
           ],
           "y": [
            "854874.416667"
           ]
          },
          {
           "mode": "markers",
           "name": "MD",
           "text": [
            "MD"
           ],
           "x": [
            "2000"
           ],
           "y": [
            "721661.416667"
           ]
          },
          {
           "mode": "markers",
           "name": "ME",
           "text": [
            "ME"
           ],
           "x": [
            "2000"
           ],
           "y": [
            "49743.0"
           ]
          },
          {
           "mode": "markers",
           "name": "MI",
           "text": [
            "MI"
           ],
           "x": [
            "2000"
           ],
           "y": [
            "1406763.83333"
           ]
          },
          {
           "mode": "markers",
           "name": "MN",
           "text": [
            "MN"
           ],
           "x": [
            "2000"
           ],
           "y": [
            "1233771.83333"
           ]
          },
          {
           "mode": "markers",
           "name": "MO",
           "text": [
            "MO"
           ],
           "x": [
            "2000"
           ],
           "y": [
            "1739525.83333"
           ]
          },
          {
           "mode": "markers",
           "name": "MS",
           "text": [
            "MS"
           ],
           "x": [
            "2000"
           ],
           "y": [
            "112501.833333"
           ]
          },
          {
           "mode": "markers",
           "name": "MT",
           "text": [
            "MT"
           ],
           "x": [
            "2000"
           ],
           "y": [
            "98003.5833333"
           ]
          },
          {
           "mode": "markers",
           "name": "NC",
           "text": [
            "NC"
           ],
           "x": [
            "2000"
           ],
           "y": [
            "1337436.25"
           ]
          },
          {
           "mode": "markers",
           "name": "ND",
           "text": [
            "ND"
           ],
           "x": [
            "2000"
           ],
           "y": [
            "38004.6666667"
           ]
          },
          {
           "mode": "markers",
           "name": "NE",
           "text": [
            "NE"
           ],
           "x": [
            "2000"
           ],
           "y": [
            "151784.583333"
           ]
          },
          {
           "mode": "markers",
           "name": "NH",
           "text": [
            "NH"
           ],
           "x": [
            "2000"
           ],
           "y": [
            "124513.333333"
           ]
          },
          {
           "mode": "markers",
           "name": "NJ",
           "text": [
            "NJ"
           ],
           "x": [
            "2000"
           ],
           "y": [
            "1001056.83333"
           ]
          },
          {
           "mode": "markers",
           "name": "NM",
           "text": [
            "NM"
           ],
           "x": [
            "2000"
           ],
           "y": [
            "263532.666667"
           ]
          },
          {
           "mode": "markers",
           "name": "NV",
           "text": [
            "NV"
           ],
           "x": [
            "2000"
           ],
           "y": [
            "1491972.41667"
           ]
          },
          {
           "mode": "markers",
           "name": "NY",
           "text": [
            "NY"
           ],
           "x": [
            "2000"
           ],
           "y": [
            "1884134.83333"
           ]
          },
          {
           "mode": "markers",
           "name": "OH",
           "text": [
            "OH"
           ],
           "x": [
            "2000"
           ],
           "y": [
            "1619127.41667"
           ]
          },
          {
           "mode": "markers",
           "name": "OK",
           "text": [
            "OK"
           ],
           "x": [
            "2000"
           ],
           "y": [
            "286554.333333"
           ]
          },
          {
           "mode": "markers",
           "name": "OR",
           "text": [
            "OR"
           ],
           "x": [
            "2000"
           ],
           "y": [
            "523422.75"
           ]
          },
          {
           "mode": "markers",
           "name": "PA",
           "text": [
            "PA"
           ],
           "x": [
            "2000"
           ],
           "y": [
            "1587551.25"
           ]
          },
          {
           "mode": "markers",
           "name": "RI",
           "text": [
            "RI"
           ],
           "x": [
            "2000"
           ],
           "y": [
            "209372.916667"
           ]
          },
          {
           "mode": "markers",
           "name": "SC",
           "text": [
            "SC"
           ],
           "x": [
            "2000"
           ],
           "y": [
            "205052.0"
           ]
          },
          {
           "mode": "markers",
           "name": "SD",
           "text": [
            "SD"
           ],
           "x": [
            "2000"
           ],
           "y": [
            "33754.4166667"
           ]
          },
          {
           "mode": "markers",
           "name": "TN",
           "text": [
            "TN"
           ],
           "x": [
            "2000"
           ],
           "y": [
            "890834.166667"
           ]
          },
          {
           "mode": "markers",
           "name": "TX",
           "text": [
            "TX"
           ],
           "x": [
            "2000"
           ],
           "y": [
            "4818128.58333"
           ]
          },
          {
           "mode": "markers",
           "name": "UT",
           "text": [
            "UT"
           ],
           "x": [
            "2000"
           ],
           "y": [
            "676175.0"
           ]
          },
          {
           "mode": "markers",
           "name": "VA",
           "text": [
            "VA"
           ],
           "x": [
            "2000"
           ],
           "y": [
            "123724.166667"
           ]
          },
          {
           "mode": "markers",
           "name": "VT",
           "text": [
            "VT"
           ],
           "x": [
            "2000"
           ],
           "y": [
            "23290.0"
           ]
          },
          {
           "mode": "markers",
           "name": "WA",
           "text": [
            "WA"
           ],
           "x": [
            "2000"
           ],
           "y": [
            "1104733.08333"
           ]
          },
          {
           "mode": "markers",
           "name": "WI",
           "text": [
            "WI"
           ],
           "x": [
            "2000"
           ],
           "y": [
            "345299.416667"
           ]
          },
          {
           "mode": "markers",
           "name": "WV",
           "text": [
            "WV"
           ],
           "x": [
            "2000"
           ],
           "y": [
            "12568.0"
           ]
          },
          {
           "mode": "markers",
           "name": "WY",
           "text": [
            "WY"
           ],
           "x": [
            "2000"
           ],
           "y": [
            "4192.75"
           ]
          }
         ],
         "name": "2000"
        },
        {
         "data": [
          {
           "mode": "markers",
           "name": "AK",
           "text": [
            "AK"
           ],
           "x": [
            "2001"
           ],
           "y": [
            "197246.083333"
           ]
          },
          {
           "mode": "markers",
           "name": "AL",
           "text": [
            "AL"
           ],
           "x": [
            "2001"
           ],
           "y": [
            "215669.833333"
           ]
          },
          {
           "mode": "markers",
           "name": "AR",
           "text": [
            "AR"
           ],
           "x": [
            "2001"
           ],
           "y": [
            "133486.25"
           ]
          },
          {
           "mode": "markers",
           "name": "AZ",
           "text": [
            "AZ"
           ],
           "x": [
            "2001"
           ],
           "y": [
            "1434636.75"
           ]
          },
          {
           "mode": "markers",
           "name": "CA",
           "text": [
            "CA"
           ],
           "x": [
            "2001"
           ],
           "y": [
            "4665582.91667"
           ]
          },
          {
           "mode": "markers",
           "name": "CO",
           "text": [
            "CO"
           ],
           "x": [
            "2001"
           ],
           "y": [
            "65895.0"
           ]
          },
          {
           "mode": "markers",
           "name": "CT",
           "text": [
            "CT"
           ],
           "x": [
            "2001"
           ],
           "y": [
            "267147.25"
           ]
          },
          {
           "mode": "markers",
           "name": "DC",
           "text": [
            "DC"
           ],
           "x": [
            "2001"
           ],
           "y": [
            "870941.416667"
           ]
          },
          {
           "mode": "markers",
           "name": "DE",
           "text": [
            "DE"
           ],
           "x": [
            "2001"
           ],
           "y": [
            "71.4"
           ]
          },
          {
           "mode": "markers",
           "name": "FL",
           "text": [
            "FL"
           ],
           "x": [
            "2001"
           ],
           "y": [
            "3303081.5"
           ]
          },
          {
           "mode": "markers",
           "name": "GA",
           "text": [
            "GA"
           ],
           "x": [
            "2001"
           ],
           "y": [
            "2669058.58333"
           ]
          },
          {
           "mode": "markers",
           "name": "HI",
           "text": [
            "HI"
           ],
           "x": [
            "2001"
           ],
           "y": [
            "719452.75"
           ]
          },
          {
           "mode": "markers",
           "name": "IA",
           "text": [
            "IA"
           ],
           "x": [
            "2001"
           ],
           "y": [
            "95836.25"
           ]
          },
          {
           "mode": "markers",
           "name": "ID",
           "text": [
            "ID"
           ],
           "x": [
            "2001"
           ],
           "y": [
            "4956.66666667"
           ]
          },
          {
           "mode": "markers",
           "name": "IL",
           "text": [
            "IL"
           ],
           "x": [
            "2001"
           ],
           "y": [
            "2673199.33333"
           ]
          },
          {
           "mode": "markers",
           "name": "IN",
           "text": [
            "IN"
           ],
           "x": [
            "2001"
           ],
           "y": [
            "330631.0"
           ]
          },
          {
           "mode": "markers",
           "name": "KS",
           "text": [
            "KS"
           ],
           "x": [
            "2001"
           ],
           "y": [
            "34419.3333333"
           ]
          },
          {
           "mode": "markers",
           "name": "KY",
           "text": [
            "KY"
           ],
           "x": [
            "2001"
           ],
           "y": [
            "30616.6666667"
           ]
          },
          {
           "mode": "markers",
           "name": "LA",
           "text": [
            "LA"
           ],
           "x": [
            "2001"
           ],
           "y": [
            "496469.333333"
           ]
          },
          {
           "mode": "markers",
           "name": "MA",
           "text": [
            "MA"
           ],
           "x": [
            "2001"
           ],
           "y": [
            "735110.666667"
           ]
          },
          {
           "mode": "markers",
           "name": "MD",
           "text": [
            "MD"
           ],
           "x": [
            "2001"
           ],
           "y": [
            "749941.083333"
           ]
          },
          {
           "mode": "markers",
           "name": "ME",
           "text": [
            "ME"
           ],
           "x": [
            "2001"
           ],
           "y": [
            "56928.0833333"
           ]
          },
          {
           "mode": "markers",
           "name": "MI",
           "text": [
            "MI"
           ],
           "x": [
            "2001"
           ],
           "y": [
            "1278383.0"
           ]
          },
          {
           "mode": "markers",
           "name": "MN",
           "text": [
            "MN"
           ],
           "x": [
            "2001"
           ],
           "y": [
            "1168152.41667"
           ]
          },
          {
           "mode": "markers",
           "name": "MO",
           "text": [
            "MO"
           ],
           "x": [
            "2001"
           ],
           "y": [
            "1536201.5"
           ]
          },
          {
           "mode": "markers",
           "name": "MS",
           "text": [
            "MS"
           ],
           "x": [
            "2001"
           ],
           "y": [
            "99780.75"
           ]
          },
          {
           "mode": "markers",
           "name": "MT",
           "text": [
            "MT"
           ],
           "x": [
            "2001"
           ],
           "y": [
            "95147.5833333"
           ]
          },
          {
           "mode": "markers",
           "name": "NC",
           "text": [
            "NC"
           ],
           "x": [
            "2001"
           ],
           "y": [
            "1279160.58333"
           ]
          },
          {
           "mode": "markers",
           "name": "ND",
           "text": [
            "ND"
           ],
           "x": [
            "2001"
           ],
           "y": [
            "34508.9166667"
           ]
          },
          {
           "mode": "markers",
           "name": "NE",
           "text": [
            "NE"
           ],
           "x": [
            "2001"
           ],
           "y": [
            "138257.25"
           ]
          },
          {
           "mode": "markers",
           "name": "NH",
           "text": [
            "NH"
           ],
           "x": [
            "2001"
           ],
           "y": [
            "130018.833333"
           ]
          },
          {
           "mode": "markers",
           "name": "NJ",
           "text": [
            "NJ"
           ],
           "x": [
            "2001"
           ],
           "y": [
            "911783.666667"
           ]
          },
          {
           "mode": "markers",
           "name": "NM",
           "text": [
            "NM"
           ],
           "x": [
            "2001"
           ],
           "y": [
            "258264.166667"
           ]
          },
          {
           "mode": "markers",
           "name": "NV",
           "text": [
            "NV"
           ],
           "x": [
            "2001"
           ],
           "y": [
            "1428652.58333"
           ]
          },
          {
           "mode": "markers",
           "name": "NY",
           "text": [
            "NY"
           ],
           "x": [
            "2001"
           ],
           "y": [
            "1761401.66667"
           ]
          },
          {
           "mode": "markers",
           "name": "OH",
           "text": [
            "OH"
           ],
           "x": [
            "2001"
           ],
           "y": [
            "1423413.25"
           ]
          },
          {
           "mode": "markers",
           "name": "OK",
           "text": [
            "OK"
           ],
           "x": [
            "2001"
           ],
           "y": [
            "264132.75"
           ]
          },
          {
           "mode": "markers",
           "name": "OR",
           "text": [
            "OR"
           ],
           "x": [
            "2001"
           ],
           "y": [
            "487252.833333"
           ]
          },
          {
           "mode": "markers",
           "name": "PA",
           "text": [
            "PA"
           ],
           "x": [
            "2001"
           ],
           "y": [
            "1520764.08333"
           ]
          },
          {
           "mode": "markers",
           "name": "RI",
           "text": [
            "RI"
           ],
           "x": [
            "2001"
           ],
           "y": [
            "209950.083333"
           ]
          },
          {
           "mode": "markers",
           "name": "SC",
           "text": [
            "SC"
           ],
           "x": [
            "2001"
           ],
           "y": [
            "180190.083333"
           ]
          },
          {
           "mode": "markers",
           "name": "SD",
           "text": [
            "SD"
           ],
           "x": [
            "2001"
           ],
           "y": [
            "31020.0"
           ]
          },
          {
           "mode": "markers",
           "name": "TN",
           "text": [
            "TN"
           ],
           "x": [
            "2001"
           ],
           "y": [
            "822177.25"
           ]
          },
          {
           "mode": "markers",
           "name": "TX",
           "text": [
            "TX"
           ],
           "x": [
            "2001"
           ],
           "y": [
            "4475242.16667"
           ]
          },
          {
           "mode": "markers",
           "name": "UT",
           "text": [
            "UT"
           ],
           "x": [
            "2001"
           ],
           "y": [
            "611309.0"
           ]
          },
          {
           "mode": "markers",
           "name": "VA",
           "text": [
            "VA"
           ],
           "x": [
            "2001"
           ],
           "y": [
            "108279.166667"
           ]
          },
          {
           "mode": "markers",
           "name": "VT",
           "text": [
            "VT"
           ],
           "x": [
            "2001"
           ],
           "y": [
            "30735.4166667"
           ]
          },
          {
           "mode": "markers",
           "name": "WA",
           "text": [
            "WA"
           ],
           "x": [
            "2001"
           ],
           "y": [
            "1049712.58333"
           ]
          },
          {
           "mode": "markers",
           "name": "WI",
           "text": [
            "WI"
           ],
           "x": [
            "2001"
           ],
           "y": [
            "319359.5"
           ]
          },
          {
           "mode": "markers",
           "name": "WV",
           "text": [
            "WV"
           ],
           "x": [
            "2001"
           ],
           "y": [
            "9826.66666667"
           ]
          },
          {
           "mode": "markers",
           "name": "WY",
           "text": [
            "WY"
           ],
           "x": [
            "2001"
           ],
           "y": [
            "4060.08333333"
           ]
          }
         ],
         "name": "2001"
        },
        {
         "data": [
          {
           "mode": "markers",
           "name": "AK",
           "text": [
            "AK"
           ],
           "x": [
            "2002"
           ],
           "y": [
            "208416.416667"
           ]
          },
          {
           "mode": "markers",
           "name": "AL",
           "text": [
            "AL"
           ],
           "x": [
            "2002"
           ],
           "y": [
            "204549.083333"
           ]
          },
          {
           "mode": "markers",
           "name": "AR",
           "text": [
            "AR"
           ],
           "x": [
            "2002"
           ],
           "y": [
            "128524.0"
           ]
          },
          {
           "mode": "markers",
           "name": "AZ",
           "text": [
            "AZ"
           ],
           "x": [
            "2002"
           ],
           "y": [
            "1396984.83333"
           ]
          },
          {
           "mode": "markers",
           "name": "CA",
           "text": [
            "CA"
           ],
           "x": [
            "2002"
           ],
           "y": [
            "4415798.0"
           ]
          },
          {
           "mode": "markers",
           "name": "CO",
           "text": [
            "CO"
           ],
           "x": [
            "2002"
           ],
           "y": [
            "65343.0833333"
           ]
          },
          {
           "mode": "markers",
           "name": "CT",
           "text": [
            "CT"
           ],
           "x": [
            "2002"
           ],
           "y": [
            "252405.916667"
           ]
          },
          {
           "mode": "markers",
           "name": "DC",
           "text": [
            "DC"
           ],
           "x": [
            "2002"
           ],
           "y": [
            "857875.416667"
           ]
          },
          {
           "mode": "markers",
           "name": "DE",
           "text": [
            "DE"
           ],
           "x": [
            "2002"
           ],
           "y": [
            "65.0"
           ]
          },
          {
           "mode": "markers",
           "name": "FL",
           "text": [
            "FL"
           ],
           "x": [
            "2002"
           ],
           "y": [
            "3259567.0"
           ]
          },
          {
           "mode": "markers",
           "name": "GA",
           "text": [
            "GA"
           ],
           "x": [
            "2002"
           ],
           "y": [
            "2720980.25"
           ]
          },
          {
           "mode": "markers",
           "name": "HI",
           "text": [
            "HI"
           ],
           "x": [
            "2002"
           ],
           "y": [
            "696193.833333"
           ]
          },
          {
           "mode": "markers",
           "name": "IA",
           "text": [
            "IA"
           ],
           "x": [
            "2002"
           ],
           "y": [
            "100263.333333"
           ]
          },
          {
           "mode": "markers",
           "name": "ID",
           "text": [
            "ID"
           ],
           "x": [
            "2002"
           ],
           "y": [
            "8887.91666667"
           ]
          },
          {
           "mode": "markers",
           "name": "IL",
           "text": [
            "IL"
           ],
           "x": [
            "2002"
           ],
           "y": [
            "2739167.0"
           ]
          },
          {
           "mode": "markers",
           "name": "IN",
           "text": [
            "IN"
           ],
           "x": [
            "2002"
           ],
           "y": [
            "322116.0"
           ]
          },
          {
           "mode": "markers",
           "name": "KS",
           "text": [
            "KS"
           ],
           "x": [
            "2002"
           ],
           "y": [
            "36231.0833333"
           ]
          },
          {
           "mode": "markers",
           "name": "KY",
           "text": [
            "KY"
           ],
           "x": [
            "2002"
           ],
           "y": [
            "34836.25"
           ]
          },
          {
           "mode": "markers",
           "name": "LA",
           "text": [
            "LA"
           ],
           "x": [
            "2002"
           ],
           "y": [
            "474146.833333"
           ]
          },
          {
           "mode": "markers",
           "name": "MA",
           "text": [
            "MA"
           ],
           "x": [
            "2002"
           ],
           "y": [
            "710296.833333"
           ]
          },
          {
           "mode": "markers",
           "name": "MD",
           "text": [
            "MD"
           ],
           "x": [
            "2002"
           ],
           "y": [
            "705227.416667"
           ]
          },
          {
           "mode": "markers",
           "name": "ME",
           "text": [
            "ME"
           ],
           "x": [
            "2002"
           ],
           "y": [
            "59769.4166667"
           ]
          },
          {
           "mode": "markers",
           "name": "MI",
           "text": [
            "MI"
           ],
           "x": [
            "2002"
           ],
           "y": [
            "1264947.33333"
           ]
          },
          {
           "mode": "markers",
           "name": "MN",
           "text": [
            "MN"
           ],
           "x": [
            "2002"
           ],
           "y": [
            "1136207.33333"
           ]
          },
          {
           "mode": "markers",
           "name": "MO",
           "text": [
            "MO"
           ],
           "x": [
            "2002"
           ],
           "y": [
            "1409533.75"
           ]
          },
          {
           "mode": "markers",
           "name": "MS",
           "text": [
            "MS"
           ],
           "x": [
            "2002"
           ],
           "y": [
            "96274.8333333"
           ]
          },
          {
           "mode": "markers",
           "name": "MT",
           "text": [
            "MT"
           ],
           "x": [
            "2002"
           ],
           "y": [
            "95854.8333333"
           ]
          },
          {
           "mode": "markers",
           "name": "NC",
           "text": [
            "NC"
           ],
           "x": [
            "2002"
           ],
           "y": [
            "1261838.58333"
           ]
          },
          {
           "mode": "markers",
           "name": "ND",
           "text": [
            "ND"
           ],
           "x": [
            "2002"
           ],
           "y": [
            "37774.8333333"
           ]
          },
          {
           "mode": "markers",
           "name": "NE",
           "text": [
            "NE"
           ],
           "x": [
            "2002"
           ],
           "y": [
            "129277.416667"
           ]
          },
          {
           "mode": "markers",
           "name": "NH",
           "text": [
            "NH"
           ],
           "x": [
            "2002"
           ],
           "y": [
            "131252.583333"
           ]
          },
          {
           "mode": "markers",
           "name": "NJ",
           "text": [
            "NJ"
           ],
           "x": [
            "2002"
           ],
           "y": [
            "865299.5"
           ]
          },
          {
           "mode": "markers",
           "name": "NM",
           "text": [
            "NM"
           ],
           "x": [
            "2002"
           ],
           "y": [
            "246681.5"
           ]
          },
          {
           "mode": "markers",
           "name": "NV",
           "text": [
            "NV"
           ],
           "x": [
            "2002"
           ],
           "y": [
            "1393198.75"
           ]
          },
          {
           "mode": "markers",
           "name": "NY",
           "text": [
            "NY"
           ],
           "x": [
            "2002"
           ],
           "y": [
            "1757680.25"
           ]
          },
          {
           "mode": "markers",
           "name": "OH",
           "text": [
            "OH"
           ],
           "x": [
            "2002"
           ],
           "y": [
            "1528414.75"
           ]
          },
          {
           "mode": "markers",
           "name": "OK",
           "text": [
            "OK"
           ],
           "x": [
            "2002"
           ],
           "y": [
            "239914.666667"
           ]
          },
          {
           "mode": "markers",
           "name": "OR",
           "text": [
            "OR"
           ],
           "x": [
            "2002"
           ],
           "y": [
            "476987.833333"
           ]
          },
          {
           "mode": "markers",
           "name": "PA",
           "text": [
            "PA"
           ],
           "x": [
            "2002"
           ],
           "y": [
            "1469730.33333"
           ]
          },
          {
           "mode": "markers",
           "name": "RI",
           "text": [
            "RI"
           ],
           "x": [
            "2002"
           ],
           "y": [
            "206114.333333"
           ]
          },
          {
           "mode": "markers",
           "name": "SC",
           "text": [
            "SC"
           ],
           "x": [
            "2002"
           ],
           "y": [
            "178349.666667"
           ]
          },
          {
           "mode": "markers",
           "name": "SD",
           "text": [
            "SD"
           ],
           "x": [
            "2002"
           ],
           "y": [
            "28535.6666667"
           ]
          },
          {
           "mode": "markers",
           "name": "TN",
           "text": [
            "TN"
           ],
           "x": [
            "2002"
           ],
           "y": [
            "788297.166667"
           ]
          },
          {
           "mode": "markers",
           "name": "TX",
           "text": [
            "TX"
           ],
           "x": [
            "2002"
           ],
           "y": [
            "4232640.66667"
           ]
          },
          {
           "mode": "markers",
           "name": "UT",
           "text": [
            "UT"
           ],
           "x": [
            "2002"
           ],
           "y": [
            "600426.583333"
           ]
          },
          {
           "mode": "markers",
           "name": "VA",
           "text": [
            "VA"
           ],
           "x": [
            "2002"
           ],
           "y": [
            "111416.75"
           ]
          },
          {
           "mode": "markers",
           "name": "VT",
           "text": [
            "VT"
           ],
           "x": [
            "2002"
           ],
           "y": [
            "36077.1666667"
           ]
          },
          {
           "mode": "markers",
           "name": "WA",
           "text": [
            "WA"
           ],
           "x": [
            "2002"
           ],
           "y": [
            "1041956.5"
           ]
          },
          {
           "mode": "markers",
           "name": "WI",
           "text": [
            "WI"
           ],
           "x": [
            "2002"
           ],
           "y": [
            "319813.0"
           ]
          },
          {
           "mode": "markers",
           "name": "WV",
           "text": [
            "WV"
           ],
           "x": [
            "2002"
           ],
           "y": [
            "13246.75"
           ]
          },
          {
           "mode": "markers",
           "name": "WY",
           "text": [
            "WY"
           ],
           "x": [
            "2002"
           ],
           "y": [
            "7656.0"
           ]
          }
         ],
         "name": "2002"
        },
        {
         "data": [
          {
           "mode": "markers",
           "name": "AK",
           "text": [
            "AK"
           ],
           "x": [
            "2003"
           ],
           "y": [
            "205828.083333"
           ]
          },
          {
           "mode": "markers",
           "name": "AL",
           "text": [
            "AL"
           ],
           "x": [
            "2003"
           ],
           "y": [
            "222401.833333"
           ]
          },
          {
           "mode": "markers",
           "name": "AR",
           "text": [
            "AR"
           ],
           "x": [
            "2003"
           ],
           "y": [
            "136308.416667"
           ]
          },
          {
           "mode": "markers",
           "name": "AZ",
           "text": [
            "AZ"
           ],
           "x": [
            "2003"
           ],
           "y": [
            "1531101.25"
           ]
          },
          {
           "mode": "markers",
           "name": "CA",
           "text": [
            "CA"
           ],
           "x": [
            "2003"
           ],
           "y": [
            "4547331.33333"
           ]
          },
          {
           "mode": "markers",
           "name": "CO",
           "text": [
            "CO"
           ],
           "x": [
            "2003"
           ],
           "y": [
            "78897.75"
           ]
          },
          {
           "mode": "markers",
           "name": "CT",
           "text": [
            "CT"
           ],
           "x": [
            "2003"
           ],
           "y": [
            "253034.666667"
           ]
          },
          {
           "mode": "markers",
           "name": "DC",
           "text": [
            "DC"
           ],
           "x": [
            "2003"
           ],
           "y": [
            "1015428.66667"
           ]
          },
          {
           "mode": "markers",
           "name": "DE",
           "text": [
            "DE"
           ],
           "x": [
            "2003"
           ],
           "y": [
            "201.0"
           ]
          },
          {
           "mode": "markers",
           "name": "FL",
           "text": [
            "FL"
           ],
           "x": [
            "2003"
           ],
           "y": [
            "3396938.33333"
           ]
          },
          {
           "mode": "markers",
           "name": "GA",
           "text": [
            "GA"
           ],
           "x": [
            "2003"
           ],
           "y": [
            "2813940.5"
           ]
          },
          {
           "mode": "markers",
           "name": "HI",
           "text": [
            "HI"
           ],
           "x": [
            "2003"
           ],
           "y": [
            "688959.75"
           ]
          },
          {
           "mode": "markers",
           "name": "IA",
           "text": [
            "IA"
           ],
           "x": [
            "2003"
           ],
           "y": [
            "115137.333333"
           ]
          },
          {
           "mode": "markers",
           "name": "ID",
           "text": [
            "ID"
           ],
           "x": [
            "2003"
           ],
           "y": [
            "18750.8333333"
           ]
          },
          {
           "mode": "markers",
           "name": "IL",
           "text": [
            "IL"
           ],
           "x": [
            "2003"
           ],
           "y": [
            "2975261.58333"
           ]
          },
          {
           "mode": "markers",
           "name": "IN",
           "text": [
            "IN"
           ],
           "x": [
            "2003"
           ],
           "y": [
            "360140.416667"
           ]
          },
          {
           "mode": "markers",
           "name": "KS",
           "text": [
            "KS"
           ],
           "x": [
            "2003"
           ],
           "y": [
            "52798.4166667"
           ]
          },
          {
           "mode": "markers",
           "name": "KY",
           "text": [
            "KY"
           ],
           "x": [
            "2003"
           ],
           "y": [
            "51564.3333333"
           ]
          },
          {
           "mode": "markers",
           "name": "LA",
           "text": [
            "LA"
           ],
           "x": [
            "2003"
           ],
           "y": [
            "485560.5"
           ]
          },
          {
           "mode": "markers",
           "name": "MA",
           "text": [
            "MA"
           ],
           "x": [
            "2003"
           ],
           "y": [
            "730767.25"
           ]
          },
          {
           "mode": "markers",
           "name": "MD",
           "text": [
            "MD"
           ],
           "x": [
            "2003"
           ],
           "y": [
            "744662.583333"
           ]
          },
          {
           "mode": "markers",
           "name": "ME",
           "text": [
            "ME"
           ],
           "x": [
            "2003"
           ],
           "y": [
            "70616.0"
           ]
          },
          {
           "mode": "markers",
           "name": "MI",
           "text": [
            "MI"
           ],
           "x": [
            "2003"
           ],
           "y": [
            "1341450.91667"
           ]
          },
          {
           "mode": "markers",
           "name": "MN",
           "text": [
            "MN"
           ],
           "x": [
            "2003"
           ],
           "y": [
            "1187820.5"
           ]
          },
          {
           "mode": "markers",
           "name": "MO",
           "text": [
            "MO"
           ],
           "x": [
            "2003"
           ],
           "y": [
            "1235774.91667"
           ]
          },
          {
           "mode": "markers",
           "name": "MS",
           "text": [
            "MS"
           ],
           "x": [
            "2003"
           ],
           "y": [
            "99572.6666667"
           ]
          },
          {
           "mode": "markers",
           "name": "MT",
           "text": [
            "MT"
           ],
           "x": [
            "2003"
           ],
           "y": [
            "110274.583333"
           ]
          },
          {
           "mode": "markers",
           "name": "NC",
           "text": [
            "NC"
           ],
           "x": [
            "2003"
           ],
           "y": [
            "1316773.58333"
           ]
          },
          {
           "mode": "markers",
           "name": "ND",
           "text": [
            "ND"
           ],
           "x": [
            "2003"
           ],
           "y": [
            "42478.5833333"
           ]
          },
          {
           "mode": "markers",
           "name": "NE",
           "text": [
            "NE"
           ],
           "x": [
            "2003"
           ],
           "y": [
            "144787.583333"
           ]
          },
          {
           "mode": "markers",
           "name": "NH",
           "text": [
            "NH"
           ],
           "x": [
            "2003"
           ],
           "y": [
            "147538.583333"
           ]
          },
          {
           "mode": "markers",
           "name": "NJ",
           "text": [
            "NJ"
           ],
           "x": [
            "2003"
           ],
           "y": [
            "873735.666667"
           ]
          },
          {
           "mode": "markers",
           "name": "NM",
           "text": [
            "NM"
           ],
           "x": [
            "2003"
           ],
           "y": [
            "249651.75"
           ]
          },
          {
           "mode": "markers",
           "name": "NV",
           "text": [
            "NV"
           ],
           "x": [
            "2003"
           ],
           "y": [
            "1489338.41667"
           ]
          },
          {
           "mode": "markers",
           "name": "NY",
           "text": [
            "NY"
           ],
           "x": [
            "2003"
           ],
           "y": [
            "1938321.0"
           ]
          },
          {
           "mode": "markers",
           "name": "OH",
           "text": [
            "OH"
           ],
           "x": [
            "2003"
           ],
           "y": [
            "1600358.66667"
           ]
          },
          {
           "mode": "markers",
           "name": "OK",
           "text": [
            "OK"
           ],
           "x": [
            "2003"
           ],
           "y": [
            "248726.5"
           ]
          },
          {
           "mode": "markers",
           "name": "OR",
           "text": [
            "OR"
           ],
           "x": [
            "2003"
           ],
           "y": [
            "494359.666667"
           ]
          },
          {
           "mode": "markers",
           "name": "PA",
           "text": [
            "PA"
           ],
           "x": [
            "2003"
           ],
           "y": [
            "1486807.75"
           ]
          },
          {
           "mode": "markers",
           "name": "RI",
           "text": [
            "RI"
           ],
           "x": [
            "2003"
           ],
           "y": [
            "211016.75"
           ]
          },
          {
           "mode": "markers",
           "name": "SC",
           "text": [
            "SC"
           ],
           "x": [
            "2003"
           ],
           "y": [
            "224897.333333"
           ]
          },
          {
           "mode": "markers",
           "name": "SD",
           "text": [
            "SD"
           ],
           "x": [
            "2003"
           ],
           "y": [
            "37119.0"
           ]
          },
          {
           "mode": "markers",
           "name": "TN",
           "text": [
            "TN"
           ],
           "x": [
            "2003"
           ],
           "y": [
            "853612.333333"
           ]
          },
          {
           "mode": "markers",
           "name": "TX",
           "text": [
            "TX"
           ],
           "x": [
            "2003"
           ],
           "y": [
            "4250168.41667"
           ]
          },
          {
           "mode": "markers",
           "name": "UT",
           "text": [
            "UT"
           ],
           "x": [
            "2003"
           ],
           "y": [
            "679317.0"
           ]
          },
          {
           "mode": "markers",
           "name": "VA",
           "text": [
            "VA"
           ],
           "x": [
            "2003"
           ],
           "y": [
            "141888.666667"
           ]
          },
          {
           "mode": "markers",
           "name": "VT",
           "text": [
            "VT"
           ],
           "x": [
            "2003"
           ],
           "y": [
            "45515.6666667"
           ]
          },
          {
           "mode": "markers",
           "name": "WA",
           "text": [
            "WA"
           ],
           "x": [
            "2003"
           ],
           "y": [
            "1049337.5"
           ]
          },
          {
           "mode": "markers",
           "name": "WI",
           "text": [
            "WI"
           ],
           "x": [
            "2003"
           ],
           "y": [
            "380443.583333"
           ]
          },
          {
           "mode": "markers",
           "name": "WV",
           "text": [
            "WV"
           ],
           "x": [
            "2003"
           ],
           "y": [
            "23484.25"
           ]
          },
          {
           "mode": "markers",
           "name": "WY",
           "text": [
            "WY"
           ],
           "x": [
            "2003"
           ],
           "y": [
            "15577.9166667"
           ]
          }
         ],
         "name": "2003"
        },
        {
         "data": [
          {
           "mode": "markers",
           "name": "AK",
           "text": [
            "AK"
           ],
           "x": [
            "2004"
           ],
           "y": [
            "221796.333333"
           ]
          },
          {
           "mode": "markers",
           "name": "AL",
           "text": [
            "AL"
           ],
           "x": [
            "2004"
           ],
           "y": [
            "237970.083333"
           ]
          },
          {
           "mode": "markers",
           "name": "AR",
           "text": [
            "AR"
           ],
           "x": [
            "2004"
           ],
           "y": [
            "147661.416667"
           ]
          },
          {
           "mode": "markers",
           "name": "AZ",
           "text": [
            "AZ"
           ],
           "x": [
            "2004"
           ],
           "y": [
            "1616146.25"
           ]
          },
          {
           "mode": "markers",
           "name": "CA",
           "text": [
            "CA"
           ],
           "x": [
            "2004"
           ],
           "y": [
            "4914115.91667"
           ]
          },
          {
           "mode": "markers",
           "name": "CO",
           "text": [
            "CO"
           ],
           "x": [
            "2004"
           ],
           "y": [
            "79495.3333333"
           ]
          },
          {
           "mode": "markers",
           "name": "CT",
           "text": [
            "CT"
           ],
           "x": [
            "2004"
           ],
           "y": [
            "272216.416667"
           ]
          },
          {
           "mode": "markers",
           "name": "DC",
           "text": [
            "DC"
           ],
           "x": [
            "2004"
           ],
           "y": [
            "1270839.0"
           ]
          },
          {
           "mode": "markers",
           "name": "DE",
           "text": [
            "DE"
           ],
           "x": [
            "2004"
           ],
           "y": [
            "172.6"
           ]
          },
          {
           "mode": "markers",
           "name": "FL",
           "text": [
            "FL"
           ],
           "x": [
            "2004"
           ],
           "y": [
            "3755637.08333"
           ]
          },
          {
           "mode": "markers",
           "name": "GA",
           "text": [
            "GA"
           ],
           "x": [
            "2004"
           ],
           "y": [
            "2974454.5"
           ]
          },
          {
           "mode": "markers",
           "name": "HI",
           "text": [
            "HI"
           ],
           "x": [
            "2004"
           ],
           "y": [
            "718879.75"
           ]
          },
          {
           "mode": "markers",
           "name": "IA",
           "text": [
            "IA"
           ],
           "x": [
            "2004"
           ],
           "y": [
            "119525.916667"
           ]
          },
          {
           "mode": "markers",
           "name": "ID",
           "text": [
            "ID"
           ],
           "x": [
            "2004"
           ],
           "y": [
            "20120.3333333"
           ]
          },
          {
           "mode": "markers",
           "name": "IL",
           "text": [
            "IL"
           ],
           "x": [
            "2004"
           ],
           "y": [
            "3223341.0"
           ]
          },
          {
           "mode": "markers",
           "name": "IN",
           "text": [
            "IN"
           ],
           "x": [
            "2004"
           ],
           "y": [
            "388336.083333"
           ]
          },
          {
           "mode": "markers",
           "name": "KS",
           "text": [
            "KS"
           ],
           "x": [
            "2004"
           ],
           "y": [
            "56164.4166667"
           ]
          },
          {
           "mode": "markers",
           "name": "KY",
           "text": [
            "KY"
           ],
           "x": [
            "2004"
           ],
           "y": [
            "51457.5"
           ]
          },
          {
           "mode": "markers",
           "name": "LA",
           "text": [
            "LA"
           ],
           "x": [
            "2004"
           ],
           "y": [
            "507153.833333"
           ]
          },
          {
           "mode": "markers",
           "name": "MA",
           "text": [
            "MA"
           ],
           "x": [
            "2004"
           ],
           "y": [
            "829951.166667"
           ]
          },
          {
           "mode": "markers",
           "name": "MD",
           "text": [
            "MD"
           ],
           "x": [
            "2004"
           ],
           "y": [
            "769382.166667"
           ]
          },
          {
           "mode": "markers",
           "name": "ME",
           "text": [
            "ME"
           ],
           "x": [
            "2004"
           ],
           "y": [
            "77914.1666667"
           ]
          },
          {
           "mode": "markers",
           "name": "MI",
           "text": [
            "MI"
           ],
           "x": [
            "2004"
           ],
           "y": [
            "1437030.33333"
           ]
          },
          {
           "mode": "markers",
           "name": "MN",
           "text": [
            "MN"
           ],
           "x": [
            "2004"
           ],
           "y": [
            "1285594.0"
           ]
          },
          {
           "mode": "markers",
           "name": "MO",
           "text": [
            "MO"
           ],
           "x": [
            "2004"
           ],
           "y": [
            "965913.333333"
           ]
          },
          {
           "mode": "markers",
           "name": "MS",
           "text": [
            "MS"
           ],
           "x": [
            "2004"
           ],
           "y": [
            "100945.833333"
           ]
          },
          {
           "mode": "markers",
           "name": "MT",
           "text": [
            "MT"
           ],
           "x": [
            "2004"
           ],
           "y": [
            "113204.833333"
           ]
          },
          {
           "mode": "markers",
           "name": "NC",
           "text": [
            "NC"
           ],
           "x": [
            "2004"
           ],
           "y": [
            "1447284.16667"
           ]
          },
          {
           "mode": "markers",
           "name": "ND",
           "text": [
            "ND"
           ],
           "x": [
            "2004"
           ],
           "y": [
            "44437.0"
           ]
          },
          {
           "mode": "markers",
           "name": "NE",
           "text": [
            "NE"
           ],
           "x": [
            "2004"
           ],
           "y": [
            "149618.166667"
           ]
          },
          {
           "mode": "markers",
           "name": "NH",
           "text": [
            "NH"
           ],
           "x": [
            "2004"
           ],
           "y": [
            "163872.083333"
           ]
          },
          {
           "mode": "markers",
           "name": "NJ",
           "text": [
            "NJ"
           ],
           "x": [
            "2004"
           ],
           "y": [
            "920566.083333"
           ]
          },
          {
           "mode": "markers",
           "name": "NM",
           "text": [
            "NM"
           ],
           "x": [
            "2004"
           ],
           "y": [
            "256044.166667"
           ]
          },
          {
           "mode": "markers",
           "name": "NV",
           "text": [
            "NV"
           ],
           "x": [
            "2004"
           ],
           "y": [
            "1704377.58333"
           ]
          },
          {
           "mode": "markers",
           "name": "NY",
           "text": [
            "NY"
           ],
           "x": [
            "2004"
           ],
           "y": [
            "2184913.25"
           ]
          },
          {
           "mode": "markers",
           "name": "OH",
           "text": [
            "OH"
           ],
           "x": [
            "2004"
           ],
           "y": [
            "1677338.5"
           ]
          },
          {
           "mode": "markers",
           "name": "OK",
           "text": [
            "OK"
           ],
           "x": [
            "2004"
           ],
           "y": [
            "256344.25"
           ]
          },
          {
           "mode": "markers",
           "name": "OR",
           "text": [
            "OR"
           ],
           "x": [
            "2004"
           ],
           "y": [
            "518543.916667"
           ]
          },
          {
           "mode": "markers",
           "name": "PA",
           "text": [
            "PA"
           ],
           "x": [
            "2004"
           ],
           "y": [
            "1587693.58333"
           ]
          },
          {
           "mode": "markers",
           "name": "RI",
           "text": [
            "RI"
           ],
           "x": [
            "2004"
           ],
           "y": [
            "224528.583333"
           ]
          },
          {
           "mode": "markers",
           "name": "SC",
           "text": [
            "SC"
           ],
           "x": [
            "2004"
           ],
           "y": [
            "260340.083333"
           ]
          },
          {
           "mode": "markers",
           "name": "SD",
           "text": [
            "SD"
           ],
           "x": [
            "2004"
           ],
           "y": [
            "40550.5833333"
           ]
          },
          {
           "mode": "markers",
           "name": "TN",
           "text": [
            "TN"
           ],
           "x": [
            "2004"
           ],
           "y": [
            "873669.833333"
           ]
          },
          {
           "mode": "markers",
           "name": "TX",
           "text": [
            "TX"
           ],
           "x": [
            "2004"
           ],
           "y": [
            "4631464.58333"
           ]
          },
          {
           "mode": "markers",
           "name": "UT",
           "text": [
            "UT"
           ],
           "x": [
            "2004"
           ],
           "y": [
            "669908.75"
           ]
          },
          {
           "mode": "markers",
           "name": "VA",
           "text": [
            "VA"
           ],
           "x": [
            "2004"
           ],
           "y": [
            "150831.25"
           ]
          },
          {
           "mode": "markers",
           "name": "VT",
           "text": [
            "VT"
           ],
           "x": [
            "2004"
           ],
           "y": [
            "52463.25"
           ]
          },
          {
           "mode": "markers",
           "name": "WA",
           "text": [
            "WA"
           ],
           "x": [
            "2004"
           ],
           "y": [
            "1124005.16667"
           ]
          },
          {
           "mode": "markers",
           "name": "WI",
           "text": [
            "WI"
           ],
           "x": [
            "2004"
           ],
           "y": [
            "402891.666667"
           ]
          },
          {
           "mode": "markers",
           "name": "WV",
           "text": [
            "WV"
           ],
           "x": [
            "2004"
           ],
           "y": [
            "28256.5833333"
           ]
          },
          {
           "mode": "markers",
           "name": "WY",
           "text": [
            "WY"
           ],
           "x": [
            "2004"
           ],
           "y": [
            "13784.0833333"
           ]
          }
         ],
         "name": "2004"
        },
        {
         "data": [
          {
           "mode": "markers",
           "name": "AK",
           "text": [
            "AK"
           ],
           "x": [
            "2005"
           ],
           "y": [
            "224446.833333"
           ]
          },
          {
           "mode": "markers",
           "name": "AL",
           "text": [
            "AL"
           ],
           "x": [
            "2005"
           ],
           "y": [
            "240847.666667"
           ]
          },
          {
           "mode": "markers",
           "name": "AR",
           "text": [
            "AR"
           ],
           "x": [
            "2005"
           ],
           "y": [
            "160733.416667"
           ]
          },
          {
           "mode": "markers",
           "name": "AZ",
           "text": [
            "AZ"
           ],
           "x": [
            "2005"
           ],
           "y": [
            "1685192.83333"
           ]
          },
          {
           "mode": "markers",
           "name": "CA",
           "text": [
            "CA"
           ],
           "x": [
            "2005"
           ],
           "y": [
            "5017435.0"
           ]
          },
          {
           "mode": "markers",
           "name": "CO",
           "text": [
            "CO"
           ],
           "x": [
            "2005"
           ],
           "y": [
            "81087.25"
           ]
          },
          {
           "mode": "markers",
           "name": "CT",
           "text": [
            "CT"
           ],
           "x": [
            "2005"
           ],
           "y": [
            "295756.666667"
           ]
          },
          {
           "mode": "markers",
           "name": "DC",
           "text": [
            "DC"
           ],
           "x": [
            "2005"
           ],
           "y": [
            "1502103.33333"
           ]
          },
          {
           "mode": "markers",
           "name": "DE",
           "text": [
            "DE"
           ],
           "x": [
            "2005"
           ],
           "y": [
            "170.909090909"
           ]
          },
          {
           "mode": "markers",
           "name": "FL",
           "text": [
            "FL"
           ],
           "x": [
            "2005"
           ],
           "y": [
            "4034347.25"
           ]
          },
          {
           "mode": "markers",
           "name": "GA",
           "text": [
            "GA"
           ],
           "x": [
            "2005"
           ],
           "y": [
            "3037739.25"
           ]
          },
          {
           "mode": "markers",
           "name": "HI",
           "text": [
            "HI"
           ],
           "x": [
            "2005"
           ],
           "y": [
            "747577.666667"
           ]
          },
          {
           "mode": "markers",
           "name": "IA",
           "text": [
            "IA"
           ],
           "x": [
            "2005"
           ],
           "y": [
            "116534.75"
           ]
          },
          {
           "mode": "markers",
           "name": "ID",
           "text": [
            "ID"
           ],
           "x": [
            "2005"
           ],
           "y": [
            "21779.3333333"
           ]
          },
          {
           "mode": "markers",
           "name": "IL",
           "text": [
            "IL"
           ],
           "x": [
            "2005"
           ],
           "y": [
            "3174431.75"
           ]
          },
          {
           "mode": "markers",
           "name": "IN",
           "text": [
            "IN"
           ],
           "x": [
            "2005"
           ],
           "y": [
            "401249.333333"
           ]
          },
          {
           "mode": "markers",
           "name": "KS",
           "text": [
            "KS"
           ],
           "x": [
            "2005"
           ],
           "y": [
            "55683.8333333"
           ]
          },
          {
           "mode": "markers",
           "name": "KY",
           "text": [
            "KY"
           ],
           "x": [
            "2005"
           ],
           "y": [
            "47966.0833333"
           ]
          },
          {
           "mode": "markers",
           "name": "LA",
           "text": [
            "LA"
           ],
           "x": [
            "2005"
           ],
           "y": [
            "435697.833333"
           ]
          },
          {
           "mode": "markers",
           "name": "MA",
           "text": [
            "MA"
           ],
           "x": [
            "2005"
           ],
           "y": [
            "856565.166667"
           ]
          },
          {
           "mode": "markers",
           "name": "MD",
           "text": [
            "MD"
           ],
           "x": [
            "2005"
           ],
           "y": [
            "752388.333333"
           ]
          },
          {
           "mode": "markers",
           "name": "ME",
           "text": [
            "ME"
           ],
           "x": [
            "2005"
           ],
           "y": [
            "83053.5833333"
           ]
          },
          {
           "mode": "markers",
           "name": "MI",
           "text": [
            "MI"
           ],
           "x": [
            "2005"
           ],
           "y": [
            "1466151.5"
           ]
          },
          {
           "mode": "markers",
           "name": "MN",
           "text": [
            "MN"
           ],
           "x": [
            "2005"
           ],
           "y": [
            "1317970.16667"
           ]
          },
          {
           "mode": "markers",
           "name": "MO",
           "text": [
            "MO"
           ],
           "x": [
            "2005"
           ],
           "y": [
            "1010030.83333"
           ]
          },
          {
           "mode": "markers",
           "name": "MS",
           "text": [
            "MS"
           ],
           "x": [
            "2005"
           ],
           "y": [
            "105944.666667"
           ]
          },
          {
           "mode": "markers",
           "name": "MT",
           "text": [
            "MT"
           ],
           "x": [
            "2005"
           ],
           "y": [
            "117629.25"
           ]
          },
          {
           "mode": "markers",
           "name": "NC",
           "text": [
            "NC"
           ],
           "x": [
            "2005"
           ],
           "y": [
            "1603837.83333"
           ]
          },
          {
           "mode": "markers",
           "name": "ND",
           "text": [
            "ND"
           ],
           "x": [
            "2005"
           ],
           "y": [
            "46161.9166667"
           ]
          },
          {
           "mode": "markers",
           "name": "NE",
           "text": [
            "NE"
           ],
           "x": [
            "2005"
           ],
           "y": [
            "163061.416667"
           ]
          },
          {
           "mode": "markers",
           "name": "NH",
           "text": [
            "NH"
           ],
           "x": [
            "2005"
           ],
           "y": [
            "178297.5"
           ]
          },
          {
           "mode": "markers",
           "name": "NJ",
           "text": [
            "NJ"
           ],
           "x": [
            "2005"
           ],
           "y": [
            "947853.5"
           ]
          },
          {
           "mode": "markers",
           "name": "NM",
           "text": [
            "NM"
           ],
           "x": [
            "2005"
           ],
           "y": [
            "267560.583333"
           ]
          },
          {
           "mode": "markers",
           "name": "NV",
           "text": [
            "NV"
           ],
           "x": [
            "2005"
           ],
           "y": [
            "1788551.0"
           ]
          },
          {
           "mode": "markers",
           "name": "NY",
           "text": [
            "NY"
           ],
           "x": [
            "2005"
           ],
           "y": [
            "2319521.33333"
           ]
          },
          {
           "mode": "markers",
           "name": "OH",
           "text": [
            "OH"
           ],
           "x": [
            "2005"
           ],
           "y": [
            "1704569.58333"
           ]
          },
          {
           "mode": "markers",
           "name": "OK",
           "text": [
            "OK"
           ],
           "x": [
            "2005"
           ],
           "y": [
            "270058.583333"
           ]
          },
          {
           "mode": "markers",
           "name": "OR",
           "text": [
            "OR"
           ],
           "x": [
            "2005"
           ],
           "y": [
            "553311.666667"
           ]
          },
          {
           "mode": "markers",
           "name": "PA",
           "text": [
            "PA"
           ],
           "x": [
            "2005"
           ],
           "y": [
            "1602334.75"
           ]
          },
          {
           "mode": "markers",
           "name": "RI",
           "text": [
            "RI"
           ],
           "x": [
            "2005"
           ],
           "y": [
            "231831.583333"
           ]
          },
          {
           "mode": "markers",
           "name": "SC",
           "text": [
            "SC"
           ],
           "x": [
            "2005"
           ],
           "y": [
            "294480.333333"
           ]
          },
          {
           "mode": "markers",
           "name": "SD",
           "text": [
            "SD"
           ],
           "x": [
            "2005"
           ],
           "y": [
            "43504.5833333"
           ]
          },
          {
           "mode": "markers",
           "name": "TN",
           "text": [
            "TN"
           ],
           "x": [
            "2005"
           ],
           "y": [
            "922766.583333"
           ]
          },
          {
           "mode": "markers",
           "name": "TX",
           "text": [
            "TX"
           ],
           "x": [
            "2005"
           ],
           "y": [
            "4781279.33333"
           ]
          },
          {
           "mode": "markers",
           "name": "UT",
           "text": [
            "UT"
           ],
           "x": [
            "2005"
           ],
           "y": [
            "796476.5"
           ]
          },
          {
           "mode": "markers",
           "name": "VA",
           "text": [
            "VA"
           ],
           "x": [
            "2005"
           ],
           "y": [
            "170982.833333"
           ]
          },
          {
           "mode": "markers",
           "name": "VT",
           "text": [
            "VT"
           ],
           "x": [
            "2005"
           ],
           "y": [
            "57796.4166667"
           ]
          },
          {
           "mode": "markers",
           "name": "WA",
           "text": [
            "WA"
           ],
           "x": [
            "2005"
           ],
           "y": [
            "1142889.91667"
           ]
          },
          {
           "mode": "markers",
           "name": "WI",
           "text": [
            "WI"
           ],
           "x": [
            "2005"
           ],
           "y": [
            "424544.833333"
           ]
          },
          {
           "mode": "markers",
           "name": "WV",
           "text": [
            "WV"
           ],
           "x": [
            "2005"
           ],
           "y": [
            "30390.5833333"
           ]
          },
          {
           "mode": "markers",
           "name": "WY",
           "text": [
            "WY"
           ],
           "x": [
            "2005"
           ],
           "y": [
            "18050.8333333"
           ]
          }
         ],
         "name": "2005"
        },
        {
         "data": [
          {
           "mode": "markers",
           "name": "AK",
           "text": [
            "AK"
           ],
           "x": [
            "2006"
           ],
           "y": [
            "224275.5"
           ]
          },
          {
           "mode": "markers",
           "name": "AL",
           "text": [
            "AL"
           ],
           "x": [
            "2006"
           ],
           "y": [
            "223444.25"
           ]
          },
          {
           "mode": "markers",
           "name": "AR",
           "text": [
            "AR"
           ],
           "x": [
            "2006"
           ],
           "y": [
            "157760.416667"
           ]
          },
          {
           "mode": "markers",
           "name": "AZ",
           "text": [
            "AZ"
           ],
           "x": [
            "2006"
           ],
           "y": [
            "1687455.83333"
           ]
          },
          {
           "mode": "markers",
           "name": "CA",
           "text": [
            "CA"
           ],
           "x": [
            "2006"
           ],
           "y": [
            "5012470.5"
           ]
          },
          {
           "mode": "markers",
           "name": "CO",
           "text": [
            "CO"
           ],
           "x": [
            "2006"
           ],
           "y": [
            "80801.75"
           ]
          },
          {
           "mode": "markers",
           "name": "CT",
           "text": [
            "CT"
           ],
           "x": [
            "2006"
           ],
           "y": [
            "277215.666667"
           ]
          },
          {
           "mode": "markers",
           "name": "DC",
           "text": [
            "DC"
           ],
           "x": [
            "2006"
           ],
           "y": [
            "1352769.83333"
           ]
          },
          {
           "mode": "markers",
           "name": "DE",
           "text": [
            "DE"
           ],
           "x": [
            "2006"
           ],
           "y": [
            "887.7"
           ]
          },
          {
           "mode": "markers",
           "name": "FL",
           "text": [
            "FL"
           ],
           "x": [
            "2006"
           ],
           "y": [
            "4010012.83333"
           ]
          },
          {
           "mode": "markers",
           "name": "GA",
           "text": [
            "GA"
           ],
           "x": [
            "2006"
           ],
           "y": [
            "2923496.66667"
           ]
          },
          {
           "mode": "markers",
           "name": "HI",
           "text": [
            "HI"
           ],
           "x": [
            "2006"
           ],
           "y": [
            "761441.083333"
           ]
          },
          {
           "mode": "markers",
           "name": "IA",
           "text": [
            "IA"
           ],
           "x": [
            "2006"
           ],
           "y": [
            "120050.416667"
           ]
          },
          {
           "mode": "markers",
           "name": "ID",
           "text": [
            "ID"
           ],
           "x": [
            "2006"
           ],
           "y": [
            "20120.0833333"
           ]
          },
          {
           "mode": "markers",
           "name": "IL",
           "text": [
            "IL"
           ],
           "x": [
            "2006"
           ],
           "y": [
            "3207074.33333"
           ]
          },
          {
           "mode": "markers",
           "name": "IN",
           "text": [
            "IN"
           ],
           "x": [
            "2006"
           ],
           "y": [
            "391730.583333"
           ]
          },
          {
           "mode": "markers",
           "name": "KS",
           "text": [
            "KS"
           ],
           "x": [
            "2006"
           ],
           "y": [
            "54801.9166667"
           ]
          },
          {
           "mode": "markers",
           "name": "KY",
           "text": [
            "KY"
           ],
           "x": [
            "2006"
           ],
           "y": [
            "44774.0"
           ]
          },
          {
           "mode": "markers",
           "name": "LA",
           "text": [
            "LA"
           ],
           "x": [
            "2006"
           ],
           "y": [
            "367940.416667"
           ]
          },
          {
           "mode": "markers",
           "name": "MA",
           "text": [
            "MA"
           ],
           "x": [
            "2006"
           ],
           "y": [
            "889380.583333"
           ]
          },
          {
           "mode": "markers",
           "name": "MD",
           "text": [
            "MD"
           ],
           "x": [
            "2006"
           ],
           "y": [
            "792010.333333"
           ]
          },
          {
           "mode": "markers",
           "name": "ME",
           "text": [
            "ME"
           ],
           "x": [
            "2006"
           ],
           "y": [
            "78177.1666667"
           ]
          },
          {
           "mode": "markers",
           "name": "MI",
           "text": [
            "MI"
           ],
           "x": [
            "2006"
           ],
           "y": [
            "1444924.25"
           ]
          },
          {
           "mode": "markers",
           "name": "MN",
           "text": [
            "MN"
           ],
           "x": [
            "2006"
           ],
           "y": [
            "1272512.66667"
           ]
          },
          {
           "mode": "markers",
           "name": "MO",
           "text": [
            "MO"
           ],
           "x": [
            "2006"
           ],
           "y": [
            "1051907.16667"
           ]
          },
          {
           "mode": "markers",
           "name": "MS",
           "text": [
            "MS"
           ],
           "x": [
            "2006"
           ],
           "y": [
            "105379.25"
           ]
          },
          {
           "mode": "markers",
           "name": "MT",
           "text": [
            "MT"
           ],
           "x": [
            "2006"
           ],
           "y": [
            "107596.416667"
           ]
          },
          {
           "mode": "markers",
           "name": "NC",
           "text": [
            "NC"
           ],
           "x": [
            "2006"
           ],
           "y": [
            "1634345.25"
           ]
          },
          {
           "mode": "markers",
           "name": "ND",
           "text": [
            "ND"
           ],
           "x": [
            "2006"
           ],
           "y": [
            "47480.0833333"
           ]
          },
          {
           "mode": "markers",
           "name": "NE",
           "text": [
            "NE"
           ],
           "x": [
            "2006"
           ],
           "y": [
            "161145.166667"
           ]
          },
          {
           "mode": "markers",
           "name": "NH",
           "text": [
            "NH"
           ],
           "x": [
            "2006"
           ],
           "y": [
            "160111.25"
           ]
          },
          {
           "mode": "markers",
           "name": "NJ",
           "text": [
            "NJ"
           ],
           "x": [
            "2006"
           ],
           "y": [
            "1010209.91667"
           ]
          },
          {
           "mode": "markers",
           "name": "NM",
           "text": [
            "NM"
           ],
           "x": [
            "2006"
           ],
           "y": [
            "270752.083333"
           ]
          },
          {
           "mode": "markers",
           "name": "NV",
           "text": [
            "NV"
           ],
           "x": [
            "2006"
           ],
           "y": [
            "1801225.41667"
           ]
          },
          {
           "mode": "markers",
           "name": "NY",
           "text": [
            "NY"
           ],
           "x": [
            "2006"
           ],
           "y": [
            "2351207.75"
           ]
          },
          {
           "mode": "markers",
           "name": "OH",
           "text": [
            "OH"
           ],
           "x": [
            "2006"
           ],
           "y": [
            "1460938.83333"
           ]
          },
          {
           "mode": "markers",
           "name": "OK",
           "text": [
            "OK"
           ],
           "x": [
            "2006"
           ],
           "y": [
            "267570.0"
           ]
          },
          {
           "mode": "markers",
           "name": "OR",
           "text": [
            "OR"
           ],
           "x": [
            "2006"
           ],
           "y": [
            "562997.5"
           ]
          },
          {
           "mode": "markers",
           "name": "PA",
           "text": [
            "PA"
           ],
           "x": [
            "2006"
           ],
           "y": [
            "1581536.33333"
           ]
          },
          {
           "mode": "markers",
           "name": "RI",
           "text": [
            "RI"
           ],
           "x": [
            "2006"
           ],
           "y": [
            "212600.583333"
           ]
          },
          {
           "mode": "markers",
           "name": "SC",
           "text": [
            "SC"
           ],
           "x": [
            "2006"
           ],
           "y": [
            "258088.916667"
           ]
          },
          {
           "mode": "markers",
           "name": "SD",
           "text": [
            "SD"
           ],
           "x": [
            "2006"
           ],
           "y": [
            "42530.8333333"
           ]
          },
          {
           "mode": "markers",
           "name": "TN",
           "text": [
            "TN"
           ],
           "x": [
            "2006"
           ],
           "y": [
            "923059.25"
           ]
          },
          {
           "mode": "markers",
           "name": "TX",
           "text": [
            "TX"
           ],
           "x": [
            "2006"
           ],
           "y": [
            "5026353.83333"
           ]
          },
          {
           "mode": "markers",
           "name": "UT",
           "text": [
            "UT"
           ],
           "x": [
            "2006"
           ],
           "y": [
            "740696.416667"
           ]
          },
          {
           "mode": "markers",
           "name": "VA",
           "text": [
            "VA"
           ],
           "x": [
            "2006"
           ],
           "y": [
            "185749.916667"
           ]
          },
          {
           "mode": "markers",
           "name": "VT",
           "text": [
            "VT"
           ],
           "x": [
            "2006"
           ],
           "y": [
            "56602.9166667"
           ]
          },
          {
           "mode": "markers",
           "name": "WA",
           "text": [
            "WA"
           ],
           "x": [
            "2006"
           ],
           "y": [
            "1170479.16667"
           ]
          },
          {
           "mode": "markers",
           "name": "WI",
           "text": [
            "WI"
           ],
           "x": [
            "2006"
           ],
           "y": [
            "430070.583333"
           ]
          },
          {
           "mode": "markers",
           "name": "WV",
           "text": [
            "WV"
           ],
           "x": [
            "2006"
           ],
           "y": [
            "25351.9166667"
           ]
          },
          {
           "mode": "markers",
           "name": "WY",
           "text": [
            "WY"
           ],
           "x": [
            "2006"
           ],
           "y": [
            "19252.8333333"
           ]
          }
         ],
         "name": "2006"
        },
        {
         "data": [
          {
           "mode": "markers",
           "name": "AK",
           "text": [
            "AK"
           ],
           "x": [
            "2007"
           ],
           "y": [
            "230588.5"
           ]
          },
          {
           "mode": "markers",
           "name": "AL",
           "text": [
            "AL"
           ],
           "x": [
            "2007"
           ],
           "y": [
            "236863.75"
           ]
          },
          {
           "mode": "markers",
           "name": "AR",
           "text": [
            "AR"
           ],
           "x": [
            "2007"
           ],
           "y": [
            "162434.25"
           ]
          },
          {
           "mode": "markers",
           "name": "AZ",
           "text": [
            "AZ"
           ],
           "x": [
            "2007"
           ],
           "y": [
            "1712301.0"
           ]
          },
          {
           "mode": "markers",
           "name": "CA",
           "text": [
            "CA"
           ],
           "x": [
            "2007"
           ],
           "y": [
            "5192987.41667"
           ]
          },
          {
           "mode": "markers",
           "name": "CO",
           "text": [
            "CO"
           ],
           "x": [
            "2007"
           ],
           "y": [
            "82938.25"
           ]
          },
          {
           "mode": "markers",
           "name": "CT",
           "text": [
            "CT"
           ],
           "x": [
            "2007"
           ],
           "y": [
            "259066.666667"
           ]
          },
          {
           "mode": "markers",
           "name": "DC",
           "text": [
            "DC"
           ],
           "x": [
            "2007"
           ],
           "y": [
            "1396494.66667"
           ]
          },
          {
           "mode": "markers",
           "name": "DE",
           "text": [
            "DE"
           ],
           "x": [
            "2007"
           ],
           "y": [
            "979.083333333"
           ]
          },
          {
           "mode": "markers",
           "name": "FL",
           "text": [
            "FL"
           ],
           "x": [
            "2007"
           ],
           "y": [
            "4064983.33333"
           ]
          },
          {
           "mode": "markers",
           "name": "GA",
           "text": [
            "GA"
           ],
           "x": [
            "2007"
           ],
           "y": [
            "3031133.83333"
           ]
          },
          {
           "mode": "markers",
           "name": "HI",
           "text": [
            "HI"
           ],
           "x": [
            "2007"
           ],
           "y": [
            "815123.833333"
           ]
          },
          {
           "mode": "markers",
           "name": "IA",
           "text": [
            "IA"
           ],
           "x": [
            "2007"
           ],
           "y": [
            "120100.833333"
           ]
          },
          {
           "mode": "markers",
           "name": "ID",
           "text": [
            "ID"
           ],
           "x": [
            "2007"
           ],
           "y": [
            "19924.3333333"
           ]
          },
          {
           "mode": "markers",
           "name": "IL",
           "text": [
            "IL"
           ],
           "x": [
            "2007"
           ],
           "y": [
            "3185161.41667"
           ]
          },
          {
           "mode": "markers",
           "name": "IN",
           "text": [
            "IN"
           ],
           "x": [
            "2007"
           ],
           "y": [
            "393213.25"
           ]
          },
          {
           "mode": "markers",
           "name": "KS",
           "text": [
            "KS"
           ],
           "x": [
            "2007"
           ],
           "y": [
            "58784.0833333"
           ]
          },
          {
           "mode": "markers",
           "name": "KY",
           "text": [
            "KY"
           ],
           "x": [
            "2007"
           ],
           "y": [
            "45397.8333333"
           ]
          },
          {
           "mode": "markers",
           "name": "LA",
           "text": [
            "LA"
           ],
           "x": [
            "2007"
           ],
           "y": [
            "423612.916667"
           ]
          },
          {
           "mode": "markers",
           "name": "MA",
           "text": [
            "MA"
           ],
           "x": [
            "2007"
           ],
           "y": [
            "906255.25"
           ]
          },
          {
           "mode": "markers",
           "name": "MD",
           "text": [
            "MD"
           ],
           "x": [
            "2007"
           ],
           "y": [
            "809925.916667"
           ]
          },
          {
           "mode": "markers",
           "name": "ME",
           "text": [
            "ME"
           ],
           "x": [
            "2007"
           ],
           "y": [
            "86322.1666667"
           ]
          },
          {
           "mode": "markers",
           "name": "MI",
           "text": [
            "MI"
           ],
           "x": [
            "2007"
           ],
           "y": [
            "1425565.83333"
           ]
          },
          {
           "mode": "markers",
           "name": "MN",
           "text": [
            "MN"
           ],
           "x": [
            "2007"
           ],
           "y": [
            "1256270.75"
           ]
          },
          {
           "mode": "markers",
           "name": "MO",
           "text": [
            "MO"
           ],
           "x": [
            "2007"
           ],
           "y": [
            "1084835.66667"
           ]
          },
          {
           "mode": "markers",
           "name": "MS",
           "text": [
            "MS"
           ],
           "x": [
            "2007"
           ],
           "y": [
            "108764.25"
           ]
          },
          {
           "mode": "markers",
           "name": "MT",
           "text": [
            "MT"
           ],
           "x": [
            "2007"
           ],
           "y": [
            "105363.333333"
           ]
          },
          {
           "mode": "markers",
           "name": "NC",
           "text": [
            "NC"
           ],
           "x": [
            "2007"
           ],
           "y": [
            "1799711.5"
           ]
          },
          {
           "mode": "markers",
           "name": "ND",
           "text": [
            "ND"
           ],
           "x": [
            "2007"
           ],
           "y": [
            "46012.8333333"
           ]
          },
          {
           "mode": "markers",
           "name": "NE",
           "text": [
            "NE"
           ],
           "x": [
            "2007"
           ],
           "y": [
            "165936.333333"
           ]
          },
          {
           "mode": "markers",
           "name": "NH",
           "text": [
            "NH"
           ],
           "x": [
            "2007"
           ],
           "y": [
            "159451.75"
           ]
          },
          {
           "mode": "markers",
           "name": "NJ",
           "text": [
            "NJ"
           ],
           "x": [
            "2007"
           ],
           "y": [
            "1026416.58333"
           ]
          },
          {
           "mode": "markers",
           "name": "NM",
           "text": [
            "NM"
           ],
           "x": [
            "2007"
           ],
           "y": [
            "285668.25"
           ]
          },
          {
           "mode": "markers",
           "name": "NV",
           "text": [
            "NV"
           ],
           "x": [
            "2007"
           ],
           "y": [
            "1827763.41667"
           ]
          },
          {
           "mode": "markers",
           "name": "NY",
           "text": [
            "NY"
           ],
           "x": [
            "2007"
           ],
           "y": [
            "2460886.91667"
           ]
          },
          {
           "mode": "markers",
           "name": "OH",
           "text": [
            "OH"
           ],
           "x": [
            "2007"
           ],
           "y": [
            "1492533.33333"
           ]
          },
          {
           "mode": "markers",
           "name": "OK",
           "text": [
            "OK"
           ],
           "x": [
            "2007"
           ],
           "y": [
            "277142.416667"
           ]
          },
          {
           "mode": "markers",
           "name": "OR",
           "text": [
            "OR"
           ],
           "x": [
            "2007"
           ],
           "y": [
            "590979.25"
           ]
          },
          {
           "mode": "markers",
           "name": "PA",
           "text": [
            "PA"
           ],
           "x": [
            "2007"
           ],
           "y": [
            "1602586.08333"
           ]
          },
          {
           "mode": "markers",
           "name": "RI",
           "text": [
            "RI"
           ],
           "x": [
            "2007"
           ],
           "y": [
            "204680.666667"
           ]
          },
          {
           "mode": "markers",
           "name": "SC",
           "text": [
            "SC"
           ],
           "x": [
            "2007"
           ],
           "y": [
            "282814.333333"
           ]
          },
          {
           "mode": "markers",
           "name": "SD",
           "text": [
            "SD"
           ],
           "x": [
            "2007"
           ],
           "y": [
            "44599.6666667"
           ]
          },
          {
           "mode": "markers",
           "name": "TN",
           "text": [
            "TN"
           ],
           "x": [
            "2007"
           ],
           "y": [
            "936283.75"
           ]
          },
          {
           "mode": "markers",
           "name": "TX",
           "text": [
            "TX"
           ],
           "x": [
            "2007"
           ],
           "y": [
            "5125967.41667"
           ]
          },
          {
           "mode": "markers",
           "name": "UT",
           "text": [
            "UT"
           ],
           "x": [
            "2007"
           ],
           "y": [
            "758198.833333"
           ]
          },
          {
           "mode": "markers",
           "name": "VA",
           "text": [
            "VA"
           ],
           "x": [
            "2007"
           ],
           "y": [
            "200276.916667"
           ]
          },
          {
           "mode": "markers",
           "name": "VT",
           "text": [
            "VT"
           ],
           "x": [
            "2007"
           ],
           "y": [
            "58718.25"
           ]
          },
          {
           "mode": "markers",
           "name": "WA",
           "text": [
            "WA"
           ],
           "x": [
            "2007"
           ],
           "y": [
            "1230528.75"
           ]
          },
          {
           "mode": "markers",
           "name": "WI",
           "text": [
            "WI"
           ],
           "x": [
            "2007"
           ],
           "y": [
            "437250.916667"
           ]
          },
          {
           "mode": "markers",
           "name": "WV",
           "text": [
            "WV"
           ],
           "x": [
            "2007"
           ],
           "y": [
            "23826.75"
           ]
          },
          {
           "mode": "markers",
           "name": "WY",
           "text": [
            "WY"
           ],
           "x": [
            "2007"
           ],
           "y": [
            "17829.75"
           ]
          }
         ],
         "name": "2007"
        },
        {
         "data": [
          {
           "mode": "markers",
           "name": "AK",
           "text": [
            "AK"
           ],
           "x": [
            "2008"
           ],
           "y": [
            "224648.833333"
           ]
          },
          {
           "mode": "markers",
           "name": "AL",
           "text": [
            "AL"
           ],
           "x": [
            "2008"
           ],
           "y": [
            "235359.916667"
           ]
          },
          {
           "mode": "markers",
           "name": "AR",
           "text": [
            "AR"
           ],
           "x": [
            "2008"
           ],
           "y": [
            "154253.666667"
           ]
          },
          {
           "mode": "markers",
           "name": "AZ",
           "text": [
            "AZ"
           ],
           "x": [
            "2008"
           ],
           "y": [
            "1622381.5"
           ]
          },
          {
           "mode": "markers",
           "name": "CA",
           "text": [
            "CA"
           ],
           "x": [
            "2008"
           ],
           "y": [
            "4921481.75"
           ]
          },
          {
           "mode": "markers",
           "name": "CO",
           "text": [
            "CO"
           ],
           "x": [
            "2008"
           ],
           "y": [
            "76660.5833333"
           ]
          },
          {
           "mode": "markers",
           "name": "CT",
           "text": [
            "CT"
           ],
           "x": [
            "2008"
           ],
           "y": [
            "241621.75"
           ]
          },
          {
           "mode": "markers",
           "name": "DC",
           "text": [
            "DC"
           ],
           "x": [
            "2008"
           ],
           "y": [
            "1332891.08333"
           ]
          },
          {
           "mode": "markers",
           "name": "DE",
           "text": [
            "DE"
           ],
           "x": [
            "2008"
           ],
           "y": [
            "105.0"
           ]
          },
          {
           "mode": "markers",
           "name": "FL",
           "text": [
            "FL"
           ],
           "x": [
            "2008"
           ],
           "y": [
            "3941691.58333"
           ]
          },
          {
           "mode": "markers",
           "name": "GA",
           "text": [
            "GA"
           ],
           "x": [
            "2008"
           ],
           "y": [
            "3063138.5"
           ]
          },
          {
           "mode": "markers",
           "name": "HI",
           "text": [
            "HI"
           ],
           "x": [
            "2008"
           ],
           "y": [
            "694077.166667"
           ]
          },
          {
           "mode": "markers",
           "name": "IA",
           "text": [
            "IA"
           ],
           "x": [
            "2008"
           ],
           "y": [
            "114250.416667"
           ]
          },
          {
           "mode": "markers",
           "name": "ID",
           "text": [
            "ID"
           ],
           "x": [
            "2008"
           ],
           "y": [
            "18131.5833333"
           ]
          },
          {
           "mode": "markers",
           "name": "IL",
           "text": [
            "IL"
           ],
           "x": [
            "2008"
           ],
           "y": [
            "2903226.0"
           ]
          },
          {
           "mode": "markers",
           "name": "IN",
           "text": [
            "IN"
           ],
           "x": [
            "2008"
           ],
           "y": [
            "378571.166667"
           ]
          },
          {
           "mode": "markers",
           "name": "KS",
           "text": [
            "KS"
           ],
           "x": [
            "2008"
           ],
           "y": [
            "56373.25"
           ]
          },
          {
           "mode": "markers",
           "name": "KY",
           "text": [
            "KY"
           ],
           "x": [
            "2008"
           ],
           "y": [
            "43066.5833333"
           ]
          },
          {
           "mode": "markers",
           "name": "LA",
           "text": [
            "LA"
           ],
           "x": [
            "2008"
           ],
           "y": [
            "428609.833333"
           ]
          },
          {
           "mode": "markers",
           "name": "MA",
           "text": [
            "MA"
           ],
           "x": [
            "2008"
           ],
           "y": [
            "845357.083333"
           ]
          },
          {
           "mode": "markers",
           "name": "MD",
           "text": [
            "MD"
           ],
           "x": [
            "2008"
           ],
           "y": [
            "789952.416667"
           ]
          },
          {
           "mode": "markers",
           "name": "ME",
           "text": [
            "ME"
           ],
           "x": [
            "2008"
           ],
           "y": [
            "89479.5"
           ]
          },
          {
           "mode": "markers",
           "name": "MI",
           "text": [
            "MI"
           ],
           "x": [
            "2008"
           ],
           "y": [
            "1366068.5"
           ]
          },
          {
           "mode": "markers",
           "name": "MN",
           "text": [
            "MN"
           ],
           "x": [
            "2008"
           ],
           "y": [
            "1203593.5"
           ]
          },
          {
           "mode": "markers",
           "name": "MO",
           "text": [
            "MO"
           ],
           "x": [
            "2008"
           ],
           "y": [
            "1013696.25"
           ]
          },
          {
           "mode": "markers",
           "name": "MS",
           "text": [
            "MS"
           ],
           "x": [
            "2008"
           ],
           "y": [
            "107927.333333"
           ]
          },
          {
           "mode": "markers",
           "name": "MT",
           "text": [
            "MT"
           ],
           "x": [
            "2008"
           ],
           "y": [
            "99614.3333333"
           ]
          },
          {
           "mode": "markers",
           "name": "NC",
           "text": [
            "NC"
           ],
           "x": [
            "2008"
           ],
           "y": [
            "1826902.91667"
           ]
          },
          {
           "mode": "markers",
           "name": "ND",
           "text": [
            "ND"
           ],
           "x": [
            "2008"
           ],
           "y": [
            "47883.9166667"
           ]
          },
          {
           "mode": "markers",
           "name": "NE",
           "text": [
            "NE"
           ],
           "x": [
            "2008"
           ],
           "y": [
            "159522.916667"
           ]
          },
          {
           "mode": "markers",
           "name": "NH",
           "text": [
            "NH"
           ],
           "x": [
            "2008"
           ],
           "y": [
            "152299.0"
           ]
          },
          {
           "mode": "markers",
           "name": "NJ",
           "text": [
            "NJ"
           ],
           "x": [
            "2008"
           ],
           "y": [
            "974505.583333"
           ]
          },
          {
           "mode": "markers",
           "name": "NM",
           "text": [
            "NM"
           ],
           "x": [
            "2008"
           ],
           "y": [
            "271993.083333"
           ]
          },
          {
           "mode": "markers",
           "name": "NV",
           "text": [
            "NV"
           ],
           "x": [
            "2008"
           ],
           "y": [
            "1694450.33333"
           ]
          },
          {
           "mode": "markers",
           "name": "NY",
           "text": [
            "NY"
           ],
           "x": [
            "2008"
           ],
           "y": [
            "2375028.91667"
           ]
          },
          {
           "mode": "markers",
           "name": "OH",
           "text": [
            "OH"
           ],
           "x": [
            "2008"
           ],
           "y": [
            "1362550.66667"
           ]
          },
          {
           "mode": "markers",
           "name": "OK",
           "text": [
            "OK"
           ],
           "x": [
            "2008"
           ],
           "y": [
            "272883.333333"
           ]
          },
          {
           "mode": "markers",
           "name": "OR",
           "text": [
            "OR"
           ],
           "x": [
            "2008"
           ],
           "y": [
            "570474.25"
           ]
          },
          {
           "mode": "markers",
           "name": "PA",
           "text": [
            "PA"
           ],
           "x": [
            "2008"
           ],
           "y": [
            "1542936.0"
           ]
          },
          {
           "mode": "markers",
           "name": "RI",
           "text": [
            "RI"
           ],
           "x": [
            "2008"
           ],
           "y": [
            "193963.416667"
           ]
          },
          {
           "mode": "markers",
           "name": "SC",
           "text": [
            "SC"
           ],
           "x": [
            "2008"
           ],
           "y": [
            "270393.25"
           ]
          },
          {
           "mode": "markers",
           "name": "SD",
           "text": [
            "SD"
           ],
           "x": [
            "2008"
           ],
           "y": [
            "42190.1666667"
           ]
          },
          {
           "mode": "markers",
           "name": "TN",
           "text": [
            "TN"
           ],
           "x": [
            "2008"
           ],
           "y": [
            "893682.75"
           ]
          },
          {
           "mode": "markers",
           "name": "TX",
           "text": [
            "TX"
           ],
           "x": [
            "2008"
           ],
           "y": [
            "4950741.25"
           ]
          },
          {
           "mode": "markers",
           "name": "UT",
           "text": [
            "UT"
           ],
           "x": [
            "2008"
           ],
           "y": [
            "714229.0"
           ]
          },
          {
           "mode": "markers",
           "name": "VA",
           "text": [
            "VA"
           ],
           "x": [
            "2008"
           ],
           "y": [
            "189937.166667"
           ]
          },
          {
           "mode": "markers",
           "name": "VT",
           "text": [
            "VT"
           ],
           "x": [
            "2008"
           ],
           "y": [
            "62614.1666667"
           ]
          },
          {
           "mode": "markers",
           "name": "WA",
           "text": [
            "WA"
           ],
           "x": [
            "2008"
           ],
           "y": [
            "1238462.16667"
           ]
          },
          {
           "mode": "markers",
           "name": "WI",
           "text": [
            "WI"
           ],
           "x": [
            "2008"
           ],
           "y": [
            "433027.833333"
           ]
          },
          {
           "mode": "markers",
           "name": "WV",
           "text": [
            "WV"
           ],
           "x": [
            "2008"
           ],
           "y": [
            "22735.1666667"
           ]
          },
          {
           "mode": "markers",
           "name": "WY",
           "text": [
            "WY"
           ],
           "x": [
            "2008"
           ],
           "y": [
            "20256.9166667"
           ]
          }
         ],
         "name": "2008"
        },
        {
         "data": [
          {
           "mode": "markers",
           "name": "AK",
           "text": [
            "AK"
           ],
           "x": [
            "2009"
           ],
           "y": [
            "208444.25"
           ]
          },
          {
           "mode": "markers",
           "name": "AL",
           "text": [
            "AL"
           ],
           "x": [
            "2009"
           ],
           "y": [
            "211533.666667"
           ]
          },
          {
           "mode": "markers",
           "name": "AR",
           "text": [
            "AR"
           ],
           "x": [
            "2009"
           ],
           "y": [
            "143663.916667"
           ]
          },
          {
           "mode": "markers",
           "name": "AZ",
           "text": [
            "AZ"
           ],
           "x": [
            "2009"
           ],
           "y": [
            "1532344.0"
           ]
          },
          {
           "mode": "markers",
           "name": "CA",
           "text": [
            "CA"
           ],
           "x": [
            "2009"
           ],
           "y": [
            "4685129.75"
           ]
          },
          {
           "mode": "markers",
           "name": "CO",
           "text": [
            "CO"
           ],
           "x": [
            "2009"
           ],
           "y": [
            "70114.3333333"
           ]
          },
          {
           "mode": "markers",
           "name": "CT",
           "text": [
            "CT"
           ],
           "x": [
            "2009"
           ],
           "y": [
            "215315.583333"
           ]
          },
          {
           "mode": "markers",
           "name": "DC",
           "text": [
            "DC"
           ],
           "x": [
            "2009"
           ],
           "y": [
            "1296668.41667"
           ]
          },
          {
           "mode": "markers",
           "name": "DE",
           "text": [
            "DE"
           ],
           "x": [
            "2009"
           ],
           "y": [
            "63.3333333333"
           ]
          },
          {
           "mode": "markers",
           "name": "FL",
           "text": [
            "FL"
           ],
           "x": [
            "2009"
           ],
           "y": [
            "3722350.83333"
           ]
          },
          {
           "mode": "markers",
           "name": "GA",
           "text": [
            "GA"
           ],
           "x": [
            "2009"
           ],
           "y": [
            "2964298.16667"
           ]
          },
          {
           "mode": "markers",
           "name": "HI",
           "text": [
            "HI"
           ],
           "x": [
            "2009"
           ],
           "y": [
            "678763.0"
           ]
          },
          {
           "mode": "markers",
           "name": "IA",
           "text": [
            "IA"
           ],
           "x": [
            "2009"
           ],
           "y": [
            "104689.25"
           ]
          },
          {
           "mode": "markers",
           "name": "ID",
           "text": [
            "ID"
           ],
           "x": [
            "2009"
           ],
           "y": [
            "17831.6666667"
           ]
          },
          {
           "mode": "markers",
           "name": "IL",
           "text": [
            "IL"
           ],
           "x": [
            "2009"
           ],
           "y": [
            "2746452.5"
           ]
          },
          {
           "mode": "markers",
           "name": "IN",
           "text": [
            "IN"
           ],
           "x": [
            "2009"
           ],
           "y": [
            "340488.333333"
           ]
          },
          {
           "mode": "markers",
           "name": "KS",
           "text": [
            "KS"
           ],
           "x": [
            "2009"
           ],
           "y": [
            "52459.5833333"
           ]
          },
          {
           "mode": "markers",
           "name": "KY",
           "text": [
            "KY"
           ],
           "x": [
            "2009"
           ],
           "y": [
            "38681.5"
           ]
          },
          {
           "mode": "markers",
           "name": "LA",
           "text": [
            "LA"
           ],
           "x": [
            "2009"
           ],
           "y": [
            "412075.333333"
           ]
          },
          {
           "mode": "markers",
           "name": "MA",
           "text": [
            "MA"
           ],
           "x": [
            "2009"
           ],
           "y": [
            "840728.75"
           ]
          },
          {
           "mode": "markers",
           "name": "MD",
           "text": [
            "MD"
           ],
           "x": [
            "2009"
           ],
           "y": [
            "798711.0"
           ]
          },
          {
           "mode": "markers",
           "name": "ME",
           "text": [
            "ME"
           ],
           "x": [
            "2009"
           ],
           "y": [
            "89855.0833333"
           ]
          },
          {
           "mode": "markers",
           "name": "MI",
           "text": [
            "MI"
           ],
           "x": [
            "2009"
           ],
           "y": [
            "1251693.66667"
           ]
          },
          {
           "mode": "markers",
           "name": "MN",
           "text": [
            "MN"
           ],
           "x": [
            "2009"
           ],
           "y": [
            "1146020.83333"
           ]
          },
          {
           "mode": "markers",
           "name": "MO",
           "text": [
            "MO"
           ],
           "x": [
            "2009"
           ],
           "y": [
            "921726.5"
           ]
          },
          {
           "mode": "markers",
           "name": "MS",
           "text": [
            "MS"
           ],
           "x": [
            "2009"
           ],
           "y": [
            "94771.0"
           ]
          },
          {
           "mode": "markers",
           "name": "MT",
           "text": [
            "MT"
           ],
           "x": [
            "2009"
           ],
           "y": [
            "92805.75"
           ]
          },
          {
           "mode": "markers",
           "name": "NC",
           "text": [
            "NC"
           ],
           "x": [
            "2009"
           ],
           "y": [
            "1785418.5"
           ]
          },
          {
           "mode": "markers",
           "name": "ND",
           "text": [
            "ND"
           ],
           "x": [
            "2009"
           ],
           "y": [
            "48955.3333333"
           ]
          },
          {
           "mode": "markers",
           "name": "NE",
           "text": [
            "NE"
           ],
           "x": [
            "2009"
           ],
           "y": [
            "149378.75"
           ]
          },
          {
           "mode": "markers",
           "name": "NH",
           "text": [
            "NH"
           ],
           "x": [
            "2009"
           ],
           "y": [
            "131036.25"
           ]
          },
          {
           "mode": "markers",
           "name": "NJ",
           "text": [
            "NJ"
           ],
           "x": [
            "2009"
           ],
           "y": [
            "920887.583333"
           ]
          },
          {
           "mode": "markers",
           "name": "NM",
           "text": [
            "NM"
           ],
           "x": [
            "2009"
           ],
           "y": [
            "243724.916667"
           ]
          },
          {
           "mode": "markers",
           "name": "NV",
           "text": [
            "NV"
           ],
           "x": [
            "2009"
           ],
           "y": [
            "1543962.75"
           ]
          },
          {
           "mode": "markers",
           "name": "NY",
           "text": [
            "NY"
           ],
           "x": [
            "2009"
           ],
           "y": [
            "2288218.5"
           ]
          },
          {
           "mode": "markers",
           "name": "OH",
           "text": [
            "OH"
           ],
           "x": [
            "2009"
           ],
           "y": [
            "1158569.5"
           ]
          },
          {
           "mode": "markers",
           "name": "OK",
           "text": [
            "OK"
           ],
           "x": [
            "2009"
           ],
           "y": [
            "235994.166667"
           ]
          },
          {
           "mode": "markers",
           "name": "OR",
           "text": [
            "OR"
           ],
           "x": [
            "2009"
           ],
           "y": [
            "519071.833333"
           ]
          },
          {
           "mode": "markers",
           "name": "PA",
           "text": [
            "PA"
           ],
           "x": [
            "2009"
           ],
           "y": [
            "1464608.08333"
           ]
          },
          {
           "mode": "markers",
           "name": "RI",
           "text": [
            "RI"
           ],
           "x": [
            "2009"
           ],
           "y": [
            "178563.0"
           ]
          },
          {
           "mode": "markers",
           "name": "SC",
           "text": [
            "SC"
           ],
           "x": [
            "2009"
           ],
           "y": [
            "250657.5"
           ]
          },
          {
           "mode": "markers",
           "name": "SD",
           "text": [
            "SD"
           ],
           "x": [
            "2009"
           ],
           "y": [
            "38500.0833333"
           ]
          },
          {
           "mode": "markers",
           "name": "TN",
           "text": [
            "TN"
           ],
           "x": [
            "2009"
           ],
           "y": [
            "841628.916667"
           ]
          },
          {
           "mode": "markers",
           "name": "TX",
           "text": [
            "TX"
           ],
           "x": [
            "2009"
           ],
           "y": [
            "4755373.66667"
           ]
          },
          {
           "mode": "markers",
           "name": "UT",
           "text": [
            "UT"
           ],
           "x": [
            "2009"
           ],
           "y": [
            "708896.75"
           ]
          },
          {
           "mode": "markers",
           "name": "VA",
           "text": [
            "VA"
           ],
           "x": [
            "2009"
           ],
           "y": [
            "184490.583333"
           ]
          },
          {
           "mode": "markers",
           "name": "VT",
           "text": [
            "VT"
           ],
           "x": [
            "2009"
           ],
           "y": [
            "58550.4166667"
           ]
          },
          {
           "mode": "markers",
           "name": "WA",
           "text": [
            "WA"
           ],
           "x": [
            "2009"
           ],
           "y": [
            "1193027.83333"
           ]
          },
          {
           "mode": "markers",
           "name": "WI",
           "text": [
            "WI"
           ],
           "x": [
            "2009"
           ],
           "y": [
            "438855.083333"
           ]
          },
          {
           "mode": "markers",
           "name": "WV",
           "text": [
            "WV"
           ],
           "x": [
            "2009"
           ],
           "y": [
            "22350.5"
           ]
          },
          {
           "mode": "markers",
           "name": "WY",
           "text": [
            "WY"
           ],
           "x": [
            "2009"
           ],
           "y": [
            "20091.9166667"
           ]
          }
         ],
         "name": "2009"
        }
       ],
       "layout": {
        "hovermode": "closest",
        "sliders": [
         {
          "active": 0,
          "currentvalue": {
           "font": {
            "size": 20
           },
           "prefix": "Month:",
           "visible": true,
           "xanchor": "right"
          },
          "len": 0.9,
          "pad": {
           "b": 10,
           "t": 50
          },
          "steps": [
           {
            "args": [
             [
              "2000"
             ],
             {
              "frame": {
               "duration": 300,
               "redraw": false
              },
              "mode": "immediate",
              "transition": {
               "duration": 300
              }
             }
            ],
            "label": "2000",
            "method": "animate"
           },
           {
            "args": [
             [
              "2001"
             ],
             {
              "frame": {
               "duration": 300,
               "redraw": false
              },
              "mode": "immediate",
              "transition": {
               "duration": 300
              }
             }
            ],
            "label": "2001",
            "method": "animate"
           },
           {
            "args": [
             [
              "2002"
             ],
             {
              "frame": {
               "duration": 300,
               "redraw": false
              },
              "mode": "immediate",
              "transition": {
               "duration": 300
              }
             }
            ],
            "label": "2002",
            "method": "animate"
           },
           {
            "args": [
             [
              "2003"
             ],
             {
              "frame": {
               "duration": 300,
               "redraw": false
              },
              "mode": "immediate",
              "transition": {
               "duration": 300
              }
             }
            ],
            "label": "2003",
            "method": "animate"
           },
           {
            "args": [
             [
              "2004"
             ],
             {
              "frame": {
               "duration": 300,
               "redraw": false
              },
              "mode": "immediate",
              "transition": {
               "duration": 300
              }
             }
            ],
            "label": "2004",
            "method": "animate"
           },
           {
            "args": [
             [
              "2005"
             ],
             {
              "frame": {
               "duration": 300,
               "redraw": false
              },
              "mode": "immediate",
              "transition": {
               "duration": 300
              }
             }
            ],
            "label": "2005",
            "method": "animate"
           },
           {
            "args": [
             [
              "2006"
             ],
             {
              "frame": {
               "duration": 300,
               "redraw": false
              },
              "mode": "immediate",
              "transition": {
               "duration": 300
              }
             }
            ],
            "label": "2006",
            "method": "animate"
           },
           {
            "args": [
             [
              "2007"
             ],
             {
              "frame": {
               "duration": 300,
               "redraw": false
              },
              "mode": "immediate",
              "transition": {
               "duration": 300
              }
             }
            ],
            "label": "2007",
            "method": "animate"
           },
           {
            "args": [
             [
              "2008"
             ],
             {
              "frame": {
               "duration": 300,
               "redraw": false
              },
              "mode": "immediate",
              "transition": {
               "duration": 300
              }
             }
            ],
            "label": "2008",
            "method": "animate"
           },
           {
            "args": [
             [
              "2009"
             ],
             {
              "frame": {
               "duration": 300,
               "redraw": false
              },
              "mode": "immediate",
              "transition": {
               "duration": 300
              }
             }
            ],
            "label": "2009",
            "method": "animate"
           }
          ],
          "transition": {
           "duration": 300,
           "easing": "cubic-in-out"
          },
          "x": 0.1,
          "xanchor": "left",
          "y": 0,
          "yanchor": "top"
         }
        ],
        "updatemenus": [
         {
          "buttons": [
           {
            "args": [
             null,
             {
              "frame": {
               "duration": 500,
               "redraw": false
              },
              "fromcurrent": true,
              "transition": {
               "duration": 300,
               "easing": "quadratic-in-out"
              }
             }
            ],
            "label": "Play",
            "method": "animate"
           },
           {
            "args": [
             [
              null
             ],
             {
              "frame": {
               "duration": 0,
               "redraw": false
              },
              "mode": "immediate",
              "transition": {
               "duration": 0
              }
             }
            ],
            "label": "Pause",
            "method": "animate"
           }
          ],
          "direction": "left",
          "pad": {
           "r": 10,
           "t": 87
          },
          "showactive": false,
          "type": "buttons",
          "x": 0.1,
          "xanchor": "right",
          "y": 0,
          "yanchor": "top"
         }
        ],
        "xaxis": {
         "range": [
          2000,
          2009
         ],
         "title": "Year"
        },
        "yaxis": {
         "range": [
          0,
          20
         ],
         "title": "Airpassenger traffic"
        }
       }
      },
      "text/html": [
       "<div id=\"215afd25-a4cc-4854-ab89-4589aad49017\" style=\"height: 525px; width: 100%;\" class=\"plotly-graph-div\"></div><script type=\"text/javascript\">require([\"plotly\"], function(Plotly) { window.PLOTLYENV=window.PLOTLYENV || {};window.PLOTLYENV.BASE_URL=\"https://plot.ly\";\n",
       "        Plotly.plot(\n",
       "            '215afd25-a4cc-4854-ab89-4589aad49017',\n",
       "            [{\"y\": [], \"x\": [], \"text\": [], \"mode\": \"markers\", \"name\": \"AK\"}, {\"y\": [], \"x\": [], \"text\": [], \"mode\": \"markers\", \"name\": \"AL\"}, {\"y\": [], \"x\": [], \"text\": [], \"mode\": \"markers\", \"name\": \"AR\"}, {\"y\": [], \"x\": [], \"text\": [], \"mode\": \"markers\", \"name\": \"AZ\"}, {\"y\": [], \"x\": [], \"text\": [], \"mode\": \"markers\", \"name\": \"CA\"}, {\"y\": [], \"x\": [], \"text\": [], \"mode\": \"markers\", \"name\": \"CO\"}, {\"y\": [], \"x\": [], \"text\": [], \"mode\": \"markers\", \"name\": \"CT\"}, {\"y\": [], \"x\": [], \"text\": [], \"mode\": \"markers\", \"name\": \"DC\"}, {\"y\": [], \"x\": [], \"text\": [], \"mode\": \"markers\", \"name\": \"DE\"}, {\"y\": [], \"x\": [], \"text\": [], \"mode\": \"markers\", \"name\": \"FL\"}, {\"y\": [], \"x\": [], \"text\": [], \"mode\": \"markers\", \"name\": \"GA\"}, {\"y\": [], \"x\": [], \"text\": [], \"mode\": \"markers\", \"name\": \"HI\"}, {\"y\": [], \"x\": [], \"text\": [], \"mode\": \"markers\", \"name\": \"IA\"}, {\"y\": [], \"x\": [], \"text\": [], \"mode\": \"markers\", \"name\": \"ID\"}, {\"y\": [], \"x\": [], \"text\": [], \"mode\": \"markers\", \"name\": \"IL\"}, {\"y\": [], \"x\": [], \"text\": [], \"mode\": \"markers\", \"name\": \"IN\"}, {\"y\": [], \"x\": [], \"text\": [], \"mode\": \"markers\", \"name\": \"KS\"}, {\"y\": [], \"x\": [], \"text\": [], \"mode\": \"markers\", \"name\": \"KY\"}, {\"y\": [], \"x\": [], \"text\": [], \"mode\": \"markers\", \"name\": \"LA\"}, {\"y\": [], \"x\": [], \"text\": [], \"mode\": \"markers\", \"name\": \"MA\"}, {\"y\": [], \"x\": [], \"text\": [], \"mode\": \"markers\", \"name\": \"MD\"}, {\"y\": [], \"x\": [], \"text\": [], \"mode\": \"markers\", \"name\": \"ME\"}, {\"y\": [], \"x\": [], \"text\": [], \"mode\": \"markers\", \"name\": \"MI\"}, {\"y\": [], \"x\": [], \"text\": [], \"mode\": \"markers\", \"name\": \"MN\"}, {\"y\": [], \"x\": [], \"text\": [], \"mode\": \"markers\", \"name\": \"MO\"}, {\"y\": [], \"x\": [], \"text\": [], \"mode\": \"markers\", \"name\": \"MS\"}, {\"y\": [], \"x\": [], \"text\": [], \"mode\": \"markers\", \"name\": \"MT\"}, {\"y\": [], \"x\": [], \"text\": [], \"mode\": \"markers\", \"name\": \"NC\"}, {\"y\": [], \"x\": [], \"text\": [], \"mode\": \"markers\", \"name\": \"ND\"}, {\"y\": [], \"x\": [], \"text\": [], \"mode\": \"markers\", \"name\": \"NE\"}, {\"y\": [], \"x\": [], \"text\": [], \"mode\": \"markers\", \"name\": \"NH\"}, {\"y\": [], \"x\": [], \"text\": [], \"mode\": \"markers\", \"name\": \"NJ\"}, {\"y\": [], \"x\": [], \"text\": [], \"mode\": \"markers\", \"name\": \"NM\"}, {\"y\": [], \"x\": [], \"text\": [], \"mode\": \"markers\", \"name\": \"NV\"}, {\"y\": [], \"x\": [], \"text\": [], \"mode\": \"markers\", \"name\": \"NY\"}, {\"y\": [], \"x\": [], \"text\": [], \"mode\": \"markers\", \"name\": \"OH\"}, {\"y\": [], \"x\": [], \"text\": [], \"mode\": \"markers\", \"name\": \"OK\"}, {\"y\": [], \"x\": [], \"text\": [], \"mode\": \"markers\", \"name\": \"OR\"}, {\"y\": [], \"x\": [], \"text\": [], \"mode\": \"markers\", \"name\": \"PA\"}, {\"y\": [], \"x\": [], \"text\": [], \"mode\": \"markers\", \"name\": \"RI\"}, {\"y\": [], \"x\": [], \"text\": [], \"mode\": \"markers\", \"name\": \"SC\"}, {\"y\": [], \"x\": [], \"text\": [], \"mode\": \"markers\", \"name\": \"SD\"}, {\"y\": [], \"x\": [], \"text\": [], \"mode\": \"markers\", \"name\": \"TN\"}, {\"y\": [], \"x\": [], \"text\": [], \"mode\": \"markers\", \"name\": \"TX\"}, {\"y\": [], \"x\": [], \"text\": [], \"mode\": \"markers\", \"name\": \"UT\"}, {\"y\": [], \"x\": [], \"text\": [], \"mode\": \"markers\", \"name\": \"VA\"}, {\"y\": [], \"x\": [], \"text\": [], \"mode\": \"markers\", \"name\": \"VT\"}, {\"y\": [], \"x\": [], \"text\": [], \"mode\": \"markers\", \"name\": \"WA\"}, {\"y\": [], \"x\": [], \"text\": [], \"mode\": \"markers\", \"name\": \"WI\"}, {\"y\": [], \"x\": [], \"text\": [], \"mode\": \"markers\", \"name\": \"WV\"}, {\"y\": [], \"x\": [], \"text\": [], \"mode\": \"markers\", \"name\": \"WY\"}],\n",
       "            {\"sliders\": [{\"yanchor\": \"top\", \"currentvalue\": {\"visible\": true, \"prefix\": \"Month:\", \"font\": {\"size\": 20}, \"xanchor\": \"right\"}, \"transition\": {\"duration\": 300, \"easing\": \"cubic-in-out\"}, \"xanchor\": \"left\", \"pad\": {\"b\": 10, \"t\": 50}, \"len\": 0.9, \"active\": 0, \"steps\": [{\"args\": [[\"2000\"], {\"frame\": {\"duration\": 300, \"redraw\": false}, \"transition\": {\"duration\": 300}, \"mode\": \"immediate\"}], \"method\": \"animate\", \"label\": \"2000\"}, {\"args\": [[\"2001\"], {\"frame\": {\"duration\": 300, \"redraw\": false}, \"transition\": {\"duration\": 300}, \"mode\": \"immediate\"}], \"method\": \"animate\", \"label\": \"2001\"}, {\"args\": [[\"2002\"], {\"frame\": {\"duration\": 300, \"redraw\": false}, \"transition\": {\"duration\": 300}, \"mode\": \"immediate\"}], \"method\": \"animate\", \"label\": \"2002\"}, {\"args\": [[\"2003\"], {\"frame\": {\"duration\": 300, \"redraw\": false}, \"transition\": {\"duration\": 300}, \"mode\": \"immediate\"}], \"method\": \"animate\", \"label\": \"2003\"}, {\"args\": [[\"2004\"], {\"frame\": {\"duration\": 300, \"redraw\": false}, \"transition\": {\"duration\": 300}, \"mode\": \"immediate\"}], \"method\": \"animate\", \"label\": \"2004\"}, {\"args\": [[\"2005\"], {\"frame\": {\"duration\": 300, \"redraw\": false}, \"transition\": {\"duration\": 300}, \"mode\": \"immediate\"}], \"method\": \"animate\", \"label\": \"2005\"}, {\"args\": [[\"2006\"], {\"frame\": {\"duration\": 300, \"redraw\": false}, \"transition\": {\"duration\": 300}, \"mode\": \"immediate\"}], \"method\": \"animate\", \"label\": \"2006\"}, {\"args\": [[\"2007\"], {\"frame\": {\"duration\": 300, \"redraw\": false}, \"transition\": {\"duration\": 300}, \"mode\": \"immediate\"}], \"method\": \"animate\", \"label\": \"2007\"}, {\"args\": [[\"2008\"], {\"frame\": {\"duration\": 300, \"redraw\": false}, \"transition\": {\"duration\": 300}, \"mode\": \"immediate\"}], \"method\": \"animate\", \"label\": \"2008\"}, {\"args\": [[\"2009\"], {\"frame\": {\"duration\": 300, \"redraw\": false}, \"transition\": {\"duration\": 300}, \"mode\": \"immediate\"}], \"method\": \"animate\", \"label\": \"2009\"}], \"y\": 0, \"x\": 0.1}], \"hovermode\": \"closest\", \"xaxis\": {\"range\": [2000, 2009], \"title\": \"Year\"}, \"updatemenus\": [{\"yanchor\": \"top\", \"direction\": \"left\", \"showactive\": false, \"xanchor\": \"right\", \"buttons\": [{\"args\": [null, {\"frame\": {\"duration\": 500, \"redraw\": false}, \"transition\": {\"duration\": 300, \"easing\": \"quadratic-in-out\"}, \"fromcurrent\": true}], \"method\": \"animate\", \"label\": \"Play\"}, {\"args\": [[null], {\"frame\": {\"duration\": 0, \"redraw\": false}, \"transition\": {\"duration\": 0}, \"mode\": \"immediate\"}], \"method\": \"animate\", \"label\": \"Pause\"}], \"pad\": {\"r\": 10, \"t\": 87}, \"y\": 0, \"x\": 0.1, \"type\": \"buttons\"}], \"yaxis\": {\"range\": [0, 20], \"title\": \"Airpassenger traffic\"}},\n",
       "            {\"linkText\": \"Export to plot.ly\", \"showLink\": true}\n",
       "        ).then(function () {return Plotly.addFrames('215afd25-a4cc-4854-ab89-4589aad49017',[{\"data\": [{\"y\": [\"197716.333333\"], \"x\": [\"2000\"], \"text\": [\"AK\"], \"mode\": \"markers\", \"name\": \"AK\"}, {\"y\": [\"233959.166667\"], \"x\": [\"2000\"], \"text\": [\"AL\"], \"mode\": \"markers\", \"name\": \"AL\"}, {\"y\": [\"139017.833333\"], \"x\": [\"2000\"], \"text\": [\"AR\"], \"mode\": \"markers\", \"name\": \"AR\"}, {\"y\": [\"1513817.33333\"], \"x\": [\"2000\"], \"text\": [\"AZ\"], \"mode\": \"markers\", \"name\": \"AZ\"}, {\"y\": [\"5084735.91667\"], \"x\": [\"2000\"], \"text\": [\"CA\"], \"mode\": \"markers\", \"name\": \"CA\"}, {\"y\": [\"74984.6666667\"], \"x\": [\"2000\"], \"text\": [\"CO\"], \"mode\": \"markers\", \"name\": \"CO\"}, {\"y\": [\"285326.583333\"], \"x\": [\"2000\"], \"text\": [\"CT\"], \"mode\": \"markers\", \"name\": \"CT\"}, {\"y\": [\"1041492.75\"], \"x\": [\"2000\"], \"text\": [\"DC\"], \"mode\": \"markers\", \"name\": \"DC\"}, {\"y\": [\"0.0\"], \"x\": [\"2000\"], \"text\": [\"DE\"], \"mode\": \"markers\", \"name\": \"DE\"}, {\"y\": [\"3409797.08333\"], \"x\": [\"2000\"], \"text\": [\"FL\"], \"mode\": \"markers\", \"name\": \"FL\"}, {\"y\": [\"2857485.5\"], \"x\": [\"2000\"], \"text\": [\"GA\"], \"mode\": \"markers\", \"name\": \"GA\"}, {\"y\": [\"780591.0\"], \"x\": [\"2000\"], \"text\": [\"HI\"], \"mode\": \"markers\", \"name\": \"HI\"}, {\"y\": [\"102375.333333\"], \"x\": [\"2000\"], \"text\": [\"IA\"], \"mode\": \"markers\", \"name\": \"IA\"}, {\"y\": [\"4368.5\"], \"x\": [\"2000\"], \"text\": [\"ID\"], \"mode\": \"markers\", \"name\": \"ID\"}, {\"y\": [\"2832712.0\"], \"x\": [\"2000\"], \"text\": [\"IL\"], \"mode\": \"markers\", \"name\": \"IL\"}, {\"y\": [\"358802.583333\"], \"x\": [\"2000\"], \"text\": [\"IN\"], \"mode\": \"markers\", \"name\": \"IN\"}, {\"y\": [\"38696.25\"], \"x\": [\"2000\"], \"text\": [\"KS\"], \"mode\": \"markers\", \"name\": \"KS\"}, {\"y\": [\"37630.3333333\"], \"x\": [\"2000\"], \"text\": [\"KY\"], \"mode\": \"markers\", \"name\": \"KY\"}, {\"y\": [\"529851.666667\"], \"x\": [\"2000\"], \"text\": [\"LA\"], \"mode\": \"markers\", \"name\": \"LA\"}, {\"y\": [\"854874.416667\"], \"x\": [\"2000\"], \"text\": [\"MA\"], \"mode\": \"markers\", \"name\": \"MA\"}, {\"y\": [\"721661.416667\"], \"x\": [\"2000\"], \"text\": [\"MD\"], \"mode\": \"markers\", \"name\": \"MD\"}, {\"y\": [\"49743.0\"], \"x\": [\"2000\"], \"text\": [\"ME\"], \"mode\": \"markers\", \"name\": \"ME\"}, {\"y\": [\"1406763.83333\"], \"x\": [\"2000\"], \"text\": [\"MI\"], \"mode\": \"markers\", \"name\": \"MI\"}, {\"y\": [\"1233771.83333\"], \"x\": [\"2000\"], \"text\": [\"MN\"], \"mode\": \"markers\", \"name\": \"MN\"}, {\"y\": [\"1739525.83333\"], \"x\": [\"2000\"], \"text\": [\"MO\"], \"mode\": \"markers\", \"name\": \"MO\"}, {\"y\": [\"112501.833333\"], \"x\": [\"2000\"], \"text\": [\"MS\"], \"mode\": \"markers\", \"name\": \"MS\"}, {\"y\": [\"98003.5833333\"], \"x\": [\"2000\"], \"text\": [\"MT\"], \"mode\": \"markers\", \"name\": \"MT\"}, {\"y\": [\"1337436.25\"], \"x\": [\"2000\"], \"text\": [\"NC\"], \"mode\": \"markers\", \"name\": \"NC\"}, {\"y\": [\"38004.6666667\"], \"x\": [\"2000\"], \"text\": [\"ND\"], \"mode\": \"markers\", \"name\": \"ND\"}, {\"y\": [\"151784.583333\"], \"x\": [\"2000\"], \"text\": [\"NE\"], \"mode\": \"markers\", \"name\": \"NE\"}, {\"y\": [\"124513.333333\"], \"x\": [\"2000\"], \"text\": [\"NH\"], \"mode\": \"markers\", \"name\": \"NH\"}, {\"y\": [\"1001056.83333\"], \"x\": [\"2000\"], \"text\": [\"NJ\"], \"mode\": \"markers\", \"name\": \"NJ\"}, {\"y\": [\"263532.666667\"], \"x\": [\"2000\"], \"text\": [\"NM\"], \"mode\": \"markers\", \"name\": \"NM\"}, {\"y\": [\"1491972.41667\"], \"x\": [\"2000\"], \"text\": [\"NV\"], \"mode\": \"markers\", \"name\": \"NV\"}, {\"y\": [\"1884134.83333\"], \"x\": [\"2000\"], \"text\": [\"NY\"], \"mode\": \"markers\", \"name\": \"NY\"}, {\"y\": [\"1619127.41667\"], \"x\": [\"2000\"], \"text\": [\"OH\"], \"mode\": \"markers\", \"name\": \"OH\"}, {\"y\": [\"286554.333333\"], \"x\": [\"2000\"], \"text\": [\"OK\"], \"mode\": \"markers\", \"name\": \"OK\"}, {\"y\": [\"523422.75\"], \"x\": [\"2000\"], \"text\": [\"OR\"], \"mode\": \"markers\", \"name\": \"OR\"}, {\"y\": [\"1587551.25\"], \"x\": [\"2000\"], \"text\": [\"PA\"], \"mode\": \"markers\", \"name\": \"PA\"}, {\"y\": [\"209372.916667\"], \"x\": [\"2000\"], \"text\": [\"RI\"], \"mode\": \"markers\", \"name\": \"RI\"}, {\"y\": [\"205052.0\"], \"x\": [\"2000\"], \"text\": [\"SC\"], \"mode\": \"markers\", \"name\": \"SC\"}, {\"y\": [\"33754.4166667\"], \"x\": [\"2000\"], \"text\": [\"SD\"], \"mode\": \"markers\", \"name\": \"SD\"}, {\"y\": [\"890834.166667\"], \"x\": [\"2000\"], \"text\": [\"TN\"], \"mode\": \"markers\", \"name\": \"TN\"}, {\"y\": [\"4818128.58333\"], \"x\": [\"2000\"], \"text\": [\"TX\"], \"mode\": \"markers\", \"name\": \"TX\"}, {\"y\": [\"676175.0\"], \"x\": [\"2000\"], \"text\": [\"UT\"], \"mode\": \"markers\", \"name\": \"UT\"}, {\"y\": [\"123724.166667\"], \"x\": [\"2000\"], \"text\": [\"VA\"], \"mode\": \"markers\", \"name\": \"VA\"}, {\"y\": [\"23290.0\"], \"x\": [\"2000\"], \"text\": [\"VT\"], \"mode\": \"markers\", \"name\": \"VT\"}, {\"y\": [\"1104733.08333\"], \"x\": [\"2000\"], \"text\": [\"WA\"], \"mode\": \"markers\", \"name\": \"WA\"}, {\"y\": [\"345299.416667\"], \"x\": [\"2000\"], \"text\": [\"WI\"], \"mode\": \"markers\", \"name\": \"WI\"}, {\"y\": [\"12568.0\"], \"x\": [\"2000\"], \"text\": [\"WV\"], \"mode\": \"markers\", \"name\": \"WV\"}, {\"y\": [\"4192.75\"], \"x\": [\"2000\"], \"text\": [\"WY\"], \"mode\": \"markers\", \"name\": \"WY\"}], \"name\": \"2000\"}, {\"data\": [{\"y\": [\"197246.083333\"], \"x\": [\"2001\"], \"text\": [\"AK\"], \"mode\": \"markers\", \"name\": \"AK\"}, {\"y\": [\"215669.833333\"], \"x\": [\"2001\"], \"text\": [\"AL\"], \"mode\": \"markers\", \"name\": \"AL\"}, {\"y\": [\"133486.25\"], \"x\": [\"2001\"], \"text\": [\"AR\"], \"mode\": \"markers\", \"name\": \"AR\"}, {\"y\": [\"1434636.75\"], \"x\": [\"2001\"], \"text\": [\"AZ\"], \"mode\": \"markers\", \"name\": \"AZ\"}, {\"y\": [\"4665582.91667\"], \"x\": [\"2001\"], \"text\": [\"CA\"], \"mode\": \"markers\", \"name\": \"CA\"}, {\"y\": [\"65895.0\"], \"x\": [\"2001\"], \"text\": [\"CO\"], \"mode\": \"markers\", \"name\": \"CO\"}, {\"y\": [\"267147.25\"], \"x\": [\"2001\"], \"text\": [\"CT\"], \"mode\": \"markers\", \"name\": \"CT\"}, {\"y\": [\"870941.416667\"], \"x\": [\"2001\"], \"text\": [\"DC\"], \"mode\": \"markers\", \"name\": \"DC\"}, {\"y\": [\"71.4\"], \"x\": [\"2001\"], \"text\": [\"DE\"], \"mode\": \"markers\", \"name\": \"DE\"}, {\"y\": [\"3303081.5\"], \"x\": [\"2001\"], \"text\": [\"FL\"], \"mode\": \"markers\", \"name\": \"FL\"}, {\"y\": [\"2669058.58333\"], \"x\": [\"2001\"], \"text\": [\"GA\"], \"mode\": \"markers\", \"name\": \"GA\"}, {\"y\": [\"719452.75\"], \"x\": [\"2001\"], \"text\": [\"HI\"], \"mode\": \"markers\", \"name\": \"HI\"}, {\"y\": [\"95836.25\"], \"x\": [\"2001\"], \"text\": [\"IA\"], \"mode\": \"markers\", \"name\": \"IA\"}, {\"y\": [\"4956.66666667\"], \"x\": [\"2001\"], \"text\": [\"ID\"], \"mode\": \"markers\", \"name\": \"ID\"}, {\"y\": [\"2673199.33333\"], \"x\": [\"2001\"], \"text\": [\"IL\"], \"mode\": \"markers\", \"name\": \"IL\"}, {\"y\": [\"330631.0\"], \"x\": [\"2001\"], \"text\": [\"IN\"], \"mode\": \"markers\", \"name\": \"IN\"}, {\"y\": [\"34419.3333333\"], \"x\": [\"2001\"], \"text\": [\"KS\"], \"mode\": \"markers\", \"name\": \"KS\"}, {\"y\": [\"30616.6666667\"], \"x\": [\"2001\"], \"text\": [\"KY\"], \"mode\": \"markers\", \"name\": \"KY\"}, {\"y\": [\"496469.333333\"], \"x\": [\"2001\"], \"text\": [\"LA\"], \"mode\": \"markers\", \"name\": \"LA\"}, {\"y\": [\"735110.666667\"], \"x\": [\"2001\"], \"text\": [\"MA\"], \"mode\": \"markers\", \"name\": \"MA\"}, {\"y\": [\"749941.083333\"], \"x\": [\"2001\"], \"text\": [\"MD\"], \"mode\": \"markers\", \"name\": \"MD\"}, {\"y\": [\"56928.0833333\"], \"x\": [\"2001\"], \"text\": [\"ME\"], \"mode\": \"markers\", \"name\": \"ME\"}, {\"y\": [\"1278383.0\"], \"x\": [\"2001\"], \"text\": [\"MI\"], \"mode\": \"markers\", \"name\": \"MI\"}, {\"y\": [\"1168152.41667\"], \"x\": [\"2001\"], \"text\": [\"MN\"], \"mode\": \"markers\", \"name\": \"MN\"}, {\"y\": [\"1536201.5\"], \"x\": [\"2001\"], \"text\": [\"MO\"], \"mode\": \"markers\", \"name\": \"MO\"}, {\"y\": [\"99780.75\"], \"x\": [\"2001\"], \"text\": [\"MS\"], \"mode\": \"markers\", \"name\": \"MS\"}, {\"y\": [\"95147.5833333\"], \"x\": [\"2001\"], \"text\": [\"MT\"], \"mode\": \"markers\", \"name\": \"MT\"}, {\"y\": [\"1279160.58333\"], \"x\": [\"2001\"], \"text\": [\"NC\"], \"mode\": \"markers\", \"name\": \"NC\"}, {\"y\": [\"34508.9166667\"], \"x\": [\"2001\"], \"text\": [\"ND\"], \"mode\": \"markers\", \"name\": \"ND\"}, {\"y\": [\"138257.25\"], \"x\": [\"2001\"], \"text\": [\"NE\"], \"mode\": \"markers\", \"name\": \"NE\"}, {\"y\": [\"130018.833333\"], \"x\": [\"2001\"], \"text\": [\"NH\"], \"mode\": \"markers\", \"name\": \"NH\"}, {\"y\": [\"911783.666667\"], \"x\": [\"2001\"], \"text\": [\"NJ\"], \"mode\": \"markers\", \"name\": \"NJ\"}, {\"y\": [\"258264.166667\"], \"x\": [\"2001\"], \"text\": [\"NM\"], \"mode\": \"markers\", \"name\": \"NM\"}, {\"y\": [\"1428652.58333\"], \"x\": [\"2001\"], \"text\": [\"NV\"], \"mode\": \"markers\", \"name\": \"NV\"}, {\"y\": [\"1761401.66667\"], \"x\": [\"2001\"], \"text\": [\"NY\"], \"mode\": \"markers\", \"name\": \"NY\"}, {\"y\": [\"1423413.25\"], \"x\": [\"2001\"], \"text\": [\"OH\"], \"mode\": \"markers\", \"name\": \"OH\"}, {\"y\": [\"264132.75\"], \"x\": [\"2001\"], \"text\": [\"OK\"], \"mode\": \"markers\", \"name\": \"OK\"}, {\"y\": [\"487252.833333\"], \"x\": [\"2001\"], \"text\": [\"OR\"], \"mode\": \"markers\", \"name\": \"OR\"}, {\"y\": [\"1520764.08333\"], \"x\": [\"2001\"], \"text\": [\"PA\"], \"mode\": \"markers\", \"name\": \"PA\"}, {\"y\": [\"209950.083333\"], \"x\": [\"2001\"], \"text\": [\"RI\"], \"mode\": \"markers\", \"name\": \"RI\"}, {\"y\": [\"180190.083333\"], \"x\": [\"2001\"], \"text\": [\"SC\"], \"mode\": \"markers\", \"name\": \"SC\"}, {\"y\": [\"31020.0\"], \"x\": [\"2001\"], \"text\": [\"SD\"], \"mode\": \"markers\", \"name\": \"SD\"}, {\"y\": [\"822177.25\"], \"x\": [\"2001\"], \"text\": [\"TN\"], \"mode\": \"markers\", \"name\": \"TN\"}, {\"y\": [\"4475242.16667\"], \"x\": [\"2001\"], \"text\": [\"TX\"], \"mode\": \"markers\", \"name\": \"TX\"}, {\"y\": [\"611309.0\"], \"x\": [\"2001\"], \"text\": [\"UT\"], \"mode\": \"markers\", \"name\": \"UT\"}, {\"y\": [\"108279.166667\"], \"x\": [\"2001\"], \"text\": [\"VA\"], \"mode\": \"markers\", \"name\": \"VA\"}, {\"y\": [\"30735.4166667\"], \"x\": [\"2001\"], \"text\": [\"VT\"], \"mode\": \"markers\", \"name\": \"VT\"}, {\"y\": [\"1049712.58333\"], \"x\": [\"2001\"], \"text\": [\"WA\"], \"mode\": \"markers\", \"name\": \"WA\"}, {\"y\": [\"319359.5\"], \"x\": [\"2001\"], \"text\": [\"WI\"], \"mode\": \"markers\", \"name\": \"WI\"}, {\"y\": [\"9826.66666667\"], \"x\": [\"2001\"], \"text\": [\"WV\"], \"mode\": \"markers\", \"name\": \"WV\"}, {\"y\": [\"4060.08333333\"], \"x\": [\"2001\"], \"text\": [\"WY\"], \"mode\": \"markers\", \"name\": \"WY\"}], \"name\": \"2001\"}, {\"data\": [{\"y\": [\"208416.416667\"], \"x\": [\"2002\"], \"text\": [\"AK\"], \"mode\": \"markers\", \"name\": \"AK\"}, {\"y\": [\"204549.083333\"], \"x\": [\"2002\"], \"text\": [\"AL\"], \"mode\": \"markers\", \"name\": \"AL\"}, {\"y\": [\"128524.0\"], \"x\": [\"2002\"], \"text\": [\"AR\"], \"mode\": \"markers\", \"name\": \"AR\"}, {\"y\": [\"1396984.83333\"], \"x\": [\"2002\"], \"text\": [\"AZ\"], \"mode\": \"markers\", \"name\": \"AZ\"}, {\"y\": [\"4415798.0\"], \"x\": [\"2002\"], \"text\": [\"CA\"], \"mode\": \"markers\", \"name\": \"CA\"}, {\"y\": [\"65343.0833333\"], \"x\": [\"2002\"], \"text\": [\"CO\"], \"mode\": \"markers\", \"name\": \"CO\"}, {\"y\": [\"252405.916667\"], \"x\": [\"2002\"], \"text\": [\"CT\"], \"mode\": \"markers\", \"name\": \"CT\"}, {\"y\": [\"857875.416667\"], \"x\": [\"2002\"], \"text\": [\"DC\"], \"mode\": \"markers\", \"name\": \"DC\"}, {\"y\": [\"65.0\"], \"x\": [\"2002\"], \"text\": [\"DE\"], \"mode\": \"markers\", \"name\": \"DE\"}, {\"y\": [\"3259567.0\"], \"x\": [\"2002\"], \"text\": [\"FL\"], \"mode\": \"markers\", \"name\": \"FL\"}, {\"y\": [\"2720980.25\"], \"x\": [\"2002\"], \"text\": [\"GA\"], \"mode\": \"markers\", \"name\": \"GA\"}, {\"y\": [\"696193.833333\"], \"x\": [\"2002\"], \"text\": [\"HI\"], \"mode\": \"markers\", \"name\": \"HI\"}, {\"y\": [\"100263.333333\"], \"x\": [\"2002\"], \"text\": [\"IA\"], \"mode\": \"markers\", \"name\": \"IA\"}, {\"y\": [\"8887.91666667\"], \"x\": [\"2002\"], \"text\": [\"ID\"], \"mode\": \"markers\", \"name\": \"ID\"}, {\"y\": [\"2739167.0\"], \"x\": [\"2002\"], \"text\": [\"IL\"], \"mode\": \"markers\", \"name\": \"IL\"}, {\"y\": [\"322116.0\"], \"x\": [\"2002\"], \"text\": [\"IN\"], \"mode\": \"markers\", \"name\": \"IN\"}, {\"y\": [\"36231.0833333\"], \"x\": [\"2002\"], \"text\": [\"KS\"], \"mode\": \"markers\", \"name\": \"KS\"}, {\"y\": [\"34836.25\"], \"x\": [\"2002\"], \"text\": [\"KY\"], \"mode\": \"markers\", \"name\": \"KY\"}, {\"y\": [\"474146.833333\"], \"x\": [\"2002\"], \"text\": [\"LA\"], \"mode\": \"markers\", \"name\": \"LA\"}, {\"y\": [\"710296.833333\"], \"x\": [\"2002\"], \"text\": [\"MA\"], \"mode\": \"markers\", \"name\": \"MA\"}, {\"y\": [\"705227.416667\"], \"x\": [\"2002\"], \"text\": [\"MD\"], \"mode\": \"markers\", \"name\": \"MD\"}, {\"y\": [\"59769.4166667\"], \"x\": [\"2002\"], \"text\": [\"ME\"], \"mode\": \"markers\", \"name\": \"ME\"}, {\"y\": [\"1264947.33333\"], \"x\": [\"2002\"], \"text\": [\"MI\"], \"mode\": \"markers\", \"name\": \"MI\"}, {\"y\": [\"1136207.33333\"], \"x\": [\"2002\"], \"text\": [\"MN\"], \"mode\": \"markers\", \"name\": \"MN\"}, {\"y\": [\"1409533.75\"], \"x\": [\"2002\"], \"text\": [\"MO\"], \"mode\": \"markers\", \"name\": \"MO\"}, {\"y\": [\"96274.8333333\"], \"x\": [\"2002\"], \"text\": [\"MS\"], \"mode\": \"markers\", \"name\": \"MS\"}, {\"y\": [\"95854.8333333\"], \"x\": [\"2002\"], \"text\": [\"MT\"], \"mode\": \"markers\", \"name\": \"MT\"}, {\"y\": [\"1261838.58333\"], \"x\": [\"2002\"], \"text\": [\"NC\"], \"mode\": \"markers\", \"name\": \"NC\"}, {\"y\": [\"37774.8333333\"], \"x\": [\"2002\"], \"text\": [\"ND\"], \"mode\": \"markers\", \"name\": \"ND\"}, {\"y\": [\"129277.416667\"], \"x\": [\"2002\"], \"text\": [\"NE\"], \"mode\": \"markers\", \"name\": \"NE\"}, {\"y\": [\"131252.583333\"], \"x\": [\"2002\"], \"text\": [\"NH\"], \"mode\": \"markers\", \"name\": \"NH\"}, {\"y\": [\"865299.5\"], \"x\": [\"2002\"], \"text\": [\"NJ\"], \"mode\": \"markers\", \"name\": \"NJ\"}, {\"y\": [\"246681.5\"], \"x\": [\"2002\"], \"text\": [\"NM\"], \"mode\": \"markers\", \"name\": \"NM\"}, {\"y\": [\"1393198.75\"], \"x\": [\"2002\"], \"text\": [\"NV\"], \"mode\": \"markers\", \"name\": \"NV\"}, {\"y\": [\"1757680.25\"], \"x\": [\"2002\"], \"text\": [\"NY\"], \"mode\": \"markers\", \"name\": \"NY\"}, {\"y\": [\"1528414.75\"], \"x\": [\"2002\"], \"text\": [\"OH\"], \"mode\": \"markers\", \"name\": \"OH\"}, {\"y\": [\"239914.666667\"], \"x\": [\"2002\"], \"text\": [\"OK\"], \"mode\": \"markers\", \"name\": \"OK\"}, {\"y\": [\"476987.833333\"], \"x\": [\"2002\"], \"text\": [\"OR\"], \"mode\": \"markers\", \"name\": \"OR\"}, {\"y\": [\"1469730.33333\"], \"x\": [\"2002\"], \"text\": [\"PA\"], \"mode\": \"markers\", \"name\": \"PA\"}, {\"y\": [\"206114.333333\"], \"x\": [\"2002\"], \"text\": [\"RI\"], \"mode\": \"markers\", \"name\": \"RI\"}, {\"y\": [\"178349.666667\"], \"x\": [\"2002\"], \"text\": [\"SC\"], \"mode\": \"markers\", \"name\": \"SC\"}, {\"y\": [\"28535.6666667\"], \"x\": [\"2002\"], \"text\": [\"SD\"], \"mode\": \"markers\", \"name\": \"SD\"}, {\"y\": [\"788297.166667\"], \"x\": [\"2002\"], \"text\": [\"TN\"], \"mode\": \"markers\", \"name\": \"TN\"}, {\"y\": [\"4232640.66667\"], \"x\": [\"2002\"], \"text\": [\"TX\"], \"mode\": \"markers\", \"name\": \"TX\"}, {\"y\": [\"600426.583333\"], \"x\": [\"2002\"], \"text\": [\"UT\"], \"mode\": \"markers\", \"name\": \"UT\"}, {\"y\": [\"111416.75\"], \"x\": [\"2002\"], \"text\": [\"VA\"], \"mode\": \"markers\", \"name\": \"VA\"}, {\"y\": [\"36077.1666667\"], \"x\": [\"2002\"], \"text\": [\"VT\"], \"mode\": \"markers\", \"name\": \"VT\"}, {\"y\": [\"1041956.5\"], \"x\": [\"2002\"], \"text\": [\"WA\"], \"mode\": \"markers\", \"name\": \"WA\"}, {\"y\": [\"319813.0\"], \"x\": [\"2002\"], \"text\": [\"WI\"], \"mode\": \"markers\", \"name\": \"WI\"}, {\"y\": [\"13246.75\"], \"x\": [\"2002\"], \"text\": [\"WV\"], \"mode\": \"markers\", \"name\": \"WV\"}, {\"y\": [\"7656.0\"], \"x\": [\"2002\"], \"text\": [\"WY\"], \"mode\": \"markers\", \"name\": \"WY\"}], \"name\": \"2002\"}, {\"data\": [{\"y\": [\"205828.083333\"], \"x\": [\"2003\"], \"text\": [\"AK\"], \"mode\": \"markers\", \"name\": \"AK\"}, {\"y\": [\"222401.833333\"], \"x\": [\"2003\"], \"text\": [\"AL\"], \"mode\": \"markers\", \"name\": \"AL\"}, {\"y\": [\"136308.416667\"], \"x\": [\"2003\"], \"text\": [\"AR\"], \"mode\": \"markers\", \"name\": \"AR\"}, {\"y\": [\"1531101.25\"], \"x\": [\"2003\"], \"text\": [\"AZ\"], \"mode\": \"markers\", \"name\": \"AZ\"}, {\"y\": [\"4547331.33333\"], \"x\": [\"2003\"], \"text\": [\"CA\"], \"mode\": \"markers\", \"name\": \"CA\"}, {\"y\": [\"78897.75\"], \"x\": [\"2003\"], \"text\": [\"CO\"], \"mode\": \"markers\", \"name\": \"CO\"}, {\"y\": [\"253034.666667\"], \"x\": [\"2003\"], \"text\": [\"CT\"], \"mode\": \"markers\", \"name\": \"CT\"}, {\"y\": [\"1015428.66667\"], \"x\": [\"2003\"], \"text\": [\"DC\"], \"mode\": \"markers\", \"name\": \"DC\"}, {\"y\": [\"201.0\"], \"x\": [\"2003\"], \"text\": [\"DE\"], \"mode\": \"markers\", \"name\": \"DE\"}, {\"y\": [\"3396938.33333\"], \"x\": [\"2003\"], \"text\": [\"FL\"], \"mode\": \"markers\", \"name\": \"FL\"}, {\"y\": [\"2813940.5\"], \"x\": [\"2003\"], \"text\": [\"GA\"], \"mode\": \"markers\", \"name\": \"GA\"}, {\"y\": [\"688959.75\"], \"x\": [\"2003\"], \"text\": [\"HI\"], \"mode\": \"markers\", \"name\": \"HI\"}, {\"y\": [\"115137.333333\"], \"x\": [\"2003\"], \"text\": [\"IA\"], \"mode\": \"markers\", \"name\": \"IA\"}, {\"y\": [\"18750.8333333\"], \"x\": [\"2003\"], \"text\": [\"ID\"], \"mode\": \"markers\", \"name\": \"ID\"}, {\"y\": [\"2975261.58333\"], \"x\": [\"2003\"], \"text\": [\"IL\"], \"mode\": \"markers\", \"name\": \"IL\"}, {\"y\": [\"360140.416667\"], \"x\": [\"2003\"], \"text\": [\"IN\"], \"mode\": \"markers\", \"name\": \"IN\"}, {\"y\": [\"52798.4166667\"], \"x\": [\"2003\"], \"text\": [\"KS\"], \"mode\": \"markers\", \"name\": \"KS\"}, {\"y\": [\"51564.3333333\"], \"x\": [\"2003\"], \"text\": [\"KY\"], \"mode\": \"markers\", \"name\": \"KY\"}, {\"y\": [\"485560.5\"], \"x\": [\"2003\"], \"text\": [\"LA\"], \"mode\": \"markers\", \"name\": \"LA\"}, {\"y\": [\"730767.25\"], \"x\": [\"2003\"], \"text\": [\"MA\"], \"mode\": \"markers\", \"name\": \"MA\"}, {\"y\": [\"744662.583333\"], \"x\": [\"2003\"], \"text\": [\"MD\"], \"mode\": \"markers\", \"name\": \"MD\"}, {\"y\": [\"70616.0\"], \"x\": [\"2003\"], \"text\": [\"ME\"], \"mode\": \"markers\", \"name\": \"ME\"}, {\"y\": [\"1341450.91667\"], \"x\": [\"2003\"], \"text\": [\"MI\"], \"mode\": \"markers\", \"name\": \"MI\"}, {\"y\": [\"1187820.5\"], \"x\": [\"2003\"], \"text\": [\"MN\"], \"mode\": \"markers\", \"name\": \"MN\"}, {\"y\": [\"1235774.91667\"], \"x\": [\"2003\"], \"text\": [\"MO\"], \"mode\": \"markers\", \"name\": \"MO\"}, {\"y\": [\"99572.6666667\"], \"x\": [\"2003\"], \"text\": [\"MS\"], \"mode\": \"markers\", \"name\": \"MS\"}, {\"y\": [\"110274.583333\"], \"x\": [\"2003\"], \"text\": [\"MT\"], \"mode\": \"markers\", \"name\": \"MT\"}, {\"y\": [\"1316773.58333\"], \"x\": [\"2003\"], \"text\": [\"NC\"], \"mode\": \"markers\", \"name\": \"NC\"}, {\"y\": [\"42478.5833333\"], \"x\": [\"2003\"], \"text\": [\"ND\"], \"mode\": \"markers\", \"name\": \"ND\"}, {\"y\": [\"144787.583333\"], \"x\": [\"2003\"], \"text\": [\"NE\"], \"mode\": \"markers\", \"name\": \"NE\"}, {\"y\": [\"147538.583333\"], \"x\": [\"2003\"], \"text\": [\"NH\"], \"mode\": \"markers\", \"name\": \"NH\"}, {\"y\": [\"873735.666667\"], \"x\": [\"2003\"], \"text\": [\"NJ\"], \"mode\": \"markers\", \"name\": \"NJ\"}, {\"y\": [\"249651.75\"], \"x\": [\"2003\"], \"text\": [\"NM\"], \"mode\": \"markers\", \"name\": \"NM\"}, {\"y\": [\"1489338.41667\"], \"x\": [\"2003\"], \"text\": [\"NV\"], \"mode\": \"markers\", \"name\": \"NV\"}, {\"y\": [\"1938321.0\"], \"x\": [\"2003\"], \"text\": [\"NY\"], \"mode\": \"markers\", \"name\": \"NY\"}, {\"y\": [\"1600358.66667\"], \"x\": [\"2003\"], \"text\": [\"OH\"], \"mode\": \"markers\", \"name\": \"OH\"}, {\"y\": [\"248726.5\"], \"x\": [\"2003\"], \"text\": [\"OK\"], \"mode\": \"markers\", \"name\": \"OK\"}, {\"y\": [\"494359.666667\"], \"x\": [\"2003\"], \"text\": [\"OR\"], \"mode\": \"markers\", \"name\": \"OR\"}, {\"y\": [\"1486807.75\"], \"x\": [\"2003\"], \"text\": [\"PA\"], \"mode\": \"markers\", \"name\": \"PA\"}, {\"y\": [\"211016.75\"], \"x\": [\"2003\"], \"text\": [\"RI\"], \"mode\": \"markers\", \"name\": \"RI\"}, {\"y\": [\"224897.333333\"], \"x\": [\"2003\"], \"text\": [\"SC\"], \"mode\": \"markers\", \"name\": \"SC\"}, {\"y\": [\"37119.0\"], \"x\": [\"2003\"], \"text\": [\"SD\"], \"mode\": \"markers\", \"name\": \"SD\"}, {\"y\": [\"853612.333333\"], \"x\": [\"2003\"], \"text\": [\"TN\"], \"mode\": \"markers\", \"name\": \"TN\"}, {\"y\": [\"4250168.41667\"], \"x\": [\"2003\"], \"text\": [\"TX\"], \"mode\": \"markers\", \"name\": \"TX\"}, {\"y\": [\"679317.0\"], \"x\": [\"2003\"], \"text\": [\"UT\"], \"mode\": \"markers\", \"name\": \"UT\"}, {\"y\": [\"141888.666667\"], \"x\": [\"2003\"], \"text\": [\"VA\"], \"mode\": \"markers\", \"name\": \"VA\"}, {\"y\": [\"45515.6666667\"], \"x\": [\"2003\"], \"text\": [\"VT\"], \"mode\": \"markers\", \"name\": \"VT\"}, {\"y\": [\"1049337.5\"], \"x\": [\"2003\"], \"text\": [\"WA\"], \"mode\": \"markers\", \"name\": \"WA\"}, {\"y\": [\"380443.583333\"], \"x\": [\"2003\"], \"text\": [\"WI\"], \"mode\": \"markers\", \"name\": \"WI\"}, {\"y\": [\"23484.25\"], \"x\": [\"2003\"], \"text\": [\"WV\"], \"mode\": \"markers\", \"name\": \"WV\"}, {\"y\": [\"15577.9166667\"], \"x\": [\"2003\"], \"text\": [\"WY\"], \"mode\": \"markers\", \"name\": \"WY\"}], \"name\": \"2003\"}, {\"data\": [{\"y\": [\"221796.333333\"], \"x\": [\"2004\"], \"text\": [\"AK\"], \"mode\": \"markers\", \"name\": \"AK\"}, {\"y\": [\"237970.083333\"], \"x\": [\"2004\"], \"text\": [\"AL\"], \"mode\": \"markers\", \"name\": \"AL\"}, {\"y\": [\"147661.416667\"], \"x\": [\"2004\"], \"text\": [\"AR\"], \"mode\": \"markers\", \"name\": \"AR\"}, {\"y\": [\"1616146.25\"], \"x\": [\"2004\"], \"text\": [\"AZ\"], \"mode\": \"markers\", \"name\": \"AZ\"}, {\"y\": [\"4914115.91667\"], \"x\": [\"2004\"], \"text\": [\"CA\"], \"mode\": \"markers\", \"name\": \"CA\"}, {\"y\": [\"79495.3333333\"], \"x\": [\"2004\"], \"text\": [\"CO\"], \"mode\": \"markers\", \"name\": \"CO\"}, {\"y\": [\"272216.416667\"], \"x\": [\"2004\"], \"text\": [\"CT\"], \"mode\": \"markers\", \"name\": \"CT\"}, {\"y\": [\"1270839.0\"], \"x\": [\"2004\"], \"text\": [\"DC\"], \"mode\": \"markers\", \"name\": \"DC\"}, {\"y\": [\"172.6\"], \"x\": [\"2004\"], \"text\": [\"DE\"], \"mode\": \"markers\", \"name\": \"DE\"}, {\"y\": [\"3755637.08333\"], \"x\": [\"2004\"], \"text\": [\"FL\"], \"mode\": \"markers\", \"name\": \"FL\"}, {\"y\": [\"2974454.5\"], \"x\": [\"2004\"], \"text\": [\"GA\"], \"mode\": \"markers\", \"name\": \"GA\"}, {\"y\": [\"718879.75\"], \"x\": [\"2004\"], \"text\": [\"HI\"], \"mode\": \"markers\", \"name\": \"HI\"}, {\"y\": [\"119525.916667\"], \"x\": [\"2004\"], \"text\": [\"IA\"], \"mode\": \"markers\", \"name\": \"IA\"}, {\"y\": [\"20120.3333333\"], \"x\": [\"2004\"], \"text\": [\"ID\"], \"mode\": \"markers\", \"name\": \"ID\"}, {\"y\": [\"3223341.0\"], \"x\": [\"2004\"], \"text\": [\"IL\"], \"mode\": \"markers\", \"name\": \"IL\"}, {\"y\": [\"388336.083333\"], \"x\": [\"2004\"], \"text\": [\"IN\"], \"mode\": \"markers\", \"name\": \"IN\"}, {\"y\": [\"56164.4166667\"], \"x\": [\"2004\"], \"text\": [\"KS\"], \"mode\": \"markers\", \"name\": \"KS\"}, {\"y\": [\"51457.5\"], \"x\": [\"2004\"], \"text\": [\"KY\"], \"mode\": \"markers\", \"name\": \"KY\"}, {\"y\": [\"507153.833333\"], \"x\": [\"2004\"], \"text\": [\"LA\"], \"mode\": \"markers\", \"name\": \"LA\"}, {\"y\": [\"829951.166667\"], \"x\": [\"2004\"], \"text\": [\"MA\"], \"mode\": \"markers\", \"name\": \"MA\"}, {\"y\": [\"769382.166667\"], \"x\": [\"2004\"], \"text\": [\"MD\"], \"mode\": \"markers\", \"name\": \"MD\"}, {\"y\": [\"77914.1666667\"], \"x\": [\"2004\"], \"text\": [\"ME\"], \"mode\": \"markers\", \"name\": \"ME\"}, {\"y\": [\"1437030.33333\"], \"x\": [\"2004\"], \"text\": [\"MI\"], \"mode\": \"markers\", \"name\": \"MI\"}, {\"y\": [\"1285594.0\"], \"x\": [\"2004\"], \"text\": [\"MN\"], \"mode\": \"markers\", \"name\": \"MN\"}, {\"y\": [\"965913.333333\"], \"x\": [\"2004\"], \"text\": [\"MO\"], \"mode\": \"markers\", \"name\": \"MO\"}, {\"y\": [\"100945.833333\"], \"x\": [\"2004\"], \"text\": [\"MS\"], \"mode\": \"markers\", \"name\": \"MS\"}, {\"y\": [\"113204.833333\"], \"x\": [\"2004\"], \"text\": [\"MT\"], \"mode\": \"markers\", \"name\": \"MT\"}, {\"y\": [\"1447284.16667\"], \"x\": [\"2004\"], \"text\": [\"NC\"], \"mode\": \"markers\", \"name\": \"NC\"}, {\"y\": [\"44437.0\"], \"x\": [\"2004\"], \"text\": [\"ND\"], \"mode\": \"markers\", \"name\": \"ND\"}, {\"y\": [\"149618.166667\"], \"x\": [\"2004\"], \"text\": [\"NE\"], \"mode\": \"markers\", \"name\": \"NE\"}, {\"y\": [\"163872.083333\"], \"x\": [\"2004\"], \"text\": [\"NH\"], \"mode\": \"markers\", \"name\": \"NH\"}, {\"y\": [\"920566.083333\"], \"x\": [\"2004\"], \"text\": [\"NJ\"], \"mode\": \"markers\", \"name\": \"NJ\"}, {\"y\": [\"256044.166667\"], \"x\": [\"2004\"], \"text\": [\"NM\"], \"mode\": \"markers\", \"name\": \"NM\"}, {\"y\": [\"1704377.58333\"], \"x\": [\"2004\"], \"text\": [\"NV\"], \"mode\": \"markers\", \"name\": \"NV\"}, {\"y\": [\"2184913.25\"], \"x\": [\"2004\"], \"text\": [\"NY\"], \"mode\": \"markers\", \"name\": \"NY\"}, {\"y\": [\"1677338.5\"], \"x\": [\"2004\"], \"text\": [\"OH\"], \"mode\": \"markers\", \"name\": \"OH\"}, {\"y\": [\"256344.25\"], \"x\": [\"2004\"], \"text\": [\"OK\"], \"mode\": \"markers\", \"name\": \"OK\"}, {\"y\": [\"518543.916667\"], \"x\": [\"2004\"], \"text\": [\"OR\"], \"mode\": \"markers\", \"name\": \"OR\"}, {\"y\": [\"1587693.58333\"], \"x\": [\"2004\"], \"text\": [\"PA\"], \"mode\": \"markers\", \"name\": \"PA\"}, {\"y\": [\"224528.583333\"], \"x\": [\"2004\"], \"text\": [\"RI\"], \"mode\": \"markers\", \"name\": \"RI\"}, {\"y\": [\"260340.083333\"], \"x\": [\"2004\"], \"text\": [\"SC\"], \"mode\": \"markers\", \"name\": \"SC\"}, {\"y\": [\"40550.5833333\"], \"x\": [\"2004\"], \"text\": [\"SD\"], \"mode\": \"markers\", \"name\": \"SD\"}, {\"y\": [\"873669.833333\"], \"x\": [\"2004\"], \"text\": [\"TN\"], \"mode\": \"markers\", \"name\": \"TN\"}, {\"y\": [\"4631464.58333\"], \"x\": [\"2004\"], \"text\": [\"TX\"], \"mode\": \"markers\", \"name\": \"TX\"}, {\"y\": [\"669908.75\"], \"x\": [\"2004\"], \"text\": [\"UT\"], \"mode\": \"markers\", \"name\": \"UT\"}, {\"y\": [\"150831.25\"], \"x\": [\"2004\"], \"text\": [\"VA\"], \"mode\": \"markers\", \"name\": \"VA\"}, {\"y\": [\"52463.25\"], \"x\": [\"2004\"], \"text\": [\"VT\"], \"mode\": \"markers\", \"name\": \"VT\"}, {\"y\": [\"1124005.16667\"], \"x\": [\"2004\"], \"text\": [\"WA\"], \"mode\": \"markers\", \"name\": \"WA\"}, {\"y\": [\"402891.666667\"], \"x\": [\"2004\"], \"text\": [\"WI\"], \"mode\": \"markers\", \"name\": \"WI\"}, {\"y\": [\"28256.5833333\"], \"x\": [\"2004\"], \"text\": [\"WV\"], \"mode\": \"markers\", \"name\": \"WV\"}, {\"y\": [\"13784.0833333\"], \"x\": [\"2004\"], \"text\": [\"WY\"], \"mode\": \"markers\", \"name\": \"WY\"}], \"name\": \"2004\"}, {\"data\": [{\"y\": [\"224446.833333\"], \"x\": [\"2005\"], \"text\": [\"AK\"], \"mode\": \"markers\", \"name\": \"AK\"}, {\"y\": [\"240847.666667\"], \"x\": [\"2005\"], \"text\": [\"AL\"], \"mode\": \"markers\", \"name\": \"AL\"}, {\"y\": [\"160733.416667\"], \"x\": [\"2005\"], \"text\": [\"AR\"], \"mode\": \"markers\", \"name\": \"AR\"}, {\"y\": [\"1685192.83333\"], \"x\": [\"2005\"], \"text\": [\"AZ\"], \"mode\": \"markers\", \"name\": \"AZ\"}, {\"y\": [\"5017435.0\"], \"x\": [\"2005\"], \"text\": [\"CA\"], \"mode\": \"markers\", \"name\": \"CA\"}, {\"y\": [\"81087.25\"], \"x\": [\"2005\"], \"text\": [\"CO\"], \"mode\": \"markers\", \"name\": \"CO\"}, {\"y\": [\"295756.666667\"], \"x\": [\"2005\"], \"text\": [\"CT\"], \"mode\": \"markers\", \"name\": \"CT\"}, {\"y\": [\"1502103.33333\"], \"x\": [\"2005\"], \"text\": [\"DC\"], \"mode\": \"markers\", \"name\": \"DC\"}, {\"y\": [\"170.909090909\"], \"x\": [\"2005\"], \"text\": [\"DE\"], \"mode\": \"markers\", \"name\": \"DE\"}, {\"y\": [\"4034347.25\"], \"x\": [\"2005\"], \"text\": [\"FL\"], \"mode\": \"markers\", \"name\": \"FL\"}, {\"y\": [\"3037739.25\"], \"x\": [\"2005\"], \"text\": [\"GA\"], \"mode\": \"markers\", \"name\": \"GA\"}, {\"y\": [\"747577.666667\"], \"x\": [\"2005\"], \"text\": [\"HI\"], \"mode\": \"markers\", \"name\": \"HI\"}, {\"y\": [\"116534.75\"], \"x\": [\"2005\"], \"text\": [\"IA\"], \"mode\": \"markers\", \"name\": \"IA\"}, {\"y\": [\"21779.3333333\"], \"x\": [\"2005\"], \"text\": [\"ID\"], \"mode\": \"markers\", \"name\": \"ID\"}, {\"y\": [\"3174431.75\"], \"x\": [\"2005\"], \"text\": [\"IL\"], \"mode\": \"markers\", \"name\": \"IL\"}, {\"y\": [\"401249.333333\"], \"x\": [\"2005\"], \"text\": [\"IN\"], \"mode\": \"markers\", \"name\": \"IN\"}, {\"y\": [\"55683.8333333\"], \"x\": [\"2005\"], \"text\": [\"KS\"], \"mode\": \"markers\", \"name\": \"KS\"}, {\"y\": [\"47966.0833333\"], \"x\": [\"2005\"], \"text\": [\"KY\"], \"mode\": \"markers\", \"name\": \"KY\"}, {\"y\": [\"435697.833333\"], \"x\": [\"2005\"], \"text\": [\"LA\"], \"mode\": \"markers\", \"name\": \"LA\"}, {\"y\": [\"856565.166667\"], \"x\": [\"2005\"], \"text\": [\"MA\"], \"mode\": \"markers\", \"name\": \"MA\"}, {\"y\": [\"752388.333333\"], \"x\": [\"2005\"], \"text\": [\"MD\"], \"mode\": \"markers\", \"name\": \"MD\"}, {\"y\": [\"83053.5833333\"], \"x\": [\"2005\"], \"text\": [\"ME\"], \"mode\": \"markers\", \"name\": \"ME\"}, {\"y\": [\"1466151.5\"], \"x\": [\"2005\"], \"text\": [\"MI\"], \"mode\": \"markers\", \"name\": \"MI\"}, {\"y\": [\"1317970.16667\"], \"x\": [\"2005\"], \"text\": [\"MN\"], \"mode\": \"markers\", \"name\": \"MN\"}, {\"y\": [\"1010030.83333\"], \"x\": [\"2005\"], \"text\": [\"MO\"], \"mode\": \"markers\", \"name\": \"MO\"}, {\"y\": [\"105944.666667\"], \"x\": [\"2005\"], \"text\": [\"MS\"], \"mode\": \"markers\", \"name\": \"MS\"}, {\"y\": [\"117629.25\"], \"x\": [\"2005\"], \"text\": [\"MT\"], \"mode\": \"markers\", \"name\": \"MT\"}, {\"y\": [\"1603837.83333\"], \"x\": [\"2005\"], \"text\": [\"NC\"], \"mode\": \"markers\", \"name\": \"NC\"}, {\"y\": [\"46161.9166667\"], \"x\": [\"2005\"], \"text\": [\"ND\"], \"mode\": \"markers\", \"name\": \"ND\"}, {\"y\": [\"163061.416667\"], \"x\": [\"2005\"], \"text\": [\"NE\"], \"mode\": \"markers\", \"name\": \"NE\"}, {\"y\": [\"178297.5\"], \"x\": [\"2005\"], \"text\": [\"NH\"], \"mode\": \"markers\", \"name\": \"NH\"}, {\"y\": [\"947853.5\"], \"x\": [\"2005\"], \"text\": [\"NJ\"], \"mode\": \"markers\", \"name\": \"NJ\"}, {\"y\": [\"267560.583333\"], \"x\": [\"2005\"], \"text\": [\"NM\"], \"mode\": \"markers\", \"name\": \"NM\"}, {\"y\": [\"1788551.0\"], \"x\": [\"2005\"], \"text\": [\"NV\"], \"mode\": \"markers\", \"name\": \"NV\"}, {\"y\": [\"2319521.33333\"], \"x\": [\"2005\"], \"text\": [\"NY\"], \"mode\": \"markers\", \"name\": \"NY\"}, {\"y\": [\"1704569.58333\"], \"x\": [\"2005\"], \"text\": [\"OH\"], \"mode\": \"markers\", \"name\": \"OH\"}, {\"y\": [\"270058.583333\"], \"x\": [\"2005\"], \"text\": [\"OK\"], \"mode\": \"markers\", \"name\": \"OK\"}, {\"y\": [\"553311.666667\"], \"x\": [\"2005\"], \"text\": [\"OR\"], \"mode\": \"markers\", \"name\": \"OR\"}, {\"y\": [\"1602334.75\"], \"x\": [\"2005\"], \"text\": [\"PA\"], \"mode\": \"markers\", \"name\": \"PA\"}, {\"y\": [\"231831.583333\"], \"x\": [\"2005\"], \"text\": [\"RI\"], \"mode\": \"markers\", \"name\": \"RI\"}, {\"y\": [\"294480.333333\"], \"x\": [\"2005\"], \"text\": [\"SC\"], \"mode\": \"markers\", \"name\": \"SC\"}, {\"y\": [\"43504.5833333\"], \"x\": [\"2005\"], \"text\": [\"SD\"], \"mode\": \"markers\", \"name\": \"SD\"}, {\"y\": [\"922766.583333\"], \"x\": [\"2005\"], \"text\": [\"TN\"], \"mode\": \"markers\", \"name\": \"TN\"}, {\"y\": [\"4781279.33333\"], \"x\": [\"2005\"], \"text\": [\"TX\"], \"mode\": \"markers\", \"name\": \"TX\"}, {\"y\": [\"796476.5\"], \"x\": [\"2005\"], \"text\": [\"UT\"], \"mode\": \"markers\", \"name\": \"UT\"}, {\"y\": [\"170982.833333\"], \"x\": [\"2005\"], \"text\": [\"VA\"], \"mode\": \"markers\", \"name\": \"VA\"}, {\"y\": [\"57796.4166667\"], \"x\": [\"2005\"], \"text\": [\"VT\"], \"mode\": \"markers\", \"name\": \"VT\"}, {\"y\": [\"1142889.91667\"], \"x\": [\"2005\"], \"text\": [\"WA\"], \"mode\": \"markers\", \"name\": \"WA\"}, {\"y\": [\"424544.833333\"], \"x\": [\"2005\"], \"text\": [\"WI\"], \"mode\": \"markers\", \"name\": \"WI\"}, {\"y\": [\"30390.5833333\"], \"x\": [\"2005\"], \"text\": [\"WV\"], \"mode\": \"markers\", \"name\": \"WV\"}, {\"y\": [\"18050.8333333\"], \"x\": [\"2005\"], \"text\": [\"WY\"], \"mode\": \"markers\", \"name\": \"WY\"}], \"name\": \"2005\"}, {\"data\": [{\"y\": [\"224275.5\"], \"x\": [\"2006\"], \"text\": [\"AK\"], \"mode\": \"markers\", \"name\": \"AK\"}, {\"y\": [\"223444.25\"], \"x\": [\"2006\"], \"text\": [\"AL\"], \"mode\": \"markers\", \"name\": \"AL\"}, {\"y\": [\"157760.416667\"], \"x\": [\"2006\"], \"text\": [\"AR\"], \"mode\": \"markers\", \"name\": \"AR\"}, {\"y\": [\"1687455.83333\"], \"x\": [\"2006\"], \"text\": [\"AZ\"], \"mode\": \"markers\", \"name\": \"AZ\"}, {\"y\": [\"5012470.5\"], \"x\": [\"2006\"], \"text\": [\"CA\"], \"mode\": \"markers\", \"name\": \"CA\"}, {\"y\": [\"80801.75\"], \"x\": [\"2006\"], \"text\": [\"CO\"], \"mode\": \"markers\", \"name\": \"CO\"}, {\"y\": [\"277215.666667\"], \"x\": [\"2006\"], \"text\": [\"CT\"], \"mode\": \"markers\", \"name\": \"CT\"}, {\"y\": [\"1352769.83333\"], \"x\": [\"2006\"], \"text\": [\"DC\"], \"mode\": \"markers\", \"name\": \"DC\"}, {\"y\": [\"887.7\"], \"x\": [\"2006\"], \"text\": [\"DE\"], \"mode\": \"markers\", \"name\": \"DE\"}, {\"y\": [\"4010012.83333\"], \"x\": [\"2006\"], \"text\": [\"FL\"], \"mode\": \"markers\", \"name\": \"FL\"}, {\"y\": [\"2923496.66667\"], \"x\": [\"2006\"], \"text\": [\"GA\"], \"mode\": \"markers\", \"name\": \"GA\"}, {\"y\": [\"761441.083333\"], \"x\": [\"2006\"], \"text\": [\"HI\"], \"mode\": \"markers\", \"name\": \"HI\"}, {\"y\": [\"120050.416667\"], \"x\": [\"2006\"], \"text\": [\"IA\"], \"mode\": \"markers\", \"name\": \"IA\"}, {\"y\": [\"20120.0833333\"], \"x\": [\"2006\"], \"text\": [\"ID\"], \"mode\": \"markers\", \"name\": \"ID\"}, {\"y\": [\"3207074.33333\"], \"x\": [\"2006\"], \"text\": [\"IL\"], \"mode\": \"markers\", \"name\": \"IL\"}, {\"y\": [\"391730.583333\"], \"x\": [\"2006\"], \"text\": [\"IN\"], \"mode\": \"markers\", \"name\": \"IN\"}, {\"y\": [\"54801.9166667\"], \"x\": [\"2006\"], \"text\": [\"KS\"], \"mode\": \"markers\", \"name\": \"KS\"}, {\"y\": [\"44774.0\"], \"x\": [\"2006\"], \"text\": [\"KY\"], \"mode\": \"markers\", \"name\": \"KY\"}, {\"y\": [\"367940.416667\"], \"x\": [\"2006\"], \"text\": [\"LA\"], \"mode\": \"markers\", \"name\": \"LA\"}, {\"y\": [\"889380.583333\"], \"x\": [\"2006\"], \"text\": [\"MA\"], \"mode\": \"markers\", \"name\": \"MA\"}, {\"y\": [\"792010.333333\"], \"x\": [\"2006\"], \"text\": [\"MD\"], \"mode\": \"markers\", \"name\": \"MD\"}, {\"y\": [\"78177.1666667\"], \"x\": [\"2006\"], \"text\": [\"ME\"], \"mode\": \"markers\", \"name\": \"ME\"}, {\"y\": [\"1444924.25\"], \"x\": [\"2006\"], \"text\": [\"MI\"], \"mode\": \"markers\", \"name\": \"MI\"}, {\"y\": [\"1272512.66667\"], \"x\": [\"2006\"], \"text\": [\"MN\"], \"mode\": \"markers\", \"name\": \"MN\"}, {\"y\": [\"1051907.16667\"], \"x\": [\"2006\"], \"text\": [\"MO\"], \"mode\": \"markers\", \"name\": \"MO\"}, {\"y\": [\"105379.25\"], \"x\": [\"2006\"], \"text\": [\"MS\"], \"mode\": \"markers\", \"name\": \"MS\"}, {\"y\": [\"107596.416667\"], \"x\": [\"2006\"], \"text\": [\"MT\"], \"mode\": \"markers\", \"name\": \"MT\"}, {\"y\": [\"1634345.25\"], \"x\": [\"2006\"], \"text\": [\"NC\"], \"mode\": \"markers\", \"name\": \"NC\"}, {\"y\": [\"47480.0833333\"], \"x\": [\"2006\"], \"text\": [\"ND\"], \"mode\": \"markers\", \"name\": \"ND\"}, {\"y\": [\"161145.166667\"], \"x\": [\"2006\"], \"text\": [\"NE\"], \"mode\": \"markers\", \"name\": \"NE\"}, {\"y\": [\"160111.25\"], \"x\": [\"2006\"], \"text\": [\"NH\"], \"mode\": \"markers\", \"name\": \"NH\"}, {\"y\": [\"1010209.91667\"], \"x\": [\"2006\"], \"text\": [\"NJ\"], \"mode\": \"markers\", \"name\": \"NJ\"}, {\"y\": [\"270752.083333\"], \"x\": [\"2006\"], \"text\": [\"NM\"], \"mode\": \"markers\", \"name\": \"NM\"}, {\"y\": [\"1801225.41667\"], \"x\": [\"2006\"], \"text\": [\"NV\"], \"mode\": \"markers\", \"name\": \"NV\"}, {\"y\": [\"2351207.75\"], \"x\": [\"2006\"], \"text\": [\"NY\"], \"mode\": \"markers\", \"name\": \"NY\"}, {\"y\": [\"1460938.83333\"], \"x\": [\"2006\"], \"text\": [\"OH\"], \"mode\": \"markers\", \"name\": \"OH\"}, {\"y\": [\"267570.0\"], \"x\": [\"2006\"], \"text\": [\"OK\"], \"mode\": \"markers\", \"name\": \"OK\"}, {\"y\": [\"562997.5\"], \"x\": [\"2006\"], \"text\": [\"OR\"], \"mode\": \"markers\", \"name\": \"OR\"}, {\"y\": [\"1581536.33333\"], \"x\": [\"2006\"], \"text\": [\"PA\"], \"mode\": \"markers\", \"name\": \"PA\"}, {\"y\": [\"212600.583333\"], \"x\": [\"2006\"], \"text\": [\"RI\"], \"mode\": \"markers\", \"name\": \"RI\"}, {\"y\": [\"258088.916667\"], \"x\": [\"2006\"], \"text\": [\"SC\"], \"mode\": \"markers\", \"name\": \"SC\"}, {\"y\": [\"42530.8333333\"], \"x\": [\"2006\"], \"text\": [\"SD\"], \"mode\": \"markers\", \"name\": \"SD\"}, {\"y\": [\"923059.25\"], \"x\": [\"2006\"], \"text\": [\"TN\"], \"mode\": \"markers\", \"name\": \"TN\"}, {\"y\": [\"5026353.83333\"], \"x\": [\"2006\"], \"text\": [\"TX\"], \"mode\": \"markers\", \"name\": \"TX\"}, {\"y\": [\"740696.416667\"], \"x\": [\"2006\"], \"text\": [\"UT\"], \"mode\": \"markers\", \"name\": \"UT\"}, {\"y\": [\"185749.916667\"], \"x\": [\"2006\"], \"text\": [\"VA\"], \"mode\": \"markers\", \"name\": \"VA\"}, {\"y\": [\"56602.9166667\"], \"x\": [\"2006\"], \"text\": [\"VT\"], \"mode\": \"markers\", \"name\": \"VT\"}, {\"y\": [\"1170479.16667\"], \"x\": [\"2006\"], \"text\": [\"WA\"], \"mode\": \"markers\", \"name\": \"WA\"}, {\"y\": [\"430070.583333\"], \"x\": [\"2006\"], \"text\": [\"WI\"], \"mode\": \"markers\", \"name\": \"WI\"}, {\"y\": [\"25351.9166667\"], \"x\": [\"2006\"], \"text\": [\"WV\"], \"mode\": \"markers\", \"name\": \"WV\"}, {\"y\": [\"19252.8333333\"], \"x\": [\"2006\"], \"text\": [\"WY\"], \"mode\": \"markers\", \"name\": \"WY\"}], \"name\": \"2006\"}, {\"data\": [{\"y\": [\"230588.5\"], \"x\": [\"2007\"], \"text\": [\"AK\"], \"mode\": \"markers\", \"name\": \"AK\"}, {\"y\": [\"236863.75\"], \"x\": [\"2007\"], \"text\": [\"AL\"], \"mode\": \"markers\", \"name\": \"AL\"}, {\"y\": [\"162434.25\"], \"x\": [\"2007\"], \"text\": [\"AR\"], \"mode\": \"markers\", \"name\": \"AR\"}, {\"y\": [\"1712301.0\"], \"x\": [\"2007\"], \"text\": [\"AZ\"], \"mode\": \"markers\", \"name\": \"AZ\"}, {\"y\": [\"5192987.41667\"], \"x\": [\"2007\"], \"text\": [\"CA\"], \"mode\": \"markers\", \"name\": \"CA\"}, {\"y\": [\"82938.25\"], \"x\": [\"2007\"], \"text\": [\"CO\"], \"mode\": \"markers\", \"name\": \"CO\"}, {\"y\": [\"259066.666667\"], \"x\": [\"2007\"], \"text\": [\"CT\"], \"mode\": \"markers\", \"name\": \"CT\"}, {\"y\": [\"1396494.66667\"], \"x\": [\"2007\"], \"text\": [\"DC\"], \"mode\": \"markers\", \"name\": \"DC\"}, {\"y\": [\"979.083333333\"], \"x\": [\"2007\"], \"text\": [\"DE\"], \"mode\": \"markers\", \"name\": \"DE\"}, {\"y\": [\"4064983.33333\"], \"x\": [\"2007\"], \"text\": [\"FL\"], \"mode\": \"markers\", \"name\": \"FL\"}, {\"y\": [\"3031133.83333\"], \"x\": [\"2007\"], \"text\": [\"GA\"], \"mode\": \"markers\", \"name\": \"GA\"}, {\"y\": [\"815123.833333\"], \"x\": [\"2007\"], \"text\": [\"HI\"], \"mode\": \"markers\", \"name\": \"HI\"}, {\"y\": [\"120100.833333\"], \"x\": [\"2007\"], \"text\": [\"IA\"], \"mode\": \"markers\", \"name\": \"IA\"}, {\"y\": [\"19924.3333333\"], \"x\": [\"2007\"], \"text\": [\"ID\"], \"mode\": \"markers\", \"name\": \"ID\"}, {\"y\": [\"3185161.41667\"], \"x\": [\"2007\"], \"text\": [\"IL\"], \"mode\": \"markers\", \"name\": \"IL\"}, {\"y\": [\"393213.25\"], \"x\": [\"2007\"], \"text\": [\"IN\"], \"mode\": \"markers\", \"name\": \"IN\"}, {\"y\": [\"58784.0833333\"], \"x\": [\"2007\"], \"text\": [\"KS\"], \"mode\": \"markers\", \"name\": \"KS\"}, {\"y\": [\"45397.8333333\"], \"x\": [\"2007\"], \"text\": [\"KY\"], \"mode\": \"markers\", \"name\": \"KY\"}, {\"y\": [\"423612.916667\"], \"x\": [\"2007\"], \"text\": [\"LA\"], \"mode\": \"markers\", \"name\": \"LA\"}, {\"y\": [\"906255.25\"], \"x\": [\"2007\"], \"text\": [\"MA\"], \"mode\": \"markers\", \"name\": \"MA\"}, {\"y\": [\"809925.916667\"], \"x\": [\"2007\"], \"text\": [\"MD\"], \"mode\": \"markers\", \"name\": \"MD\"}, {\"y\": [\"86322.1666667\"], \"x\": [\"2007\"], \"text\": [\"ME\"], \"mode\": \"markers\", \"name\": \"ME\"}, {\"y\": [\"1425565.83333\"], \"x\": [\"2007\"], \"text\": [\"MI\"], \"mode\": \"markers\", \"name\": \"MI\"}, {\"y\": [\"1256270.75\"], \"x\": [\"2007\"], \"text\": [\"MN\"], \"mode\": \"markers\", \"name\": \"MN\"}, {\"y\": [\"1084835.66667\"], \"x\": [\"2007\"], \"text\": [\"MO\"], \"mode\": \"markers\", \"name\": \"MO\"}, {\"y\": [\"108764.25\"], \"x\": [\"2007\"], \"text\": [\"MS\"], \"mode\": \"markers\", \"name\": \"MS\"}, {\"y\": [\"105363.333333\"], \"x\": [\"2007\"], \"text\": [\"MT\"], \"mode\": \"markers\", \"name\": \"MT\"}, {\"y\": [\"1799711.5\"], \"x\": [\"2007\"], \"text\": [\"NC\"], \"mode\": \"markers\", \"name\": \"NC\"}, {\"y\": [\"46012.8333333\"], \"x\": [\"2007\"], \"text\": [\"ND\"], \"mode\": \"markers\", \"name\": \"ND\"}, {\"y\": [\"165936.333333\"], \"x\": [\"2007\"], \"text\": [\"NE\"], \"mode\": \"markers\", \"name\": \"NE\"}, {\"y\": [\"159451.75\"], \"x\": [\"2007\"], \"text\": [\"NH\"], \"mode\": \"markers\", \"name\": \"NH\"}, {\"y\": [\"1026416.58333\"], \"x\": [\"2007\"], \"text\": [\"NJ\"], \"mode\": \"markers\", \"name\": \"NJ\"}, {\"y\": [\"285668.25\"], \"x\": [\"2007\"], \"text\": [\"NM\"], \"mode\": \"markers\", \"name\": \"NM\"}, {\"y\": [\"1827763.41667\"], \"x\": [\"2007\"], \"text\": [\"NV\"], \"mode\": \"markers\", \"name\": \"NV\"}, {\"y\": [\"2460886.91667\"], \"x\": [\"2007\"], \"text\": [\"NY\"], \"mode\": \"markers\", \"name\": \"NY\"}, {\"y\": [\"1492533.33333\"], \"x\": [\"2007\"], \"text\": [\"OH\"], \"mode\": \"markers\", \"name\": \"OH\"}, {\"y\": [\"277142.416667\"], \"x\": [\"2007\"], \"text\": [\"OK\"], \"mode\": \"markers\", \"name\": \"OK\"}, {\"y\": [\"590979.25\"], \"x\": [\"2007\"], \"text\": [\"OR\"], \"mode\": \"markers\", \"name\": \"OR\"}, {\"y\": [\"1602586.08333\"], \"x\": [\"2007\"], \"text\": [\"PA\"], \"mode\": \"markers\", \"name\": \"PA\"}, {\"y\": [\"204680.666667\"], \"x\": [\"2007\"], \"text\": [\"RI\"], \"mode\": \"markers\", \"name\": \"RI\"}, {\"y\": [\"282814.333333\"], \"x\": [\"2007\"], \"text\": [\"SC\"], \"mode\": \"markers\", \"name\": \"SC\"}, {\"y\": [\"44599.6666667\"], \"x\": [\"2007\"], \"text\": [\"SD\"], \"mode\": \"markers\", \"name\": \"SD\"}, {\"y\": [\"936283.75\"], \"x\": [\"2007\"], \"text\": [\"TN\"], \"mode\": \"markers\", \"name\": \"TN\"}, {\"y\": [\"5125967.41667\"], \"x\": [\"2007\"], \"text\": [\"TX\"], \"mode\": \"markers\", \"name\": \"TX\"}, {\"y\": [\"758198.833333\"], \"x\": [\"2007\"], \"text\": [\"UT\"], \"mode\": \"markers\", \"name\": \"UT\"}, {\"y\": [\"200276.916667\"], \"x\": [\"2007\"], \"text\": [\"VA\"], \"mode\": \"markers\", \"name\": \"VA\"}, {\"y\": [\"58718.25\"], \"x\": [\"2007\"], \"text\": [\"VT\"], \"mode\": \"markers\", \"name\": \"VT\"}, {\"y\": [\"1230528.75\"], \"x\": [\"2007\"], \"text\": [\"WA\"], \"mode\": \"markers\", \"name\": \"WA\"}, {\"y\": [\"437250.916667\"], \"x\": [\"2007\"], \"text\": [\"WI\"], \"mode\": \"markers\", \"name\": \"WI\"}, {\"y\": [\"23826.75\"], \"x\": [\"2007\"], \"text\": [\"WV\"], \"mode\": \"markers\", \"name\": \"WV\"}, {\"y\": [\"17829.75\"], \"x\": [\"2007\"], \"text\": [\"WY\"], \"mode\": \"markers\", \"name\": \"WY\"}], \"name\": \"2007\"}, {\"data\": [{\"y\": [\"224648.833333\"], \"x\": [\"2008\"], \"text\": [\"AK\"], \"mode\": \"markers\", \"name\": \"AK\"}, {\"y\": [\"235359.916667\"], \"x\": [\"2008\"], \"text\": [\"AL\"], \"mode\": \"markers\", \"name\": \"AL\"}, {\"y\": [\"154253.666667\"], \"x\": [\"2008\"], \"text\": [\"AR\"], \"mode\": \"markers\", \"name\": \"AR\"}, {\"y\": [\"1622381.5\"], \"x\": [\"2008\"], \"text\": [\"AZ\"], \"mode\": \"markers\", \"name\": \"AZ\"}, {\"y\": [\"4921481.75\"], \"x\": [\"2008\"], \"text\": [\"CA\"], \"mode\": \"markers\", \"name\": \"CA\"}, {\"y\": [\"76660.5833333\"], \"x\": [\"2008\"], \"text\": [\"CO\"], \"mode\": \"markers\", \"name\": \"CO\"}, {\"y\": [\"241621.75\"], \"x\": [\"2008\"], \"text\": [\"CT\"], \"mode\": \"markers\", \"name\": \"CT\"}, {\"y\": [\"1332891.08333\"], \"x\": [\"2008\"], \"text\": [\"DC\"], \"mode\": \"markers\", \"name\": \"DC\"}, {\"y\": [\"105.0\"], \"x\": [\"2008\"], \"text\": [\"DE\"], \"mode\": \"markers\", \"name\": \"DE\"}, {\"y\": [\"3941691.58333\"], \"x\": [\"2008\"], \"text\": [\"FL\"], \"mode\": \"markers\", \"name\": \"FL\"}, {\"y\": [\"3063138.5\"], \"x\": [\"2008\"], \"text\": [\"GA\"], \"mode\": \"markers\", \"name\": \"GA\"}, {\"y\": [\"694077.166667\"], \"x\": [\"2008\"], \"text\": [\"HI\"], \"mode\": \"markers\", \"name\": \"HI\"}, {\"y\": [\"114250.416667\"], \"x\": [\"2008\"], \"text\": [\"IA\"], \"mode\": \"markers\", \"name\": \"IA\"}, {\"y\": [\"18131.5833333\"], \"x\": [\"2008\"], \"text\": [\"ID\"], \"mode\": \"markers\", \"name\": \"ID\"}, {\"y\": [\"2903226.0\"], \"x\": [\"2008\"], \"text\": [\"IL\"], \"mode\": \"markers\", \"name\": \"IL\"}, {\"y\": [\"378571.166667\"], \"x\": [\"2008\"], \"text\": [\"IN\"], \"mode\": \"markers\", \"name\": \"IN\"}, {\"y\": [\"56373.25\"], \"x\": [\"2008\"], \"text\": [\"KS\"], \"mode\": \"markers\", \"name\": \"KS\"}, {\"y\": [\"43066.5833333\"], \"x\": [\"2008\"], \"text\": [\"KY\"], \"mode\": \"markers\", \"name\": \"KY\"}, {\"y\": [\"428609.833333\"], \"x\": [\"2008\"], \"text\": [\"LA\"], \"mode\": \"markers\", \"name\": \"LA\"}, {\"y\": [\"845357.083333\"], \"x\": [\"2008\"], \"text\": [\"MA\"], \"mode\": \"markers\", \"name\": \"MA\"}, {\"y\": [\"789952.416667\"], \"x\": [\"2008\"], \"text\": [\"MD\"], \"mode\": \"markers\", \"name\": \"MD\"}, {\"y\": [\"89479.5\"], \"x\": [\"2008\"], \"text\": [\"ME\"], \"mode\": \"markers\", \"name\": \"ME\"}, {\"y\": [\"1366068.5\"], \"x\": [\"2008\"], \"text\": [\"MI\"], \"mode\": \"markers\", \"name\": \"MI\"}, {\"y\": [\"1203593.5\"], \"x\": [\"2008\"], \"text\": [\"MN\"], \"mode\": \"markers\", \"name\": \"MN\"}, {\"y\": [\"1013696.25\"], \"x\": [\"2008\"], \"text\": [\"MO\"], \"mode\": \"markers\", \"name\": \"MO\"}, {\"y\": [\"107927.333333\"], \"x\": [\"2008\"], \"text\": [\"MS\"], \"mode\": \"markers\", \"name\": \"MS\"}, {\"y\": [\"99614.3333333\"], \"x\": [\"2008\"], \"text\": [\"MT\"], \"mode\": \"markers\", \"name\": \"MT\"}, {\"y\": [\"1826902.91667\"], \"x\": [\"2008\"], \"text\": [\"NC\"], \"mode\": \"markers\", \"name\": \"NC\"}, {\"y\": [\"47883.9166667\"], \"x\": [\"2008\"], \"text\": [\"ND\"], \"mode\": \"markers\", \"name\": \"ND\"}, {\"y\": [\"159522.916667\"], \"x\": [\"2008\"], \"text\": [\"NE\"], \"mode\": \"markers\", \"name\": \"NE\"}, {\"y\": [\"152299.0\"], \"x\": [\"2008\"], \"text\": [\"NH\"], \"mode\": \"markers\", \"name\": \"NH\"}, {\"y\": [\"974505.583333\"], \"x\": [\"2008\"], \"text\": [\"NJ\"], \"mode\": \"markers\", \"name\": \"NJ\"}, {\"y\": [\"271993.083333\"], \"x\": [\"2008\"], \"text\": [\"NM\"], \"mode\": \"markers\", \"name\": \"NM\"}, {\"y\": [\"1694450.33333\"], \"x\": [\"2008\"], \"text\": [\"NV\"], \"mode\": \"markers\", \"name\": \"NV\"}, {\"y\": [\"2375028.91667\"], \"x\": [\"2008\"], \"text\": [\"NY\"], \"mode\": \"markers\", \"name\": \"NY\"}, {\"y\": [\"1362550.66667\"], \"x\": [\"2008\"], \"text\": [\"OH\"], \"mode\": \"markers\", \"name\": \"OH\"}, {\"y\": [\"272883.333333\"], \"x\": [\"2008\"], \"text\": [\"OK\"], \"mode\": \"markers\", \"name\": \"OK\"}, {\"y\": [\"570474.25\"], \"x\": [\"2008\"], \"text\": [\"OR\"], \"mode\": \"markers\", \"name\": \"OR\"}, {\"y\": [\"1542936.0\"], \"x\": [\"2008\"], \"text\": [\"PA\"], \"mode\": \"markers\", \"name\": \"PA\"}, {\"y\": [\"193963.416667\"], \"x\": [\"2008\"], \"text\": [\"RI\"], \"mode\": \"markers\", \"name\": \"RI\"}, {\"y\": [\"270393.25\"], \"x\": [\"2008\"], \"text\": [\"SC\"], \"mode\": \"markers\", \"name\": \"SC\"}, {\"y\": [\"42190.1666667\"], \"x\": [\"2008\"], \"text\": [\"SD\"], \"mode\": \"markers\", \"name\": \"SD\"}, {\"y\": [\"893682.75\"], \"x\": [\"2008\"], \"text\": [\"TN\"], \"mode\": \"markers\", \"name\": \"TN\"}, {\"y\": [\"4950741.25\"], \"x\": [\"2008\"], \"text\": [\"TX\"], \"mode\": \"markers\", \"name\": \"TX\"}, {\"y\": [\"714229.0\"], \"x\": [\"2008\"], \"text\": [\"UT\"], \"mode\": \"markers\", \"name\": \"UT\"}, {\"y\": [\"189937.166667\"], \"x\": [\"2008\"], \"text\": [\"VA\"], \"mode\": \"markers\", \"name\": \"VA\"}, {\"y\": [\"62614.1666667\"], \"x\": [\"2008\"], \"text\": [\"VT\"], \"mode\": \"markers\", \"name\": \"VT\"}, {\"y\": [\"1238462.16667\"], \"x\": [\"2008\"], \"text\": [\"WA\"], \"mode\": \"markers\", \"name\": \"WA\"}, {\"y\": [\"433027.833333\"], \"x\": [\"2008\"], \"text\": [\"WI\"], \"mode\": \"markers\", \"name\": \"WI\"}, {\"y\": [\"22735.1666667\"], \"x\": [\"2008\"], \"text\": [\"WV\"], \"mode\": \"markers\", \"name\": \"WV\"}, {\"y\": [\"20256.9166667\"], \"x\": [\"2008\"], \"text\": [\"WY\"], \"mode\": \"markers\", \"name\": \"WY\"}], \"name\": \"2008\"}, {\"data\": [{\"y\": [\"208444.25\"], \"x\": [\"2009\"], \"text\": [\"AK\"], \"mode\": \"markers\", \"name\": \"AK\"}, {\"y\": [\"211533.666667\"], \"x\": [\"2009\"], \"text\": [\"AL\"], \"mode\": \"markers\", \"name\": \"AL\"}, {\"y\": [\"143663.916667\"], \"x\": [\"2009\"], \"text\": [\"AR\"], \"mode\": \"markers\", \"name\": \"AR\"}, {\"y\": [\"1532344.0\"], \"x\": [\"2009\"], \"text\": [\"AZ\"], \"mode\": \"markers\", \"name\": \"AZ\"}, {\"y\": [\"4685129.75\"], \"x\": [\"2009\"], \"text\": [\"CA\"], \"mode\": \"markers\", \"name\": \"CA\"}, {\"y\": [\"70114.3333333\"], \"x\": [\"2009\"], \"text\": [\"CO\"], \"mode\": \"markers\", \"name\": \"CO\"}, {\"y\": [\"215315.583333\"], \"x\": [\"2009\"], \"text\": [\"CT\"], \"mode\": \"markers\", \"name\": \"CT\"}, {\"y\": [\"1296668.41667\"], \"x\": [\"2009\"], \"text\": [\"DC\"], \"mode\": \"markers\", \"name\": \"DC\"}, {\"y\": [\"63.3333333333\"], \"x\": [\"2009\"], \"text\": [\"DE\"], \"mode\": \"markers\", \"name\": \"DE\"}, {\"y\": [\"3722350.83333\"], \"x\": [\"2009\"], \"text\": [\"FL\"], \"mode\": \"markers\", \"name\": \"FL\"}, {\"y\": [\"2964298.16667\"], \"x\": [\"2009\"], \"text\": [\"GA\"], \"mode\": \"markers\", \"name\": \"GA\"}, {\"y\": [\"678763.0\"], \"x\": [\"2009\"], \"text\": [\"HI\"], \"mode\": \"markers\", \"name\": \"HI\"}, {\"y\": [\"104689.25\"], \"x\": [\"2009\"], \"text\": [\"IA\"], \"mode\": \"markers\", \"name\": \"IA\"}, {\"y\": [\"17831.6666667\"], \"x\": [\"2009\"], \"text\": [\"ID\"], \"mode\": \"markers\", \"name\": \"ID\"}, {\"y\": [\"2746452.5\"], \"x\": [\"2009\"], \"text\": [\"IL\"], \"mode\": \"markers\", \"name\": \"IL\"}, {\"y\": [\"340488.333333\"], \"x\": [\"2009\"], \"text\": [\"IN\"], \"mode\": \"markers\", \"name\": \"IN\"}, {\"y\": [\"52459.5833333\"], \"x\": [\"2009\"], \"text\": [\"KS\"], \"mode\": \"markers\", \"name\": \"KS\"}, {\"y\": [\"38681.5\"], \"x\": [\"2009\"], \"text\": [\"KY\"], \"mode\": \"markers\", \"name\": \"KY\"}, {\"y\": [\"412075.333333\"], \"x\": [\"2009\"], \"text\": [\"LA\"], \"mode\": \"markers\", \"name\": \"LA\"}, {\"y\": [\"840728.75\"], \"x\": [\"2009\"], \"text\": [\"MA\"], \"mode\": \"markers\", \"name\": \"MA\"}, {\"y\": [\"798711.0\"], \"x\": [\"2009\"], \"text\": [\"MD\"], \"mode\": \"markers\", \"name\": \"MD\"}, {\"y\": [\"89855.0833333\"], \"x\": [\"2009\"], \"text\": [\"ME\"], \"mode\": \"markers\", \"name\": \"ME\"}, {\"y\": [\"1251693.66667\"], \"x\": [\"2009\"], \"text\": [\"MI\"], \"mode\": \"markers\", \"name\": \"MI\"}, {\"y\": [\"1146020.83333\"], \"x\": [\"2009\"], \"text\": [\"MN\"], \"mode\": \"markers\", \"name\": \"MN\"}, {\"y\": [\"921726.5\"], \"x\": [\"2009\"], \"text\": [\"MO\"], \"mode\": \"markers\", \"name\": \"MO\"}, {\"y\": [\"94771.0\"], \"x\": [\"2009\"], \"text\": [\"MS\"], \"mode\": \"markers\", \"name\": \"MS\"}, {\"y\": [\"92805.75\"], \"x\": [\"2009\"], \"text\": [\"MT\"], \"mode\": \"markers\", \"name\": \"MT\"}, {\"y\": [\"1785418.5\"], \"x\": [\"2009\"], \"text\": [\"NC\"], \"mode\": \"markers\", \"name\": \"NC\"}, {\"y\": [\"48955.3333333\"], \"x\": [\"2009\"], \"text\": [\"ND\"], \"mode\": \"markers\", \"name\": \"ND\"}, {\"y\": [\"149378.75\"], \"x\": [\"2009\"], \"text\": [\"NE\"], \"mode\": \"markers\", \"name\": \"NE\"}, {\"y\": [\"131036.25\"], \"x\": [\"2009\"], \"text\": [\"NH\"], \"mode\": \"markers\", \"name\": \"NH\"}, {\"y\": [\"920887.583333\"], \"x\": [\"2009\"], \"text\": [\"NJ\"], \"mode\": \"markers\", \"name\": \"NJ\"}, {\"y\": [\"243724.916667\"], \"x\": [\"2009\"], \"text\": [\"NM\"], \"mode\": \"markers\", \"name\": \"NM\"}, {\"y\": [\"1543962.75\"], \"x\": [\"2009\"], \"text\": [\"NV\"], \"mode\": \"markers\", \"name\": \"NV\"}, {\"y\": [\"2288218.5\"], \"x\": [\"2009\"], \"text\": [\"NY\"], \"mode\": \"markers\", \"name\": \"NY\"}, {\"y\": [\"1158569.5\"], \"x\": [\"2009\"], \"text\": [\"OH\"], \"mode\": \"markers\", \"name\": \"OH\"}, {\"y\": [\"235994.166667\"], \"x\": [\"2009\"], \"text\": [\"OK\"], \"mode\": \"markers\", \"name\": \"OK\"}, {\"y\": [\"519071.833333\"], \"x\": [\"2009\"], \"text\": [\"OR\"], \"mode\": \"markers\", \"name\": \"OR\"}, {\"y\": [\"1464608.08333\"], \"x\": [\"2009\"], \"text\": [\"PA\"], \"mode\": \"markers\", \"name\": \"PA\"}, {\"y\": [\"178563.0\"], \"x\": [\"2009\"], \"text\": [\"RI\"], \"mode\": \"markers\", \"name\": \"RI\"}, {\"y\": [\"250657.5\"], \"x\": [\"2009\"], \"text\": [\"SC\"], \"mode\": \"markers\", \"name\": \"SC\"}, {\"y\": [\"38500.0833333\"], \"x\": [\"2009\"], \"text\": [\"SD\"], \"mode\": \"markers\", \"name\": \"SD\"}, {\"y\": [\"841628.916667\"], \"x\": [\"2009\"], \"text\": [\"TN\"], \"mode\": \"markers\", \"name\": \"TN\"}, {\"y\": [\"4755373.66667\"], \"x\": [\"2009\"], \"text\": [\"TX\"], \"mode\": \"markers\", \"name\": \"TX\"}, {\"y\": [\"708896.75\"], \"x\": [\"2009\"], \"text\": [\"UT\"], \"mode\": \"markers\", \"name\": \"UT\"}, {\"y\": [\"184490.583333\"], \"x\": [\"2009\"], \"text\": [\"VA\"], \"mode\": \"markers\", \"name\": \"VA\"}, {\"y\": [\"58550.4166667\"], \"x\": [\"2009\"], \"text\": [\"VT\"], \"mode\": \"markers\", \"name\": \"VT\"}, {\"y\": [\"1193027.83333\"], \"x\": [\"2009\"], \"text\": [\"WA\"], \"mode\": \"markers\", \"name\": \"WA\"}, {\"y\": [\"438855.083333\"], \"x\": [\"2009\"], \"text\": [\"WI\"], \"mode\": \"markers\", \"name\": \"WI\"}, {\"y\": [\"22350.5\"], \"x\": [\"2009\"], \"text\": [\"WV\"], \"mode\": \"markers\", \"name\": \"WV\"}, {\"y\": [\"20091.9166667\"], \"x\": [\"2009\"], \"text\": [\"WY\"], \"mode\": \"markers\", \"name\": \"WY\"}], \"name\": \"2009\"}]);}).then(function(){Plotly.animate('215afd25-a4cc-4854-ab89-4589aad49017');})\n",
       "        });</script>"
      ],
      "text/vnd.plotly.v1+html": [
       "<div id=\"215afd25-a4cc-4854-ab89-4589aad49017\" style=\"height: 525px; width: 100%;\" class=\"plotly-graph-div\"></div><script type=\"text/javascript\">require([\"plotly\"], function(Plotly) { window.PLOTLYENV=window.PLOTLYENV || {};window.PLOTLYENV.BASE_URL=\"https://plot.ly\";\n",
       "        Plotly.plot(\n",
       "            '215afd25-a4cc-4854-ab89-4589aad49017',\n",
       "            [{\"y\": [], \"x\": [], \"text\": [], \"mode\": \"markers\", \"name\": \"AK\"}, {\"y\": [], \"x\": [], \"text\": [], \"mode\": \"markers\", \"name\": \"AL\"}, {\"y\": [], \"x\": [], \"text\": [], \"mode\": \"markers\", \"name\": \"AR\"}, {\"y\": [], \"x\": [], \"text\": [], \"mode\": \"markers\", \"name\": \"AZ\"}, {\"y\": [], \"x\": [], \"text\": [], \"mode\": \"markers\", \"name\": \"CA\"}, {\"y\": [], \"x\": [], \"text\": [], \"mode\": \"markers\", \"name\": \"CO\"}, {\"y\": [], \"x\": [], \"text\": [], \"mode\": \"markers\", \"name\": \"CT\"}, {\"y\": [], \"x\": [], \"text\": [], \"mode\": \"markers\", \"name\": \"DC\"}, {\"y\": [], \"x\": [], \"text\": [], \"mode\": \"markers\", \"name\": \"DE\"}, {\"y\": [], \"x\": [], \"text\": [], \"mode\": \"markers\", \"name\": \"FL\"}, {\"y\": [], \"x\": [], \"text\": [], \"mode\": \"markers\", \"name\": \"GA\"}, {\"y\": [], \"x\": [], \"text\": [], \"mode\": \"markers\", \"name\": \"HI\"}, {\"y\": [], \"x\": [], \"text\": [], \"mode\": \"markers\", \"name\": \"IA\"}, {\"y\": [], \"x\": [], \"text\": [], \"mode\": \"markers\", \"name\": \"ID\"}, {\"y\": [], \"x\": [], \"text\": [], \"mode\": \"markers\", \"name\": \"IL\"}, {\"y\": [], \"x\": [], \"text\": [], \"mode\": \"markers\", \"name\": \"IN\"}, {\"y\": [], \"x\": [], \"text\": [], \"mode\": \"markers\", \"name\": \"KS\"}, {\"y\": [], \"x\": [], \"text\": [], \"mode\": \"markers\", \"name\": \"KY\"}, {\"y\": [], \"x\": [], \"text\": [], \"mode\": \"markers\", \"name\": \"LA\"}, {\"y\": [], \"x\": [], \"text\": [], \"mode\": \"markers\", \"name\": \"MA\"}, {\"y\": [], \"x\": [], \"text\": [], \"mode\": \"markers\", \"name\": \"MD\"}, {\"y\": [], \"x\": [], \"text\": [], \"mode\": \"markers\", \"name\": \"ME\"}, {\"y\": [], \"x\": [], \"text\": [], \"mode\": \"markers\", \"name\": \"MI\"}, {\"y\": [], \"x\": [], \"text\": [], \"mode\": \"markers\", \"name\": \"MN\"}, {\"y\": [], \"x\": [], \"text\": [], \"mode\": \"markers\", \"name\": \"MO\"}, {\"y\": [], \"x\": [], \"text\": [], \"mode\": \"markers\", \"name\": \"MS\"}, {\"y\": [], \"x\": [], \"text\": [], \"mode\": \"markers\", \"name\": \"MT\"}, {\"y\": [], \"x\": [], \"text\": [], \"mode\": \"markers\", \"name\": \"NC\"}, {\"y\": [], \"x\": [], \"text\": [], \"mode\": \"markers\", \"name\": \"ND\"}, {\"y\": [], \"x\": [], \"text\": [], \"mode\": \"markers\", \"name\": \"NE\"}, {\"y\": [], \"x\": [], \"text\": [], \"mode\": \"markers\", \"name\": \"NH\"}, {\"y\": [], \"x\": [], \"text\": [], \"mode\": \"markers\", \"name\": \"NJ\"}, {\"y\": [], \"x\": [], \"text\": [], \"mode\": \"markers\", \"name\": \"NM\"}, {\"y\": [], \"x\": [], \"text\": [], \"mode\": \"markers\", \"name\": \"NV\"}, {\"y\": [], \"x\": [], \"text\": [], \"mode\": \"markers\", \"name\": \"NY\"}, {\"y\": [], \"x\": [], \"text\": [], \"mode\": \"markers\", \"name\": \"OH\"}, {\"y\": [], \"x\": [], \"text\": [], \"mode\": \"markers\", \"name\": \"OK\"}, {\"y\": [], \"x\": [], \"text\": [], \"mode\": \"markers\", \"name\": \"OR\"}, {\"y\": [], \"x\": [], \"text\": [], \"mode\": \"markers\", \"name\": \"PA\"}, {\"y\": [], \"x\": [], \"text\": [], \"mode\": \"markers\", \"name\": \"RI\"}, {\"y\": [], \"x\": [], \"text\": [], \"mode\": \"markers\", \"name\": \"SC\"}, {\"y\": [], \"x\": [], \"text\": [], \"mode\": \"markers\", \"name\": \"SD\"}, {\"y\": [], \"x\": [], \"text\": [], \"mode\": \"markers\", \"name\": \"TN\"}, {\"y\": [], \"x\": [], \"text\": [], \"mode\": \"markers\", \"name\": \"TX\"}, {\"y\": [], \"x\": [], \"text\": [], \"mode\": \"markers\", \"name\": \"UT\"}, {\"y\": [], \"x\": [], \"text\": [], \"mode\": \"markers\", \"name\": \"VA\"}, {\"y\": [], \"x\": [], \"text\": [], \"mode\": \"markers\", \"name\": \"VT\"}, {\"y\": [], \"x\": [], \"text\": [], \"mode\": \"markers\", \"name\": \"WA\"}, {\"y\": [], \"x\": [], \"text\": [], \"mode\": \"markers\", \"name\": \"WI\"}, {\"y\": [], \"x\": [], \"text\": [], \"mode\": \"markers\", \"name\": \"WV\"}, {\"y\": [], \"x\": [], \"text\": [], \"mode\": \"markers\", \"name\": \"WY\"}],\n",
       "            {\"sliders\": [{\"yanchor\": \"top\", \"currentvalue\": {\"visible\": true, \"prefix\": \"Month:\", \"font\": {\"size\": 20}, \"xanchor\": \"right\"}, \"transition\": {\"duration\": 300, \"easing\": \"cubic-in-out\"}, \"xanchor\": \"left\", \"pad\": {\"b\": 10, \"t\": 50}, \"len\": 0.9, \"active\": 0, \"steps\": [{\"args\": [[\"2000\"], {\"frame\": {\"duration\": 300, \"redraw\": false}, \"transition\": {\"duration\": 300}, \"mode\": \"immediate\"}], \"method\": \"animate\", \"label\": \"2000\"}, {\"args\": [[\"2001\"], {\"frame\": {\"duration\": 300, \"redraw\": false}, \"transition\": {\"duration\": 300}, \"mode\": \"immediate\"}], \"method\": \"animate\", \"label\": \"2001\"}, {\"args\": [[\"2002\"], {\"frame\": {\"duration\": 300, \"redraw\": false}, \"transition\": {\"duration\": 300}, \"mode\": \"immediate\"}], \"method\": \"animate\", \"label\": \"2002\"}, {\"args\": [[\"2003\"], {\"frame\": {\"duration\": 300, \"redraw\": false}, \"transition\": {\"duration\": 300}, \"mode\": \"immediate\"}], \"method\": \"animate\", \"label\": \"2003\"}, {\"args\": [[\"2004\"], {\"frame\": {\"duration\": 300, \"redraw\": false}, \"transition\": {\"duration\": 300}, \"mode\": \"immediate\"}], \"method\": \"animate\", \"label\": \"2004\"}, {\"args\": [[\"2005\"], {\"frame\": {\"duration\": 300, \"redraw\": false}, \"transition\": {\"duration\": 300}, \"mode\": \"immediate\"}], \"method\": \"animate\", \"label\": \"2005\"}, {\"args\": [[\"2006\"], {\"frame\": {\"duration\": 300, \"redraw\": false}, \"transition\": {\"duration\": 300}, \"mode\": \"immediate\"}], \"method\": \"animate\", \"label\": \"2006\"}, {\"args\": [[\"2007\"], {\"frame\": {\"duration\": 300, \"redraw\": false}, \"transition\": {\"duration\": 300}, \"mode\": \"immediate\"}], \"method\": \"animate\", \"label\": \"2007\"}, {\"args\": [[\"2008\"], {\"frame\": {\"duration\": 300, \"redraw\": false}, \"transition\": {\"duration\": 300}, \"mode\": \"immediate\"}], \"method\": \"animate\", \"label\": \"2008\"}, {\"args\": [[\"2009\"], {\"frame\": {\"duration\": 300, \"redraw\": false}, \"transition\": {\"duration\": 300}, \"mode\": \"immediate\"}], \"method\": \"animate\", \"label\": \"2009\"}], \"y\": 0, \"x\": 0.1}], \"hovermode\": \"closest\", \"xaxis\": {\"range\": [2000, 2009], \"title\": \"Year\"}, \"updatemenus\": [{\"yanchor\": \"top\", \"direction\": \"left\", \"showactive\": false, \"xanchor\": \"right\", \"buttons\": [{\"args\": [null, {\"frame\": {\"duration\": 500, \"redraw\": false}, \"transition\": {\"duration\": 300, \"easing\": \"quadratic-in-out\"}, \"fromcurrent\": true}], \"method\": \"animate\", \"label\": \"Play\"}, {\"args\": [[null], {\"frame\": {\"duration\": 0, \"redraw\": false}, \"transition\": {\"duration\": 0}, \"mode\": \"immediate\"}], \"method\": \"animate\", \"label\": \"Pause\"}], \"pad\": {\"r\": 10, \"t\": 87}, \"y\": 0, \"x\": 0.1, \"type\": \"buttons\"}], \"yaxis\": {\"range\": [0, 20], \"title\": \"Airpassenger traffic\"}},\n",
       "            {\"linkText\": \"Export to plot.ly\", \"showLink\": true}\n",
       "        ).then(function () {return Plotly.addFrames('215afd25-a4cc-4854-ab89-4589aad49017',[{\"data\": [{\"y\": [\"197716.333333\"], \"x\": [\"2000\"], \"text\": [\"AK\"], \"mode\": \"markers\", \"name\": \"AK\"}, {\"y\": [\"233959.166667\"], \"x\": [\"2000\"], \"text\": [\"AL\"], \"mode\": \"markers\", \"name\": \"AL\"}, {\"y\": [\"139017.833333\"], \"x\": [\"2000\"], \"text\": [\"AR\"], \"mode\": \"markers\", \"name\": \"AR\"}, {\"y\": [\"1513817.33333\"], \"x\": [\"2000\"], \"text\": [\"AZ\"], \"mode\": \"markers\", \"name\": \"AZ\"}, {\"y\": [\"5084735.91667\"], \"x\": [\"2000\"], \"text\": [\"CA\"], \"mode\": \"markers\", \"name\": \"CA\"}, {\"y\": [\"74984.6666667\"], \"x\": [\"2000\"], \"text\": [\"CO\"], \"mode\": \"markers\", \"name\": \"CO\"}, {\"y\": [\"285326.583333\"], \"x\": [\"2000\"], \"text\": [\"CT\"], \"mode\": \"markers\", \"name\": \"CT\"}, {\"y\": [\"1041492.75\"], \"x\": [\"2000\"], \"text\": [\"DC\"], \"mode\": \"markers\", \"name\": \"DC\"}, {\"y\": [\"0.0\"], \"x\": [\"2000\"], \"text\": [\"DE\"], \"mode\": \"markers\", \"name\": \"DE\"}, {\"y\": [\"3409797.08333\"], \"x\": [\"2000\"], \"text\": [\"FL\"], \"mode\": \"markers\", \"name\": \"FL\"}, {\"y\": [\"2857485.5\"], \"x\": [\"2000\"], \"text\": [\"GA\"], \"mode\": \"markers\", \"name\": \"GA\"}, {\"y\": [\"780591.0\"], \"x\": [\"2000\"], \"text\": [\"HI\"], \"mode\": \"markers\", \"name\": \"HI\"}, {\"y\": [\"102375.333333\"], \"x\": [\"2000\"], \"text\": [\"IA\"], \"mode\": \"markers\", \"name\": \"IA\"}, {\"y\": [\"4368.5\"], \"x\": [\"2000\"], \"text\": [\"ID\"], \"mode\": \"markers\", \"name\": \"ID\"}, {\"y\": [\"2832712.0\"], \"x\": [\"2000\"], \"text\": [\"IL\"], \"mode\": \"markers\", \"name\": \"IL\"}, {\"y\": [\"358802.583333\"], \"x\": [\"2000\"], \"text\": [\"IN\"], \"mode\": \"markers\", \"name\": \"IN\"}, {\"y\": [\"38696.25\"], \"x\": [\"2000\"], \"text\": [\"KS\"], \"mode\": \"markers\", \"name\": \"KS\"}, {\"y\": [\"37630.3333333\"], \"x\": [\"2000\"], \"text\": [\"KY\"], \"mode\": \"markers\", \"name\": \"KY\"}, {\"y\": [\"529851.666667\"], \"x\": [\"2000\"], \"text\": [\"LA\"], \"mode\": \"markers\", \"name\": \"LA\"}, {\"y\": [\"854874.416667\"], \"x\": [\"2000\"], \"text\": [\"MA\"], \"mode\": \"markers\", \"name\": \"MA\"}, {\"y\": [\"721661.416667\"], \"x\": [\"2000\"], \"text\": [\"MD\"], \"mode\": \"markers\", \"name\": \"MD\"}, {\"y\": [\"49743.0\"], \"x\": [\"2000\"], \"text\": [\"ME\"], \"mode\": \"markers\", \"name\": \"ME\"}, {\"y\": [\"1406763.83333\"], \"x\": [\"2000\"], \"text\": [\"MI\"], \"mode\": \"markers\", \"name\": \"MI\"}, {\"y\": [\"1233771.83333\"], \"x\": [\"2000\"], \"text\": [\"MN\"], \"mode\": \"markers\", \"name\": \"MN\"}, {\"y\": [\"1739525.83333\"], \"x\": [\"2000\"], \"text\": [\"MO\"], \"mode\": \"markers\", \"name\": \"MO\"}, {\"y\": [\"112501.833333\"], \"x\": [\"2000\"], \"text\": [\"MS\"], \"mode\": \"markers\", \"name\": \"MS\"}, {\"y\": [\"98003.5833333\"], \"x\": [\"2000\"], \"text\": [\"MT\"], \"mode\": \"markers\", \"name\": \"MT\"}, {\"y\": [\"1337436.25\"], \"x\": [\"2000\"], \"text\": [\"NC\"], \"mode\": \"markers\", \"name\": \"NC\"}, {\"y\": [\"38004.6666667\"], \"x\": [\"2000\"], \"text\": [\"ND\"], \"mode\": \"markers\", \"name\": \"ND\"}, {\"y\": [\"151784.583333\"], \"x\": [\"2000\"], \"text\": [\"NE\"], \"mode\": \"markers\", \"name\": \"NE\"}, {\"y\": [\"124513.333333\"], \"x\": [\"2000\"], \"text\": [\"NH\"], \"mode\": \"markers\", \"name\": \"NH\"}, {\"y\": [\"1001056.83333\"], \"x\": [\"2000\"], \"text\": [\"NJ\"], \"mode\": \"markers\", \"name\": \"NJ\"}, {\"y\": [\"263532.666667\"], \"x\": [\"2000\"], \"text\": [\"NM\"], \"mode\": \"markers\", \"name\": \"NM\"}, {\"y\": [\"1491972.41667\"], \"x\": [\"2000\"], \"text\": [\"NV\"], \"mode\": \"markers\", \"name\": \"NV\"}, {\"y\": [\"1884134.83333\"], \"x\": [\"2000\"], \"text\": [\"NY\"], \"mode\": \"markers\", \"name\": \"NY\"}, {\"y\": [\"1619127.41667\"], \"x\": [\"2000\"], \"text\": [\"OH\"], \"mode\": \"markers\", \"name\": \"OH\"}, {\"y\": [\"286554.333333\"], \"x\": [\"2000\"], \"text\": [\"OK\"], \"mode\": \"markers\", \"name\": \"OK\"}, {\"y\": [\"523422.75\"], \"x\": [\"2000\"], \"text\": [\"OR\"], \"mode\": \"markers\", \"name\": \"OR\"}, {\"y\": [\"1587551.25\"], \"x\": [\"2000\"], \"text\": [\"PA\"], \"mode\": \"markers\", \"name\": \"PA\"}, {\"y\": [\"209372.916667\"], \"x\": [\"2000\"], \"text\": [\"RI\"], \"mode\": \"markers\", \"name\": \"RI\"}, {\"y\": [\"205052.0\"], \"x\": [\"2000\"], \"text\": [\"SC\"], \"mode\": \"markers\", \"name\": \"SC\"}, {\"y\": [\"33754.4166667\"], \"x\": [\"2000\"], \"text\": [\"SD\"], \"mode\": \"markers\", \"name\": \"SD\"}, {\"y\": [\"890834.166667\"], \"x\": [\"2000\"], \"text\": [\"TN\"], \"mode\": \"markers\", \"name\": \"TN\"}, {\"y\": [\"4818128.58333\"], \"x\": [\"2000\"], \"text\": [\"TX\"], \"mode\": \"markers\", \"name\": \"TX\"}, {\"y\": [\"676175.0\"], \"x\": [\"2000\"], \"text\": [\"UT\"], \"mode\": \"markers\", \"name\": \"UT\"}, {\"y\": [\"123724.166667\"], \"x\": [\"2000\"], \"text\": [\"VA\"], \"mode\": \"markers\", \"name\": \"VA\"}, {\"y\": [\"23290.0\"], \"x\": [\"2000\"], \"text\": [\"VT\"], \"mode\": \"markers\", \"name\": \"VT\"}, {\"y\": [\"1104733.08333\"], \"x\": [\"2000\"], \"text\": [\"WA\"], \"mode\": \"markers\", \"name\": \"WA\"}, {\"y\": [\"345299.416667\"], \"x\": [\"2000\"], \"text\": [\"WI\"], \"mode\": \"markers\", \"name\": \"WI\"}, {\"y\": [\"12568.0\"], \"x\": [\"2000\"], \"text\": [\"WV\"], \"mode\": \"markers\", \"name\": \"WV\"}, {\"y\": [\"4192.75\"], \"x\": [\"2000\"], \"text\": [\"WY\"], \"mode\": \"markers\", \"name\": \"WY\"}], \"name\": \"2000\"}, {\"data\": [{\"y\": [\"197246.083333\"], \"x\": [\"2001\"], \"text\": [\"AK\"], \"mode\": \"markers\", \"name\": \"AK\"}, {\"y\": [\"215669.833333\"], \"x\": [\"2001\"], \"text\": [\"AL\"], \"mode\": \"markers\", \"name\": \"AL\"}, {\"y\": [\"133486.25\"], \"x\": [\"2001\"], \"text\": [\"AR\"], \"mode\": \"markers\", \"name\": \"AR\"}, {\"y\": [\"1434636.75\"], \"x\": [\"2001\"], \"text\": [\"AZ\"], \"mode\": \"markers\", \"name\": \"AZ\"}, {\"y\": [\"4665582.91667\"], \"x\": [\"2001\"], \"text\": [\"CA\"], \"mode\": \"markers\", \"name\": \"CA\"}, {\"y\": [\"65895.0\"], \"x\": [\"2001\"], \"text\": [\"CO\"], \"mode\": \"markers\", \"name\": \"CO\"}, {\"y\": [\"267147.25\"], \"x\": [\"2001\"], \"text\": [\"CT\"], \"mode\": \"markers\", \"name\": \"CT\"}, {\"y\": [\"870941.416667\"], \"x\": [\"2001\"], \"text\": [\"DC\"], \"mode\": \"markers\", \"name\": \"DC\"}, {\"y\": [\"71.4\"], \"x\": [\"2001\"], \"text\": [\"DE\"], \"mode\": \"markers\", \"name\": \"DE\"}, {\"y\": [\"3303081.5\"], \"x\": [\"2001\"], \"text\": [\"FL\"], \"mode\": \"markers\", \"name\": \"FL\"}, {\"y\": [\"2669058.58333\"], \"x\": [\"2001\"], \"text\": [\"GA\"], \"mode\": \"markers\", \"name\": \"GA\"}, {\"y\": [\"719452.75\"], \"x\": [\"2001\"], \"text\": [\"HI\"], \"mode\": \"markers\", \"name\": \"HI\"}, {\"y\": [\"95836.25\"], \"x\": [\"2001\"], \"text\": [\"IA\"], \"mode\": \"markers\", \"name\": \"IA\"}, {\"y\": [\"4956.66666667\"], \"x\": [\"2001\"], \"text\": [\"ID\"], \"mode\": \"markers\", \"name\": \"ID\"}, {\"y\": [\"2673199.33333\"], \"x\": [\"2001\"], \"text\": [\"IL\"], \"mode\": \"markers\", \"name\": \"IL\"}, {\"y\": [\"330631.0\"], \"x\": [\"2001\"], \"text\": [\"IN\"], \"mode\": \"markers\", \"name\": \"IN\"}, {\"y\": [\"34419.3333333\"], \"x\": [\"2001\"], \"text\": [\"KS\"], \"mode\": \"markers\", \"name\": \"KS\"}, {\"y\": [\"30616.6666667\"], \"x\": [\"2001\"], \"text\": [\"KY\"], \"mode\": \"markers\", \"name\": \"KY\"}, {\"y\": [\"496469.333333\"], \"x\": [\"2001\"], \"text\": [\"LA\"], \"mode\": \"markers\", \"name\": \"LA\"}, {\"y\": [\"735110.666667\"], \"x\": [\"2001\"], \"text\": [\"MA\"], \"mode\": \"markers\", \"name\": \"MA\"}, {\"y\": [\"749941.083333\"], \"x\": [\"2001\"], \"text\": [\"MD\"], \"mode\": \"markers\", \"name\": \"MD\"}, {\"y\": [\"56928.0833333\"], \"x\": [\"2001\"], \"text\": [\"ME\"], \"mode\": \"markers\", \"name\": \"ME\"}, {\"y\": [\"1278383.0\"], \"x\": [\"2001\"], \"text\": [\"MI\"], \"mode\": \"markers\", \"name\": \"MI\"}, {\"y\": [\"1168152.41667\"], \"x\": [\"2001\"], \"text\": [\"MN\"], \"mode\": \"markers\", \"name\": \"MN\"}, {\"y\": [\"1536201.5\"], \"x\": [\"2001\"], \"text\": [\"MO\"], \"mode\": \"markers\", \"name\": \"MO\"}, {\"y\": [\"99780.75\"], \"x\": [\"2001\"], \"text\": [\"MS\"], \"mode\": \"markers\", \"name\": \"MS\"}, {\"y\": [\"95147.5833333\"], \"x\": [\"2001\"], \"text\": [\"MT\"], \"mode\": \"markers\", \"name\": \"MT\"}, {\"y\": [\"1279160.58333\"], \"x\": [\"2001\"], \"text\": [\"NC\"], \"mode\": \"markers\", \"name\": \"NC\"}, {\"y\": [\"34508.9166667\"], \"x\": [\"2001\"], \"text\": [\"ND\"], \"mode\": \"markers\", \"name\": \"ND\"}, {\"y\": [\"138257.25\"], \"x\": [\"2001\"], \"text\": [\"NE\"], \"mode\": \"markers\", \"name\": \"NE\"}, {\"y\": [\"130018.833333\"], \"x\": [\"2001\"], \"text\": [\"NH\"], \"mode\": \"markers\", \"name\": \"NH\"}, {\"y\": [\"911783.666667\"], \"x\": [\"2001\"], \"text\": [\"NJ\"], \"mode\": \"markers\", \"name\": \"NJ\"}, {\"y\": [\"258264.166667\"], \"x\": [\"2001\"], \"text\": [\"NM\"], \"mode\": \"markers\", \"name\": \"NM\"}, {\"y\": [\"1428652.58333\"], \"x\": [\"2001\"], \"text\": [\"NV\"], \"mode\": \"markers\", \"name\": \"NV\"}, {\"y\": [\"1761401.66667\"], \"x\": [\"2001\"], \"text\": [\"NY\"], \"mode\": \"markers\", \"name\": \"NY\"}, {\"y\": [\"1423413.25\"], \"x\": [\"2001\"], \"text\": [\"OH\"], \"mode\": \"markers\", \"name\": \"OH\"}, {\"y\": [\"264132.75\"], \"x\": [\"2001\"], \"text\": [\"OK\"], \"mode\": \"markers\", \"name\": \"OK\"}, {\"y\": [\"487252.833333\"], \"x\": [\"2001\"], \"text\": [\"OR\"], \"mode\": \"markers\", \"name\": \"OR\"}, {\"y\": [\"1520764.08333\"], \"x\": [\"2001\"], \"text\": [\"PA\"], \"mode\": \"markers\", \"name\": \"PA\"}, {\"y\": [\"209950.083333\"], \"x\": [\"2001\"], \"text\": [\"RI\"], \"mode\": \"markers\", \"name\": \"RI\"}, {\"y\": [\"180190.083333\"], \"x\": [\"2001\"], \"text\": [\"SC\"], \"mode\": \"markers\", \"name\": \"SC\"}, {\"y\": [\"31020.0\"], \"x\": [\"2001\"], \"text\": [\"SD\"], \"mode\": \"markers\", \"name\": \"SD\"}, {\"y\": [\"822177.25\"], \"x\": [\"2001\"], \"text\": [\"TN\"], \"mode\": \"markers\", \"name\": \"TN\"}, {\"y\": [\"4475242.16667\"], \"x\": [\"2001\"], \"text\": [\"TX\"], \"mode\": \"markers\", \"name\": \"TX\"}, {\"y\": [\"611309.0\"], \"x\": [\"2001\"], \"text\": [\"UT\"], \"mode\": \"markers\", \"name\": \"UT\"}, {\"y\": [\"108279.166667\"], \"x\": [\"2001\"], \"text\": [\"VA\"], \"mode\": \"markers\", \"name\": \"VA\"}, {\"y\": [\"30735.4166667\"], \"x\": [\"2001\"], \"text\": [\"VT\"], \"mode\": \"markers\", \"name\": \"VT\"}, {\"y\": [\"1049712.58333\"], \"x\": [\"2001\"], \"text\": [\"WA\"], \"mode\": \"markers\", \"name\": \"WA\"}, {\"y\": [\"319359.5\"], \"x\": [\"2001\"], \"text\": [\"WI\"], \"mode\": \"markers\", \"name\": \"WI\"}, {\"y\": [\"9826.66666667\"], \"x\": [\"2001\"], \"text\": [\"WV\"], \"mode\": \"markers\", \"name\": \"WV\"}, {\"y\": [\"4060.08333333\"], \"x\": [\"2001\"], \"text\": [\"WY\"], \"mode\": \"markers\", \"name\": \"WY\"}], \"name\": \"2001\"}, {\"data\": [{\"y\": [\"208416.416667\"], \"x\": [\"2002\"], \"text\": [\"AK\"], \"mode\": \"markers\", \"name\": \"AK\"}, {\"y\": [\"204549.083333\"], \"x\": [\"2002\"], \"text\": [\"AL\"], \"mode\": \"markers\", \"name\": \"AL\"}, {\"y\": [\"128524.0\"], \"x\": [\"2002\"], \"text\": [\"AR\"], \"mode\": \"markers\", \"name\": \"AR\"}, {\"y\": [\"1396984.83333\"], \"x\": [\"2002\"], \"text\": [\"AZ\"], \"mode\": \"markers\", \"name\": \"AZ\"}, {\"y\": [\"4415798.0\"], \"x\": [\"2002\"], \"text\": [\"CA\"], \"mode\": \"markers\", \"name\": \"CA\"}, {\"y\": [\"65343.0833333\"], \"x\": [\"2002\"], \"text\": [\"CO\"], \"mode\": \"markers\", \"name\": \"CO\"}, {\"y\": [\"252405.916667\"], \"x\": [\"2002\"], \"text\": [\"CT\"], \"mode\": \"markers\", \"name\": \"CT\"}, {\"y\": [\"857875.416667\"], \"x\": [\"2002\"], \"text\": [\"DC\"], \"mode\": \"markers\", \"name\": \"DC\"}, {\"y\": [\"65.0\"], \"x\": [\"2002\"], \"text\": [\"DE\"], \"mode\": \"markers\", \"name\": \"DE\"}, {\"y\": [\"3259567.0\"], \"x\": [\"2002\"], \"text\": [\"FL\"], \"mode\": \"markers\", \"name\": \"FL\"}, {\"y\": [\"2720980.25\"], \"x\": [\"2002\"], \"text\": [\"GA\"], \"mode\": \"markers\", \"name\": \"GA\"}, {\"y\": [\"696193.833333\"], \"x\": [\"2002\"], \"text\": [\"HI\"], \"mode\": \"markers\", \"name\": \"HI\"}, {\"y\": [\"100263.333333\"], \"x\": [\"2002\"], \"text\": [\"IA\"], \"mode\": \"markers\", \"name\": \"IA\"}, {\"y\": [\"8887.91666667\"], \"x\": [\"2002\"], \"text\": [\"ID\"], \"mode\": \"markers\", \"name\": \"ID\"}, {\"y\": [\"2739167.0\"], \"x\": [\"2002\"], \"text\": [\"IL\"], \"mode\": \"markers\", \"name\": \"IL\"}, {\"y\": [\"322116.0\"], \"x\": [\"2002\"], \"text\": [\"IN\"], \"mode\": \"markers\", \"name\": \"IN\"}, {\"y\": [\"36231.0833333\"], \"x\": [\"2002\"], \"text\": [\"KS\"], \"mode\": \"markers\", \"name\": \"KS\"}, {\"y\": [\"34836.25\"], \"x\": [\"2002\"], \"text\": [\"KY\"], \"mode\": \"markers\", \"name\": \"KY\"}, {\"y\": [\"474146.833333\"], \"x\": [\"2002\"], \"text\": [\"LA\"], \"mode\": \"markers\", \"name\": \"LA\"}, {\"y\": [\"710296.833333\"], \"x\": [\"2002\"], \"text\": [\"MA\"], \"mode\": \"markers\", \"name\": \"MA\"}, {\"y\": [\"705227.416667\"], \"x\": [\"2002\"], \"text\": [\"MD\"], \"mode\": \"markers\", \"name\": \"MD\"}, {\"y\": [\"59769.4166667\"], \"x\": [\"2002\"], \"text\": [\"ME\"], \"mode\": \"markers\", \"name\": \"ME\"}, {\"y\": [\"1264947.33333\"], \"x\": [\"2002\"], \"text\": [\"MI\"], \"mode\": \"markers\", \"name\": \"MI\"}, {\"y\": [\"1136207.33333\"], \"x\": [\"2002\"], \"text\": [\"MN\"], \"mode\": \"markers\", \"name\": \"MN\"}, {\"y\": [\"1409533.75\"], \"x\": [\"2002\"], \"text\": [\"MO\"], \"mode\": \"markers\", \"name\": \"MO\"}, {\"y\": [\"96274.8333333\"], \"x\": [\"2002\"], \"text\": [\"MS\"], \"mode\": \"markers\", \"name\": \"MS\"}, {\"y\": [\"95854.8333333\"], \"x\": [\"2002\"], \"text\": [\"MT\"], \"mode\": \"markers\", \"name\": \"MT\"}, {\"y\": [\"1261838.58333\"], \"x\": [\"2002\"], \"text\": [\"NC\"], \"mode\": \"markers\", \"name\": \"NC\"}, {\"y\": [\"37774.8333333\"], \"x\": [\"2002\"], \"text\": [\"ND\"], \"mode\": \"markers\", \"name\": \"ND\"}, {\"y\": [\"129277.416667\"], \"x\": [\"2002\"], \"text\": [\"NE\"], \"mode\": \"markers\", \"name\": \"NE\"}, {\"y\": [\"131252.583333\"], \"x\": [\"2002\"], \"text\": [\"NH\"], \"mode\": \"markers\", \"name\": \"NH\"}, {\"y\": [\"865299.5\"], \"x\": [\"2002\"], \"text\": [\"NJ\"], \"mode\": \"markers\", \"name\": \"NJ\"}, {\"y\": [\"246681.5\"], \"x\": [\"2002\"], \"text\": [\"NM\"], \"mode\": \"markers\", \"name\": \"NM\"}, {\"y\": [\"1393198.75\"], \"x\": [\"2002\"], \"text\": [\"NV\"], \"mode\": \"markers\", \"name\": \"NV\"}, {\"y\": [\"1757680.25\"], \"x\": [\"2002\"], \"text\": [\"NY\"], \"mode\": \"markers\", \"name\": \"NY\"}, {\"y\": [\"1528414.75\"], \"x\": [\"2002\"], \"text\": [\"OH\"], \"mode\": \"markers\", \"name\": \"OH\"}, {\"y\": [\"239914.666667\"], \"x\": [\"2002\"], \"text\": [\"OK\"], \"mode\": \"markers\", \"name\": \"OK\"}, {\"y\": [\"476987.833333\"], \"x\": [\"2002\"], \"text\": [\"OR\"], \"mode\": \"markers\", \"name\": \"OR\"}, {\"y\": [\"1469730.33333\"], \"x\": [\"2002\"], \"text\": [\"PA\"], \"mode\": \"markers\", \"name\": \"PA\"}, {\"y\": [\"206114.333333\"], \"x\": [\"2002\"], \"text\": [\"RI\"], \"mode\": \"markers\", \"name\": \"RI\"}, {\"y\": [\"178349.666667\"], \"x\": [\"2002\"], \"text\": [\"SC\"], \"mode\": \"markers\", \"name\": \"SC\"}, {\"y\": [\"28535.6666667\"], \"x\": [\"2002\"], \"text\": [\"SD\"], \"mode\": \"markers\", \"name\": \"SD\"}, {\"y\": [\"788297.166667\"], \"x\": [\"2002\"], \"text\": [\"TN\"], \"mode\": \"markers\", \"name\": \"TN\"}, {\"y\": [\"4232640.66667\"], \"x\": [\"2002\"], \"text\": [\"TX\"], \"mode\": \"markers\", \"name\": \"TX\"}, {\"y\": [\"600426.583333\"], \"x\": [\"2002\"], \"text\": [\"UT\"], \"mode\": \"markers\", \"name\": \"UT\"}, {\"y\": [\"111416.75\"], \"x\": [\"2002\"], \"text\": [\"VA\"], \"mode\": \"markers\", \"name\": \"VA\"}, {\"y\": [\"36077.1666667\"], \"x\": [\"2002\"], \"text\": [\"VT\"], \"mode\": \"markers\", \"name\": \"VT\"}, {\"y\": [\"1041956.5\"], \"x\": [\"2002\"], \"text\": [\"WA\"], \"mode\": \"markers\", \"name\": \"WA\"}, {\"y\": [\"319813.0\"], \"x\": [\"2002\"], \"text\": [\"WI\"], \"mode\": \"markers\", \"name\": \"WI\"}, {\"y\": [\"13246.75\"], \"x\": [\"2002\"], \"text\": [\"WV\"], \"mode\": \"markers\", \"name\": \"WV\"}, {\"y\": [\"7656.0\"], \"x\": [\"2002\"], \"text\": [\"WY\"], \"mode\": \"markers\", \"name\": \"WY\"}], \"name\": \"2002\"}, {\"data\": [{\"y\": [\"205828.083333\"], \"x\": [\"2003\"], \"text\": [\"AK\"], \"mode\": \"markers\", \"name\": \"AK\"}, {\"y\": [\"222401.833333\"], \"x\": [\"2003\"], \"text\": [\"AL\"], \"mode\": \"markers\", \"name\": \"AL\"}, {\"y\": [\"136308.416667\"], \"x\": [\"2003\"], \"text\": [\"AR\"], \"mode\": \"markers\", \"name\": \"AR\"}, {\"y\": [\"1531101.25\"], \"x\": [\"2003\"], \"text\": [\"AZ\"], \"mode\": \"markers\", \"name\": \"AZ\"}, {\"y\": [\"4547331.33333\"], \"x\": [\"2003\"], \"text\": [\"CA\"], \"mode\": \"markers\", \"name\": \"CA\"}, {\"y\": [\"78897.75\"], \"x\": [\"2003\"], \"text\": [\"CO\"], \"mode\": \"markers\", \"name\": \"CO\"}, {\"y\": [\"253034.666667\"], \"x\": [\"2003\"], \"text\": [\"CT\"], \"mode\": \"markers\", \"name\": \"CT\"}, {\"y\": [\"1015428.66667\"], \"x\": [\"2003\"], \"text\": [\"DC\"], \"mode\": \"markers\", \"name\": \"DC\"}, {\"y\": [\"201.0\"], \"x\": [\"2003\"], \"text\": [\"DE\"], \"mode\": \"markers\", \"name\": \"DE\"}, {\"y\": [\"3396938.33333\"], \"x\": [\"2003\"], \"text\": [\"FL\"], \"mode\": \"markers\", \"name\": \"FL\"}, {\"y\": [\"2813940.5\"], \"x\": [\"2003\"], \"text\": [\"GA\"], \"mode\": \"markers\", \"name\": \"GA\"}, {\"y\": [\"688959.75\"], \"x\": [\"2003\"], \"text\": [\"HI\"], \"mode\": \"markers\", \"name\": \"HI\"}, {\"y\": [\"115137.333333\"], \"x\": [\"2003\"], \"text\": [\"IA\"], \"mode\": \"markers\", \"name\": \"IA\"}, {\"y\": [\"18750.8333333\"], \"x\": [\"2003\"], \"text\": [\"ID\"], \"mode\": \"markers\", \"name\": \"ID\"}, {\"y\": [\"2975261.58333\"], \"x\": [\"2003\"], \"text\": [\"IL\"], \"mode\": \"markers\", \"name\": \"IL\"}, {\"y\": [\"360140.416667\"], \"x\": [\"2003\"], \"text\": [\"IN\"], \"mode\": \"markers\", \"name\": \"IN\"}, {\"y\": [\"52798.4166667\"], \"x\": [\"2003\"], \"text\": [\"KS\"], \"mode\": \"markers\", \"name\": \"KS\"}, {\"y\": [\"51564.3333333\"], \"x\": [\"2003\"], \"text\": [\"KY\"], \"mode\": \"markers\", \"name\": \"KY\"}, {\"y\": [\"485560.5\"], \"x\": [\"2003\"], \"text\": [\"LA\"], \"mode\": \"markers\", \"name\": \"LA\"}, {\"y\": [\"730767.25\"], \"x\": [\"2003\"], \"text\": [\"MA\"], \"mode\": \"markers\", \"name\": \"MA\"}, {\"y\": [\"744662.583333\"], \"x\": [\"2003\"], \"text\": [\"MD\"], \"mode\": \"markers\", \"name\": \"MD\"}, {\"y\": [\"70616.0\"], \"x\": [\"2003\"], \"text\": [\"ME\"], \"mode\": \"markers\", \"name\": \"ME\"}, {\"y\": [\"1341450.91667\"], \"x\": [\"2003\"], \"text\": [\"MI\"], \"mode\": \"markers\", \"name\": \"MI\"}, {\"y\": [\"1187820.5\"], \"x\": [\"2003\"], \"text\": [\"MN\"], \"mode\": \"markers\", \"name\": \"MN\"}, {\"y\": [\"1235774.91667\"], \"x\": [\"2003\"], \"text\": [\"MO\"], \"mode\": \"markers\", \"name\": \"MO\"}, {\"y\": [\"99572.6666667\"], \"x\": [\"2003\"], \"text\": [\"MS\"], \"mode\": \"markers\", \"name\": \"MS\"}, {\"y\": [\"110274.583333\"], \"x\": [\"2003\"], \"text\": [\"MT\"], \"mode\": \"markers\", \"name\": \"MT\"}, {\"y\": [\"1316773.58333\"], \"x\": [\"2003\"], \"text\": [\"NC\"], \"mode\": \"markers\", \"name\": \"NC\"}, {\"y\": [\"42478.5833333\"], \"x\": [\"2003\"], \"text\": [\"ND\"], \"mode\": \"markers\", \"name\": \"ND\"}, {\"y\": [\"144787.583333\"], \"x\": [\"2003\"], \"text\": [\"NE\"], \"mode\": \"markers\", \"name\": \"NE\"}, {\"y\": [\"147538.583333\"], \"x\": [\"2003\"], \"text\": [\"NH\"], \"mode\": \"markers\", \"name\": \"NH\"}, {\"y\": [\"873735.666667\"], \"x\": [\"2003\"], \"text\": [\"NJ\"], \"mode\": \"markers\", \"name\": \"NJ\"}, {\"y\": [\"249651.75\"], \"x\": [\"2003\"], \"text\": [\"NM\"], \"mode\": \"markers\", \"name\": \"NM\"}, {\"y\": [\"1489338.41667\"], \"x\": [\"2003\"], \"text\": [\"NV\"], \"mode\": \"markers\", \"name\": \"NV\"}, {\"y\": [\"1938321.0\"], \"x\": [\"2003\"], \"text\": [\"NY\"], \"mode\": \"markers\", \"name\": \"NY\"}, {\"y\": [\"1600358.66667\"], \"x\": [\"2003\"], \"text\": [\"OH\"], \"mode\": \"markers\", \"name\": \"OH\"}, {\"y\": [\"248726.5\"], \"x\": [\"2003\"], \"text\": [\"OK\"], \"mode\": \"markers\", \"name\": \"OK\"}, {\"y\": [\"494359.666667\"], \"x\": [\"2003\"], \"text\": [\"OR\"], \"mode\": \"markers\", \"name\": \"OR\"}, {\"y\": [\"1486807.75\"], \"x\": [\"2003\"], \"text\": [\"PA\"], \"mode\": \"markers\", \"name\": \"PA\"}, {\"y\": [\"211016.75\"], \"x\": [\"2003\"], \"text\": [\"RI\"], \"mode\": \"markers\", \"name\": \"RI\"}, {\"y\": [\"224897.333333\"], \"x\": [\"2003\"], \"text\": [\"SC\"], \"mode\": \"markers\", \"name\": \"SC\"}, {\"y\": [\"37119.0\"], \"x\": [\"2003\"], \"text\": [\"SD\"], \"mode\": \"markers\", \"name\": \"SD\"}, {\"y\": [\"853612.333333\"], \"x\": [\"2003\"], \"text\": [\"TN\"], \"mode\": \"markers\", \"name\": \"TN\"}, {\"y\": [\"4250168.41667\"], \"x\": [\"2003\"], \"text\": [\"TX\"], \"mode\": \"markers\", \"name\": \"TX\"}, {\"y\": [\"679317.0\"], \"x\": [\"2003\"], \"text\": [\"UT\"], \"mode\": \"markers\", \"name\": \"UT\"}, {\"y\": [\"141888.666667\"], \"x\": [\"2003\"], \"text\": [\"VA\"], \"mode\": \"markers\", \"name\": \"VA\"}, {\"y\": [\"45515.6666667\"], \"x\": [\"2003\"], \"text\": [\"VT\"], \"mode\": \"markers\", \"name\": \"VT\"}, {\"y\": [\"1049337.5\"], \"x\": [\"2003\"], \"text\": [\"WA\"], \"mode\": \"markers\", \"name\": \"WA\"}, {\"y\": [\"380443.583333\"], \"x\": [\"2003\"], \"text\": [\"WI\"], \"mode\": \"markers\", \"name\": \"WI\"}, {\"y\": [\"23484.25\"], \"x\": [\"2003\"], \"text\": [\"WV\"], \"mode\": \"markers\", \"name\": \"WV\"}, {\"y\": [\"15577.9166667\"], \"x\": [\"2003\"], \"text\": [\"WY\"], \"mode\": \"markers\", \"name\": \"WY\"}], \"name\": \"2003\"}, {\"data\": [{\"y\": [\"221796.333333\"], \"x\": [\"2004\"], \"text\": [\"AK\"], \"mode\": \"markers\", \"name\": \"AK\"}, {\"y\": [\"237970.083333\"], \"x\": [\"2004\"], \"text\": [\"AL\"], \"mode\": \"markers\", \"name\": \"AL\"}, {\"y\": [\"147661.416667\"], \"x\": [\"2004\"], \"text\": [\"AR\"], \"mode\": \"markers\", \"name\": \"AR\"}, {\"y\": [\"1616146.25\"], \"x\": [\"2004\"], \"text\": [\"AZ\"], \"mode\": \"markers\", \"name\": \"AZ\"}, {\"y\": [\"4914115.91667\"], \"x\": [\"2004\"], \"text\": [\"CA\"], \"mode\": \"markers\", \"name\": \"CA\"}, {\"y\": [\"79495.3333333\"], \"x\": [\"2004\"], \"text\": [\"CO\"], \"mode\": \"markers\", \"name\": \"CO\"}, {\"y\": [\"272216.416667\"], \"x\": [\"2004\"], \"text\": [\"CT\"], \"mode\": \"markers\", \"name\": \"CT\"}, {\"y\": [\"1270839.0\"], \"x\": [\"2004\"], \"text\": [\"DC\"], \"mode\": \"markers\", \"name\": \"DC\"}, {\"y\": [\"172.6\"], \"x\": [\"2004\"], \"text\": [\"DE\"], \"mode\": \"markers\", \"name\": \"DE\"}, {\"y\": [\"3755637.08333\"], \"x\": [\"2004\"], \"text\": [\"FL\"], \"mode\": \"markers\", \"name\": \"FL\"}, {\"y\": [\"2974454.5\"], \"x\": [\"2004\"], \"text\": [\"GA\"], \"mode\": \"markers\", \"name\": \"GA\"}, {\"y\": [\"718879.75\"], \"x\": [\"2004\"], \"text\": [\"HI\"], \"mode\": \"markers\", \"name\": \"HI\"}, {\"y\": [\"119525.916667\"], \"x\": [\"2004\"], \"text\": [\"IA\"], \"mode\": \"markers\", \"name\": \"IA\"}, {\"y\": [\"20120.3333333\"], \"x\": [\"2004\"], \"text\": [\"ID\"], \"mode\": \"markers\", \"name\": \"ID\"}, {\"y\": [\"3223341.0\"], \"x\": [\"2004\"], \"text\": [\"IL\"], \"mode\": \"markers\", \"name\": \"IL\"}, {\"y\": [\"388336.083333\"], \"x\": [\"2004\"], \"text\": [\"IN\"], \"mode\": \"markers\", \"name\": \"IN\"}, {\"y\": [\"56164.4166667\"], \"x\": [\"2004\"], \"text\": [\"KS\"], \"mode\": \"markers\", \"name\": \"KS\"}, {\"y\": [\"51457.5\"], \"x\": [\"2004\"], \"text\": [\"KY\"], \"mode\": \"markers\", \"name\": \"KY\"}, {\"y\": [\"507153.833333\"], \"x\": [\"2004\"], \"text\": [\"LA\"], \"mode\": \"markers\", \"name\": \"LA\"}, {\"y\": [\"829951.166667\"], \"x\": [\"2004\"], \"text\": [\"MA\"], \"mode\": \"markers\", \"name\": \"MA\"}, {\"y\": [\"769382.166667\"], \"x\": [\"2004\"], \"text\": [\"MD\"], \"mode\": \"markers\", \"name\": \"MD\"}, {\"y\": [\"77914.1666667\"], \"x\": [\"2004\"], \"text\": [\"ME\"], \"mode\": \"markers\", \"name\": \"ME\"}, {\"y\": [\"1437030.33333\"], \"x\": [\"2004\"], \"text\": [\"MI\"], \"mode\": \"markers\", \"name\": \"MI\"}, {\"y\": [\"1285594.0\"], \"x\": [\"2004\"], \"text\": [\"MN\"], \"mode\": \"markers\", \"name\": \"MN\"}, {\"y\": [\"965913.333333\"], \"x\": [\"2004\"], \"text\": [\"MO\"], \"mode\": \"markers\", \"name\": \"MO\"}, {\"y\": [\"100945.833333\"], \"x\": [\"2004\"], \"text\": [\"MS\"], \"mode\": \"markers\", \"name\": \"MS\"}, {\"y\": [\"113204.833333\"], \"x\": [\"2004\"], \"text\": [\"MT\"], \"mode\": \"markers\", \"name\": \"MT\"}, {\"y\": [\"1447284.16667\"], \"x\": [\"2004\"], \"text\": [\"NC\"], \"mode\": \"markers\", \"name\": \"NC\"}, {\"y\": [\"44437.0\"], \"x\": [\"2004\"], \"text\": [\"ND\"], \"mode\": \"markers\", \"name\": \"ND\"}, {\"y\": [\"149618.166667\"], \"x\": [\"2004\"], \"text\": [\"NE\"], \"mode\": \"markers\", \"name\": \"NE\"}, {\"y\": [\"163872.083333\"], \"x\": [\"2004\"], \"text\": [\"NH\"], \"mode\": \"markers\", \"name\": \"NH\"}, {\"y\": [\"920566.083333\"], \"x\": [\"2004\"], \"text\": [\"NJ\"], \"mode\": \"markers\", \"name\": \"NJ\"}, {\"y\": [\"256044.166667\"], \"x\": [\"2004\"], \"text\": [\"NM\"], \"mode\": \"markers\", \"name\": \"NM\"}, {\"y\": [\"1704377.58333\"], \"x\": [\"2004\"], \"text\": [\"NV\"], \"mode\": \"markers\", \"name\": \"NV\"}, {\"y\": [\"2184913.25\"], \"x\": [\"2004\"], \"text\": [\"NY\"], \"mode\": \"markers\", \"name\": \"NY\"}, {\"y\": [\"1677338.5\"], \"x\": [\"2004\"], \"text\": [\"OH\"], \"mode\": \"markers\", \"name\": \"OH\"}, {\"y\": [\"256344.25\"], \"x\": [\"2004\"], \"text\": [\"OK\"], \"mode\": \"markers\", \"name\": \"OK\"}, {\"y\": [\"518543.916667\"], \"x\": [\"2004\"], \"text\": [\"OR\"], \"mode\": \"markers\", \"name\": \"OR\"}, {\"y\": [\"1587693.58333\"], \"x\": [\"2004\"], \"text\": [\"PA\"], \"mode\": \"markers\", \"name\": \"PA\"}, {\"y\": [\"224528.583333\"], \"x\": [\"2004\"], \"text\": [\"RI\"], \"mode\": \"markers\", \"name\": \"RI\"}, {\"y\": [\"260340.083333\"], \"x\": [\"2004\"], \"text\": [\"SC\"], \"mode\": \"markers\", \"name\": \"SC\"}, {\"y\": [\"40550.5833333\"], \"x\": [\"2004\"], \"text\": [\"SD\"], \"mode\": \"markers\", \"name\": \"SD\"}, {\"y\": [\"873669.833333\"], \"x\": [\"2004\"], \"text\": [\"TN\"], \"mode\": \"markers\", \"name\": \"TN\"}, {\"y\": [\"4631464.58333\"], \"x\": [\"2004\"], \"text\": [\"TX\"], \"mode\": \"markers\", \"name\": \"TX\"}, {\"y\": [\"669908.75\"], \"x\": [\"2004\"], \"text\": [\"UT\"], \"mode\": \"markers\", \"name\": \"UT\"}, {\"y\": [\"150831.25\"], \"x\": [\"2004\"], \"text\": [\"VA\"], \"mode\": \"markers\", \"name\": \"VA\"}, {\"y\": [\"52463.25\"], \"x\": [\"2004\"], \"text\": [\"VT\"], \"mode\": \"markers\", \"name\": \"VT\"}, {\"y\": [\"1124005.16667\"], \"x\": [\"2004\"], \"text\": [\"WA\"], \"mode\": \"markers\", \"name\": \"WA\"}, {\"y\": [\"402891.666667\"], \"x\": [\"2004\"], \"text\": [\"WI\"], \"mode\": \"markers\", \"name\": \"WI\"}, {\"y\": [\"28256.5833333\"], \"x\": [\"2004\"], \"text\": [\"WV\"], \"mode\": \"markers\", \"name\": \"WV\"}, {\"y\": [\"13784.0833333\"], \"x\": [\"2004\"], \"text\": [\"WY\"], \"mode\": \"markers\", \"name\": \"WY\"}], \"name\": \"2004\"}, {\"data\": [{\"y\": [\"224446.833333\"], \"x\": [\"2005\"], \"text\": [\"AK\"], \"mode\": \"markers\", \"name\": \"AK\"}, {\"y\": [\"240847.666667\"], \"x\": [\"2005\"], \"text\": [\"AL\"], \"mode\": \"markers\", \"name\": \"AL\"}, {\"y\": [\"160733.416667\"], \"x\": [\"2005\"], \"text\": [\"AR\"], \"mode\": \"markers\", \"name\": \"AR\"}, {\"y\": [\"1685192.83333\"], \"x\": [\"2005\"], \"text\": [\"AZ\"], \"mode\": \"markers\", \"name\": \"AZ\"}, {\"y\": [\"5017435.0\"], \"x\": [\"2005\"], \"text\": [\"CA\"], \"mode\": \"markers\", \"name\": \"CA\"}, {\"y\": [\"81087.25\"], \"x\": [\"2005\"], \"text\": [\"CO\"], \"mode\": \"markers\", \"name\": \"CO\"}, {\"y\": [\"295756.666667\"], \"x\": [\"2005\"], \"text\": [\"CT\"], \"mode\": \"markers\", \"name\": \"CT\"}, {\"y\": [\"1502103.33333\"], \"x\": [\"2005\"], \"text\": [\"DC\"], \"mode\": \"markers\", \"name\": \"DC\"}, {\"y\": [\"170.909090909\"], \"x\": [\"2005\"], \"text\": [\"DE\"], \"mode\": \"markers\", \"name\": \"DE\"}, {\"y\": [\"4034347.25\"], \"x\": [\"2005\"], \"text\": [\"FL\"], \"mode\": \"markers\", \"name\": \"FL\"}, {\"y\": [\"3037739.25\"], \"x\": [\"2005\"], \"text\": [\"GA\"], \"mode\": \"markers\", \"name\": \"GA\"}, {\"y\": [\"747577.666667\"], \"x\": [\"2005\"], \"text\": [\"HI\"], \"mode\": \"markers\", \"name\": \"HI\"}, {\"y\": [\"116534.75\"], \"x\": [\"2005\"], \"text\": [\"IA\"], \"mode\": \"markers\", \"name\": \"IA\"}, {\"y\": [\"21779.3333333\"], \"x\": [\"2005\"], \"text\": [\"ID\"], \"mode\": \"markers\", \"name\": \"ID\"}, {\"y\": [\"3174431.75\"], \"x\": [\"2005\"], \"text\": [\"IL\"], \"mode\": \"markers\", \"name\": \"IL\"}, {\"y\": [\"401249.333333\"], \"x\": [\"2005\"], \"text\": [\"IN\"], \"mode\": \"markers\", \"name\": \"IN\"}, {\"y\": [\"55683.8333333\"], \"x\": [\"2005\"], \"text\": [\"KS\"], \"mode\": \"markers\", \"name\": \"KS\"}, {\"y\": [\"47966.0833333\"], \"x\": [\"2005\"], \"text\": [\"KY\"], \"mode\": \"markers\", \"name\": \"KY\"}, {\"y\": [\"435697.833333\"], \"x\": [\"2005\"], \"text\": [\"LA\"], \"mode\": \"markers\", \"name\": \"LA\"}, {\"y\": [\"856565.166667\"], \"x\": [\"2005\"], \"text\": [\"MA\"], \"mode\": \"markers\", \"name\": \"MA\"}, {\"y\": [\"752388.333333\"], \"x\": [\"2005\"], \"text\": [\"MD\"], \"mode\": \"markers\", \"name\": \"MD\"}, {\"y\": [\"83053.5833333\"], \"x\": [\"2005\"], \"text\": [\"ME\"], \"mode\": \"markers\", \"name\": \"ME\"}, {\"y\": [\"1466151.5\"], \"x\": [\"2005\"], \"text\": [\"MI\"], \"mode\": \"markers\", \"name\": \"MI\"}, {\"y\": [\"1317970.16667\"], \"x\": [\"2005\"], \"text\": [\"MN\"], \"mode\": \"markers\", \"name\": \"MN\"}, {\"y\": [\"1010030.83333\"], \"x\": [\"2005\"], \"text\": [\"MO\"], \"mode\": \"markers\", \"name\": \"MO\"}, {\"y\": [\"105944.666667\"], \"x\": [\"2005\"], \"text\": [\"MS\"], \"mode\": \"markers\", \"name\": \"MS\"}, {\"y\": [\"117629.25\"], \"x\": [\"2005\"], \"text\": [\"MT\"], \"mode\": \"markers\", \"name\": \"MT\"}, {\"y\": [\"1603837.83333\"], \"x\": [\"2005\"], \"text\": [\"NC\"], \"mode\": \"markers\", \"name\": \"NC\"}, {\"y\": [\"46161.9166667\"], \"x\": [\"2005\"], \"text\": [\"ND\"], \"mode\": \"markers\", \"name\": \"ND\"}, {\"y\": [\"163061.416667\"], \"x\": [\"2005\"], \"text\": [\"NE\"], \"mode\": \"markers\", \"name\": \"NE\"}, {\"y\": [\"178297.5\"], \"x\": [\"2005\"], \"text\": [\"NH\"], \"mode\": \"markers\", \"name\": \"NH\"}, {\"y\": [\"947853.5\"], \"x\": [\"2005\"], \"text\": [\"NJ\"], \"mode\": \"markers\", \"name\": \"NJ\"}, {\"y\": [\"267560.583333\"], \"x\": [\"2005\"], \"text\": [\"NM\"], \"mode\": \"markers\", \"name\": \"NM\"}, {\"y\": [\"1788551.0\"], \"x\": [\"2005\"], \"text\": [\"NV\"], \"mode\": \"markers\", \"name\": \"NV\"}, {\"y\": [\"2319521.33333\"], \"x\": [\"2005\"], \"text\": [\"NY\"], \"mode\": \"markers\", \"name\": \"NY\"}, {\"y\": [\"1704569.58333\"], \"x\": [\"2005\"], \"text\": [\"OH\"], \"mode\": \"markers\", \"name\": \"OH\"}, {\"y\": [\"270058.583333\"], \"x\": [\"2005\"], \"text\": [\"OK\"], \"mode\": \"markers\", \"name\": \"OK\"}, {\"y\": [\"553311.666667\"], \"x\": [\"2005\"], \"text\": [\"OR\"], \"mode\": \"markers\", \"name\": \"OR\"}, {\"y\": [\"1602334.75\"], \"x\": [\"2005\"], \"text\": [\"PA\"], \"mode\": \"markers\", \"name\": \"PA\"}, {\"y\": [\"231831.583333\"], \"x\": [\"2005\"], \"text\": [\"RI\"], \"mode\": \"markers\", \"name\": \"RI\"}, {\"y\": [\"294480.333333\"], \"x\": [\"2005\"], \"text\": [\"SC\"], \"mode\": \"markers\", \"name\": \"SC\"}, {\"y\": [\"43504.5833333\"], \"x\": [\"2005\"], \"text\": [\"SD\"], \"mode\": \"markers\", \"name\": \"SD\"}, {\"y\": [\"922766.583333\"], \"x\": [\"2005\"], \"text\": [\"TN\"], \"mode\": \"markers\", \"name\": \"TN\"}, {\"y\": [\"4781279.33333\"], \"x\": [\"2005\"], \"text\": [\"TX\"], \"mode\": \"markers\", \"name\": \"TX\"}, {\"y\": [\"796476.5\"], \"x\": [\"2005\"], \"text\": [\"UT\"], \"mode\": \"markers\", \"name\": \"UT\"}, {\"y\": [\"170982.833333\"], \"x\": [\"2005\"], \"text\": [\"VA\"], \"mode\": \"markers\", \"name\": \"VA\"}, {\"y\": [\"57796.4166667\"], \"x\": [\"2005\"], \"text\": [\"VT\"], \"mode\": \"markers\", \"name\": \"VT\"}, {\"y\": [\"1142889.91667\"], \"x\": [\"2005\"], \"text\": [\"WA\"], \"mode\": \"markers\", \"name\": \"WA\"}, {\"y\": [\"424544.833333\"], \"x\": [\"2005\"], \"text\": [\"WI\"], \"mode\": \"markers\", \"name\": \"WI\"}, {\"y\": [\"30390.5833333\"], \"x\": [\"2005\"], \"text\": [\"WV\"], \"mode\": \"markers\", \"name\": \"WV\"}, {\"y\": [\"18050.8333333\"], \"x\": [\"2005\"], \"text\": [\"WY\"], \"mode\": \"markers\", \"name\": \"WY\"}], \"name\": \"2005\"}, {\"data\": [{\"y\": [\"224275.5\"], \"x\": [\"2006\"], \"text\": [\"AK\"], \"mode\": \"markers\", \"name\": \"AK\"}, {\"y\": [\"223444.25\"], \"x\": [\"2006\"], \"text\": [\"AL\"], \"mode\": \"markers\", \"name\": \"AL\"}, {\"y\": [\"157760.416667\"], \"x\": [\"2006\"], \"text\": [\"AR\"], \"mode\": \"markers\", \"name\": \"AR\"}, {\"y\": [\"1687455.83333\"], \"x\": [\"2006\"], \"text\": [\"AZ\"], \"mode\": \"markers\", \"name\": \"AZ\"}, {\"y\": [\"5012470.5\"], \"x\": [\"2006\"], \"text\": [\"CA\"], \"mode\": \"markers\", \"name\": \"CA\"}, {\"y\": [\"80801.75\"], \"x\": [\"2006\"], \"text\": [\"CO\"], \"mode\": \"markers\", \"name\": \"CO\"}, {\"y\": [\"277215.666667\"], \"x\": [\"2006\"], \"text\": [\"CT\"], \"mode\": \"markers\", \"name\": \"CT\"}, {\"y\": [\"1352769.83333\"], \"x\": [\"2006\"], \"text\": [\"DC\"], \"mode\": \"markers\", \"name\": \"DC\"}, {\"y\": [\"887.7\"], \"x\": [\"2006\"], \"text\": [\"DE\"], \"mode\": \"markers\", \"name\": \"DE\"}, {\"y\": [\"4010012.83333\"], \"x\": [\"2006\"], \"text\": [\"FL\"], \"mode\": \"markers\", \"name\": \"FL\"}, {\"y\": [\"2923496.66667\"], \"x\": [\"2006\"], \"text\": [\"GA\"], \"mode\": \"markers\", \"name\": \"GA\"}, {\"y\": [\"761441.083333\"], \"x\": [\"2006\"], \"text\": [\"HI\"], \"mode\": \"markers\", \"name\": \"HI\"}, {\"y\": [\"120050.416667\"], \"x\": [\"2006\"], \"text\": [\"IA\"], \"mode\": \"markers\", \"name\": \"IA\"}, {\"y\": [\"20120.0833333\"], \"x\": [\"2006\"], \"text\": [\"ID\"], \"mode\": \"markers\", \"name\": \"ID\"}, {\"y\": [\"3207074.33333\"], \"x\": [\"2006\"], \"text\": [\"IL\"], \"mode\": \"markers\", \"name\": \"IL\"}, {\"y\": [\"391730.583333\"], \"x\": [\"2006\"], \"text\": [\"IN\"], \"mode\": \"markers\", \"name\": \"IN\"}, {\"y\": [\"54801.9166667\"], \"x\": [\"2006\"], \"text\": [\"KS\"], \"mode\": \"markers\", \"name\": \"KS\"}, {\"y\": [\"44774.0\"], \"x\": [\"2006\"], \"text\": [\"KY\"], \"mode\": \"markers\", \"name\": \"KY\"}, {\"y\": [\"367940.416667\"], \"x\": [\"2006\"], \"text\": [\"LA\"], \"mode\": \"markers\", \"name\": \"LA\"}, {\"y\": [\"889380.583333\"], \"x\": [\"2006\"], \"text\": [\"MA\"], \"mode\": \"markers\", \"name\": \"MA\"}, {\"y\": [\"792010.333333\"], \"x\": [\"2006\"], \"text\": [\"MD\"], \"mode\": \"markers\", \"name\": \"MD\"}, {\"y\": [\"78177.1666667\"], \"x\": [\"2006\"], \"text\": [\"ME\"], \"mode\": \"markers\", \"name\": \"ME\"}, {\"y\": [\"1444924.25\"], \"x\": [\"2006\"], \"text\": [\"MI\"], \"mode\": \"markers\", \"name\": \"MI\"}, {\"y\": [\"1272512.66667\"], \"x\": [\"2006\"], \"text\": [\"MN\"], \"mode\": \"markers\", \"name\": \"MN\"}, {\"y\": [\"1051907.16667\"], \"x\": [\"2006\"], \"text\": [\"MO\"], \"mode\": \"markers\", \"name\": \"MO\"}, {\"y\": [\"105379.25\"], \"x\": [\"2006\"], \"text\": [\"MS\"], \"mode\": \"markers\", \"name\": \"MS\"}, {\"y\": [\"107596.416667\"], \"x\": [\"2006\"], \"text\": [\"MT\"], \"mode\": \"markers\", \"name\": \"MT\"}, {\"y\": [\"1634345.25\"], \"x\": [\"2006\"], \"text\": [\"NC\"], \"mode\": \"markers\", \"name\": \"NC\"}, {\"y\": [\"47480.0833333\"], \"x\": [\"2006\"], \"text\": [\"ND\"], \"mode\": \"markers\", \"name\": \"ND\"}, {\"y\": [\"161145.166667\"], \"x\": [\"2006\"], \"text\": [\"NE\"], \"mode\": \"markers\", \"name\": \"NE\"}, {\"y\": [\"160111.25\"], \"x\": [\"2006\"], \"text\": [\"NH\"], \"mode\": \"markers\", \"name\": \"NH\"}, {\"y\": [\"1010209.91667\"], \"x\": [\"2006\"], \"text\": [\"NJ\"], \"mode\": \"markers\", \"name\": \"NJ\"}, {\"y\": [\"270752.083333\"], \"x\": [\"2006\"], \"text\": [\"NM\"], \"mode\": \"markers\", \"name\": \"NM\"}, {\"y\": [\"1801225.41667\"], \"x\": [\"2006\"], \"text\": [\"NV\"], \"mode\": \"markers\", \"name\": \"NV\"}, {\"y\": [\"2351207.75\"], \"x\": [\"2006\"], \"text\": [\"NY\"], \"mode\": \"markers\", \"name\": \"NY\"}, {\"y\": [\"1460938.83333\"], \"x\": [\"2006\"], \"text\": [\"OH\"], \"mode\": \"markers\", \"name\": \"OH\"}, {\"y\": [\"267570.0\"], \"x\": [\"2006\"], \"text\": [\"OK\"], \"mode\": \"markers\", \"name\": \"OK\"}, {\"y\": [\"562997.5\"], \"x\": [\"2006\"], \"text\": [\"OR\"], \"mode\": \"markers\", \"name\": \"OR\"}, {\"y\": [\"1581536.33333\"], \"x\": [\"2006\"], \"text\": [\"PA\"], \"mode\": \"markers\", \"name\": \"PA\"}, {\"y\": [\"212600.583333\"], \"x\": [\"2006\"], \"text\": [\"RI\"], \"mode\": \"markers\", \"name\": \"RI\"}, {\"y\": [\"258088.916667\"], \"x\": [\"2006\"], \"text\": [\"SC\"], \"mode\": \"markers\", \"name\": \"SC\"}, {\"y\": [\"42530.8333333\"], \"x\": [\"2006\"], \"text\": [\"SD\"], \"mode\": \"markers\", \"name\": \"SD\"}, {\"y\": [\"923059.25\"], \"x\": [\"2006\"], \"text\": [\"TN\"], \"mode\": \"markers\", \"name\": \"TN\"}, {\"y\": [\"5026353.83333\"], \"x\": [\"2006\"], \"text\": [\"TX\"], \"mode\": \"markers\", \"name\": \"TX\"}, {\"y\": [\"740696.416667\"], \"x\": [\"2006\"], \"text\": [\"UT\"], \"mode\": \"markers\", \"name\": \"UT\"}, {\"y\": [\"185749.916667\"], \"x\": [\"2006\"], \"text\": [\"VA\"], \"mode\": \"markers\", \"name\": \"VA\"}, {\"y\": [\"56602.9166667\"], \"x\": [\"2006\"], \"text\": [\"VT\"], \"mode\": \"markers\", \"name\": \"VT\"}, {\"y\": [\"1170479.16667\"], \"x\": [\"2006\"], \"text\": [\"WA\"], \"mode\": \"markers\", \"name\": \"WA\"}, {\"y\": [\"430070.583333\"], \"x\": [\"2006\"], \"text\": [\"WI\"], \"mode\": \"markers\", \"name\": \"WI\"}, {\"y\": [\"25351.9166667\"], \"x\": [\"2006\"], \"text\": [\"WV\"], \"mode\": \"markers\", \"name\": \"WV\"}, {\"y\": [\"19252.8333333\"], \"x\": [\"2006\"], \"text\": [\"WY\"], \"mode\": \"markers\", \"name\": \"WY\"}], \"name\": \"2006\"}, {\"data\": [{\"y\": [\"230588.5\"], \"x\": [\"2007\"], \"text\": [\"AK\"], \"mode\": \"markers\", \"name\": \"AK\"}, {\"y\": [\"236863.75\"], \"x\": [\"2007\"], \"text\": [\"AL\"], \"mode\": \"markers\", \"name\": \"AL\"}, {\"y\": [\"162434.25\"], \"x\": [\"2007\"], \"text\": [\"AR\"], \"mode\": \"markers\", \"name\": \"AR\"}, {\"y\": [\"1712301.0\"], \"x\": [\"2007\"], \"text\": [\"AZ\"], \"mode\": \"markers\", \"name\": \"AZ\"}, {\"y\": [\"5192987.41667\"], \"x\": [\"2007\"], \"text\": [\"CA\"], \"mode\": \"markers\", \"name\": \"CA\"}, {\"y\": [\"82938.25\"], \"x\": [\"2007\"], \"text\": [\"CO\"], \"mode\": \"markers\", \"name\": \"CO\"}, {\"y\": [\"259066.666667\"], \"x\": [\"2007\"], \"text\": [\"CT\"], \"mode\": \"markers\", \"name\": \"CT\"}, {\"y\": [\"1396494.66667\"], \"x\": [\"2007\"], \"text\": [\"DC\"], \"mode\": \"markers\", \"name\": \"DC\"}, {\"y\": [\"979.083333333\"], \"x\": [\"2007\"], \"text\": [\"DE\"], \"mode\": \"markers\", \"name\": \"DE\"}, {\"y\": [\"4064983.33333\"], \"x\": [\"2007\"], \"text\": [\"FL\"], \"mode\": \"markers\", \"name\": \"FL\"}, {\"y\": [\"3031133.83333\"], \"x\": [\"2007\"], \"text\": [\"GA\"], \"mode\": \"markers\", \"name\": \"GA\"}, {\"y\": [\"815123.833333\"], \"x\": [\"2007\"], \"text\": [\"HI\"], \"mode\": \"markers\", \"name\": \"HI\"}, {\"y\": [\"120100.833333\"], \"x\": [\"2007\"], \"text\": [\"IA\"], \"mode\": \"markers\", \"name\": \"IA\"}, {\"y\": [\"19924.3333333\"], \"x\": [\"2007\"], \"text\": [\"ID\"], \"mode\": \"markers\", \"name\": \"ID\"}, {\"y\": [\"3185161.41667\"], \"x\": [\"2007\"], \"text\": [\"IL\"], \"mode\": \"markers\", \"name\": \"IL\"}, {\"y\": [\"393213.25\"], \"x\": [\"2007\"], \"text\": [\"IN\"], \"mode\": \"markers\", \"name\": \"IN\"}, {\"y\": [\"58784.0833333\"], \"x\": [\"2007\"], \"text\": [\"KS\"], \"mode\": \"markers\", \"name\": \"KS\"}, {\"y\": [\"45397.8333333\"], \"x\": [\"2007\"], \"text\": [\"KY\"], \"mode\": \"markers\", \"name\": \"KY\"}, {\"y\": [\"423612.916667\"], \"x\": [\"2007\"], \"text\": [\"LA\"], \"mode\": \"markers\", \"name\": \"LA\"}, {\"y\": [\"906255.25\"], \"x\": [\"2007\"], \"text\": [\"MA\"], \"mode\": \"markers\", \"name\": \"MA\"}, {\"y\": [\"809925.916667\"], \"x\": [\"2007\"], \"text\": [\"MD\"], \"mode\": \"markers\", \"name\": \"MD\"}, {\"y\": [\"86322.1666667\"], \"x\": [\"2007\"], \"text\": [\"ME\"], \"mode\": \"markers\", \"name\": \"ME\"}, {\"y\": [\"1425565.83333\"], \"x\": [\"2007\"], \"text\": [\"MI\"], \"mode\": \"markers\", \"name\": \"MI\"}, {\"y\": [\"1256270.75\"], \"x\": [\"2007\"], \"text\": [\"MN\"], \"mode\": \"markers\", \"name\": \"MN\"}, {\"y\": [\"1084835.66667\"], \"x\": [\"2007\"], \"text\": [\"MO\"], \"mode\": \"markers\", \"name\": \"MO\"}, {\"y\": [\"108764.25\"], \"x\": [\"2007\"], \"text\": [\"MS\"], \"mode\": \"markers\", \"name\": \"MS\"}, {\"y\": [\"105363.333333\"], \"x\": [\"2007\"], \"text\": [\"MT\"], \"mode\": \"markers\", \"name\": \"MT\"}, {\"y\": [\"1799711.5\"], \"x\": [\"2007\"], \"text\": [\"NC\"], \"mode\": \"markers\", \"name\": \"NC\"}, {\"y\": [\"46012.8333333\"], \"x\": [\"2007\"], \"text\": [\"ND\"], \"mode\": \"markers\", \"name\": \"ND\"}, {\"y\": [\"165936.333333\"], \"x\": [\"2007\"], \"text\": [\"NE\"], \"mode\": \"markers\", \"name\": \"NE\"}, {\"y\": [\"159451.75\"], \"x\": [\"2007\"], \"text\": [\"NH\"], \"mode\": \"markers\", \"name\": \"NH\"}, {\"y\": [\"1026416.58333\"], \"x\": [\"2007\"], \"text\": [\"NJ\"], \"mode\": \"markers\", \"name\": \"NJ\"}, {\"y\": [\"285668.25\"], \"x\": [\"2007\"], \"text\": [\"NM\"], \"mode\": \"markers\", \"name\": \"NM\"}, {\"y\": [\"1827763.41667\"], \"x\": [\"2007\"], \"text\": [\"NV\"], \"mode\": \"markers\", \"name\": \"NV\"}, {\"y\": [\"2460886.91667\"], \"x\": [\"2007\"], \"text\": [\"NY\"], \"mode\": \"markers\", \"name\": \"NY\"}, {\"y\": [\"1492533.33333\"], \"x\": [\"2007\"], \"text\": [\"OH\"], \"mode\": \"markers\", \"name\": \"OH\"}, {\"y\": [\"277142.416667\"], \"x\": [\"2007\"], \"text\": [\"OK\"], \"mode\": \"markers\", \"name\": \"OK\"}, {\"y\": [\"590979.25\"], \"x\": [\"2007\"], \"text\": [\"OR\"], \"mode\": \"markers\", \"name\": \"OR\"}, {\"y\": [\"1602586.08333\"], \"x\": [\"2007\"], \"text\": [\"PA\"], \"mode\": \"markers\", \"name\": \"PA\"}, {\"y\": [\"204680.666667\"], \"x\": [\"2007\"], \"text\": [\"RI\"], \"mode\": \"markers\", \"name\": \"RI\"}, {\"y\": [\"282814.333333\"], \"x\": [\"2007\"], \"text\": [\"SC\"], \"mode\": \"markers\", \"name\": \"SC\"}, {\"y\": [\"44599.6666667\"], \"x\": [\"2007\"], \"text\": [\"SD\"], \"mode\": \"markers\", \"name\": \"SD\"}, {\"y\": [\"936283.75\"], \"x\": [\"2007\"], \"text\": [\"TN\"], \"mode\": \"markers\", \"name\": \"TN\"}, {\"y\": [\"5125967.41667\"], \"x\": [\"2007\"], \"text\": [\"TX\"], \"mode\": \"markers\", \"name\": \"TX\"}, {\"y\": [\"758198.833333\"], \"x\": [\"2007\"], \"text\": [\"UT\"], \"mode\": \"markers\", \"name\": \"UT\"}, {\"y\": [\"200276.916667\"], \"x\": [\"2007\"], \"text\": [\"VA\"], \"mode\": \"markers\", \"name\": \"VA\"}, {\"y\": [\"58718.25\"], \"x\": [\"2007\"], \"text\": [\"VT\"], \"mode\": \"markers\", \"name\": \"VT\"}, {\"y\": [\"1230528.75\"], \"x\": [\"2007\"], \"text\": [\"WA\"], \"mode\": \"markers\", \"name\": \"WA\"}, {\"y\": [\"437250.916667\"], \"x\": [\"2007\"], \"text\": [\"WI\"], \"mode\": \"markers\", \"name\": \"WI\"}, {\"y\": [\"23826.75\"], \"x\": [\"2007\"], \"text\": [\"WV\"], \"mode\": \"markers\", \"name\": \"WV\"}, {\"y\": [\"17829.75\"], \"x\": [\"2007\"], \"text\": [\"WY\"], \"mode\": \"markers\", \"name\": \"WY\"}], \"name\": \"2007\"}, {\"data\": [{\"y\": [\"224648.833333\"], \"x\": [\"2008\"], \"text\": [\"AK\"], \"mode\": \"markers\", \"name\": \"AK\"}, {\"y\": [\"235359.916667\"], \"x\": [\"2008\"], \"text\": [\"AL\"], \"mode\": \"markers\", \"name\": \"AL\"}, {\"y\": [\"154253.666667\"], \"x\": [\"2008\"], \"text\": [\"AR\"], \"mode\": \"markers\", \"name\": \"AR\"}, {\"y\": [\"1622381.5\"], \"x\": [\"2008\"], \"text\": [\"AZ\"], \"mode\": \"markers\", \"name\": \"AZ\"}, {\"y\": [\"4921481.75\"], \"x\": [\"2008\"], \"text\": [\"CA\"], \"mode\": \"markers\", \"name\": \"CA\"}, {\"y\": [\"76660.5833333\"], \"x\": [\"2008\"], \"text\": [\"CO\"], \"mode\": \"markers\", \"name\": \"CO\"}, {\"y\": [\"241621.75\"], \"x\": [\"2008\"], \"text\": [\"CT\"], \"mode\": \"markers\", \"name\": \"CT\"}, {\"y\": [\"1332891.08333\"], \"x\": [\"2008\"], \"text\": [\"DC\"], \"mode\": \"markers\", \"name\": \"DC\"}, {\"y\": [\"105.0\"], \"x\": [\"2008\"], \"text\": [\"DE\"], \"mode\": \"markers\", \"name\": \"DE\"}, {\"y\": [\"3941691.58333\"], \"x\": [\"2008\"], \"text\": [\"FL\"], \"mode\": \"markers\", \"name\": \"FL\"}, {\"y\": [\"3063138.5\"], \"x\": [\"2008\"], \"text\": [\"GA\"], \"mode\": \"markers\", \"name\": \"GA\"}, {\"y\": [\"694077.166667\"], \"x\": [\"2008\"], \"text\": [\"HI\"], \"mode\": \"markers\", \"name\": \"HI\"}, {\"y\": [\"114250.416667\"], \"x\": [\"2008\"], \"text\": [\"IA\"], \"mode\": \"markers\", \"name\": \"IA\"}, {\"y\": [\"18131.5833333\"], \"x\": [\"2008\"], \"text\": [\"ID\"], \"mode\": \"markers\", \"name\": \"ID\"}, {\"y\": [\"2903226.0\"], \"x\": [\"2008\"], \"text\": [\"IL\"], \"mode\": \"markers\", \"name\": \"IL\"}, {\"y\": [\"378571.166667\"], \"x\": [\"2008\"], \"text\": [\"IN\"], \"mode\": \"markers\", \"name\": \"IN\"}, {\"y\": [\"56373.25\"], \"x\": [\"2008\"], \"text\": [\"KS\"], \"mode\": \"markers\", \"name\": \"KS\"}, {\"y\": [\"43066.5833333\"], \"x\": [\"2008\"], \"text\": [\"KY\"], \"mode\": \"markers\", \"name\": \"KY\"}, {\"y\": [\"428609.833333\"], \"x\": [\"2008\"], \"text\": [\"LA\"], \"mode\": \"markers\", \"name\": \"LA\"}, {\"y\": [\"845357.083333\"], \"x\": [\"2008\"], \"text\": [\"MA\"], \"mode\": \"markers\", \"name\": \"MA\"}, {\"y\": [\"789952.416667\"], \"x\": [\"2008\"], \"text\": [\"MD\"], \"mode\": \"markers\", \"name\": \"MD\"}, {\"y\": [\"89479.5\"], \"x\": [\"2008\"], \"text\": [\"ME\"], \"mode\": \"markers\", \"name\": \"ME\"}, {\"y\": [\"1366068.5\"], \"x\": [\"2008\"], \"text\": [\"MI\"], \"mode\": \"markers\", \"name\": \"MI\"}, {\"y\": [\"1203593.5\"], \"x\": [\"2008\"], \"text\": [\"MN\"], \"mode\": \"markers\", \"name\": \"MN\"}, {\"y\": [\"1013696.25\"], \"x\": [\"2008\"], \"text\": [\"MO\"], \"mode\": \"markers\", \"name\": \"MO\"}, {\"y\": [\"107927.333333\"], \"x\": [\"2008\"], \"text\": [\"MS\"], \"mode\": \"markers\", \"name\": \"MS\"}, {\"y\": [\"99614.3333333\"], \"x\": [\"2008\"], \"text\": [\"MT\"], \"mode\": \"markers\", \"name\": \"MT\"}, {\"y\": [\"1826902.91667\"], \"x\": [\"2008\"], \"text\": [\"NC\"], \"mode\": \"markers\", \"name\": \"NC\"}, {\"y\": [\"47883.9166667\"], \"x\": [\"2008\"], \"text\": [\"ND\"], \"mode\": \"markers\", \"name\": \"ND\"}, {\"y\": [\"159522.916667\"], \"x\": [\"2008\"], \"text\": [\"NE\"], \"mode\": \"markers\", \"name\": \"NE\"}, {\"y\": [\"152299.0\"], \"x\": [\"2008\"], \"text\": [\"NH\"], \"mode\": \"markers\", \"name\": \"NH\"}, {\"y\": [\"974505.583333\"], \"x\": [\"2008\"], \"text\": [\"NJ\"], \"mode\": \"markers\", \"name\": \"NJ\"}, {\"y\": [\"271993.083333\"], \"x\": [\"2008\"], \"text\": [\"NM\"], \"mode\": \"markers\", \"name\": \"NM\"}, {\"y\": [\"1694450.33333\"], \"x\": [\"2008\"], \"text\": [\"NV\"], \"mode\": \"markers\", \"name\": \"NV\"}, {\"y\": [\"2375028.91667\"], \"x\": [\"2008\"], \"text\": [\"NY\"], \"mode\": \"markers\", \"name\": \"NY\"}, {\"y\": [\"1362550.66667\"], \"x\": [\"2008\"], \"text\": [\"OH\"], \"mode\": \"markers\", \"name\": \"OH\"}, {\"y\": [\"272883.333333\"], \"x\": [\"2008\"], \"text\": [\"OK\"], \"mode\": \"markers\", \"name\": \"OK\"}, {\"y\": [\"570474.25\"], \"x\": [\"2008\"], \"text\": [\"OR\"], \"mode\": \"markers\", \"name\": \"OR\"}, {\"y\": [\"1542936.0\"], \"x\": [\"2008\"], \"text\": [\"PA\"], \"mode\": \"markers\", \"name\": \"PA\"}, {\"y\": [\"193963.416667\"], \"x\": [\"2008\"], \"text\": [\"RI\"], \"mode\": \"markers\", \"name\": \"RI\"}, {\"y\": [\"270393.25\"], \"x\": [\"2008\"], \"text\": [\"SC\"], \"mode\": \"markers\", \"name\": \"SC\"}, {\"y\": [\"42190.1666667\"], \"x\": [\"2008\"], \"text\": [\"SD\"], \"mode\": \"markers\", \"name\": \"SD\"}, {\"y\": [\"893682.75\"], \"x\": [\"2008\"], \"text\": [\"TN\"], \"mode\": \"markers\", \"name\": \"TN\"}, {\"y\": [\"4950741.25\"], \"x\": [\"2008\"], \"text\": [\"TX\"], \"mode\": \"markers\", \"name\": \"TX\"}, {\"y\": [\"714229.0\"], \"x\": [\"2008\"], \"text\": [\"UT\"], \"mode\": \"markers\", \"name\": \"UT\"}, {\"y\": [\"189937.166667\"], \"x\": [\"2008\"], \"text\": [\"VA\"], \"mode\": \"markers\", \"name\": \"VA\"}, {\"y\": [\"62614.1666667\"], \"x\": [\"2008\"], \"text\": [\"VT\"], \"mode\": \"markers\", \"name\": \"VT\"}, {\"y\": [\"1238462.16667\"], \"x\": [\"2008\"], \"text\": [\"WA\"], \"mode\": \"markers\", \"name\": \"WA\"}, {\"y\": [\"433027.833333\"], \"x\": [\"2008\"], \"text\": [\"WI\"], \"mode\": \"markers\", \"name\": \"WI\"}, {\"y\": [\"22735.1666667\"], \"x\": [\"2008\"], \"text\": [\"WV\"], \"mode\": \"markers\", \"name\": \"WV\"}, {\"y\": [\"20256.9166667\"], \"x\": [\"2008\"], \"text\": [\"WY\"], \"mode\": \"markers\", \"name\": \"WY\"}], \"name\": \"2008\"}, {\"data\": [{\"y\": [\"208444.25\"], \"x\": [\"2009\"], \"text\": [\"AK\"], \"mode\": \"markers\", \"name\": \"AK\"}, {\"y\": [\"211533.666667\"], \"x\": [\"2009\"], \"text\": [\"AL\"], \"mode\": \"markers\", \"name\": \"AL\"}, {\"y\": [\"143663.916667\"], \"x\": [\"2009\"], \"text\": [\"AR\"], \"mode\": \"markers\", \"name\": \"AR\"}, {\"y\": [\"1532344.0\"], \"x\": [\"2009\"], \"text\": [\"AZ\"], \"mode\": \"markers\", \"name\": \"AZ\"}, {\"y\": [\"4685129.75\"], \"x\": [\"2009\"], \"text\": [\"CA\"], \"mode\": \"markers\", \"name\": \"CA\"}, {\"y\": [\"70114.3333333\"], \"x\": [\"2009\"], \"text\": [\"CO\"], \"mode\": \"markers\", \"name\": \"CO\"}, {\"y\": [\"215315.583333\"], \"x\": [\"2009\"], \"text\": [\"CT\"], \"mode\": \"markers\", \"name\": \"CT\"}, {\"y\": [\"1296668.41667\"], \"x\": [\"2009\"], \"text\": [\"DC\"], \"mode\": \"markers\", \"name\": \"DC\"}, {\"y\": [\"63.3333333333\"], \"x\": [\"2009\"], \"text\": [\"DE\"], \"mode\": \"markers\", \"name\": \"DE\"}, {\"y\": [\"3722350.83333\"], \"x\": [\"2009\"], \"text\": [\"FL\"], \"mode\": \"markers\", \"name\": \"FL\"}, {\"y\": [\"2964298.16667\"], \"x\": [\"2009\"], \"text\": [\"GA\"], \"mode\": \"markers\", \"name\": \"GA\"}, {\"y\": [\"678763.0\"], \"x\": [\"2009\"], \"text\": [\"HI\"], \"mode\": \"markers\", \"name\": \"HI\"}, {\"y\": [\"104689.25\"], \"x\": [\"2009\"], \"text\": [\"IA\"], \"mode\": \"markers\", \"name\": \"IA\"}, {\"y\": [\"17831.6666667\"], \"x\": [\"2009\"], \"text\": [\"ID\"], \"mode\": \"markers\", \"name\": \"ID\"}, {\"y\": [\"2746452.5\"], \"x\": [\"2009\"], \"text\": [\"IL\"], \"mode\": \"markers\", \"name\": \"IL\"}, {\"y\": [\"340488.333333\"], \"x\": [\"2009\"], \"text\": [\"IN\"], \"mode\": \"markers\", \"name\": \"IN\"}, {\"y\": [\"52459.5833333\"], \"x\": [\"2009\"], \"text\": [\"KS\"], \"mode\": \"markers\", \"name\": \"KS\"}, {\"y\": [\"38681.5\"], \"x\": [\"2009\"], \"text\": [\"KY\"], \"mode\": \"markers\", \"name\": \"KY\"}, {\"y\": [\"412075.333333\"], \"x\": [\"2009\"], \"text\": [\"LA\"], \"mode\": \"markers\", \"name\": \"LA\"}, {\"y\": [\"840728.75\"], \"x\": [\"2009\"], \"text\": [\"MA\"], \"mode\": \"markers\", \"name\": \"MA\"}, {\"y\": [\"798711.0\"], \"x\": [\"2009\"], \"text\": [\"MD\"], \"mode\": \"markers\", \"name\": \"MD\"}, {\"y\": [\"89855.0833333\"], \"x\": [\"2009\"], \"text\": [\"ME\"], \"mode\": \"markers\", \"name\": \"ME\"}, {\"y\": [\"1251693.66667\"], \"x\": [\"2009\"], \"text\": [\"MI\"], \"mode\": \"markers\", \"name\": \"MI\"}, {\"y\": [\"1146020.83333\"], \"x\": [\"2009\"], \"text\": [\"MN\"], \"mode\": \"markers\", \"name\": \"MN\"}, {\"y\": [\"921726.5\"], \"x\": [\"2009\"], \"text\": [\"MO\"], \"mode\": \"markers\", \"name\": \"MO\"}, {\"y\": [\"94771.0\"], \"x\": [\"2009\"], \"text\": [\"MS\"], \"mode\": \"markers\", \"name\": \"MS\"}, {\"y\": [\"92805.75\"], \"x\": [\"2009\"], \"text\": [\"MT\"], \"mode\": \"markers\", \"name\": \"MT\"}, {\"y\": [\"1785418.5\"], \"x\": [\"2009\"], \"text\": [\"NC\"], \"mode\": \"markers\", \"name\": \"NC\"}, {\"y\": [\"48955.3333333\"], \"x\": [\"2009\"], \"text\": [\"ND\"], \"mode\": \"markers\", \"name\": \"ND\"}, {\"y\": [\"149378.75\"], \"x\": [\"2009\"], \"text\": [\"NE\"], \"mode\": \"markers\", \"name\": \"NE\"}, {\"y\": [\"131036.25\"], \"x\": [\"2009\"], \"text\": [\"NH\"], \"mode\": \"markers\", \"name\": \"NH\"}, {\"y\": [\"920887.583333\"], \"x\": [\"2009\"], \"text\": [\"NJ\"], \"mode\": \"markers\", \"name\": \"NJ\"}, {\"y\": [\"243724.916667\"], \"x\": [\"2009\"], \"text\": [\"NM\"], \"mode\": \"markers\", \"name\": \"NM\"}, {\"y\": [\"1543962.75\"], \"x\": [\"2009\"], \"text\": [\"NV\"], \"mode\": \"markers\", \"name\": \"NV\"}, {\"y\": [\"2288218.5\"], \"x\": [\"2009\"], \"text\": [\"NY\"], \"mode\": \"markers\", \"name\": \"NY\"}, {\"y\": [\"1158569.5\"], \"x\": [\"2009\"], \"text\": [\"OH\"], \"mode\": \"markers\", \"name\": \"OH\"}, {\"y\": [\"235994.166667\"], \"x\": [\"2009\"], \"text\": [\"OK\"], \"mode\": \"markers\", \"name\": \"OK\"}, {\"y\": [\"519071.833333\"], \"x\": [\"2009\"], \"text\": [\"OR\"], \"mode\": \"markers\", \"name\": \"OR\"}, {\"y\": [\"1464608.08333\"], \"x\": [\"2009\"], \"text\": [\"PA\"], \"mode\": \"markers\", \"name\": \"PA\"}, {\"y\": [\"178563.0\"], \"x\": [\"2009\"], \"text\": [\"RI\"], \"mode\": \"markers\", \"name\": \"RI\"}, {\"y\": [\"250657.5\"], \"x\": [\"2009\"], \"text\": [\"SC\"], \"mode\": \"markers\", \"name\": \"SC\"}, {\"y\": [\"38500.0833333\"], \"x\": [\"2009\"], \"text\": [\"SD\"], \"mode\": \"markers\", \"name\": \"SD\"}, {\"y\": [\"841628.916667\"], \"x\": [\"2009\"], \"text\": [\"TN\"], \"mode\": \"markers\", \"name\": \"TN\"}, {\"y\": [\"4755373.66667\"], \"x\": [\"2009\"], \"text\": [\"TX\"], \"mode\": \"markers\", \"name\": \"TX\"}, {\"y\": [\"708896.75\"], \"x\": [\"2009\"], \"text\": [\"UT\"], \"mode\": \"markers\", \"name\": \"UT\"}, {\"y\": [\"184490.583333\"], \"x\": [\"2009\"], \"text\": [\"VA\"], \"mode\": \"markers\", \"name\": \"VA\"}, {\"y\": [\"58550.4166667\"], \"x\": [\"2009\"], \"text\": [\"VT\"], \"mode\": \"markers\", \"name\": \"VT\"}, {\"y\": [\"1193027.83333\"], \"x\": [\"2009\"], \"text\": [\"WA\"], \"mode\": \"markers\", \"name\": \"WA\"}, {\"y\": [\"438855.083333\"], \"x\": [\"2009\"], \"text\": [\"WI\"], \"mode\": \"markers\", \"name\": \"WI\"}, {\"y\": [\"22350.5\"], \"x\": [\"2009\"], \"text\": [\"WV\"], \"mode\": \"markers\", \"name\": \"WV\"}, {\"y\": [\"20091.9166667\"], \"x\": [\"2009\"], \"text\": [\"WY\"], \"mode\": \"markers\", \"name\": \"WY\"}], \"name\": \"2009\"}]);}).then(function(){Plotly.animate('215afd25-a4cc-4854-ab89-4589aad49017');})\n",
       "        });</script>"
      ]
     },
     "metadata": {},
     "output_type": "display_data"
    }
   ],
   "source": [
    "states = []\n",
    "for state in df['Origin_state']:\n",
    "    if state not in states:\n",
    "        states.append(state)\n",
    "figure = {\n",
    "    'data': [],\n",
    "    'layout': {},\n",
    "    'frames': []\n",
    "}\n",
    "\n",
    "figure['layout']['xaxis'] = {'range': [2000,2009], 'title': 'Year'}\n",
    "figure['layout']['yaxis'] = {'title': 'Airpassenger traffic', 'range': [0, 20]}\n",
    "figure['layout']['hovermode'] = 'closest'\n",
    "figure['layout']['sliders'] = {\n",
    "    'args': [\n",
    "        'transition', {\n",
    "            'duration': 400,\n",
    "            'easing': 'cubic-in-out'\n",
    "        }\n",
    "    ],\n",
    "    'initialValue': '01',\n",
    "    'plotlycommand': 'animate',\n",
    "    'values': years,\n",
    "    'visible': True\n",
    "}\n",
    "figure['layout']['updatemenus'] = [\n",
    "    {\n",
    "        'buttons': [\n",
    "            {\n",
    "                'args': [None, {'frame': {'duration': 500, 'redraw': False},\n",
    "                         'fromcurrent': True, 'transition': {'duration': 300, 'easing': 'quadratic-in-out'}}],\n",
    "                'label': 'Play',\n",
    "                'method': 'animate'\n",
    "            },\n",
    "            {\n",
    "                'args': [[None], {'frame': {'duration': 0, 'redraw': False}, 'mode': 'immediate',\n",
    "                'transition': {'duration': 0}}],\n",
    "                'label': 'Pause',\n",
    "                'method': 'animate'\n",
    "            }\n",
    "        ],\n",
    "        'direction': 'left',\n",
    "        'pad': {'r': 10, 't': 87},\n",
    "        'showactive': False,\n",
    "        'type': 'buttons',\n",
    "        'x': 0.1,\n",
    "        'xanchor': 'right',\n",
    "        'y': 0,\n",
    "        'yanchor': 'top'\n",
    "    }\n",
    "]\n",
    "\n",
    "sliders_dict = {\n",
    "    'active': 0,\n",
    "    'yanchor': 'top',\n",
    "    'xanchor': 'left',\n",
    "    'currentvalue': {\n",
    "        'font': {'size': 20},\n",
    "        'prefix': 'Month:',\n",
    "        'visible': True,\n",
    "        'xanchor': 'right'\n",
    "    },\n",
    "    'transition': {'duration': 300, 'easing': 'cubic-in-out'},\n",
    "    'pad': {'b': 10, 't': 50},\n",
    "    'len': 0.9,\n",
    "    'x': 0.1,\n",
    "    'y': 0,\n",
    "    'steps': []\n",
    "}\n",
    "\n",
    "# make data\n",
    "year = 2000\n",
    "for state in states:\n",
    "    df_by_year = df[df['Year'] == year]\n",
    "    df_by_year_and_st = df_by_year[df_by_year['Origin_state'] == state]\n",
    "\n",
    "    data_dict = {\n",
    "        'x': list(df_by_year_and_st['Year']),\n",
    "        'y': list(df_by_year_and_st['Passengers']),\n",
    "        'mode': 'markers',\n",
    "        'text': list(df_by_year_and_st['Origin_state']),\n",
    "        'name': state\n",
    "    }\n",
    "    figure['data'].append(data_dict)\n",
    "    \n",
    "# make frames\n",
    "for year in years:\n",
    "    frame = {'data': [], 'name': str(year)}\n",
    "    for state in states:\n",
    "        df_by_year = df[df['Year'] == year]\n",
    "        df_by_year_and_st = df_by_year[df_by_year['Origin_state'] == state]\n",
    "\n",
    "        data_dict = {\n",
    "            'x': list(df_by_year_and_st['Year']),\n",
    "            'y': list(df_by_year_and_st['Passengers']),\n",
    "            'mode': 'markers',\n",
    "            'text': list(df_by_year_and_st['Origin_state']),\n",
    "            'name': state\n",
    "        }\n",
    "        frame['data'].append(data_dict)\n",
    "\n",
    "    figure['frames'].append(frame)\n",
    "    slider_step = {'args': [\n",
    "        [year],\n",
    "        {'frame': {'duration': 300, 'redraw': False},\n",
    "         'mode': 'immediate',\n",
    "       'transition': {'duration': 300}}\n",
    "     ],\n",
    "     'label': year,\n",
    "     'method': 'animate'}\n",
    "    sliders_dict['steps'].append(slider_step)\n",
    "\n",
    "    \n",
    "figure['layout']['sliders'] = [sliders_dict]\n",
    "iplot(figure)"
   ]
  },
  {
   "cell_type": "code",
   "execution_count": null,
   "metadata": {
    "collapsed": true
   },
   "outputs": [],
   "source": [
    "for col in df.columns:\n",
    "    df[col] = df[col].astype(str)\n",
    "\n",
    "scl = [[0.0, 'rgb(242,240,247)'],[0.2, 'rgb(218,218,235)'],[0.4, 'rgb(188,189,220)'],\\\n",
    "            [0.6, 'rgb(158,154,200)'],[0.8, 'rgb(117,107,177)'],[1.0, 'rgb(84,39,143)']]\n",
    "\n",
    "df['text'] = df['Origin_state'] + '<br>' +\\\n",
    "    'Passengers '+ df['Passengers']\n",
    "\n",
    "fig_data = [ dict(\n",
    "        type='choropleth',\n",
    "        colorscale = scl,\n",
    "        autocolorscale = False,\n",
    "        locations = df['Origin_state'],\n",
    "        z = df['Passengers'].astype(float),\n",
    "        locationmode = 'USA-states',\n",
    "        text = df['text'],\n",
    "        marker = dict(\n",
    "            line = dict (\n",
    "                color = 'rgb(255,255,255)',\n",
    "                width = 2\n",
    "            ) ),\n",
    "        colorbar = dict(\n",
    "            title = \"Avg passengers\")\n",
    "        ) ]\n",
    "\n",
    "layout = dict(\n",
    "        title = '2009 Average passengers by State<br>(Hover for breakdown)',\n",
    "        geo = dict(\n",
    "            scope='usa',\n",
    "            projection=dict( type='albers usa' ),\n",
    "            showlakes = True,\n",
    "            lakecolor = 'rgb(255, 255, 255)'),\n",
    "             )\n",
    "    \n",
    "fig = dict(data=fig_data, layout=layout)\n",
    "\n",
    "iplot(fig)"
   ]
  }
 ],
 "metadata": {
  "kernelspec": {
   "display_name": "Python 2",
   "language": "python",
   "name": "python2"
  },
  "language_info": {
   "codemirror_mode": {
    "name": "ipython",
    "version": 2
   },
   "file_extension": ".py",
   "mimetype": "text/x-python",
   "name": "python",
   "nbconvert_exporter": "python",
   "pygments_lexer": "ipython2",
   "version": "2.7.13"
  }
 },
 "nbformat": 4,
 "nbformat_minor": 2
}

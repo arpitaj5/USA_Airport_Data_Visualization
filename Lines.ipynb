{
 "cells": [
  {
   "cell_type": "code",
   "execution_count": 1,
   "metadata": {},
   "outputs": [
    {
     "data": {
      "text/html": [
       "<script>requirejs.config({paths: { 'plotly': ['https://cdn.plot.ly/plotly-latest.min']},});if(!window.Plotly) {{require(['plotly'],function(plotly) {window.Plotly=plotly;});}}</script>"
      ],
      "text/vnd.plotly.v1+html": [
       "<script>requirejs.config({paths: { 'plotly': ['https://cdn.plot.ly/plotly-latest.min']},});if(!window.Plotly) {{require(['plotly'],function(plotly) {window.Plotly=plotly;});}}</script>"
      ]
     },
     "metadata": {},
     "output_type": "display_data"
    }
   ],
   "source": [
    "import pandas as pd\n",
    "import numpy as np\n",
    "from plotly import __version__\n",
    "from plotly.offline import download_plotlyjs, init_notebook_mode, plot, iplot\n",
    "import plotly.plotly as py\n",
    "import plotly.graph_objs as go\n",
    "import pandas as pd\n",
    "from datetime import datetime\n",
    "import pandas_datareader.data as web\n",
    "init_notebook_mode(connected=True)"
   ]
  },
  {
   "cell_type": "code",
   "execution_count": 2,
   "metadata": {
    "collapsed": true
   },
   "outputs": [],
   "source": [
    "data = pd.read_csv(\"/Users/leesa/Downloads/Viz_project/airport.csv\")"
   ]
  },
  {
   "cell_type": "code",
   "execution_count": 3,
   "metadata": {},
   "outputs": [
    {
     "data": {
      "text/html": [
       "<div>\n",
       "<style>\n",
       "    .dataframe thead tr:only-child th {\n",
       "        text-align: right;\n",
       "    }\n",
       "\n",
       "    .dataframe thead th {\n",
       "        text-align: left;\n",
       "    }\n",
       "\n",
       "    .dataframe tbody tr th {\n",
       "        vertical-align: top;\n",
       "    }\n",
       "</style>\n",
       "<table border=\"1\" class=\"dataframe\">\n",
       "  <thead>\n",
       "    <tr style=\"text-align: right;\">\n",
       "      <th></th>\n",
       "      <th>Origin_state</th>\n",
       "      <th>Year</th>\n",
       "      <th>Passengers</th>\n",
       "    </tr>\n",
       "  </thead>\n",
       "  <tbody>\n",
       "    <tr>\n",
       "      <th>0</th>\n",
       "      <td>AK</td>\n",
       "      <td>2000</td>\n",
       "      <td>197716.333333</td>\n",
       "    </tr>\n",
       "    <tr>\n",
       "      <th>1</th>\n",
       "      <td>AK</td>\n",
       "      <td>2001</td>\n",
       "      <td>197246.083333</td>\n",
       "    </tr>\n",
       "    <tr>\n",
       "      <th>2</th>\n",
       "      <td>AK</td>\n",
       "      <td>2002</td>\n",
       "      <td>208416.416667</td>\n",
       "    </tr>\n",
       "    <tr>\n",
       "      <th>3</th>\n",
       "      <td>AK</td>\n",
       "      <td>2003</td>\n",
       "      <td>205828.083333</td>\n",
       "    </tr>\n",
       "    <tr>\n",
       "      <th>4</th>\n",
       "      <td>AK</td>\n",
       "      <td>2004</td>\n",
       "      <td>221796.333333</td>\n",
       "    </tr>\n",
       "  </tbody>\n",
       "</table>\n",
       "</div>"
      ],
      "text/plain": [
       "  Origin_state  Year     Passengers\n",
       "0           AK  2000  197716.333333\n",
       "1           AK  2001  197246.083333\n",
       "2           AK  2002  208416.416667\n",
       "3           AK  2003  205828.083333\n",
       "4           AK  2004  221796.333333"
      ]
     },
     "execution_count": 3,
     "metadata": {},
     "output_type": "execute_result"
    }
   ],
   "source": [
    "df = data[['Origin_state', 'Passengers', 'Fly_date', 'Year']]\n",
    "df = df.groupby(['Origin_state', 'Fly_date', 'Year'])['Passengers'].sum().reset_index()\n",
    "df = df.groupby(['Origin_state', 'Year'])['Passengers'].mean().reset_index()\n",
    "df.head()"
   ]
  },
  {
   "cell_type": "code",
   "execution_count": 4,
   "metadata": {},
   "outputs": [
    {
     "name": "stderr",
     "output_type": "stream",
     "text": [
      "/Users/leesa/anaconda/envs/fv/lib/python3.6/site-packages/plotly/offline/offline.py:459: UserWarning:\n",
      "\n",
      "Your filename `fig1` didn't end with .html. Adding .html to the end of your file.\n",
      "\n"
     ]
    },
    {
     "data": {
      "text/plain": [
       "'file:///Users/leesa/Downloads/Viz_project/fig1.html'"
      ]
     },
     "execution_count": 4,
     "metadata": {},
     "output_type": "execute_result"
    }
   ],
   "source": [
    "data1 = go.Scatter(\n",
    "        x=df[df['Origin_state'] == 'CA']['Year'], \n",
    "        y=df[df['Origin_state'] == 'CA']['Passengers']\n",
    "    )\n",
    "\n",
    "data2 = go.Scatter(\n",
    "        x=df[df['Origin_state'] == 'TX']['Year'], \n",
    "        y=df[df['Origin_state'] == 'TX']['Passengers']\n",
    "    )\n",
    "\n",
    "fig_data = [data1, data2]\n",
    "fig = go.Figure(data = fig_data)\n",
    "plot(fig, filename='fig1')"
   ]
  },
  {
   "cell_type": "code",
   "execution_count": null,
   "metadata": {
    "collapsed": true
   },
   "outputs": [],
   "source": [
    "data1 = []\n",
    "\n",
    "for state in df['Origin_state'].drop_duplicates():\n",
    "    data1.append(go.Scatter(x=df[df['Origin_state'] == state]['Year'].values.tolist(),\n",
    "                        y=df[df['Origin_state'] == state]['Passengers'].values.tolist(),\n",
    "                        name= state,\n",
    "                       visible=False,\n",
    "                       #text = df[df['Origin_state'] == state]['Passengers'].values.tolist(),\n",
    "                       #textposition='auto'\n",
    "                        ))\n",
    "\n",
    "buttons = []\n",
    "\n",
    "for row, state in df.Origin_state.drop_duplicates().reset_index()['Origin_state'].iteritems():\n",
    "    condition = [False]*len(df.Origin_state.drop_duplicates())\n",
    "    condition[row] = True\n",
    "    buttons.append(dict(label = state,\n",
    "                 method = 'update',\n",
    "                 args = [{'visible': condition},\n",
    "                         {'title': 'Trend across the years in : ' + state,\n",
    "                          }]))\n",
    "\n",
    "updatemenus=list([\n",
    "    dict(\n",
    "        buttons = buttons,\n",
    "        pad = {'r': 0, 't': 10},\n",
    "        #x = 0.1,\n",
    "        #xanchor = 'left',\n",
    "       # y = 1.0,\n",
    "        yanchor = 'top',\n",
    "        bgcolor = 'AAAAAA',\n",
    "        active = 99,\n",
    "        bordercolor = '#FFFFFF',\n",
    "        font = dict(size=11, color='#000000'))])\n",
    "\n",
    "layout = dict(title='Trend across the years', showlegend=False,\n",
    "              updatemenus=updatemenus)\n",
    "\n",
    "figure = dict(data=data1, layout=layout)\n",
    "#plotly.offline.plot(figure)\n",
    "iplot(figure)"
   ]
  },
  {
   "cell_type": "code",
   "execution_count": 4,
   "metadata": {},
   "outputs": [
    {
     "data": {
      "text/html": [
       "<div>\n",
       "<style>\n",
       "    .dataframe thead tr:only-child th {\n",
       "        text-align: right;\n",
       "    }\n",
       "\n",
       "    .dataframe thead th {\n",
       "        text-align: left;\n",
       "    }\n",
       "\n",
       "    .dataframe tbody tr th {\n",
       "        vertical-align: top;\n",
       "    }\n",
       "</style>\n",
       "<table border=\"1\" class=\"dataframe\">\n",
       "  <thead>\n",
       "    <tr style=\"text-align: right;\">\n",
       "      <th></th>\n",
       "      <th>Year</th>\n",
       "      <th>Passengers</th>\n",
       "    </tr>\n",
       "  </thead>\n",
       "  <tbody>\n",
       "    <tr>\n",
       "      <th>0</th>\n",
       "      <td>2000</td>\n",
       "      <td>4.449642e+07</td>\n",
       "    </tr>\n",
       "    <tr>\n",
       "      <th>1</th>\n",
       "      <td>2001</td>\n",
       "      <td>4.141747e+07</td>\n",
       "    </tr>\n",
       "    <tr>\n",
       "      <th>2</th>\n",
       "      <td>2002</td>\n",
       "      <td>4.050238e+07</td>\n",
       "    </tr>\n",
       "    <tr>\n",
       "      <th>3</th>\n",
       "      <td>2003</td>\n",
       "      <td>4.241575e+07</td>\n",
       "    </tr>\n",
       "    <tr>\n",
       "      <th>4</th>\n",
       "      <td>2004</td>\n",
       "      <td>4.553912e+07</td>\n",
       "    </tr>\n",
       "  </tbody>\n",
       "</table>\n",
       "</div>"
      ],
      "text/plain": [
       "   Year    Passengers\n",
       "0  2000  4.449642e+07\n",
       "1  2001  4.141747e+07\n",
       "2  2002  4.050238e+07\n",
       "3  2003  4.241575e+07\n",
       "4  2004  4.553912e+07"
      ]
     },
     "execution_count": 4,
     "metadata": {},
     "output_type": "execute_result"
    }
   ],
   "source": [
    "df3 = data[['Passengers', 'Fly_date', 'Year']]\n",
    "df3 = df3.groupby(['Fly_date', 'Year'])['Passengers'].sum().reset_index()\n",
    "df3 = df3.groupby(['Year'])['Passengers'].mean().reset_index()\n",
    "df3.head()"
   ]
  },
  {
   "cell_type": "code",
   "execution_count": 6,
   "metadata": {},
   "outputs": [
    {
     "data": {
      "application/vnd.plotly.v1+json": {
       "data": [
        {
         "type": "scatter",
         "x": [
          2000,
          2001,
          2002,
          2003,
          2004,
          2005,
          2006,
          2007,
          2008,
          2009
         ],
         "y": [
          44496422.416666664,
          41417474.333333336,
          40502379.166666664,
          42415747.083333336,
          45539118,
          47350614.25,
          47060620.416666664,
          48271457.083333336,
          46249893.25,
          43858492.416666664
         ]
        }
       ],
       "layout": {}
      },
      "text/html": [
       "<div id=\"49563cc3-8509-440a-92e7-97044988098f\" style=\"height: 525px; width: 100%;\" class=\"plotly-graph-div\"></div><script type=\"text/javascript\">require([\"plotly\"], function(Plotly) { window.PLOTLYENV=window.PLOTLYENV || {};window.PLOTLYENV.BASE_URL=\"https://plot.ly\";Plotly.newPlot(\"49563cc3-8509-440a-92e7-97044988098f\", [{\"type\": \"scatter\", \"x\": [2000, 2001, 2002, 2003, 2004, 2005, 2006, 2007, 2008, 2009], \"y\": [44496422.416666664, 41417474.333333336, 40502379.166666664, 42415747.083333336, 45539118.0, 47350614.25, 47060620.416666664, 48271457.083333336, 46249893.25, 43858492.416666664]}], {}, {\"showLink\": true, \"linkText\": \"Export to plot.ly\"})});</script>"
      ],
      "text/vnd.plotly.v1+html": [
       "<div id=\"49563cc3-8509-440a-92e7-97044988098f\" style=\"height: 525px; width: 100%;\" class=\"plotly-graph-div\"></div><script type=\"text/javascript\">require([\"plotly\"], function(Plotly) { window.PLOTLYENV=window.PLOTLYENV || {};window.PLOTLYENV.BASE_URL=\"https://plot.ly\";Plotly.newPlot(\"49563cc3-8509-440a-92e7-97044988098f\", [{\"type\": \"scatter\", \"x\": [2000, 2001, 2002, 2003, 2004, 2005, 2006, 2007, 2008, 2009], \"y\": [44496422.416666664, 41417474.333333336, 40502379.166666664, 42415747.083333336, 45539118.0, 47350614.25, 47060620.416666664, 48271457.083333336, 46249893.25, 43858492.416666664]}], {}, {\"showLink\": true, \"linkText\": \"Export to plot.ly\"})});</script>"
      ]
     },
     "metadata": {},
     "output_type": "display_data"
    }
   ],
   "source": [
    "fig_data = [go.Scatter(\n",
    "        x=df3['Year'], \n",
    "        y=df3['Passengers']\n",
    "    )]\n",
    "\n",
    "fig = go.Figure(data = fig_data)\n",
    "iplot(fig)"
   ]
  },
  {
   "cell_type": "code",
   "execution_count": 6,
   "metadata": {},
   "outputs": [
    {
     "data": {
      "text/plain": [
       "'file:///Users/leesa/Downloads/Viz_project/fig1.html'"
      ]
     },
     "execution_count": 6,
     "metadata": {},
     "output_type": "execute_result"
    }
   ],
   "source": [
    "data1 = go.Scatter(\n",
    "        x=df[df['Origin_state'] == 'CA']['Year'], \n",
    "        y=df[df['Origin_state'] == 'CA']['Passengers'],\n",
    "        name = 'CA'\n",
    "    )\n",
    "\n",
    "data2 = go.Scatter(\n",
    "        x=df[df['Origin_state'] == 'TX']['Year'], \n",
    "        y=df[df['Origin_state'] == 'TX']['Passengers'],\n",
    "        name = 'TX'\n",
    "    )\n",
    "\n",
    "data3 = go.Scatter(\n",
    "        x=df3['Year'], \n",
    "        y=df3['Passengers'].divide(10),\n",
    "        name = 'USA (scaled)'\n",
    "    )\n",
    "fig_data = [data1, data2, data3]\n",
    "fig = go.Figure(data = fig_data)\n",
    "plot(fig, filename='fig1')"
   ]
  },
  {
   "cell_type": "code",
   "execution_count": 9,
   "metadata": {},
   "outputs": [
    {
     "data": {
      "text/html": [
       "<div>\n",
       "<style scoped>\n",
       "    .dataframe tbody tr th:only-of-type {\n",
       "        vertical-align: middle;\n",
       "    }\n",
       "\n",
       "    .dataframe tbody tr th {\n",
       "        vertical-align: top;\n",
       "    }\n",
       "\n",
       "    .dataframe thead th {\n",
       "        text-align: right;\n",
       "    }\n",
       "</style>\n",
       "<table border=\"1\" class=\"dataframe\">\n",
       "  <thead>\n",
       "    <tr style=\"text-align: right;\">\n",
       "      <th></th>\n",
       "      <th>Month</th>\n",
       "      <th>Flights</th>\n",
       "    </tr>\n",
       "  </thead>\n",
       "  <tbody>\n",
       "    <tr>\n",
       "      <th>0</th>\n",
       "      <td>1</td>\n",
       "      <td>625188.1</td>\n",
       "    </tr>\n",
       "    <tr>\n",
       "      <th>1</th>\n",
       "      <td>2</td>\n",
       "      <td>578996.5</td>\n",
       "    </tr>\n",
       "    <tr>\n",
       "      <th>2</th>\n",
       "      <td>3</td>\n",
       "      <td>650260.6</td>\n",
       "    </tr>\n",
       "    <tr>\n",
       "      <th>3</th>\n",
       "      <td>4</td>\n",
       "      <td>630876.6</td>\n",
       "    </tr>\n",
       "    <tr>\n",
       "      <th>4</th>\n",
       "      <td>5</td>\n",
       "      <td>650324.2</td>\n",
       "    </tr>\n",
       "  </tbody>\n",
       "</table>\n",
       "</div>"
      ],
      "text/plain": [
       "   Month   Flights\n",
       "0      1  625188.1\n",
       "1      2  578996.5\n",
       "2      3  650260.6\n",
       "3      4  630876.6\n",
       "4      5  650324.2"
      ]
     },
     "execution_count": 9,
     "metadata": {},
     "output_type": "execute_result"
    }
   ],
   "source": [
    "df1 = data[['Flights', 'Fly_date', 'Month', 'Year']]\n",
    "df1 = df1.groupby(['Month', 'Year'])['Flights'].sum().reset_index()\n",
    "df1 = df1.groupby(['Month'])['Flights'].mean().reset_index()\n",
    "df1.head()"
   ]
  },
  {
   "cell_type": "code",
   "execution_count": 10,
   "metadata": {},
   "outputs": [
    {
     "data": {
      "application/vnd.plotly.v1+json": {
       "data": [
        {
         "type": "scatter",
         "x": [
          1,
          2,
          3,
          4,
          5,
          6,
          7,
          8,
          9,
          10,
          11,
          12
         ],
         "y": [
          625188.1,
          578996.5,
          650260.6,
          630876.6,
          650324.2,
          643510.2,
          666035.5,
          671081.5,
          611860.9,
          659808.4,
          627344.2,
          636822.5
         ]
        }
       ],
       "layout": {}
      },
      "text/html": [
       "<div id=\"b7fbd581-3908-4408-b391-611aa2c1982e\" style=\"height: 525px; width: 100%;\" class=\"plotly-graph-div\"></div><script type=\"text/javascript\">require([\"plotly\"], function(Plotly) { window.PLOTLYENV=window.PLOTLYENV || {};window.PLOTLYENV.BASE_URL=\"https://plot.ly\";Plotly.newPlot(\"b7fbd581-3908-4408-b391-611aa2c1982e\", [{\"type\": \"scatter\", \"x\": [1, 2, 3, 4, 5, 6, 7, 8, 9, 10, 11, 12], \"y\": [625188.1, 578996.5, 650260.6, 630876.6, 650324.2, 643510.2, 666035.5, 671081.5, 611860.9, 659808.4, 627344.2, 636822.5]}], {}, {\"showLink\": true, \"linkText\": \"Export to plot.ly\"})});</script>"
      ],
      "text/vnd.plotly.v1+html": [
       "<div id=\"b7fbd581-3908-4408-b391-611aa2c1982e\" style=\"height: 525px; width: 100%;\" class=\"plotly-graph-div\"></div><script type=\"text/javascript\">require([\"plotly\"], function(Plotly) { window.PLOTLYENV=window.PLOTLYENV || {};window.PLOTLYENV.BASE_URL=\"https://plot.ly\";Plotly.newPlot(\"b7fbd581-3908-4408-b391-611aa2c1982e\", [{\"type\": \"scatter\", \"x\": [1, 2, 3, 4, 5, 6, 7, 8, 9, 10, 11, 12], \"y\": [625188.1, 578996.5, 650260.6, 630876.6, 650324.2, 643510.2, 666035.5, 671081.5, 611860.9, 659808.4, 627344.2, 636822.5]}], {}, {\"showLink\": true, \"linkText\": \"Export to plot.ly\"})});</script>"
      ]
     },
     "metadata": {},
     "output_type": "display_data"
    }
   ],
   "source": [
    "fig_data = [go.Scatter(\n",
    "        x=df1['Month'], \n",
    "        y=df1['Flights']\n",
    "    )]\n",
    "\n",
    "fig = go.Figure(data = fig_data)\n",
    "iplot(fig)"
   ]
  },
  {
   "cell_type": "code",
   "execution_count": 11,
   "metadata": {},
   "outputs": [
    {
     "data": {
      "text/html": [
       "<div>\n",
       "<style scoped>\n",
       "    .dataframe tbody tr th:only-of-type {\n",
       "        vertical-align: middle;\n",
       "    }\n",
       "\n",
       "    .dataframe tbody tr th {\n",
       "        vertical-align: top;\n",
       "    }\n",
       "\n",
       "    .dataframe thead th {\n",
       "        text-align: right;\n",
       "    }\n",
       "</style>\n",
       "<table border=\"1\" class=\"dataframe\">\n",
       "  <thead>\n",
       "    <tr style=\"text-align: right;\">\n",
       "      <th></th>\n",
       "      <th>Month</th>\n",
       "      <th>Passengers</th>\n",
       "    </tr>\n",
       "  </thead>\n",
       "  <tbody>\n",
       "    <tr>\n",
       "      <th>0</th>\n",
       "      <td>1</td>\n",
       "      <td>38910985.4</td>\n",
       "    </tr>\n",
       "    <tr>\n",
       "      <th>1</th>\n",
       "      <td>2</td>\n",
       "      <td>38426726.8</td>\n",
       "    </tr>\n",
       "    <tr>\n",
       "      <th>2</th>\n",
       "      <td>3</td>\n",
       "      <td>47096977.7</td>\n",
       "    </tr>\n",
       "    <tr>\n",
       "      <th>3</th>\n",
       "      <td>4</td>\n",
       "      <td>45354560.3</td>\n",
       "    </tr>\n",
       "    <tr>\n",
       "      <th>4</th>\n",
       "      <td>5</td>\n",
       "      <td>46801089.2</td>\n",
       "    </tr>\n",
       "  </tbody>\n",
       "</table>\n",
       "</div>"
      ],
      "text/plain": [
       "   Month  Passengers\n",
       "0      1  38910985.4\n",
       "1      2  38426726.8\n",
       "2      3  47096977.7\n",
       "3      4  45354560.3\n",
       "4      5  46801089.2"
      ]
     },
     "execution_count": 11,
     "metadata": {},
     "output_type": "execute_result"
    }
   ],
   "source": [
    "df2 = data[['Passengers', 'Fly_date', 'Month', 'Year']]\n",
    "df2 = df2.groupby(['Month', 'Year'])['Passengers'].sum().reset_index()\n",
    "df2 = df2.groupby(['Month'])['Passengers'].mean().reset_index()\n",
    "df2.head()"
   ]
  },
  {
   "cell_type": "code",
   "execution_count": 14,
   "metadata": {},
   "outputs": [
    {
     "data": {
      "application/vnd.plotly.v1+json": {
       "data": [
        {
         "type": "scatter",
         "x": [
          1,
          2,
          3,
          4,
          5,
          6,
          7,
          8,
          9,
          10,
          11,
          12
         ],
         "y": [
          389109.854,
          384267.268,
          470969.777,
          453545.60299999994,
          468010.89200000005,
          489073.10799999995,
          507507.06200000003,
          494933.571,
          399153.85799999995,
          449760.41,
          427576.31200000003,
          432038.906
         ]
        }
       ],
       "layout": {}
      },
      "text/html": [
       "<div id=\"b0bedea9-eadd-4bfe-9898-de11b94b47a0\" style=\"height: 525px; width: 100%;\" class=\"plotly-graph-div\"></div><script type=\"text/javascript\">require([\"plotly\"], function(Plotly) { window.PLOTLYENV=window.PLOTLYENV || {};window.PLOTLYENV.BASE_URL=\"https://plot.ly\";Plotly.newPlot(\"b0bedea9-eadd-4bfe-9898-de11b94b47a0\", [{\"type\": \"scatter\", \"x\": [1, 2, 3, 4, 5, 6, 7, 8, 9, 10, 11, 12], \"y\": [389109.854, 384267.268, 470969.777, 453545.60299999994, 468010.89200000005, 489073.10799999995, 507507.06200000003, 494933.571, 399153.85799999995, 449760.41, 427576.31200000003, 432038.906]}], {}, {\"showLink\": true, \"linkText\": \"Export to plot.ly\"})});</script>"
      ],
      "text/vnd.plotly.v1+html": [
       "<div id=\"b0bedea9-eadd-4bfe-9898-de11b94b47a0\" style=\"height: 525px; width: 100%;\" class=\"plotly-graph-div\"></div><script type=\"text/javascript\">require([\"plotly\"], function(Plotly) { window.PLOTLYENV=window.PLOTLYENV || {};window.PLOTLYENV.BASE_URL=\"https://plot.ly\";Plotly.newPlot(\"b0bedea9-eadd-4bfe-9898-de11b94b47a0\", [{\"type\": \"scatter\", \"x\": [1, 2, 3, 4, 5, 6, 7, 8, 9, 10, 11, 12], \"y\": [389109.854, 384267.268, 470969.777, 453545.60299999994, 468010.89200000005, 489073.10799999995, 507507.06200000003, 494933.571, 399153.85799999995, 449760.41, 427576.31200000003, 432038.906]}], {}, {\"showLink\": true, \"linkText\": \"Export to plot.ly\"})});</script>"
      ]
     },
     "metadata": {},
     "output_type": "display_data"
    }
   ],
   "source": [
    "fig_data = [go.Scatter(\n",
    "        x=df2['Month'], \n",
    "        y=df2['Passengers'].divide(100)\n",
    "    )]\n",
    "\n",
    "fig = go.Figure(data = fig_data)\n",
    "iplot(fig)"
   ]
  },
  {
   "cell_type": "code",
   "execution_count": 27,
   "metadata": {},
   "outputs": [
    {
     "name": "stderr",
     "output_type": "stream",
     "text": [
      "/Users/leesa/anaconda/envs/fv/lib/python3.6/site-packages/plotly/offline/offline.py:459: UserWarning:\n",
      "\n",
      "Your filename `flight_passengers` didn't end with .html. Adding .html to the end of your file.\n",
      "\n"
     ]
    },
    {
     "data": {
      "text/plain": [
       "'file:///Users/leesa/Downloads/Viz_project/flight_passengers.html'"
      ]
     },
     "execution_count": 27,
     "metadata": {},
     "output_type": "execute_result"
    }
   ],
   "source": [
    "data1 = go.Scatter(\n",
    "        x=df1['Month'], \n",
    "        y=df1['Flights'],\n",
    "        name = 'monthly flights'\n",
    "    )\n",
    "\n",
    "data2 = go.Scatter(\n",
    "        x=df2['Month'], \n",
    "        y=df2['Passengers'].divide(100),\n",
    "        name = 'monthly passengers in hundreds'\n",
    "    )\n",
    "data3 = go.Scatter(\n",
    "        x=df3['Month'], \n",
    "        y=df3['ratio'].multiply(10000),\n",
    "        name = 'passengers per 10000 flights'\n",
    "    )\n",
    "\n",
    "fig_data = [data1, data2, data3]\n",
    "fig = go.Figure(data = fig_data)\n",
    "plot(fig, filename='flight_passengers')"
   ]
  },
  {
   "cell_type": "code",
   "execution_count": 18,
   "metadata": {
    "collapsed": true
   },
   "outputs": [],
   "source": [
    "df3 = df1.merge(df2)\n",
    "df3['ratio'] = df3['Passengers']/df3['Flights']"
   ]
  },
  {
   "cell_type": "code",
   "execution_count": 24,
   "metadata": {},
   "outputs": [
    {
     "data": {
      "application/vnd.plotly.v1+json": {
       "data": [
        {
         "type": "scatter",
         "x": [
          1,
          2,
          3,
          4,
          5,
          6,
          7,
          8,
          9,
          10,
          11,
          12
         ],
         "y": [
          622388.4523713744,
          663678.0498673135,
          724278.5077244416,
          718913.3389952964,
          719657.8137488965,
          760008.3231003953,
          761981.9994579869,
          737516.3389245569,
          652360.4597057926,
          681653.0526134557,
          681565.736959073,
          678429.0850276176
         ]
        }
       ],
       "layout": {}
      },
      "text/html": [
       "<div id=\"c0605a63-a883-4327-8e85-4ca7da6f2945\" style=\"height: 525px; width: 100%;\" class=\"plotly-graph-div\"></div><script type=\"text/javascript\">require([\"plotly\"], function(Plotly) { window.PLOTLYENV=window.PLOTLYENV || {};window.PLOTLYENV.BASE_URL=\"https://plot.ly\";Plotly.newPlot(\"c0605a63-a883-4327-8e85-4ca7da6f2945\", [{\"type\": \"scatter\", \"x\": [1, 2, 3, 4, 5, 6, 7, 8, 9, 10, 11, 12], \"y\": [622388.4523713744, 663678.0498673135, 724278.5077244416, 718913.3389952964, 719657.8137488965, 760008.3231003953, 761981.9994579869, 737516.3389245569, 652360.4597057926, 681653.0526134557, 681565.736959073, 678429.0850276176]}], {}, {\"showLink\": true, \"linkText\": \"Export to plot.ly\"})});</script>"
      ],
      "text/vnd.plotly.v1+html": [
       "<div id=\"c0605a63-a883-4327-8e85-4ca7da6f2945\" style=\"height: 525px; width: 100%;\" class=\"plotly-graph-div\"></div><script type=\"text/javascript\">require([\"plotly\"], function(Plotly) { window.PLOTLYENV=window.PLOTLYENV || {};window.PLOTLYENV.BASE_URL=\"https://plot.ly\";Plotly.newPlot(\"c0605a63-a883-4327-8e85-4ca7da6f2945\", [{\"type\": \"scatter\", \"x\": [1, 2, 3, 4, 5, 6, 7, 8, 9, 10, 11, 12], \"y\": [622388.4523713744, 663678.0498673135, 724278.5077244416, 718913.3389952964, 719657.8137488965, 760008.3231003953, 761981.9994579869, 737516.3389245569, 652360.4597057926, 681653.0526134557, 681565.736959073, 678429.0850276176]}], {}, {\"showLink\": true, \"linkText\": \"Export to plot.ly\"})});</script>"
      ]
     },
     "metadata": {},
     "output_type": "display_data"
    }
   ],
   "source": [
    "fig_data = [go.Scatter(\n",
    "        x=df3['Month'], \n",
    "        y=df3['ratio'].multiply(10000)\n",
    "    )]\n",
    "\n",
    "fig = go.Figure(data = fig_data)\n",
    "\n",
    "iplot(fig, filename='flight_passengers_ratio')"
   ]
  },
  {
   "cell_type": "code",
   "execution_count": null,
   "metadata": {
    "collapsed": true
   },
   "outputs": [],
   "source": []
  }
 ],
 "metadata": {
  "kernelspec": {
   "display_name": "Python 2",
   "language": "python",
   "name": "python2"
  },
  "language_info": {
   "codemirror_mode": {
    "name": "ipython",
    "version": 2
   },
   "file_extension": ".py",
   "mimetype": "text/x-python",
   "name": "python",
   "nbconvert_exporter": "python",
   "pygments_lexer": "ipython2",
   "version": "2.7.13"
  }
 },
 "nbformat": 4,
 "nbformat_minor": 2
}
